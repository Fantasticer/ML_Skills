{
 "cells": [
  {
   "cell_type": "markdown",
   "metadata": {},
   "source": [
    "### 一.特征工程\n",
    "特征工程是比较重要的一环了，这一节先只介绍一些常用的特征工程手段，更多关于特征的操作放到后面模型优化中讲，因为业务建模通常需要尽快有一个快速的输出，而各种各样特征工程的探索一般比较耗时，往往在后期优化中进行，下面分别介绍如下几种：   \n",
    "\n",
    "（1）categorical 变量的处理；   \n",
    "\n",
    "（2）数据分箱；   \n",
    "\n",
    "（3）WOE特征； \n",
    "\n",
    "（4）数据归一化操作(z-score,min-max,normalize,log,boxcox,cdf,pdf变换等)；   "
   ]
  },
  {
   "cell_type": "markdown",
   "metadata": {},
   "source": [
    "#### categorical 变量的处理\n",
    "对于一般的机器学习模型，往往只支持数值型输入（lgb,catboost除外），所以第一步就是要将非数值型特征转换为数值型特征，这里我们可以按之前介绍的变量功能进行处理：    \n",
    "\n",
    "（1）对于可比较的特征，比如“高”、“中”、“低”这类，可以考虑LabelEncoding，将其编码为可比较的数值，比如3,2,1;    \n",
    "\n",
    "（2）对于不可比较的特征，比如行为爱好类：“游戏”，“篮球”，“跑步”....它们没法直接进行比较，所以对其编码3,2,1没有比较意义，对于线性模型这样与特征起着正相关性/负相关性的模型会有副作用，这时我们可以分两类看：   \n",
    "\n",
    "> （2.1）low-cardinality categorical特征：即分类数较少的特征，可以考虑作one-hot一类的特征转换；   \n",
    "\n",
    "> （2.2）high-cardinality categorical 特征：即分类数较多的特征，比如id,时间这样的特征，如果作ont-hot展开，会引起维度爆炸，而且对单个特征会有严重的数据不平衡问题，这时可以考虑使用target encoding,catboost encoding等特征转换  \n",
    "\n",
    "我对这一块的了解并不多，建议参考:http://contrib.scikit-learn.org/categorical-encoding/  \n",
    "\n",
    "画根线：  \n",
    "\n",
    "**对于树模型，使用one-hot编码要慎重，如果选择one-hot特征作切分可能会导致切分后的左右子树极端不平衡，对于样本量少的一边，其统计值（均值、众数）偏差往往很大，模型容易过拟合**"
   ]
  },
  {
   "cell_type": "code",
   "execution_count": 1,
   "metadata": {},
   "outputs": [],
   "source": [
    "from sklearn.model_selection import train_test_split,cross_val_score,KFold\n",
    "from sklearn.ensemble import GradientBoostingClassifier,RandomForestClassifier\n",
    "from sklearn.linear_model import LogisticRegression\n",
    "import matplotlib.pyplot as plt\n",
    "%matplotlib inline\n",
    "import numpy as np\n",
    "import pandas as pd\n",
    "train_df=pd.read_csv('./titanic/train.csv')\n",
    "test_df=pd.read_csv('./titanic/test.csv')\n",
    "import warnings\n",
    "warnings.filterwarnings('ignore')"
   ]
  },
  {
   "cell_type": "code",
   "execution_count": 2,
   "metadata": {},
   "outputs": [],
   "source": [
    "train_df['Cabin'].fillna('missing',inplace=True)\n",
    "test_df['Cabin'].fillna('missing',inplace=True)\n",
    "train_df['Embarked'].fillna(train_df['Embarked'].mode()[0],inplace=True)\n",
    "train_df['Age'].fillna(train_df['Age'].mean(),inplace=True)\n",
    "test_df['Age'].fillna(train_df['Age'].mean(),inplace=True)\n",
    "test_df['Fare'].fillna(train_df['Fare'].mean(),inplace=True)"
   ]
  },
  {
   "cell_type": "code",
   "execution_count": 3,
   "metadata": {},
   "outputs": [],
   "source": [
    "import category_encoders as ce\n",
    "del train_df['Name']\n",
    "del train_df['Ticket']\n",
    "del test_df['Name']\n",
    "del test_df['Ticket']\n",
    "del train_df['PassengerId']\n",
    "del test_df['PassengerId']\n",
    "label=train_df[\"Survived\"]\n",
    "del train_df[\"Survived\"]\n",
    "# target \n",
    "target_encoder = ce.TargetEncoder(cols=['Embarked','Cabin']).fit(train_df,label)\n",
    "train_df=target_encoder.transform(train_df)\n",
    "test_df=target_encoder.transform(test_df)\n",
    "\n",
    "# one hot\n",
    "onehot_encoder = ce.OneHotEncoder(cols=['Sex']).fit(train_df)\n",
    "train_df=onehot_encoder.transform(train_df)\n",
    "test_df=onehot_encoder.transform(test_df)"
   ]
  },
  {
   "cell_type": "markdown",
   "metadata": {},
   "source": [
    "#### 数据分箱\n",
    "数据分箱也是比较常见的操作，在一定程度上增加了数据的颗粒度，能避免过拟合，分箱的方式很多按照有监督和无监督可以分为：   \n",
    "\n",
    "（1）无监督：等距分箱，等频分箱，聚类分箱（后面会有用到），二值分箱；   \n",
    "\n",
    "（2）有监督：卡方分箱，最小熵分箱   \n",
    "\n",
    "[参考>>>](https://mp.weixin.qq.com/s?__biz=MzI4MjkzNTUxMw==&mid=2247484834&idx=1&sn=2ce321c5fa5e8df3b6d3c6b644aa141b&chksm=eb932c14dce4a502e05421a478796d9e2b8522dc583a609c77e2883b963c7670a5826c0a0c03&mpshare=1&scene=1&srcid=&sharer_sharetime=1586312923627&sharer_shareid=1e2e4bc7a27ef84a8a7e8bfedd080e02&key=a29eb00479c14a8ba349d29b5b684126f11bdaa6027411a066240c0a3c5e8b661e1466038e1df5822afaab891b3dff9677f96ffe7fdbefbf9884896a317d6f2257c8ed823eff434953cedbe74113d645&ascene=1&uin=MTk4MzMwODY4Mg%3D%3D&devicetype=Windows+10&version=62080079&lang=zh_CN&exportkey=A0CyFLsd47G%2BXNIR%2FFB6kfk%3D&pass_ticket=rfTc5pQJI1Ast4NBu%2BmXt3UDs%2FbiY3EnhijxRpOOGWVafOmugaq8EmMUfGDYL1OL)"
   ]
  },
  {
   "cell_type": "code",
   "execution_count": 4,
   "metadata": {},
   "outputs": [],
   "source": [
    "#对Fare等频分箱\n",
    "train_df['Fare_bins'],bins=pd.cut(train_df['Fare'],bins=10,labels=False,retbins=True)\n",
    "test_df['Fare_bins']=pd.cut(test_df['Fare'],bins=bins,labels=False)"
   ]
  },
  {
   "cell_type": "markdown",
   "metadata": {},
   "source": [
    "#### WOE\n",
    "WOE特征可以非常直观的表达当前分箱后的特征取值对y的贡献大小，它的计算公式：   \n",
    "\n",
    "$$\n",
    "WOE(feature_i)=ln(\\frac{N(y_{feature_i}=1)}{N(y_{feature_i}=0)})\n",
    "$$\n",
    "\n",
    "$feature_i$表示$feature$的第$i$个取值，$N(y_{feature_i}=1)$表示特征$feature$的第$i$个取值对应的$y=1$的数量\n",
    "\n",
    "参考:https://zhuanlan.zhihu.com/p/30026040"
   ]
  },
  {
   "cell_type": "code",
   "execution_count": 5,
   "metadata": {},
   "outputs": [],
   "source": [
    "#计算训练集上的woe\n",
    "train_df['y']=label\n",
    "pos_df=(train_df[['Fare_bins','y']][train_df['y']==1]).groupby(by=['Fare_bins'])['y'].count().reset_index()\n",
    "pos_df.columns=['Fare_bins','pos']\n",
    "neg_df=(train_df[['Fare_bins','y']][train_df['y']==0]).groupby(by=['Fare_bins'])['y'].count().reset_index()\n",
    "neg_df.columns=['Fare_bins','neg']\n",
    "woe_df=pd.merge(pos_df,neg_df,on='Fare_bins')\n",
    "woe_df['woe']=np.log(woe_df['pos']/(1e-3+woe_df['neg'])+1e-5)"
   ]
  },
  {
   "cell_type": "code",
   "execution_count": 6,
   "metadata": {},
   "outputs": [
    {
     "data": {
      "text/html": [
       "<div>\n",
       "<style scoped>\n",
       "    .dataframe tbody tr th:only-of-type {\n",
       "        vertical-align: middle;\n",
       "    }\n",
       "\n",
       "    .dataframe tbody tr th {\n",
       "        vertical-align: top;\n",
       "    }\n",
       "\n",
       "    .dataframe thead th {\n",
       "        text-align: right;\n",
       "    }\n",
       "</style>\n",
       "<table border=\"1\" class=\"dataframe\">\n",
       "  <thead>\n",
       "    <tr style=\"text-align: right;\">\n",
       "      <th></th>\n",
       "      <th>Fare_bins</th>\n",
       "      <th>woe</th>\n",
       "    </tr>\n",
       "  </thead>\n",
       "  <tbody>\n",
       "    <tr>\n",
       "      <th>0</th>\n",
       "      <td>0</td>\n",
       "      <td>-0.761548</td>\n",
       "    </tr>\n",
       "    <tr>\n",
       "      <th>1</th>\n",
       "      <td>1</td>\n",
       "      <td>0.664954</td>\n",
       "    </tr>\n",
       "    <tr>\n",
       "      <th>2</th>\n",
       "      <td>2</td>\n",
       "      <td>1.055931</td>\n",
       "    </tr>\n",
       "    <tr>\n",
       "      <th>3</th>\n",
       "      <td>4</td>\n",
       "      <td>0.559372</td>\n",
       "    </tr>\n",
       "    <tr>\n",
       "      <th>4</th>\n",
       "      <td>5</td>\n",
       "      <td>0.692652</td>\n",
       "    </tr>\n",
       "  </tbody>\n",
       "</table>\n",
       "</div>"
      ],
      "text/plain": [
       "   Fare_bins       woe\n",
       "0          0 -0.761548\n",
       "1          1  0.664954\n",
       "2          2  1.055931\n",
       "3          4  0.559372\n",
       "4          5  0.692652"
      ]
     },
     "execution_count": 6,
     "metadata": {},
     "output_type": "execute_result"
    }
   ],
   "source": [
    "woe_df[['Fare_bins','woe']]"
   ]
  },
  {
   "cell_type": "code",
   "execution_count": 7,
   "metadata": {},
   "outputs": [],
   "source": [
    "del train_df['y']\n",
    "train_df=pd.merge(train_df,woe_df[['Fare_bins','woe']],how='left').fillna(0)\n",
    "test_df=pd.merge(test_df,woe_df[['Fare_bins','woe']],how='left').fillna(0)"
   ]
  },
  {
   "cell_type": "markdown",
   "metadata": {},
   "source": [
    "#### 数据归一化\n",
    "数据是否需要标准化取决于后面的训练模型，对于树模型不需要归一化，而对于如下的模型往往需要归一化：   \n",
    "\n",
    "（1）knn,kmeans：计算欧氏距离...  \n",
    "（2）lr,svm,nn：便于梯度下降...  \n",
    "（3）pca：偏向于值较大的列  \n",
    "\n",
    "\n",
    "一般有以下几种：  \n",
    "（1）z-score：$z=(x-u)/\\sigma$  \n",
    "（2）min-max：$m=(x-x_{min})/(x_{max}-x_{min})$  \n",
    "（3）行归一化：$\\sqrt{(x_1^2+x_2^2+\\cdots+x_n^2)}=1,这里x_1,x_2,...,x_n表示每行特征$；  \n",
    "\n",
    "更多：https://www.jianshu.com/p/fa73a07cd750"
   ]
  },
  {
   "cell_type": "code",
   "execution_count": 8,
   "metadata": {},
   "outputs": [],
   "source": [
    "from sklearn.preprocessing import StandardScaler,MinMaxScaler,Normalizer\n",
    "#z-score归一化为例\n",
    "standard_scaler=StandardScaler()\n",
    "standard_scaler.fit(train_df)\n",
    "new_train_df=pd.DataFrame(standard_scaler.transform(train_df),columns=train_df.columns)\n",
    "new_test_df=pd.DataFrame(standard_scaler.transform(test_df),columns=train_df.columns)"
   ]
  },
  {
   "cell_type": "markdown",
   "metadata": {},
   "source": [
    "pdf:标准正态分布的概率密度函数"
   ]
  },
  {
   "cell_type": "code",
   "execution_count": 9,
   "metadata": {},
   "outputs": [
    {
     "data": {
      "text/plain": [
       "<matplotlib.axes._subplots.AxesSubplot at 0x1807a920080>"
      ]
     },
     "execution_count": 9,
     "metadata": {},
     "output_type": "execute_result"
    },
    {
     "data": {
      "image/png": "[encoded data removed]",
      "text/plain": [
       "<matplotlib.figure.Figure at 0x180687b6ef0>"
      ]
     },
     "metadata": {},
     "output_type": "display_data"
    }
   ],
   "source": [
    "from scipy.stats import norm\n",
    "age_mean=train_df['Age'].mean()\n",
    "age_std=train_df['Age'].std()\n",
    "new_train_df['age_pdf']=train_df['Age'].apply(lambda x:norm.pdf((x-age_mean)/age_std))\n",
    "new_test_df['age_pdf']=test_df['Age'].apply(lambda x:norm.pdf((x-age_mean)/age_std))\n",
    "new_train_df['age_pdf'].plot(kind='hist')"
   ]
  },
  {
   "cell_type": "markdown",
   "metadata": {},
   "source": [
    "cdf:分布函数"
   ]
  },
  {
   "cell_type": "code",
   "execution_count": 10,
   "metadata": {},
   "outputs": [],
   "source": [
    "new_train_df['age_cdf']=train_df['Age'].apply(lambda x:norm.cdf((x-age_mean)/age_std))\n",
    "new_test_df['age_cdf']=test_df['Age'].apply(lambda x:norm.cdf((x-age_mean)/age_std))"
   ]
  },
  {
   "cell_type": "markdown",
   "metadata": {},
   "source": [
    "boxcox:将任意分别转换为正态分布\n",
    "\n",
    "$$\n",
    "y=\\left\\{\\begin{matrix}\n",
    "\\frac{(x^\\lambda-1)}{\\lambda} &\\lambda>0 \\\\ \n",
    "log(x) &\\lambda=0 \n",
    "\\end{matrix}\\right.\n",
    "$$"
   ]
  },
  {
   "cell_type": "code",
   "execution_count": 11,
   "metadata": {},
   "outputs": [
    {
     "data": {
      "text/plain": [
       "<matplotlib.axes._subplots.AxesSubplot at 0x1807a8f1e10>"
      ]
     },
     "execution_count": 11,
     "metadata": {},
     "output_type": "execute_result"
    },
    {
     "data": {
      "image/png": "[encoded data removed]",
      "text/plain": [
       "<matplotlib.figure.Figure at 0x1807a909f60>"
      ]
     },
     "metadata": {},
     "output_type": "display_data"
    }
   ],
   "source": [
    "from scipy.stats import boxcox\n",
    "new_train_df['age_boxcox']=boxcox(train_df['Age'])[0]\n",
    "new_test_df['age_boxcox']=boxcox(test_df['Age'],lmbda=boxcox(train_df['Age'])[1])[0]\n",
    "new_train_df['age_boxcox'].plot(kind='hist')"
   ]
  },
  {
   "cell_type": "markdown",
   "metadata": {},
   "source": [
    "### 二.模型选择\n",
    "\n",
    "首先，我们需要明白我们的建模的目标是什么？然后怎么去量化我们的目标？  \n",
    "\n",
    "\n",
    "（1）**目标**：本数据集是预测乘客是否存活，所以可以看做是分类任务；  \n",
    "\n",
    "（2）**量化目标**：选择合适的评估指标，这里我们可以选择f1；  \n",
    "\n",
    "当然，从众多分类模型中选择一个较优的模型作为基准模型，是一个比较繁琐的工作，一般来说用的比较多是RF、LR、GBDT等，通常为了让模型的评估更加客观，我们需要选择交叉验证的方式  "
   ]
  },
  {
   "cell_type": "code",
   "execution_count": 12,
   "metadata": {},
   "outputs": [
    {
     "data": {
      "text/plain": [
       "(0.7509734792424432, 0.01775967622151036)"
      ]
     },
     "execution_count": 12,
     "metadata": {},
     "output_type": "execute_result"
    }
   ],
   "source": [
    "classifier=LogisticRegression()\n",
    "scores = cross_val_score(classifier, train_df, label, scoring='f1', cv = 5)#注意：f1只是看正样本的f1,如果要看整体的用f1_macro,但这一般会使得f1偏高\n",
    "np.mean(scores),np.std(scores)"
   ]
  },
  {
   "cell_type": "code",
   "execution_count": 13,
   "metadata": {},
   "outputs": [
    {
     "data": {
      "text/plain": [
       "(0.7753721187015974, 0.047352448054968535)"
      ]
     },
     "execution_count": 13,
     "metadata": {},
     "output_type": "execute_result"
    }
   ],
   "source": [
    "#我们再看看另一种分类器\n",
    "classifier=GradientBoostingClassifier()\n",
    "scores = cross_val_score(classifier, train_df, label, scoring='f1', cv = 5)\n",
    "np.mean(scores),np.std(scores)"
   ]
  },
  {
   "cell_type": "markdown",
   "metadata": {},
   "source": [
    "#### 偏差/方差\n",
    "我们查看了f1的均值与标准差,其中，均值反映模型的预测能力，标准差可以反映模型的稳定性，按照术语来说前者反映了模型的偏差，后面反映了模型的方差，我们可以将模型的能力用类似于如下的图来定义，显然我们倾向于选择低偏差低方差的模型：  \n",
    "![avatar](./source/方差与偏差.png)\n",
    "来源:https://blog.csdn.net/hertzcat/article/details/80035330"
   ]
  },
  {
   "cell_type": "markdown",
   "metadata": {},
   "source": [
    "#### 过拟合/欠拟合\n",
    "过拟合/欠拟合也是检验模型好坏的一种评估手段，它通常应用在训练阶段：  \n",
    "\n",
    ">（1）训练集/验证集效果都比较差，可以看作是欠拟合(除非训练数据真的是太差了)，这时可以增加模型的复杂度试一试；  \n",
    "\n",
    ">（2）训练集的表现好，而验证集的表现差，大部分情况下是过拟合（这也是经常会遇到的问题）可以尝试一下的方法；     \n",
    "\n",
    "过拟合的解决方法：   \n",
    "\n",
    "1). 降低模型复杂度：1.换更简单的模型，2.正则化技术    \n",
    "\n",
    "    \n",
    "2). 增强训练数据 "
   ]
  },
  {
   "cell_type": "markdown",
   "metadata": {},
   "source": [
    "**补充一点：**   \n",
    "\n",
    "训练集上效果好，验证集上效果差，也有可能是数据分布差异大造成的影响，如果由于客观原因使得训练集和验证集不能从同一分布做随机采样（比如与时间相关的业务，只能使用T+1的数据做验证集），这时可以从训练集中分一小部分数据出来不做训练，然后对比结果：   \n",
    "\n",
    "（1）如果未训练的样本效果与训练集一致，那么可能是数据分布差异带来的影响；   \n",
    "\n",
    "（2）如果未训练的样本效果与验证集一致，那么过拟合的可能性更大；  \n",
    "\n",
    "![avatar](./source/过拟合与数据差异进行对比.png)\n"
   ]
  },
  {
   "cell_type": "code",
   "execution_count": null,
   "metadata": {},
   "outputs": [],
   "source": []
  }
 ],
 "metadata": {
  "kernelspec": {
   "display_name": "Python 3",
   "language": "python",
   "name": "python3"
  },
  "language_info": {
   "codemirror_mode": {
    "name": "ipython",
    "version": 3
   },
   "file_extension": ".py",
   "mimetype": "text/x-python",
   "name": "python",
   "nbconvert_exporter": "python",
   "pygments_lexer": "ipython3",
   "version": "3.6.4"
  }
 },
 "nbformat": 4,
 "nbformat_minor": 2
}
