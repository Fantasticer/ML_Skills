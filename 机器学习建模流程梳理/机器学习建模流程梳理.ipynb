{
 "cells": [
  {
   "cell_type": "markdown",
   "metadata": {},
   "source": [
    "**该notebook以titanic数据为例，梳理了一些ml建模常用的操作，包括如下一些内容：**   \n",
    "\n",
    "1. 理解数据并可视化分析(pandas,seaborn)  \n",
    "\n",
    "2. 数据清洗：NaN的不同填充方法、categorical 变量的处理、数据归一化操作(z-score,min-max,normalize,log,boxcox等)  \n",
    "\n",
    "3. 模型选择(方差-偏差、过拟合-欠拟合)  \n",
    "\n",
    "4. 优化，包括：  \n",
    "\n",
    "    4.1 特征增强\n",
    "        4.1.1 异常值处理：cap_floor（盖帽）\n",
    "        4.1.2 特征优化：根据背景知识造特征、聚类算法构建新特征、长尾数据的log变换、boxcox、cdf、pdf变换；构建组合特征，自动构建组合特征(gbdt+lr)；构建交互式特征；  \n",
    "\n",
    "        4.1.3 特征选择：基于统计方法的方差、相关性、gini、mi、chi2选择等，基于模型的迭代消除法等；  \n",
    "\n",
    "        4.1.4 特征变换：pca、lda、lle(局部线性嵌入)、ae（自编码）、vae（变分自编码）等  \n",
    "\n",
    "    4.2 数据增强：半监督学习、过采样、根据数据特征造新数据  \n",
    "    \n",
    "    4.3 模型增强：\n",
    "        4.3.1 超参优化：随机搜索、网格搜索、贝叶斯优化\n",
    "        4.3.2 集成学习：stacking"
   ]
  },
  {
   "cell_type": "code",
   "execution_count": 1,
   "metadata": {},
   "outputs": [],
   "source": [
    "import pandas as pd\n",
    "import numpy as np\n",
    "import matplotlib.pyplot as plt\n",
    "import seaborn as sns\n",
    "import copy\n",
    "import random\n",
    "from sklearn.model_selection import train_test_split,cross_val_score,KFold\n",
    "from sklearn.feature_selection import SelectFromModel,VarianceThreshold\n",
    "from sklearn.ensemble import GradientBoostingClassifier,RandomForestClassifier\n",
    "from sklearn.linear_model import LogisticRegression\n",
    "from sklearn.tree import DecisionTreeClassifier\n",
    "from sklearn import metrics\n",
    "from sklearn.preprocessing import PolynomialFeatures\n",
    "from sklearn.cluster import KMeans\n",
    "%matplotlib inline\n",
    "plt.style.use('fivethirtyeight')\n",
    "\n",
    "import warnings\n",
    "warnings.filterwarnings('ignore')"
   ]
  },
  {
   "cell_type": "markdown",
   "metadata": {},
   "source": [
    "导入数据：\n",
    "\n",
    "Survived:0代表死亡，1代表存活\n",
    "\n",
    "Pclass:乘客所持票类\n",
    "\n",
    "Name:乘客姓名\n",
    "\n",
    "Sex:乘客性别\n",
    "\n",
    "Age:乘客年龄\n",
    "\n",
    "SibSp:乘客兄弟姐妹/配偶的个数\n",
    "\n",
    "Parch:乘客父母/孩子的个数\n",
    "\n",
    "Ticket:票号\n",
    "\n",
    "Fare:乘客所持票的价格\n",
    "\n",
    "Cabin:乘客所在船舱\n",
    "\n",
    "Embarked:乘客登船港口:S、C、Q"
   ]
  },
  {
   "cell_type": "code",
   "execution_count": 2,
   "metadata": {},
   "outputs": [],
   "source": [
    "train_df=pd.read_csv('./titanic/train.csv')\n",
    "test_df=pd.read_csv('./titanic/test.csv')"
   ]
  },
  {
   "cell_type": "markdown",
   "metadata": {},
   "source": [
    "### 一.理解数据"
   ]
  },
  {
   "cell_type": "code",
   "execution_count": 3,
   "metadata": {},
   "outputs": [
    {
     "data": {
      "text/plain": [
       "('训练集：', (891, 12), '测试集', (418, 11))"
      ]
     },
     "execution_count": 3,
     "metadata": {},
     "output_type": "execute_result"
    }
   ],
   "source": [
    "#查看shape\n",
    "'训练集：',train_df.shape,'测试集',test_df.shape"
   ]
  },
  {
   "cell_type": "code",
   "execution_count": 4,
   "metadata": {},
   "outputs": [
    {
     "data": {
      "text/html": [
       "<div>\n",
       "<style scoped>\n",
       "    .dataframe tbody tr th:only-of-type {\n",
       "        vertical-align: middle;\n",
       "    }\n",
       "\n",
       "    .dataframe tbody tr th {\n",
       "        vertical-align: top;\n",
       "    }\n",
       "\n",
       "    .dataframe thead th {\n",
       "        text-align: right;\n",
       "    }\n",
       "</style>\n",
       "<table border=\"1\" class=\"dataframe\">\n",
       "  <thead>\n",
       "    <tr style=\"text-align: right;\">\n",
       "      <th></th>\n",
       "      <th>PassengerId</th>\n",
       "      <th>Survived</th>\n",
       "      <th>Pclass</th>\n",
       "      <th>Name</th>\n",
       "      <th>Sex</th>\n",
       "      <th>Age</th>\n",
       "      <th>SibSp</th>\n",
       "      <th>Parch</th>\n",
       "      <th>Ticket</th>\n",
       "      <th>Fare</th>\n",
       "      <th>Cabin</th>\n",
       "      <th>Embarked</th>\n",
       "    </tr>\n",
       "  </thead>\n",
       "  <tbody>\n",
       "    <tr>\n",
       "      <th>0</th>\n",
       "      <td>1</td>\n",
       "      <td>0</td>\n",
       "      <td>3</td>\n",
       "      <td>Braund, Mr. Owen Harris</td>\n",
       "      <td>male</td>\n",
       "      <td>22.0</td>\n",
       "      <td>1</td>\n",
       "      <td>0</td>\n",
       "      <td>A/5 21171</td>\n",
       "      <td>7.2500</td>\n",
       "      <td>NaN</td>\n",
       "      <td>S</td>\n",
       "    </tr>\n",
       "    <tr>\n",
       "      <th>1</th>\n",
       "      <td>2</td>\n",
       "      <td>1</td>\n",
       "      <td>1</td>\n",
       "      <td>Cumings, Mrs. John Bradley (Florence Briggs Th...</td>\n",
       "      <td>female</td>\n",
       "      <td>38.0</td>\n",
       "      <td>1</td>\n",
       "      <td>0</td>\n",
       "      <td>PC 17599</td>\n",
       "      <td>71.2833</td>\n",
       "      <td>C85</td>\n",
       "      <td>C</td>\n",
       "    </tr>\n",
       "    <tr>\n",
       "      <th>2</th>\n",
       "      <td>3</td>\n",
       "      <td>1</td>\n",
       "      <td>3</td>\n",
       "      <td>Heikkinen, Miss. Laina</td>\n",
       "      <td>female</td>\n",
       "      <td>26.0</td>\n",
       "      <td>0</td>\n",
       "      <td>0</td>\n",
       "      <td>STON/O2. 3101282</td>\n",
       "      <td>7.9250</td>\n",
       "      <td>NaN</td>\n",
       "      <td>S</td>\n",
       "    </tr>\n",
       "    <tr>\n",
       "      <th>3</th>\n",
       "      <td>4</td>\n",
       "      <td>1</td>\n",
       "      <td>1</td>\n",
       "      <td>Futrelle, Mrs. Jacques Heath (Lily May Peel)</td>\n",
       "      <td>female</td>\n",
       "      <td>35.0</td>\n",
       "      <td>1</td>\n",
       "      <td>0</td>\n",
       "      <td>113803</td>\n",
       "      <td>53.1000</td>\n",
       "      <td>C123</td>\n",
       "      <td>S</td>\n",
       "    </tr>\n",
       "    <tr>\n",
       "      <th>4</th>\n",
       "      <td>5</td>\n",
       "      <td>0</td>\n",
       "      <td>3</td>\n",
       "      <td>Allen, Mr. William Henry</td>\n",
       "      <td>male</td>\n",
       "      <td>35.0</td>\n",
       "      <td>0</td>\n",
       "      <td>0</td>\n",
       "      <td>373450</td>\n",
       "      <td>8.0500</td>\n",
       "      <td>NaN</td>\n",
       "      <td>S</td>\n",
       "    </tr>\n",
       "  </tbody>\n",
       "</table>\n",
       "</div>"
      ],
      "text/plain": [
       "   PassengerId  Survived  Pclass  \\\n",
       "0            1         0       3   \n",
       "1            2         1       1   \n",
       "2            3         1       3   \n",
       "3            4         1       1   \n",
       "4            5         0       3   \n",
       "\n",
       "                                                Name     Sex   Age  SibSp  \\\n",
       "0                            Braund, Mr. Owen Harris    male  22.0      1   \n",
       "1  Cumings, Mrs. John Bradley (Florence Briggs Th...  female  38.0      1   \n",
       "2                             Heikkinen, Miss. Laina  female  26.0      0   \n",
       "3       Futrelle, Mrs. Jacques Heath (Lily May Peel)  female  35.0      1   \n",
       "4                           Allen, Mr. William Henry    male  35.0      0   \n",
       "\n",
       "   Parch            Ticket     Fare Cabin Embarked  \n",
       "0      0         A/5 21171   7.2500   NaN        S  \n",
       "1      0          PC 17599  71.2833   C85        C  \n",
       "2      0  STON/O2. 3101282   7.9250   NaN        S  \n",
       "3      0            113803  53.1000  C123        S  \n",
       "4      0            373450   8.0500   NaN        S  "
      ]
     },
     "execution_count": 4,
     "metadata": {},
     "output_type": "execute_result"
    }
   ],
   "source": [
    "#查看数据前几行\n",
    "train_df.head()"
   ]
  },
  {
   "cell_type": "code",
   "execution_count": 5,
   "metadata": {},
   "outputs": [
    {
     "data": {
      "text/html": [
       "<div>\n",
       "<style scoped>\n",
       "    .dataframe tbody tr th:only-of-type {\n",
       "        vertical-align: middle;\n",
       "    }\n",
       "\n",
       "    .dataframe tbody tr th {\n",
       "        vertical-align: top;\n",
       "    }\n",
       "\n",
       "    .dataframe thead th {\n",
       "        text-align: right;\n",
       "    }\n",
       "</style>\n",
       "<table border=\"1\" class=\"dataframe\">\n",
       "  <thead>\n",
       "    <tr style=\"text-align: right;\">\n",
       "      <th></th>\n",
       "      <th>PassengerId</th>\n",
       "      <th>Pclass</th>\n",
       "      <th>Name</th>\n",
       "      <th>Sex</th>\n",
       "      <th>Age</th>\n",
       "      <th>SibSp</th>\n",
       "      <th>Parch</th>\n",
       "      <th>Ticket</th>\n",
       "      <th>Fare</th>\n",
       "      <th>Cabin</th>\n",
       "      <th>Embarked</th>\n",
       "    </tr>\n",
       "  </thead>\n",
       "  <tbody>\n",
       "    <tr>\n",
       "      <th>0</th>\n",
       "      <td>892</td>\n",
       "      <td>3</td>\n",
       "      <td>Kelly, Mr. James</td>\n",
       "      <td>male</td>\n",
       "      <td>34.5</td>\n",
       "      <td>0</td>\n",
       "      <td>0</td>\n",
       "      <td>330911</td>\n",
       "      <td>7.8292</td>\n",
       "      <td>NaN</td>\n",
       "      <td>Q</td>\n",
       "    </tr>\n",
       "    <tr>\n",
       "      <th>1</th>\n",
       "      <td>893</td>\n",
       "      <td>3</td>\n",
       "      <td>Wilkes, Mrs. James (Ellen Needs)</td>\n",
       "      <td>female</td>\n",
       "      <td>47.0</td>\n",
       "      <td>1</td>\n",
       "      <td>0</td>\n",
       "      <td>363272</td>\n",
       "      <td>7.0000</td>\n",
       "      <td>NaN</td>\n",
       "      <td>S</td>\n",
       "    </tr>\n",
       "    <tr>\n",
       "      <th>2</th>\n",
       "      <td>894</td>\n",
       "      <td>2</td>\n",
       "      <td>Myles, Mr. Thomas Francis</td>\n",
       "      <td>male</td>\n",
       "      <td>62.0</td>\n",
       "      <td>0</td>\n",
       "      <td>0</td>\n",
       "      <td>240276</td>\n",
       "      <td>9.6875</td>\n",
       "      <td>NaN</td>\n",
       "      <td>Q</td>\n",
       "    </tr>\n",
       "    <tr>\n",
       "      <th>3</th>\n",
       "      <td>895</td>\n",
       "      <td>3</td>\n",
       "      <td>Wirz, Mr. Albert</td>\n",
       "      <td>male</td>\n",
       "      <td>27.0</td>\n",
       "      <td>0</td>\n",
       "      <td>0</td>\n",
       "      <td>315154</td>\n",
       "      <td>8.6625</td>\n",
       "      <td>NaN</td>\n",
       "      <td>S</td>\n",
       "    </tr>\n",
       "    <tr>\n",
       "      <th>4</th>\n",
       "      <td>896</td>\n",
       "      <td>3</td>\n",
       "      <td>Hirvonen, Mrs. Alexander (Helga E Lindqvist)</td>\n",
       "      <td>female</td>\n",
       "      <td>22.0</td>\n",
       "      <td>1</td>\n",
       "      <td>1</td>\n",
       "      <td>3101298</td>\n",
       "      <td>12.2875</td>\n",
       "      <td>NaN</td>\n",
       "      <td>S</td>\n",
       "    </tr>\n",
       "  </tbody>\n",
       "</table>\n",
       "</div>"
      ],
      "text/plain": [
       "   PassengerId  Pclass                                          Name     Sex  \\\n",
       "0          892       3                              Kelly, Mr. James    male   \n",
       "1          893       3              Wilkes, Mrs. James (Ellen Needs)  female   \n",
       "2          894       2                     Myles, Mr. Thomas Francis    male   \n",
       "3          895       3                              Wirz, Mr. Albert    male   \n",
       "4          896       3  Hirvonen, Mrs. Alexander (Helga E Lindqvist)  female   \n",
       "\n",
       "    Age  SibSp  Parch   Ticket     Fare Cabin Embarked  \n",
       "0  34.5      0      0   330911   7.8292   NaN        Q  \n",
       "1  47.0      1      0   363272   7.0000   NaN        S  \n",
       "2  62.0      0      0   240276   9.6875   NaN        Q  \n",
       "3  27.0      0      0   315154   8.6625   NaN        S  \n",
       "4  22.0      1      1  3101298  12.2875   NaN        S  "
      ]
     },
     "execution_count": 5,
     "metadata": {},
     "output_type": "execute_result"
    }
   ],
   "source": [
    "test_df.head()"
   ]
  },
  {
   "cell_type": "markdown",
   "metadata": {},
   "source": [
    "测试集相对于训练集少了Survived，即任务目标，为了方便后续的各种处理，这里将数据合并，并切分为features部分以及labels部分"
   ]
  },
  {
   "cell_type": "code",
   "execution_count": 6,
   "metadata": {},
   "outputs": [],
   "source": [
    "labels=train_df['Survived']\n",
    "origin_features_df=pd.concat([train_df.drop(columns=['Survived']),test_df]).reset_index(drop=True)\n",
    "features_df=copy.deepcopy(origin_features_df)"
   ]
  },
  {
   "cell_type": "code",
   "execution_count": 7,
   "metadata": {},
   "outputs": [
    {
     "data": {
      "text/plain": [
       "(1309, 11)"
      ]
     },
     "execution_count": 7,
     "metadata": {},
     "output_type": "execute_result"
    }
   ],
   "source": [
    "features_df.shape"
   ]
  },
  {
   "cell_type": "code",
   "execution_count": 8,
   "metadata": {},
   "outputs": [
    {
     "data": {
      "text/html": [
       "<div>\n",
       "<style scoped>\n",
       "    .dataframe tbody tr th:only-of-type {\n",
       "        vertical-align: middle;\n",
       "    }\n",
       "\n",
       "    .dataframe tbody tr th {\n",
       "        vertical-align: top;\n",
       "    }\n",
       "\n",
       "    .dataframe thead th {\n",
       "        text-align: right;\n",
       "    }\n",
       "</style>\n",
       "<table border=\"1\" class=\"dataframe\">\n",
       "  <thead>\n",
       "    <tr style=\"text-align: right;\">\n",
       "      <th></th>\n",
       "      <th>PassengerId</th>\n",
       "      <th>Pclass</th>\n",
       "      <th>Name</th>\n",
       "      <th>Sex</th>\n",
       "      <th>Age</th>\n",
       "      <th>SibSp</th>\n",
       "      <th>Parch</th>\n",
       "      <th>Ticket</th>\n",
       "      <th>Fare</th>\n",
       "      <th>Cabin</th>\n",
       "      <th>Embarked</th>\n",
       "    </tr>\n",
       "  </thead>\n",
       "  <tbody>\n",
       "    <tr>\n",
       "      <th>0</th>\n",
       "      <td>1</td>\n",
       "      <td>3</td>\n",
       "      <td>Braund, Mr. Owen Harris</td>\n",
       "      <td>male</td>\n",
       "      <td>22.0</td>\n",
       "      <td>1</td>\n",
       "      <td>0</td>\n",
       "      <td>A/5 21171</td>\n",
       "      <td>7.2500</td>\n",
       "      <td>NaN</td>\n",
       "      <td>S</td>\n",
       "    </tr>\n",
       "    <tr>\n",
       "      <th>1</th>\n",
       "      <td>2</td>\n",
       "      <td>1</td>\n",
       "      <td>Cumings, Mrs. John Bradley (Florence Briggs Th...</td>\n",
       "      <td>female</td>\n",
       "      <td>38.0</td>\n",
       "      <td>1</td>\n",
       "      <td>0</td>\n",
       "      <td>PC 17599</td>\n",
       "      <td>71.2833</td>\n",
       "      <td>C85</td>\n",
       "      <td>C</td>\n",
       "    </tr>\n",
       "    <tr>\n",
       "      <th>2</th>\n",
       "      <td>3</td>\n",
       "      <td>3</td>\n",
       "      <td>Heikkinen, Miss. Laina</td>\n",
       "      <td>female</td>\n",
       "      <td>26.0</td>\n",
       "      <td>0</td>\n",
       "      <td>0</td>\n",
       "      <td>STON/O2. 3101282</td>\n",
       "      <td>7.9250</td>\n",
       "      <td>NaN</td>\n",
       "      <td>S</td>\n",
       "    </tr>\n",
       "    <tr>\n",
       "      <th>3</th>\n",
       "      <td>4</td>\n",
       "      <td>1</td>\n",
       "      <td>Futrelle, Mrs. Jacques Heath (Lily May Peel)</td>\n",
       "      <td>female</td>\n",
       "      <td>35.0</td>\n",
       "      <td>1</td>\n",
       "      <td>0</td>\n",
       "      <td>113803</td>\n",
       "      <td>53.1000</td>\n",
       "      <td>C123</td>\n",
       "      <td>S</td>\n",
       "    </tr>\n",
       "    <tr>\n",
       "      <th>4</th>\n",
       "      <td>5</td>\n",
       "      <td>3</td>\n",
       "      <td>Allen, Mr. William Henry</td>\n",
       "      <td>male</td>\n",
       "      <td>35.0</td>\n",
       "      <td>0</td>\n",
       "      <td>0</td>\n",
       "      <td>373450</td>\n",
       "      <td>8.0500</td>\n",
       "      <td>NaN</td>\n",
       "      <td>S</td>\n",
       "    </tr>\n",
       "  </tbody>\n",
       "</table>\n",
       "</div>"
      ],
      "text/plain": [
       "   PassengerId  Pclass                                               Name  \\\n",
       "0            1       3                            Braund, Mr. Owen Harris   \n",
       "1            2       1  Cumings, Mrs. John Bradley (Florence Briggs Th...   \n",
       "2            3       3                             Heikkinen, Miss. Laina   \n",
       "3            4       1       Futrelle, Mrs. Jacques Heath (Lily May Peel)   \n",
       "4            5       3                           Allen, Mr. William Henry   \n",
       "\n",
       "      Sex   Age  SibSp  Parch            Ticket     Fare Cabin Embarked  \n",
       "0    male  22.0      1      0         A/5 21171   7.2500   NaN        S  \n",
       "1  female  38.0      1      0          PC 17599  71.2833   C85        C  \n",
       "2  female  26.0      0      0  STON/O2. 3101282   7.9250   NaN        S  \n",
       "3  female  35.0      1      0            113803  53.1000  C123        S  \n",
       "4    male  35.0      0      0            373450   8.0500   NaN        S  "
      ]
     },
     "execution_count": 8,
     "metadata": {},
     "output_type": "execute_result"
    }
   ],
   "source": [
    "features_df.head()"
   ]
  },
  {
   "cell_type": "code",
   "execution_count": 9,
   "metadata": {},
   "outputs": [
    {
     "data": {
      "text/plain": [
       "0    0\n",
       "1    1\n",
       "2    1\n",
       "3    1\n",
       "4    0\n",
       "Name: Survived, dtype: int64"
      ]
     },
     "execution_count": 9,
     "metadata": {},
     "output_type": "execute_result"
    }
   ],
   "source": [
    "labels.head(5)"
   ]
  },
  {
   "cell_type": "code",
   "execution_count": 10,
   "metadata": {},
   "outputs": [
    {
     "name": "stdout",
     "output_type": "stream",
     "text": [
      "<class 'pandas.core.frame.DataFrame'>\n",
      "RangeIndex: 1309 entries, 0 to 1308\n",
      "Data columns (total 11 columns):\n",
      "PassengerId    1309 non-null int64\n",
      "Pclass         1309 non-null int64\n",
      "Name           1309 non-null object\n",
      "Sex            1309 non-null object\n",
      "Age            1046 non-null float64\n",
      "SibSp          1309 non-null int64\n",
      "Parch          1309 non-null int64\n",
      "Ticket         1309 non-null object\n",
      "Fare           1308 non-null float64\n",
      "Cabin          295 non-null object\n",
      "Embarked       1307 non-null object\n",
      "dtypes: float64(2), int64(4), object(5)\n",
      "memory usage: 112.6+ KB\n"
     ]
    }
   ],
   "source": [
    "#查看数据条数、每个特征的缺失值个数、特征类型\n",
    "features_df.info()"
   ]
  },
  {
   "cell_type": "markdown",
   "metadata": {},
   "source": [
    "### 1.1特征分类\n",
    "\n",
    "表现\\功能 | 离散型特征 |  数值型特征  \n",
    ":- | :-: | -:\n",
    "int,float | PassengerId,**Pclass** | Age,**Pclass**,SibSp,Parch,Fare \n",
    "str | Name,Sex,Ticket,Cabin,Embarked |  \n",
    "\n",
    "从功能上我们可以简单把数据分为两类，一类是离散型特征、一类是数值型特征：  \n",
    "\n",
    "（1）数值型特征：对**“比较大小”**有意义的特征，比如“高、中、低”，“优秀、良好、一般、差”等这一类特征可以看做数值型特征\n",
    "\n",
    "（2）离散型特征：PassengerId虽然表现为int，但对其比较大小并无实际意义"
   ]
  },
  {
   "cell_type": "code",
   "execution_count": 11,
   "metadata": {},
   "outputs": [
    {
     "data": {
      "text/html": [
       "<div>\n",
       "<style scoped>\n",
       "    .dataframe tbody tr th:only-of-type {\n",
       "        vertical-align: middle;\n",
       "    }\n",
       "\n",
       "    .dataframe tbody tr th {\n",
       "        vertical-align: top;\n",
       "    }\n",
       "\n",
       "    .dataframe thead th {\n",
       "        text-align: right;\n",
       "    }\n",
       "</style>\n",
       "<table border=\"1\" class=\"dataframe\">\n",
       "  <thead>\n",
       "    <tr style=\"text-align: right;\">\n",
       "      <th></th>\n",
       "      <th>PassengerId</th>\n",
       "      <th>Pclass</th>\n",
       "      <th>Age</th>\n",
       "      <th>SibSp</th>\n",
       "      <th>Parch</th>\n",
       "      <th>Fare</th>\n",
       "    </tr>\n",
       "  </thead>\n",
       "  <tbody>\n",
       "    <tr>\n",
       "      <th>count</th>\n",
       "      <td>1309.000000</td>\n",
       "      <td>1309.000000</td>\n",
       "      <td>1046.000000</td>\n",
       "      <td>1309.000000</td>\n",
       "      <td>1309.000000</td>\n",
       "      <td>1308.000000</td>\n",
       "    </tr>\n",
       "    <tr>\n",
       "      <th>mean</th>\n",
       "      <td>655.000000</td>\n",
       "      <td>2.294882</td>\n",
       "      <td>29.881138</td>\n",
       "      <td>0.498854</td>\n",
       "      <td>0.385027</td>\n",
       "      <td>33.295479</td>\n",
       "    </tr>\n",
       "    <tr>\n",
       "      <th>std</th>\n",
       "      <td>378.020061</td>\n",
       "      <td>0.837836</td>\n",
       "      <td>14.413493</td>\n",
       "      <td>1.041658</td>\n",
       "      <td>0.865560</td>\n",
       "      <td>51.758668</td>\n",
       "    </tr>\n",
       "    <tr>\n",
       "      <th>min</th>\n",
       "      <td>1.000000</td>\n",
       "      <td>1.000000</td>\n",
       "      <td>0.170000</td>\n",
       "      <td>0.000000</td>\n",
       "      <td>0.000000</td>\n",
       "      <td>0.000000</td>\n",
       "    </tr>\n",
       "    <tr>\n",
       "      <th>25%</th>\n",
       "      <td>328.000000</td>\n",
       "      <td>2.000000</td>\n",
       "      <td>21.000000</td>\n",
       "      <td>0.000000</td>\n",
       "      <td>0.000000</td>\n",
       "      <td>7.895800</td>\n",
       "    </tr>\n",
       "    <tr>\n",
       "      <th>50%</th>\n",
       "      <td>655.000000</td>\n",
       "      <td>3.000000</td>\n",
       "      <td>28.000000</td>\n",
       "      <td>0.000000</td>\n",
       "      <td>0.000000</td>\n",
       "      <td>14.454200</td>\n",
       "    </tr>\n",
       "    <tr>\n",
       "      <th>75%</th>\n",
       "      <td>982.000000</td>\n",
       "      <td>3.000000</td>\n",
       "      <td>39.000000</td>\n",
       "      <td>1.000000</td>\n",
       "      <td>0.000000</td>\n",
       "      <td>31.275000</td>\n",
       "    </tr>\n",
       "    <tr>\n",
       "      <th>max</th>\n",
       "      <td>1309.000000</td>\n",
       "      <td>3.000000</td>\n",
       "      <td>80.000000</td>\n",
       "      <td>8.000000</td>\n",
       "      <td>9.000000</td>\n",
       "      <td>512.329200</td>\n",
       "    </tr>\n",
       "  </tbody>\n",
       "</table>\n",
       "</div>"
      ],
      "text/plain": [
       "       PassengerId       Pclass          Age        SibSp        Parch  \\\n",
       "count  1309.000000  1309.000000  1046.000000  1309.000000  1309.000000   \n",
       "mean    655.000000     2.294882    29.881138     0.498854     0.385027   \n",
       "std     378.020061     0.837836    14.413493     1.041658     0.865560   \n",
       "min       1.000000     1.000000     0.170000     0.000000     0.000000   \n",
       "25%     328.000000     2.000000    21.000000     0.000000     0.000000   \n",
       "50%     655.000000     3.000000    28.000000     0.000000     0.000000   \n",
       "75%     982.000000     3.000000    39.000000     1.000000     0.000000   \n",
       "max    1309.000000     3.000000    80.000000     8.000000     9.000000   \n",
       "\n",
       "              Fare  \n",
       "count  1308.000000  \n",
       "mean     33.295479  \n",
       "std      51.758668  \n",
       "min       0.000000  \n",
       "25%       7.895800  \n",
       "50%      14.454200  \n",
       "75%      31.275000  \n",
       "max     512.329200  "
      ]
     },
     "execution_count": 11,
     "metadata": {},
     "output_type": "execute_result"
    }
   ],
   "source": [
    "#进一步，查看int,float特征的分布\n",
    "features_df.describe()"
   ]
  },
  {
   "cell_type": "code",
   "execution_count": 12,
   "metadata": {},
   "outputs": [
    {
     "data": {
      "text/html": [
       "<div>\n",
       "<style scoped>\n",
       "    .dataframe tbody tr th:only-of-type {\n",
       "        vertical-align: middle;\n",
       "    }\n",
       "\n",
       "    .dataframe tbody tr th {\n",
       "        vertical-align: top;\n",
       "    }\n",
       "\n",
       "    .dataframe thead th {\n",
       "        text-align: right;\n",
       "    }\n",
       "</style>\n",
       "<table border=\"1\" class=\"dataframe\">\n",
       "  <thead>\n",
       "    <tr style=\"text-align: right;\">\n",
       "      <th></th>\n",
       "      <th>Name</th>\n",
       "      <th>Sex</th>\n",
       "      <th>Ticket</th>\n",
       "      <th>Cabin</th>\n",
       "      <th>Embarked</th>\n",
       "    </tr>\n",
       "  </thead>\n",
       "  <tbody>\n",
       "    <tr>\n",
       "      <th>count</th>\n",
       "      <td>1309</td>\n",
       "      <td>1309</td>\n",
       "      <td>1309</td>\n",
       "      <td>295</td>\n",
       "      <td>1307</td>\n",
       "    </tr>\n",
       "    <tr>\n",
       "      <th>unique</th>\n",
       "      <td>1307</td>\n",
       "      <td>2</td>\n",
       "      <td>929</td>\n",
       "      <td>186</td>\n",
       "      <td>3</td>\n",
       "    </tr>\n",
       "    <tr>\n",
       "      <th>top</th>\n",
       "      <td>Kelly, Mr. James</td>\n",
       "      <td>male</td>\n",
       "      <td>CA. 2343</td>\n",
       "      <td>C23 C25 C27</td>\n",
       "      <td>S</td>\n",
       "    </tr>\n",
       "    <tr>\n",
       "      <th>freq</th>\n",
       "      <td>2</td>\n",
       "      <td>843</td>\n",
       "      <td>11</td>\n",
       "      <td>6</td>\n",
       "      <td>914</td>\n",
       "    </tr>\n",
       "  </tbody>\n",
       "</table>\n",
       "</div>"
      ],
      "text/plain": [
       "                    Name   Sex    Ticket        Cabin Embarked\n",
       "count               1309  1309      1309          295     1307\n",
       "unique              1307     2       929          186        3\n",
       "top     Kelly, Mr. James  male  CA. 2343  C23 C25 C27        S\n",
       "freq                   2   843        11            6      914"
      ]
     },
     "execution_count": 12,
     "metadata": {},
     "output_type": "execute_result"
    }
   ],
   "source": [
    "#对于object类型特征，也可以使用describe查看最频繁的那一项,以及总的有多少项\n",
    "features_df.describe(include=['O'])"
   ]
  },
  {
   "cell_type": "code",
   "execution_count": 13,
   "metadata": {},
   "outputs": [
    {
     "data": {
      "text/plain": [
       "C23 C25 C27        6\n",
       "G6                 5\n",
       "B57 B59 B63 B66    5\n",
       "F2                 4\n",
       "D                  4\n",
       "Name: Cabin, dtype: int64"
      ]
     },
     "execution_count": 13,
     "metadata": {},
     "output_type": "execute_result"
    }
   ],
   "source": [
    "#通过value_counts查看靠前的项目\n",
    "features_df['Cabin'].value_counts().head(5)"
   ]
  },
  {
   "cell_type": "markdown",
   "metadata": {},
   "source": [
    "### 1.2可视化"
   ]
  },
  {
   "cell_type": "code",
   "execution_count": 14,
   "metadata": {},
   "outputs": [
    {
     "data": {
      "text/plain": [
       "<matplotlib.axes._subplots.AxesSubplot at 0x1624f80b438>"
      ]
     },
     "execution_count": 14,
     "metadata": {},
     "output_type": "execute_result"
    },
    {
     "data": {
      "image/png": "[encoded data removed]",
      "text/plain": [
       "<Figure size 432x288 with 1 Axes>"
      ]
     },
     "metadata": {},
     "output_type": "display_data"
    }
   ],
   "source": [
    "#条形图，存活分布\n",
    "labels.value_counts().plot(kind='bar')"
   ]
  },
  {
   "cell_type": "code",
   "execution_count": 15,
   "metadata": {},
   "outputs": [
    {
     "data": {
      "text/plain": [
       "<matplotlib.axes._subplots.AxesSubplot at 0x162518aa358>"
      ]
     },
     "execution_count": 15,
     "metadata": {},
     "output_type": "execute_result"
    },
    {
     "data": {
      "image/png": "[encoded data removed]",
      "text/plain": [
       "<Figure size 432x288 with 1 Axes>"
      ]
     },
     "metadata": {},
     "output_type": "display_data"
    }
   ],
   "source": [
    "#条形图：查看Cabin的分布\n",
    "features_df['Cabin'].value_counts().sort_values(ascending=False).head(20).plot(kind='bar')"
   ]
  },
  {
   "cell_type": "code",
   "execution_count": 16,
   "metadata": {},
   "outputs": [
    {
     "data": {
      "text/plain": [
       "<matplotlib.axes._subplots.AxesSubplot at 0x16251960240>"
      ]
     },
     "execution_count": 16,
     "metadata": {},
     "output_type": "execute_result"
    },
    {
     "data": {
      "image/png": "[encoded data removed]",
      "text/plain": [
       "<Figure size 432x288 with 1 Axes>"
      ]
     },
     "metadata": {},
     "output_type": "display_data"
    }
   ],
   "source": [
    "#饼图，查看性别分布\n",
    "features_df['Sex'].value_counts().sort_values(ascending=False).plot(kind='pie')"
   ]
  },
  {
   "cell_type": "code",
   "execution_count": 17,
   "metadata": {},
   "outputs": [
    {
     "data": {
      "text/plain": [
       "<matplotlib.axes._subplots.AxesSubplot at 0x162519a4940>"
      ]
     },
     "execution_count": 17,
     "metadata": {},
     "output_type": "execute_result"
    },
    {
     "data": {
      "image/png": "[encoded data removed]",
      "text/plain": [
       "<Figure size 432x288 with 1 Axes>"
      ]
     },
     "metadata": {},
     "output_type": "display_data"
    }
   ],
   "source": [
    "#直方图，查看年龄分布\n",
    "features_df['Age'].plot(kind='hist')#注意：有别于条形图，这里会将连续值“分箱”"
   ]
  },
  {
   "cell_type": "code",
   "execution_count": 18,
   "metadata": {},
   "outputs": [
    {
     "data": {
      "text/plain": [
       "<matplotlib.axes._subplots.AxesSubplot at 0x16251a187f0>"
      ]
     },
     "execution_count": 18,
     "metadata": {},
     "output_type": "execute_result"
    },
    {
     "data": {
      "image/png": "[encoded data removed]",
      "text/plain": [
       "<Figure size 432x288 with 1 Axes>"
      ]
     },
     "metadata": {},
     "output_type": "display_data"
    }
   ],
   "source": [
    "#箱线图，查看年龄分布\n",
    "features_df['Age'].plot(kind='box')#可见有绝大部分是20-40岁的年轻人"
   ]
  },
  {
   "cell_type": "code",
   "execution_count": 19,
   "metadata": {},
   "outputs": [
    {
     "data": {
      "text/plain": [
       "<matplotlib.axes._subplots.AxesSubplot at 0x16251a852e8>"
      ]
     },
     "execution_count": 19,
     "metadata": {},
     "output_type": "execute_result"
    },
    {
     "data": {
      "image/png": "[encoded data removed]",
      "text/plain": [
       "<Figure size 432x288 with 1 Axes>"
      ]
     },
     "metadata": {},
     "output_type": "display_data"
    }
   ],
   "source": [
    "#条形图：查看票价与票类的关系\n",
    "features_df.groupby('Pclass')['Fare'].mean().plot(kind='bar')#Pclass 1,2,3分别表示头等舱、一等舱、二等舱"
   ]
  },
  {
   "cell_type": "code",
   "execution_count": 20,
   "metadata": {},
   "outputs": [
    {
     "data": {
      "text/plain": [
       "<matplotlib.axes._subplots.AxesSubplot at 0x16251aef0f0>"
      ]
     },
     "execution_count": 20,
     "metadata": {},
     "output_type": "execute_result"
    },
    {
     "data": {
      "image/png": "[encoded data removed]",
      "text/plain": [
       "<Figure size 432x288 with 1 Axes>"
      ]
     },
     "metadata": {},
     "output_type": "display_data"
    }
   ],
   "source": [
    "#将年龄分成1-10的10个阶段，并统计对应票价\n",
    "def age_bin(x):\n",
    "    try:\n",
    "        return int(x/10)\n",
    "    except:\n",
    "        None\n",
    "features_df['Age_bin']=features_df['Age'].apply(age_bin)\n",
    "features_df.groupby('Age_bin')['Fare'].mean().plot(kind='bar')"
   ]
  },
  {
   "cell_type": "code",
   "execution_count": 21,
   "metadata": {},
   "outputs": [
    {
     "data": {
      "text/plain": [
       "<matplotlib.axes._subplots.AxesSubplot at 0x16251b54b38>"
      ]
     },
     "execution_count": 21,
     "metadata": {},
     "output_type": "execute_result"
    },
    {
     "data": {
      "image/png": "[encoded data removed]",
      "text/plain": [
       "<Figure size 432x288 with 1 Axes>"
      ]
     },
     "metadata": {},
     "output_type": "display_data"
    }
   ],
   "source": [
    "#平滑处理\n",
    "features_df.groupby('Age_bin')['Fare'].mean().rolling(3).mean().plot(kind='line')#注意:前rolling_num-1项会为None"
   ]
  },
  {
   "cell_type": "code",
   "execution_count": 22,
   "metadata": {},
   "outputs": [
    {
     "data": {
      "text/plain": [
       "<matplotlib.axes._subplots.AxesSubplot at 0x16251bc36a0>"
      ]
     },
     "execution_count": 22,
     "metadata": {},
     "output_type": "execute_result"
    },
    {
     "data": {
      "image/png": "[encoded data removed]",
      "text/plain": [
       "<Figure size 432x288 with 1 Axes>"
      ]
     },
     "metadata": {},
     "output_type": "display_data"
    }
   ],
   "source": [
    "#查看各登船港口与票类的关系\n",
    "features_df.groupby('Embarked')['Pclass'].mean().plot.bar()"
   ]
  },
  {
   "cell_type": "code",
   "execution_count": 23,
   "metadata": {},
   "outputs": [
    {
     "data": {
      "text/plain": [
       "<matplotlib.axes._subplots.AxesSubplot at 0x16251c70fd0>"
      ]
     },
     "execution_count": 23,
     "metadata": {},
     "output_type": "execute_result"
    },
    {
     "data": {
      "image/png": "[encoded data removed]",
      "text/plain": [
       "<Figure size 432x288 with 2 Axes>"
      ]
     },
     "metadata": {},
     "output_type": "display_data"
    }
   ],
   "source": [
    "#探索不同性别，不同年龄段的存活率\n",
    "show_df=features_df[:891]\n",
    "show_df['Survived']=labels\n",
    "show_df=show_df.groupby(['Sex','Age_bin'])['Survived'].mean().reset_index().pivot(index='Sex',columns='Age_bin',values='Survived').reset_index()\n",
    "show_df=show_df.where(show_df.notnull(),0)\n",
    "show_df.set_index('Sex',inplace=True,drop=True)\n",
    "sns.heatmap(show_df)"
   ]
  },
  {
   "cell_type": "markdown",
   "metadata": {},
   "source": [
    "**注意float.nan无法通过fillna填充**  \n",
    "\n",
    "可以发现婴儿和女性的存活率更高"
   ]
  },
  {
   "cell_type": "code",
   "execution_count": 24,
   "metadata": {},
   "outputs": [
    {
     "data": {
      "text/plain": [
       "<matplotlib.axes._subplots.AxesSubplot at 0x16251ea8b38>"
      ]
     },
     "execution_count": 24,
     "metadata": {},
     "output_type": "execute_result"
    },
    {
     "data": {
      "image/png": "[encoded data removed]",
      "text/plain": [
       "<Figure size 432x288 with 2 Axes>"
      ]
     },
     "metadata": {},
     "output_type": "display_data"
    }
   ],
   "source": [
    "#热图：探索不同特征之间的相关系数\n",
    "show_df=features_df[:891]\n",
    "show_df['Survived']=labels\n",
    "sns.heatmap(show_df.corr())"
   ]
  },
  {
   "cell_type": "markdown",
   "metadata": {},
   "source": [
    "可以发现是否存活与Fare/票价的正相关性最强，与Pclass负相关性最强"
   ]
  },
  {
   "cell_type": "markdown",
   "metadata": {},
   "source": [
    "### 二.清洗特征\n",
    "大概知道了各特征的类型以及缺失值情况后，我们就可以对数据进行清洗，将其转换成int/float数据类型"
   ]
  },
  {
   "cell_type": "markdown",
   "metadata": {},
   "source": [
    "#### 2.1 None值填充\n",
    "（1）删除...dropna...(不建议)    \n",
    "（2）暴力填充fillna一个确定的值  \n",
    "（3）均值、中位数、众数项填充  \n",
    "（4）依赖性填充  \n",
    "    4.1）基于时间的插值；  \n",
    "    4.2）建模预测..."
   ]
  },
  {
   "cell_type": "code",
   "execution_count": 25,
   "metadata": {},
   "outputs": [
    {
     "data": {
      "text/plain": [
       "PassengerId       0\n",
       "Pclass            0\n",
       "Name              0\n",
       "Sex               0\n",
       "Age             263\n",
       "SibSp             0\n",
       "Parch             0\n",
       "Ticket            0\n",
       "Fare              1\n",
       "Cabin          1014\n",
       "Embarked          2\n",
       "Age_bin         263\n",
       "dtype: int64"
      ]
     },
     "execution_count": 25,
     "metadata": {},
     "output_type": "execute_result"
    }
   ],
   "source": [
    "#首先查看缺失项\n",
    "features_df.isnull().sum()"
   ]
  },
  {
   "cell_type": "code",
   "execution_count": 26,
   "metadata": {},
   "outputs": [],
   "source": [
    "del features_df['Age_bin']"
   ]
  },
  {
   "cell_type": "code",
   "execution_count": 27,
   "metadata": {},
   "outputs": [],
   "source": [
    "#为Cabin直接填充一个定值\n",
    "features_df['Cabin'].fillna('missing',inplace=True)"
   ]
  },
  {
   "cell_type": "code",
   "execution_count": 28,
   "metadata": {},
   "outputs": [],
   "source": [
    "#为Embarked填充众数项\n",
    "features_df['Embarked'].fillna(features_df['Embarked'].mode()[0],inplace=True)"
   ]
  },
  {
   "cell_type": "code",
   "execution_count": 29,
   "metadata": {},
   "outputs": [
    {
     "data": {
      "text/html": [
       "<div>\n",
       "<style scoped>\n",
       "    .dataframe tbody tr th:only-of-type {\n",
       "        vertical-align: middle;\n",
       "    }\n",
       "\n",
       "    .dataframe tbody tr th {\n",
       "        vertical-align: top;\n",
       "    }\n",
       "\n",
       "    .dataframe thead th {\n",
       "        text-align: right;\n",
       "    }\n",
       "</style>\n",
       "<table border=\"1\" class=\"dataframe\">\n",
       "  <thead>\n",
       "    <tr style=\"text-align: right;\">\n",
       "      <th></th>\n",
       "      <th>Pclass</th>\n",
       "      <th>Age</th>\n",
       "    </tr>\n",
       "  </thead>\n",
       "  <tbody>\n",
       "    <tr>\n",
       "      <th>0</th>\n",
       "      <td>1</td>\n",
       "      <td>39.159930</td>\n",
       "    </tr>\n",
       "    <tr>\n",
       "      <th>1</th>\n",
       "      <td>2</td>\n",
       "      <td>29.506705</td>\n",
       "    </tr>\n",
       "    <tr>\n",
       "      <th>2</th>\n",
       "      <td>3</td>\n",
       "      <td>24.816367</td>\n",
       "    </tr>\n",
       "  </tbody>\n",
       "</table>\n",
       "</div>"
      ],
      "text/plain": [
       "   Pclass        Age\n",
       "0       1  39.159930\n",
       "1       2  29.506705\n",
       "2       3  24.816367"
      ]
     },
     "execution_count": 29,
     "metadata": {},
     "output_type": "execute_result"
    }
   ],
   "source": [
    "#Age与Pclass具有比较强的相关性，利用Age所属Pclass组的均值对其缺失值进行填充\n",
    "features_df.groupby('Pclass')['Age'].mean().reset_index()"
   ]
  },
  {
   "cell_type": "code",
   "execution_count": 30,
   "metadata": {},
   "outputs": [],
   "source": [
    "def fill_age(pclass,age):\n",
    "    if np.isnan(age):#注意：如果当前列为float/int类型，当前列中的None会被强制转为float的nan类型\n",
    "        if pclass==1:\n",
    "            return 39.159930\n",
    "        elif pclass==2:\n",
    "            return 29.506705\n",
    "        else:\n",
    "            return 24.816367\n",
    "    else:\n",
    "        return age\n",
    "features_df['Age']=features_df.apply(lambda row:fill_age(row['Pclass'],row['Age']),axis=1)"
   ]
  },
  {
   "cell_type": "code",
   "execution_count": 31,
   "metadata": {},
   "outputs": [],
   "source": [
    "features_df['Fare'].fillna(features_df['Fare'].mean(),inplace=True)"
   ]
  },
  {
   "cell_type": "code",
   "execution_count": 32,
   "metadata": {},
   "outputs": [
    {
     "data": {
      "text/plain": [
       "PassengerId    0\n",
       "Pclass         0\n",
       "Name           0\n",
       "Sex            0\n",
       "Age            0\n",
       "SibSp          0\n",
       "Parch          0\n",
       "Ticket         0\n",
       "Fare           0\n",
       "Cabin          0\n",
       "Embarked       0\n",
       "dtype: int64"
      ]
     },
     "execution_count": 32,
     "metadata": {},
     "output_type": "execute_result"
    }
   ],
   "source": [
    "#检查一下\n",
    "features_df.isnull().sum()"
   ]
  },
  {
   "cell_type": "markdown",
   "metadata": {},
   "source": [
    "也可以多种填充策略组合，比如先依赖于相关性高的进行填充，然后利用整体的均值/中位数等填充，然后fillna一个确定的值等，另外sklearn.preprocessing.Imputer也可方便进行均值、中位数、众数填充  \n",
    "\n",
    "#### 注意：\n",
    "**\n",
    "（1）这里没有那一种填充方法是“绝对”的好，要与后续建模中具体使用的模型结合起来，均值类型的填充也许对决策树一类的算法比较友好，fillna(0)也许对lr/神经网络一类的算法比较友好；  \n",
    "（2）切记在填充的时候不要依赖到y标签，假如Age与Survived的相关性比较强，如果Age依赖于Survived的分组均值进行填充...想想会发生什么....真正在预测的时候我们不知道Survived真实取值，所以压根没法填充...  \n",
    "（3）另外这里使用整体数据的均值/中位数进行填充涉嫌“作弊”，因为利用到了测试集部分，更正确的做法是利用训练集的信息去对训练集合测试集进行填充，但一般在样本量很大的情况下，两者均值/中位数....相差不大，所以...\n",
    "**"
   ]
  },
  {
   "cell_type": "code",
   "execution_count": 33,
   "metadata": {},
   "outputs": [
    {
     "data": {
      "text/plain": [
       "29.348219164247467"
      ]
     },
     "execution_count": 33,
     "metadata": {},
     "output_type": "execute_result"
    }
   ],
   "source": [
    "features_df['Age'].mean()"
   ]
  },
  {
   "cell_type": "code",
   "execution_count": 34,
   "metadata": {},
   "outputs": [
    {
     "data": {
      "text/plain": [
       "29.269997269360225"
      ]
     },
     "execution_count": 34,
     "metadata": {},
     "output_type": "execute_result"
    }
   ],
   "source": [
    "features_df[:891]['Age'].mean()"
   ]
  },
  {
   "cell_type": "code",
   "execution_count": 35,
   "metadata": {},
   "outputs": [
    {
     "data": {
      "text/html": [
       "<div>\n",
       "<style scoped>\n",
       "    .dataframe tbody tr th:only-of-type {\n",
       "        vertical-align: middle;\n",
       "    }\n",
       "\n",
       "    .dataframe tbody tr th {\n",
       "        vertical-align: top;\n",
       "    }\n",
       "\n",
       "    .dataframe thead th {\n",
       "        text-align: right;\n",
       "    }\n",
       "</style>\n",
       "<table border=\"1\" class=\"dataframe\">\n",
       "  <thead>\n",
       "    <tr style=\"text-align: right;\">\n",
       "      <th></th>\n",
       "      <th>PassengerId</th>\n",
       "      <th>Pclass</th>\n",
       "      <th>Name</th>\n",
       "      <th>Sex</th>\n",
       "      <th>Age</th>\n",
       "      <th>SibSp</th>\n",
       "      <th>Parch</th>\n",
       "      <th>Ticket</th>\n",
       "      <th>Fare</th>\n",
       "      <th>Cabin</th>\n",
       "      <th>Embarked</th>\n",
       "    </tr>\n",
       "  </thead>\n",
       "  <tbody>\n",
       "    <tr>\n",
       "      <th>0</th>\n",
       "      <td>1</td>\n",
       "      <td>3</td>\n",
       "      <td>Braund, Mr. Owen Harris</td>\n",
       "      <td>male</td>\n",
       "      <td>22.0</td>\n",
       "      <td>1</td>\n",
       "      <td>0</td>\n",
       "      <td>A/5 21171</td>\n",
       "      <td>7.2500</td>\n",
       "      <td>missing</td>\n",
       "      <td>S</td>\n",
       "    </tr>\n",
       "    <tr>\n",
       "      <th>1</th>\n",
       "      <td>2</td>\n",
       "      <td>1</td>\n",
       "      <td>Cumings, Mrs. John Bradley (Florence Briggs Th...</td>\n",
       "      <td>female</td>\n",
       "      <td>38.0</td>\n",
       "      <td>1</td>\n",
       "      <td>0</td>\n",
       "      <td>PC 17599</td>\n",
       "      <td>71.2833</td>\n",
       "      <td>C85</td>\n",
       "      <td>C</td>\n",
       "    </tr>\n",
       "    <tr>\n",
       "      <th>2</th>\n",
       "      <td>3</td>\n",
       "      <td>3</td>\n",
       "      <td>Heikkinen, Miss. Laina</td>\n",
       "      <td>female</td>\n",
       "      <td>26.0</td>\n",
       "      <td>0</td>\n",
       "      <td>0</td>\n",
       "      <td>STON/O2. 3101282</td>\n",
       "      <td>7.9250</td>\n",
       "      <td>missing</td>\n",
       "      <td>S</td>\n",
       "    </tr>\n",
       "    <tr>\n",
       "      <th>3</th>\n",
       "      <td>4</td>\n",
       "      <td>1</td>\n",
       "      <td>Futrelle, Mrs. Jacques Heath (Lily May Peel)</td>\n",
       "      <td>female</td>\n",
       "      <td>35.0</td>\n",
       "      <td>1</td>\n",
       "      <td>0</td>\n",
       "      <td>113803</td>\n",
       "      <td>53.1000</td>\n",
       "      <td>C123</td>\n",
       "      <td>S</td>\n",
       "    </tr>\n",
       "    <tr>\n",
       "      <th>4</th>\n",
       "      <td>5</td>\n",
       "      <td>3</td>\n",
       "      <td>Allen, Mr. William Henry</td>\n",
       "      <td>male</td>\n",
       "      <td>35.0</td>\n",
       "      <td>0</td>\n",
       "      <td>0</td>\n",
       "      <td>373450</td>\n",
       "      <td>8.0500</td>\n",
       "      <td>missing</td>\n",
       "      <td>S</td>\n",
       "    </tr>\n",
       "  </tbody>\n",
       "</table>\n",
       "</div>"
      ],
      "text/plain": [
       "   PassengerId  Pclass                                               Name  \\\n",
       "0            1       3                            Braund, Mr. Owen Harris   \n",
       "1            2       1  Cumings, Mrs. John Bradley (Florence Briggs Th...   \n",
       "2            3       3                             Heikkinen, Miss. Laina   \n",
       "3            4       1       Futrelle, Mrs. Jacques Heath (Lily May Peel)   \n",
       "4            5       3                           Allen, Mr. William Henry   \n",
       "\n",
       "      Sex   Age  SibSp  Parch            Ticket     Fare    Cabin Embarked  \n",
       "0    male  22.0      1      0         A/5 21171   7.2500  missing        S  \n",
       "1  female  38.0      1      0          PC 17599  71.2833      C85        C  \n",
       "2  female  26.0      0      0  STON/O2. 3101282   7.9250  missing        S  \n",
       "3  female  35.0      1      0            113803  53.1000     C123        S  \n",
       "4    male  35.0      0      0            373450   8.0500  missing        S  "
      ]
     },
     "execution_count": 35,
     "metadata": {},
     "output_type": "execute_result"
    }
   ],
   "source": [
    "#目前的情况如下\n",
    "features_df.head(5)"
   ]
  },
  {
   "cell_type": "markdown",
   "metadata": {},
   "source": [
    "#### 2.2 类别特征数值化\n",
    "我们还有5列类别特征，可以将他们分为两类：  \n",
    "（1）低数量类别特征/low-cardinality categorical attributes：Sex,Embarked  \n",
    "（2）高数量类别特征/high-cardinality categorical attributes:Name,Ticket,Cabin\n",
    "\n",
    "我们一个一个看....  \n",
    "\n",
    "Sex:明显的离散型特征，可以采用ont-hot编码，由于只有两个可取变量，也可以直接编码0/1  \n",
    "Embarked:明显的离散型特征，可采用one-hot编码  \n",
    "Name:可以再深入挖掘的一个特征，比如通过名字判断是否结婚  \n",
    "Ticket:看不出明显的规律，删掉  \n",
    "Cabin:这里先简单的采用TargetEncoder,一种Smothing的方式，计算y的占比；后面可以扩展特征，比如同一船舱：是否包含中年男性/是否包含小孩....，如果当前乘客为小孩，而他同行的船舱中有中年男性，那存活的可能性更高? 这里，，，先删掉    \n",
    "\n",
    "这里推荐category_encoders,有多种对离散特征encoding的方式  \n",
    "pip install category_encoders  \n",
    "更多：http://contrib.scikit-learn.org/categorical-encoding/  "
   ]
  },
  {
   "cell_type": "code",
   "execution_count": 36,
   "metadata": {},
   "outputs": [],
   "source": [
    "import category_encoders as ce\n",
    "del features_df['Name']\n",
    "del features_df['Ticket']\n",
    "onehot_encoder = ce.OneHotEncoder(cols=['Embarked']).fit(features_df)\n",
    "features_df=onehot_encoder.transform(features_df)\n",
    "\n",
    "ordinay_encoder = ce.OrdinalEncoder(cols=['Sex']).fit(features_df)\n",
    "features_df=ordinay_encoder.transform(features_df)\n",
    "\n",
    "#这里我就偷懒了....\n",
    "target_encoder = ce.TargetEncoder(cols=['Cabin']).fit(features_df[:891],labels)\n",
    "features_df=target_encoder.transform(features_df)"
   ]
  },
  {
   "cell_type": "code",
   "execution_count": 37,
   "metadata": {},
   "outputs": [],
   "source": [
    "features_df['Sex']=features_df['Sex']-1"
   ]
  },
  {
   "cell_type": "code",
   "execution_count": 38,
   "metadata": {},
   "outputs": [
    {
     "data": {
      "text/html": [
       "<div>\n",
       "<style scoped>\n",
       "    .dataframe tbody tr th:only-of-type {\n",
       "        vertical-align: middle;\n",
       "    }\n",
       "\n",
       "    .dataframe tbody tr th {\n",
       "        vertical-align: top;\n",
       "    }\n",
       "\n",
       "    .dataframe thead th {\n",
       "        text-align: right;\n",
       "    }\n",
       "</style>\n",
       "<table border=\"1\" class=\"dataframe\">\n",
       "  <thead>\n",
       "    <tr style=\"text-align: right;\">\n",
       "      <th></th>\n",
       "      <th>PassengerId</th>\n",
       "      <th>Pclass</th>\n",
       "      <th>Sex</th>\n",
       "      <th>Age</th>\n",
       "      <th>SibSp</th>\n",
       "      <th>Parch</th>\n",
       "      <th>Fare</th>\n",
       "      <th>Cabin</th>\n",
       "      <th>Embarked_1</th>\n",
       "      <th>Embarked_2</th>\n",
       "      <th>Embarked_3</th>\n",
       "    </tr>\n",
       "  </thead>\n",
       "  <tbody>\n",
       "    <tr>\n",
       "      <th>0</th>\n",
       "      <td>1</td>\n",
       "      <td>3</td>\n",
       "      <td>0</td>\n",
       "      <td>22.0</td>\n",
       "      <td>1</td>\n",
       "      <td>0</td>\n",
       "      <td>7.2500</td>\n",
       "      <td>0.299854</td>\n",
       "      <td>1</td>\n",
       "      <td>0</td>\n",
       "      <td>0</td>\n",
       "    </tr>\n",
       "    <tr>\n",
       "      <th>1</th>\n",
       "      <td>2</td>\n",
       "      <td>1</td>\n",
       "      <td>1</td>\n",
       "      <td>38.0</td>\n",
       "      <td>1</td>\n",
       "      <td>0</td>\n",
       "      <td>71.2833</td>\n",
       "      <td>0.383838</td>\n",
       "      <td>0</td>\n",
       "      <td>1</td>\n",
       "      <td>0</td>\n",
       "    </tr>\n",
       "    <tr>\n",
       "      <th>2</th>\n",
       "      <td>3</td>\n",
       "      <td>3</td>\n",
       "      <td>1</td>\n",
       "      <td>26.0</td>\n",
       "      <td>0</td>\n",
       "      <td>0</td>\n",
       "      <td>7.9250</td>\n",
       "      <td>0.299854</td>\n",
       "      <td>1</td>\n",
       "      <td>0</td>\n",
       "      <td>0</td>\n",
       "    </tr>\n",
       "    <tr>\n",
       "      <th>3</th>\n",
       "      <td>4</td>\n",
       "      <td>1</td>\n",
       "      <td>1</td>\n",
       "      <td>35.0</td>\n",
       "      <td>1</td>\n",
       "      <td>0</td>\n",
       "      <td>53.1000</td>\n",
       "      <td>0.468759</td>\n",
       "      <td>1</td>\n",
       "      <td>0</td>\n",
       "      <td>0</td>\n",
       "    </tr>\n",
       "    <tr>\n",
       "      <th>4</th>\n",
       "      <td>5</td>\n",
       "      <td>3</td>\n",
       "      <td>0</td>\n",
       "      <td>35.0</td>\n",
       "      <td>0</td>\n",
       "      <td>0</td>\n",
       "      <td>8.0500</td>\n",
       "      <td>0.299854</td>\n",
       "      <td>1</td>\n",
       "      <td>0</td>\n",
       "      <td>0</td>\n",
       "    </tr>\n",
       "  </tbody>\n",
       "</table>\n",
       "</div>"
      ],
      "text/plain": [
       "   PassengerId  Pclass  Sex   Age  SibSp  Parch     Fare     Cabin  \\\n",
       "0            1       3    0  22.0      1      0   7.2500  0.299854   \n",
       "1            2       1    1  38.0      1      0  71.2833  0.383838   \n",
       "2            3       3    1  26.0      0      0   7.9250  0.299854   \n",
       "3            4       1    1  35.0      1      0  53.1000  0.468759   \n",
       "4            5       3    0  35.0      0      0   8.0500  0.299854   \n",
       "\n",
       "   Embarked_1  Embarked_2  Embarked_3  \n",
       "0           1           0           0  \n",
       "1           0           1           0  \n",
       "2           1           0           0  \n",
       "3           1           0           0  \n",
       "4           1           0           0  "
      ]
     },
     "execution_count": 38,
     "metadata": {},
     "output_type": "execute_result"
    }
   ],
   "source": [
    "features_df.head(5)"
   ]
  },
  {
   "cell_type": "code",
   "execution_count": 39,
   "metadata": {},
   "outputs": [],
   "source": [
    "#这里PassengerId直接删掉\n",
    "del features_df['PassengerId']"
   ]
  },
  {
   "cell_type": "markdown",
   "metadata": {},
   "source": [
    "#### 2.3数据标准化\n",
    "数据是否需要标准化取决于后面的训练模型，一般来说，数据归一化有如下的一些好处：  \n",
    "（1）保持量纲的统一；  \n",
    "（2）梯度下降更稳定；\n",
    "\n",
    "它对常见算法的影响：  \n",
    "（1）knn,kmeans：欧氏距离...  \n",
    "（2）lr,svm,nn：梯度下降...  \n",
    "（3）pca：偏向于值较大的列  \n",
    "\n",
    "标准化的方法一般有以下几种：  \n",
    "（1）z-score：$z=(x-u)/\\sigma$  \n",
    "（2）min-max：$m=(x-x_{min})/(x_{max}-x_{min})$  \n",
    "（3）行归一化：$\\sqrt{(x_1^2+x_2^2+\\cdots+x_n^2)}=1,这里x_1,x_2,...,x_n表示每行特征$；  \n",
    "其他的标准化方法：  \n",
    "（1）log/boxcox归一化：对长尾分布数据比较有用，可以拉伸头部，压缩尾部\n",
    "\n",
    "更多：https://www.jianshu.com/p/fa73a07cd750"
   ]
  },
  {
   "cell_type": "code",
   "execution_count": 40,
   "metadata": {},
   "outputs": [],
   "source": [
    "from sklearn.preprocessing import StandardScaler,MinMaxScaler,Normalizer\n",
    "#z-score归一化\n",
    "titanic_z_score_df=pd.DataFrame(StandardScaler().fit_transform(features_df),columns=features_df.columns)\n",
    "#min-max归一化\n",
    "titanic_min_max_df=pd.DataFrame(MinMaxScaler().fit_transform(features_df),columns=features_df.columns)\n",
    "#行归一化\n",
    "titanic_normalize_df=pd.DataFrame(Normalizer().fit_transform(features_df),columns=features_df.columns)"
   ]
  },
  {
   "cell_type": "code",
   "execution_count": 41,
   "metadata": {},
   "outputs": [
    {
     "data": {
      "text/html": [
       "<div>\n",
       "<style scoped>\n",
       "    .dataframe tbody tr th:only-of-type {\n",
       "        vertical-align: middle;\n",
       "    }\n",
       "\n",
       "    .dataframe tbody tr th {\n",
       "        vertical-align: top;\n",
       "    }\n",
       "\n",
       "    .dataframe thead th {\n",
       "        text-align: right;\n",
       "    }\n",
       "</style>\n",
       "<table border=\"1\" class=\"dataframe\">\n",
       "  <thead>\n",
       "    <tr style=\"text-align: right;\">\n",
       "      <th></th>\n",
       "      <th>Pclass</th>\n",
       "      <th>Sex</th>\n",
       "      <th>Age</th>\n",
       "      <th>SibSp</th>\n",
       "      <th>Parch</th>\n",
       "      <th>Fare</th>\n",
       "      <th>Cabin</th>\n",
       "      <th>Embarked_1</th>\n",
       "      <th>Embarked_2</th>\n",
       "      <th>Embarked_3</th>\n",
       "    </tr>\n",
       "  </thead>\n",
       "  <tbody>\n",
       "    <tr>\n",
       "      <th>0</th>\n",
       "      <td>0.841916</td>\n",
       "      <td>-0.743497</td>\n",
       "      <td>-0.559957</td>\n",
       "      <td>0.481288</td>\n",
       "      <td>-0.445</td>\n",
       "      <td>-0.503595</td>\n",
       "      <td>-0.355244</td>\n",
       "      <td>0.655011</td>\n",
       "      <td>-0.50977</td>\n",
       "      <td>-0.32204</td>\n",
       "    </tr>\n",
       "    <tr>\n",
       "      <th>1</th>\n",
       "      <td>-1.546098</td>\n",
       "      <td>1.344995</td>\n",
       "      <td>0.659292</td>\n",
       "      <td>0.481288</td>\n",
       "      <td>-0.445</td>\n",
       "      <td>0.734503</td>\n",
       "      <td>0.314031</td>\n",
       "      <td>-1.526692</td>\n",
       "      <td>1.96167</td>\n",
       "      <td>-0.32204</td>\n",
       "    </tr>\n",
       "    <tr>\n",
       "      <th>2</th>\n",
       "      <td>0.841916</td>\n",
       "      <td>1.344995</td>\n",
       "      <td>-0.255145</td>\n",
       "      <td>-0.479087</td>\n",
       "      <td>-0.445</td>\n",
       "      <td>-0.490544</td>\n",
       "      <td>-0.355244</td>\n",
       "      <td>0.655011</td>\n",
       "      <td>-0.50977</td>\n",
       "      <td>-0.32204</td>\n",
       "    </tr>\n",
       "    <tr>\n",
       "      <th>3</th>\n",
       "      <td>-1.546098</td>\n",
       "      <td>1.344995</td>\n",
       "      <td>0.430683</td>\n",
       "      <td>0.481288</td>\n",
       "      <td>-0.445</td>\n",
       "      <td>0.382925</td>\n",
       "      <td>0.990773</td>\n",
       "      <td>0.655011</td>\n",
       "      <td>-0.50977</td>\n",
       "      <td>-0.32204</td>\n",
       "    </tr>\n",
       "    <tr>\n",
       "      <th>4</th>\n",
       "      <td>0.841916</td>\n",
       "      <td>-0.743497</td>\n",
       "      <td>0.430683</td>\n",
       "      <td>-0.479087</td>\n",
       "      <td>-0.445</td>\n",
       "      <td>-0.488127</td>\n",
       "      <td>-0.355244</td>\n",
       "      <td>0.655011</td>\n",
       "      <td>-0.50977</td>\n",
       "      <td>-0.32204</td>\n",
       "    </tr>\n",
       "  </tbody>\n",
       "</table>\n",
       "</div>"
      ],
      "text/plain": [
       "     Pclass       Sex       Age     SibSp  Parch      Fare     Cabin  \\\n",
       "0  0.841916 -0.743497 -0.559957  0.481288 -0.445 -0.503595 -0.355244   \n",
       "1 -1.546098  1.344995  0.659292  0.481288 -0.445  0.734503  0.314031   \n",
       "2  0.841916  1.344995 -0.255145 -0.479087 -0.445 -0.490544 -0.355244   \n",
       "3 -1.546098  1.344995  0.430683  0.481288 -0.445  0.382925  0.990773   \n",
       "4  0.841916 -0.743497  0.430683 -0.479087 -0.445 -0.488127 -0.355244   \n",
       "\n",
       "   Embarked_1  Embarked_2  Embarked_3  \n",
       "0    0.655011    -0.50977    -0.32204  \n",
       "1   -1.526692     1.96167    -0.32204  \n",
       "2    0.655011    -0.50977    -0.32204  \n",
       "3    0.655011    -0.50977    -0.32204  \n",
       "4    0.655011    -0.50977    -0.32204  "
      ]
     },
     "execution_count": 41,
     "metadata": {},
     "output_type": "execute_result"
    }
   ],
   "source": [
    "titanic_z_score_df.head(5)"
   ]
  },
  {
   "cell_type": "code",
   "execution_count": 42,
   "metadata": {},
   "outputs": [
    {
     "data": {
      "text/html": [
       "<div>\n",
       "<style scoped>\n",
       "    .dataframe tbody tr th:only-of-type {\n",
       "        vertical-align: middle;\n",
       "    }\n",
       "\n",
       "    .dataframe tbody tr th {\n",
       "        vertical-align: top;\n",
       "    }\n",
       "\n",
       "    .dataframe thead th {\n",
       "        text-align: right;\n",
       "    }\n",
       "</style>\n",
       "<table border=\"1\" class=\"dataframe\">\n",
       "  <thead>\n",
       "    <tr style=\"text-align: right;\">\n",
       "      <th></th>\n",
       "      <th>Pclass</th>\n",
       "      <th>Sex</th>\n",
       "      <th>Age</th>\n",
       "      <th>SibSp</th>\n",
       "      <th>Parch</th>\n",
       "      <th>Fare</th>\n",
       "      <th>Cabin</th>\n",
       "      <th>Embarked_1</th>\n",
       "      <th>Embarked_2</th>\n",
       "      <th>Embarked_3</th>\n",
       "    </tr>\n",
       "  </thead>\n",
       "  <tbody>\n",
       "    <tr>\n",
       "      <th>0</th>\n",
       "      <td>1.0</td>\n",
       "      <td>0.0</td>\n",
       "      <td>0.273456</td>\n",
       "      <td>0.125</td>\n",
       "      <td>0.0</td>\n",
       "      <td>0.014151</td>\n",
       "      <td>0.226644</td>\n",
       "      <td>1.0</td>\n",
       "      <td>0.0</td>\n",
       "      <td>0.0</td>\n",
       "    </tr>\n",
       "    <tr>\n",
       "      <th>1</th>\n",
       "      <td>0.0</td>\n",
       "      <td>1.0</td>\n",
       "      <td>0.473882</td>\n",
       "      <td>0.125</td>\n",
       "      <td>0.0</td>\n",
       "      <td>0.139136</td>\n",
       "      <td>0.323450</td>\n",
       "      <td>0.0</td>\n",
       "      <td>1.0</td>\n",
       "      <td>0.0</td>\n",
       "    </tr>\n",
       "    <tr>\n",
       "      <th>2</th>\n",
       "      <td>1.0</td>\n",
       "      <td>1.0</td>\n",
       "      <td>0.323563</td>\n",
       "      <td>0.000</td>\n",
       "      <td>0.0</td>\n",
       "      <td>0.015469</td>\n",
       "      <td>0.226644</td>\n",
       "      <td>1.0</td>\n",
       "      <td>0.0</td>\n",
       "      <td>0.0</td>\n",
       "    </tr>\n",
       "    <tr>\n",
       "      <th>3</th>\n",
       "      <td>0.0</td>\n",
       "      <td>1.0</td>\n",
       "      <td>0.436302</td>\n",
       "      <td>0.125</td>\n",
       "      <td>0.0</td>\n",
       "      <td>0.103644</td>\n",
       "      <td>0.421336</td>\n",
       "      <td>1.0</td>\n",
       "      <td>0.0</td>\n",
       "      <td>0.0</td>\n",
       "    </tr>\n",
       "    <tr>\n",
       "      <th>4</th>\n",
       "      <td>1.0</td>\n",
       "      <td>0.0</td>\n",
       "      <td>0.436302</td>\n",
       "      <td>0.000</td>\n",
       "      <td>0.0</td>\n",
       "      <td>0.015713</td>\n",
       "      <td>0.226644</td>\n",
       "      <td>1.0</td>\n",
       "      <td>0.0</td>\n",
       "      <td>0.0</td>\n",
       "    </tr>\n",
       "  </tbody>\n",
       "</table>\n",
       "</div>"
      ],
      "text/plain": [
       "   Pclass  Sex       Age  SibSp  Parch      Fare     Cabin  Embarked_1  \\\n",
       "0     1.0  0.0  0.273456  0.125    0.0  0.014151  0.226644         1.0   \n",
       "1     0.0  1.0  0.473882  0.125    0.0  0.139136  0.323450         0.0   \n",
       "2     1.0  1.0  0.323563  0.000    0.0  0.015469  0.226644         1.0   \n",
       "3     0.0  1.0  0.436302  0.125    0.0  0.103644  0.421336         1.0   \n",
       "4     1.0  0.0  0.436302  0.000    0.0  0.015713  0.226644         1.0   \n",
       "\n",
       "   Embarked_2  Embarked_3  \n",
       "0         0.0         0.0  \n",
       "1         1.0         0.0  \n",
       "2         0.0         0.0  \n",
       "3         0.0         0.0  \n",
       "4         0.0         0.0  "
      ]
     },
     "execution_count": 42,
     "metadata": {},
     "output_type": "execute_result"
    }
   ],
   "source": [
    "titanic_min_max_df.head(5)"
   ]
  },
  {
   "cell_type": "code",
   "execution_count": 43,
   "metadata": {},
   "outputs": [
    {
     "data": {
      "text/html": [
       "<div>\n",
       "<style scoped>\n",
       "    .dataframe tbody tr th:only-of-type {\n",
       "        vertical-align: middle;\n",
       "    }\n",
       "\n",
       "    .dataframe tbody tr th {\n",
       "        vertical-align: top;\n",
       "    }\n",
       "\n",
       "    .dataframe thead th {\n",
       "        text-align: right;\n",
       "    }\n",
       "</style>\n",
       "<table border=\"1\" class=\"dataframe\">\n",
       "  <thead>\n",
       "    <tr style=\"text-align: right;\">\n",
       "      <th></th>\n",
       "      <th>Pclass</th>\n",
       "      <th>Sex</th>\n",
       "      <th>Age</th>\n",
       "      <th>SibSp</th>\n",
       "      <th>Parch</th>\n",
       "      <th>Fare</th>\n",
       "      <th>Cabin</th>\n",
       "      <th>Embarked_1</th>\n",
       "      <th>Embarked_2</th>\n",
       "      <th>Embarked_3</th>\n",
       "    </tr>\n",
       "  </thead>\n",
       "  <tbody>\n",
       "    <tr>\n",
       "      <th>0</th>\n",
       "      <td>0.128194</td>\n",
       "      <td>0.000000</td>\n",
       "      <td>0.940092</td>\n",
       "      <td>0.042731</td>\n",
       "      <td>0.0</td>\n",
       "      <td>0.309803</td>\n",
       "      <td>0.012813</td>\n",
       "      <td>0.042731</td>\n",
       "      <td>0.000000</td>\n",
       "      <td>0.0</td>\n",
       "    </tr>\n",
       "    <tr>\n",
       "      <th>1</th>\n",
       "      <td>0.012375</td>\n",
       "      <td>0.012375</td>\n",
       "      <td>0.470268</td>\n",
       "      <td>0.012375</td>\n",
       "      <td>0.0</td>\n",
       "      <td>0.882164</td>\n",
       "      <td>0.004750</td>\n",
       "      <td>0.000000</td>\n",
       "      <td>0.012375</td>\n",
       "      <td>0.0</td>\n",
       "    </tr>\n",
       "    <tr>\n",
       "      <th>2</th>\n",
       "      <td>0.109552</td>\n",
       "      <td>0.036517</td>\n",
       "      <td>0.949452</td>\n",
       "      <td>0.000000</td>\n",
       "      <td>0.0</td>\n",
       "      <td>0.289400</td>\n",
       "      <td>0.010950</td>\n",
       "      <td>0.036517</td>\n",
       "      <td>0.000000</td>\n",
       "      <td>0.0</td>\n",
       "    </tr>\n",
       "    <tr>\n",
       "      <th>3</th>\n",
       "      <td>0.015716</td>\n",
       "      <td>0.015716</td>\n",
       "      <td>0.550051</td>\n",
       "      <td>0.015716</td>\n",
       "      <td>0.0</td>\n",
       "      <td>0.834507</td>\n",
       "      <td>0.007367</td>\n",
       "      <td>0.015716</td>\n",
       "      <td>0.000000</td>\n",
       "      <td>0.0</td>\n",
       "    </tr>\n",
       "    <tr>\n",
       "      <th>4</th>\n",
       "      <td>0.083208</td>\n",
       "      <td>0.000000</td>\n",
       "      <td>0.970766</td>\n",
       "      <td>0.000000</td>\n",
       "      <td>0.0</td>\n",
       "      <td>0.223276</td>\n",
       "      <td>0.008317</td>\n",
       "      <td>0.027736</td>\n",
       "      <td>0.000000</td>\n",
       "      <td>0.0</td>\n",
       "    </tr>\n",
       "  </tbody>\n",
       "</table>\n",
       "</div>"
      ],
      "text/plain": [
       "     Pclass       Sex       Age     SibSp  Parch      Fare     Cabin  \\\n",
       "0  0.128194  0.000000  0.940092  0.042731    0.0  0.309803  0.012813   \n",
       "1  0.012375  0.012375  0.470268  0.012375    0.0  0.882164  0.004750   \n",
       "2  0.109552  0.036517  0.949452  0.000000    0.0  0.289400  0.010950   \n",
       "3  0.015716  0.015716  0.550051  0.015716    0.0  0.834507  0.007367   \n",
       "4  0.083208  0.000000  0.970766  0.000000    0.0  0.223276  0.008317   \n",
       "\n",
       "   Embarked_1  Embarked_2  Embarked_3  \n",
       "0    0.042731    0.000000         0.0  \n",
       "1    0.000000    0.012375         0.0  \n",
       "2    0.036517    0.000000         0.0  \n",
       "3    0.015716    0.000000         0.0  \n",
       "4    0.027736    0.000000         0.0  "
      ]
     },
     "execution_count": 43,
     "metadata": {},
     "output_type": "execute_result"
    }
   ],
   "source": [
    "titanic_normalize_df.head(5)"
   ]
  },
  {
   "cell_type": "code",
   "execution_count": 44,
   "metadata": {},
   "outputs": [
    {
     "data": {
      "text/plain": [
       "<matplotlib.axes._subplots.AxesSubplot at 0x162530350b8>"
      ]
     },
     "execution_count": 44,
     "metadata": {},
     "output_type": "execute_result"
    },
    {
     "data": {
      "image/png": "[encoded data removed]",
      "text/plain": [
       "<Figure size 432x288 with 1 Axes>"
      ]
     },
     "metadata": {},
     "output_type": "display_data"
    }
   ],
   "source": [
    "#注意：z-score,min-max这两种变换都是线性变换，不会改变分布形状\n",
    "titanic_min_max_df['Age'].plot(kind='hist')"
   ]
  },
  {
   "cell_type": "code",
   "execution_count": 45,
   "metadata": {},
   "outputs": [
    {
     "data": {
      "text/plain": [
       "<matplotlib.axes._subplots.AxesSubplot at 0x16253099b38>"
      ]
     },
     "execution_count": 45,
     "metadata": {},
     "output_type": "execute_result"
    },
    {
     "data": {
      "image/png": "[encoded data removed]",
      "text/plain": [
       "<Figure size 432x288 with 1 Axes>"
      ]
     },
     "metadata": {},
     "output_type": "display_data"
    }
   ],
   "source": [
    "titanic_z_score_df['Age'].plot(kind='hist')"
   ]
  },
  {
   "cell_type": "code",
   "execution_count": 46,
   "metadata": {},
   "outputs": [
    {
     "data": {
      "text/plain": [
       "<matplotlib.axes._subplots.AxesSubplot at 0x162530f6390>"
      ]
     },
     "execution_count": 46,
     "metadata": {},
     "output_type": "execute_result"
    },
    {
     "data": {
      "image/png": "[encoded data removed]",
      "text/plain": [
       "<Figure size 432x288 with 1 Axes>"
      ]
     },
     "metadata": {},
     "output_type": "display_data"
    }
   ],
   "source": [
    "#行归一化会改变\n",
    "titanic_normalize_df['Age'].plot(kind='hist')"
   ]
  },
  {
   "cell_type": "code",
   "execution_count": 47,
   "metadata": {},
   "outputs": [
    {
     "data": {
      "text/plain": [
       "<matplotlib.axes._subplots.AxesSubplot at 0x1625317d4e0>"
      ]
     },
     "execution_count": 47,
     "metadata": {},
     "output_type": "execute_result"
    },
    {
     "data": {
      "image/png": "[encoded data removed]",
      "text/plain": [
       "<Figure size 432x288 with 1 Axes>"
      ]
     },
     "metadata": {},
     "output_type": "display_data"
    }
   ],
   "source": [
    "#pdf:标准正态分布的概率密度函数\n",
    "from scipy.stats import norm\n",
    "age_mean=features_df['Age'].mean()\n",
    "age_std=features_df['Age'].std()\n",
    "features_df['Age'].apply(lambda x:norm.pdf((x-age_mean)/age_std)).plot(kind='hist')"
   ]
  },
  {
   "cell_type": "code",
   "execution_count": 48,
   "metadata": {},
   "outputs": [
    {
     "data": {
      "text/plain": [
       "<matplotlib.axes._subplots.AxesSubplot at 0x162531f16a0>"
      ]
     },
     "execution_count": 48,
     "metadata": {},
     "output_type": "execute_result"
    },
    {
     "data": {
      "image/png": "[encoded data removed]",
      "text/plain": [
       "<Figure size 432x288 with 1 Axes>"
      ]
     },
     "metadata": {},
     "output_type": "display_data"
    }
   ],
   "source": [
    "#cdf:分布函数\n",
    "features_df['Age'].apply(lambda x:norm.cdf((x-age_mean)/age_std)).plot(kind='hist')"
   ]
  },
  {
   "cell_type": "code",
   "execution_count": 49,
   "metadata": {},
   "outputs": [
    {
     "data": {
      "text/plain": [
       "<matplotlib.axes._subplots.AxesSubplot at 0x162531e1588>"
      ]
     },
     "execution_count": 49,
     "metadata": {},
     "output_type": "execute_result"
    },
    {
     "data": {
      "image/png": "[encoded data removed]",
      "text/plain": [
       "<Figure size 432x288 with 1 Axes>"
      ]
     },
     "metadata": {},
     "output_type": "display_data"
    }
   ],
   "source": [
    "#log\n",
    "features_df['Age'].apply(lambda x:np.log1p(x)).plot(kind='hist')"
   ]
  },
  {
   "cell_type": "code",
   "execution_count": 50,
   "metadata": {},
   "outputs": [
    {
     "data": {
      "text/plain": [
       "(array([ 51.,  35.,  48., 274., 478., 210., 118.,  55.,  32.,   8.]),\n",
       " array([-0.97171828,  2.70253966,  6.37679759, 10.05105553, 13.72531346,\n",
       "        17.39957139, 21.07382933, 24.74808726, 28.42234519, 32.09660313,\n",
       "        35.77086106]),\n",
       " <a list of 10 Patch objects>)"
      ]
     },
     "execution_count": 50,
     "metadata": {},
     "output_type": "execute_result"
    },
    {
     "data": {
      "image/png": "[encoded data removed]",
      "text/plain": [
       "<Figure size 432x288 with 1 Axes>"
      ]
     },
     "metadata": {},
     "output_type": "display_data"
    }
   ],
   "source": [
    "#boxcox\n",
    "from scipy.stats import boxcox\n",
    "plt.hist(boxcox(features_df['Age'])[0])"
   ]
  },
  {
   "cell_type": "code",
   "execution_count": 51,
   "metadata": {},
   "outputs": [
    {
     "data": {
      "text/plain": [
       "0.7627222156380012"
      ]
     },
     "execution_count": 51,
     "metadata": {},
     "output_type": "execute_result"
    }
   ],
   "source": [
    "#最佳lambda\n",
    "boxcox(features_df['Age'])[1]"
   ]
  },
  {
   "cell_type": "markdown",
   "metadata": {},
   "source": [
    "### 三.选择基准模型\n",
    "（1）**目标**：本数据集是预测乘客是否存活，所以可以看做是分类任务；  \n",
    "（2）**量化目标**：选择合适的评估指标，这里我们可以选择f1；  \n",
    "（3）从分类模型中选择一个较优的模型作为基准模型，这是一个比较繁琐的工作；  "
   ]
  },
  {
   "cell_type": "code",
   "execution_count": 52,
   "metadata": {},
   "outputs": [
    {
     "data": {
      "text/plain": [
       "0.7862068965517242"
      ]
     },
     "execution_count": 52,
     "metadata": {},
     "output_type": "execute_result"
    }
   ],
   "source": [
    "data_x=StandardScaler().fit_transform(features_df[:891])\n",
    "#切分训练集测试集\n",
    "X_train,X_test, y_train, y_test =train_test_split(data_x,labels,test_size=0.2, random_state=42)\n",
    "#训练模型\n",
    "classifier=LogisticRegression()\n",
    "classifier.fit(X_train,y_train)\n",
    "#预测数据\n",
    "y_predict=classifier.predict(X_test)\n",
    "#查看检测指标\n",
    "f1_score=metrics.f1_score(y_test,y_predict)\n",
    "f1_score"
   ]
  },
  {
   "cell_type": "code",
   "execution_count": 53,
   "metadata": {},
   "outputs": [
    {
     "data": {
      "text/plain": [
       "(0.759262777574798, 0.016196297194678546)"
      ]
     },
     "execution_count": 53,
     "metadata": {},
     "output_type": "execute_result"
    }
   ],
   "source": [
    "#为了结果更加客观，可以做k-fold交叉验证，但会更耗时\n",
    "\n",
    "classifier=LogisticRegression()\n",
    "scores = cross_val_score(classifier, data_x, labels, scoring='f1', cv = 5)#注意：f1只是看正样本的f1,如果要看整体的用f1_macro,但这一般会使得f1偏高\n",
    "#查看均值与标准差,均值反映模型的预测能力，标准差可以反映模型的稳定性\n",
    "np.mean(scores),np.std(scores)"
   ]
  },
  {
   "cell_type": "code",
   "execution_count": 54,
   "metadata": {},
   "outputs": [
    {
     "data": {
      "text/plain": [
       "(0.7724798337990278, 0.052794300926641495)"
      ]
     },
     "execution_count": 54,
     "metadata": {},
     "output_type": "execute_result"
    }
   ],
   "source": [
    "#我们再看看另一种分类器\n",
    "classifier=GradientBoostingClassifier()\n",
    "scores = cross_val_score(classifier, features_df[:891], labels, scoring='f1', cv = 5)\n",
    "np.mean(scores),np.std(scores)"
   ]
  },
  {
   "cell_type": "markdown",
   "metadata": {},
   "source": [
    "#### 定位模型能力：方差与偏差\n",
    "可以参考下面图为我们的模型做定位：  \n",
    "![avatar](./source/方差与偏差.png)\n",
    "来源:https://blog.csdn.net/hertzcat/article/details/80035330"
   ]
  },
  {
   "cell_type": "markdown",
   "metadata": {},
   "source": [
    "#### 检查过/欠拟合情况\n",
    "过/欠拟合可以通过模型在训练集/验证集/测试集上的表现来评估，  \n",
    "（1）训练集/验证集/测试集效果都比较差，可以看作是欠拟合(除非训练数据真的是太差了)，这时可以增加模型的复杂度试一试；  \n",
    "（2）训练集的表现好，而验证集/测试集的表现差，一般就是过拟合（这也是经常会遇到的问题），可以下面的一些方式常识：  \n",
    "    2.1）降低模型复杂度：1.换更简单的模型，2.正则化技术  \n",
    "    2.2）增强训练数据  "
   ]
  },
  {
   "cell_type": "code",
   "execution_count": 55,
   "metadata": {},
   "outputs": [
    {
     "name": "stdout",
     "output_type": "stream",
     "text": [
      "train: 0.7630057803468208 \t test: 0.7862068965517242\n"
     ]
    }
   ],
   "source": [
    "#查看lr的训练集，测试集的情况\n",
    "classifier=LogisticRegression()\n",
    "classifier.fit(X_train,y_train)\n",
    "y_test_predict=classifier.predict(X_test)\n",
    "test_f1_score=metrics.f1_score(y_test,y_test_predict)\n",
    "\n",
    "y_train_predict=classifier.predict(X_train)\n",
    "train_f1_score=metrics.f1_score(y_train,y_train_predict)\n",
    "print('train:',train_f1_score,'\\t test:',test_f1_score)"
   ]
  },
  {
   "cell_type": "code",
   "execution_count": 56,
   "metadata": {},
   "outputs": [
    {
     "name": "stdout",
     "output_type": "stream",
     "text": [
      "train: 0.8641975308641976 \t test: 0.7826086956521738\n"
     ]
    }
   ],
   "source": [
    "#查看gbdt的训练集，测试集的情况\n",
    "classifier=GradientBoostingClassifier()\n",
    "classifier.fit(X_train,y_train)\n",
    "y_test_predict=classifier.predict(X_test)\n",
    "test_f1_score=metrics.f1_score(y_test,y_test_predict)\n",
    "\n",
    "y_train_predict=classifier.predict(X_train)\n",
    "train_f1_score=metrics.f1_score(y_train,y_train_predict)\n",
    "print('train:',train_f1_score,'\\t test:',test_f1_score)"
   ]
  },
  {
   "cell_type": "markdown",
   "metadata": {},
   "source": [
    "可以发现gbdt有点过拟合了，lr很稳定，然后我们可以看出模型过拟合/欠拟合与模型方差/偏差的一些关系：  \n",
    "（1）欠拟合模型往往偏差大（这里对应f1指标较小）  \n",
    "（2）过拟合模型往往方差较大（这里对应f1的标准差较大）  \n",
    "接下来可以通过降低gbdt中cart树数量的方式来降低模型复杂度：  "
   ]
  },
  {
   "cell_type": "code",
   "execution_count": 57,
   "metadata": {},
   "outputs": [
    {
     "data": {
      "text/plain": [
       "(0.7770062297307175, 0.04740066888740136)"
      ]
     },
     "execution_count": 57,
     "metadata": {},
     "output_type": "execute_result"
    }
   ],
   "source": [
    "classifier=GradientBoostingClassifier(n_estimators=80)#默认是100\n",
    "scores = cross_val_score(classifier, data_x, labels, scoring='f1', cv = 5)\n",
    "np.mean(scores),np.std(scores)"
   ]
  },
  {
   "cell_type": "code",
   "execution_count": 58,
   "metadata": {},
   "outputs": [
    {
     "name": "stdout",
     "output_type": "stream",
     "text": [
      "train: 0.8588957055214724 \t test: 0.7769784172661871\n"
     ]
    }
   ],
   "source": [
    "classifier=GradientBoostingClassifier(n_estimators=80)\n",
    "classifier.fit(X_train,y_train)\n",
    "y_test_predict=classifier.predict(X_test)\n",
    "test_f1_score=metrics.f1_score(y_test,y_test_predict)\n",
    "\n",
    "y_train_predict=classifier.predict(X_train)\n",
    "train_f1_score=metrics.f1_score(y_train,y_train_predict)\n",
    "print('train:',train_f1_score,'\\t test:',test_f1_score)"
   ]
  },
  {
   "cell_type": "markdown",
   "metadata": {},
   "source": [
    "### 四.优化\n",
    "对于建模的优化，可以自然的从三方面来考虑：  \n",
    "（1）特征优化：异常处理、扩展特征，特征选择，特征转换...  \n",
    "（2）数据增强：过采样、根据数据特性造新数据、半监督学习...  \n",
    "（3）模型优化：超参优化、模型集成..."
   ]
  },
  {
   "cell_type": "markdown",
   "metadata": {},
   "source": [
    "#### 4.1.1 异常处理：盖帽\n",
    "盖帽操作可以在一定程度上去掉一些异常点，从而提高模型的泛化能力"
   ]
  },
  {
   "cell_type": "code",
   "execution_count": 59,
   "metadata": {},
   "outputs": [],
   "source": [
    "#将数值低于5%分位数的设置为5%分位数值，高于95%分位数的设置为95%分位数值\n",
    "low_thresh=5\n",
    "high_thresh=95\n",
    "cap_dict={}\n",
    "for column in features_df.columns:\n",
    "    low_value=np.percentile(features_df[:891][column],low_thresh)\n",
    "    high_value=np.percentile(features_df[:891][column],high_thresh)\n",
    "    if low_value==high_value:#这里相当于不进行盖帽\n",
    "        low_value=np.min(features_df[:891][column])\n",
    "        high_value=np.max(features_df[:891][column])\n",
    "    cap_dict[column]=[low_value,high_value]\n",
    "#更新\n",
    "def cap_update(column,x):\n",
    "    if x>cap_dict[column][1]:\n",
    "        return cap_dict[column][1]\n",
    "    elif x<cap_dict[column][0]:\n",
    "        return cap_dict[column][0]\n",
    "    else:\n",
    "        return x\n",
    "for column in features_df.columns:\n",
    "    features_df[column]=features_df[column].apply(lambda x:cap_update(column,x))"
   ]
  },
  {
   "cell_type": "code",
   "execution_count": 60,
   "metadata": {},
   "outputs": [
    {
     "data": {
      "text/plain": [
       "(0.7819874859401702, 0.036249676894704055)"
      ]
     },
     "execution_count": 60,
     "metadata": {},
     "output_type": "execute_result"
    }
   ],
   "source": [
    "#检查效果\n",
    "classifier=GradientBoostingClassifier()\n",
    "scores = cross_val_score(classifier, features_df[:891], labels, scoring='f1', cv = 5)\n",
    "np.mean(scores),np.std(scores)"
   ]
  },
  {
   "cell_type": "markdown",
   "metadata": {},
   "source": [
    "可以发现盖帽处理直接将结果提升了差不多1%，而且模型的方差降低了不少，可以起到不错的泛化作用"
   ]
  },
  {
   "cell_type": "markdown",
   "metadata": {},
   "source": [
    "#### 4.1.2 特征扩展：推理\n",
    "凭借自己对数据的理解构建有意义的特征，比如：  \n",
    "通过Cabin关联乘客的同行者的信息，根据前面的性别-存活率的热图，我们扩展这样的特征：是否有其他小孩(Age<=10), 是否有其他女性，是否有其他老人(age>=70),是否有其他青年男性（20<=Age<=50），以及当前cabin的人数"
   ]
  },
  {
   "cell_type": "code",
   "execution_count": 61,
   "metadata": {},
   "outputs": [],
   "source": [
    "extend_df=origin_features_df[['PassengerId','Age','Sex','Name','Cabin']]\n",
    "extend_df=extend_df[~extend_df['Cabin'].isnull()]"
   ]
  },
  {
   "cell_type": "code",
   "execution_count": 62,
   "metadata": {},
   "outputs": [],
   "source": [
    "extend_df2=extend_df[['Age','Name','Sex','Cabin']]\n",
    "extend_df2.columns=['Age2','Name2','Sex2','Cabin']"
   ]
  },
  {
   "cell_type": "code",
   "execution_count": 63,
   "metadata": {},
   "outputs": [],
   "source": [
    "merge_df=pd.merge(extend_df,extend_df2,on='Cabin',how='left')"
   ]
  },
  {
   "cell_type": "code",
   "execution_count": 64,
   "metadata": {},
   "outputs": [],
   "source": [
    "def check_has_other_child(name1,name2,age2):\n",
    "    if name1==name2:\n",
    "        return 0\n",
    "    else:\n",
    "        if age2<=10:\n",
    "            return 1\n",
    "        else:\n",
    "            return 0\n",
    "merge_df['Has_other_child']=merge_df.apply(lambda row:check_has_other_child(row['Name'],row['Name2'],row['Age2']),axis=1)"
   ]
  },
  {
   "cell_type": "code",
   "execution_count": 65,
   "metadata": {},
   "outputs": [],
   "source": [
    "def check_has_other_female(name1,name2,sex2):\n",
    "    if name1==name2:\n",
    "        return 0\n",
    "    else:\n",
    "        if sex2=='female':\n",
    "            return 1\n",
    "        else:\n",
    "            return 0\n",
    "merge_df['Has_other_female']=merge_df.apply(lambda row:check_has_other_female(row['Name'],row['Name2'],row['Sex2']),axis=1)"
   ]
  },
  {
   "cell_type": "code",
   "execution_count": 66,
   "metadata": {},
   "outputs": [],
   "source": [
    "def check_has_other_old(name1,name2,age2):\n",
    "    if name1==name2:\n",
    "        return 0\n",
    "    else:\n",
    "        if age2>=70:\n",
    "            return 1\n",
    "        else:\n",
    "            return 0\n",
    "merge_df['Has_other_old']=merge_df.apply(lambda row:check_has_other_old(row['Name'],row['Name2'],row['Age2']),axis=1)"
   ]
  },
  {
   "cell_type": "code",
   "execution_count": 67,
   "metadata": {},
   "outputs": [],
   "source": [
    "def check_has_young_male(name1,name2,sex2,age2):\n",
    "    if name1==name2:\n",
    "        return 0\n",
    "    else:\n",
    "        if sex2=='male' and age2>=20 and age2<=50:\n",
    "            return 1\n",
    "        else:\n",
    "            return 0\n",
    "merge_df['Has_other_young_male']=merge_df.apply(lambda row:check_has_young_male(row['Name'],row['Name2'],row['Sex2'],row['Age2']),axis=1)"
   ]
  },
  {
   "cell_type": "code",
   "execution_count": 68,
   "metadata": {},
   "outputs": [],
   "source": [
    "merge_df=merge_df[['PassengerId','Has_other_child','Has_other_female','Has_other_old','Has_other_young_male']]"
   ]
  },
  {
   "cell_type": "code",
   "execution_count": 69,
   "metadata": {},
   "outputs": [],
   "source": [
    "#去重\n",
    "gp_df=merge_df.groupby(by=['PassengerId']).agg({'Has_other_child':'max','Has_other_female':'max','Has_other_old':'max','Has_other_young_male':'max'}).reset_index()"
   ]
  },
  {
   "cell_type": "code",
   "execution_count": 70,
   "metadata": {},
   "outputs": [
    {
     "data": {
      "text/html": [
       "<div>\n",
       "<style scoped>\n",
       "    .dataframe tbody tr th:only-of-type {\n",
       "        vertical-align: middle;\n",
       "    }\n",
       "\n",
       "    .dataframe tbody tr th {\n",
       "        vertical-align: top;\n",
       "    }\n",
       "\n",
       "    .dataframe thead th {\n",
       "        text-align: right;\n",
       "    }\n",
       "</style>\n",
       "<table border=\"1\" class=\"dataframe\">\n",
       "  <thead>\n",
       "    <tr style=\"text-align: right;\">\n",
       "      <th></th>\n",
       "      <th>PassengerId</th>\n",
       "      <th>Has_other_child</th>\n",
       "      <th>Has_other_female</th>\n",
       "      <th>Has_other_old</th>\n",
       "      <th>Has_other_young_male</th>\n",
       "    </tr>\n",
       "  </thead>\n",
       "  <tbody>\n",
       "    <tr>\n",
       "      <th>0</th>\n",
       "      <td>2</td>\n",
       "      <td>0</td>\n",
       "      <td>0</td>\n",
       "      <td>0</td>\n",
       "      <td>1</td>\n",
       "    </tr>\n",
       "    <tr>\n",
       "      <th>1</th>\n",
       "      <td>4</td>\n",
       "      <td>0</td>\n",
       "      <td>0</td>\n",
       "      <td>0</td>\n",
       "      <td>1</td>\n",
       "    </tr>\n",
       "    <tr>\n",
       "      <th>2</th>\n",
       "      <td>7</td>\n",
       "      <td>0</td>\n",
       "      <td>0</td>\n",
       "      <td>0</td>\n",
       "      <td>0</td>\n",
       "    </tr>\n",
       "    <tr>\n",
       "      <th>3</th>\n",
       "      <td>11</td>\n",
       "      <td>1</td>\n",
       "      <td>1</td>\n",
       "      <td>0</td>\n",
       "      <td>0</td>\n",
       "    </tr>\n",
       "    <tr>\n",
       "      <th>4</th>\n",
       "      <td>12</td>\n",
       "      <td>0</td>\n",
       "      <td>0</td>\n",
       "      <td>0</td>\n",
       "      <td>0</td>\n",
       "    </tr>\n",
       "  </tbody>\n",
       "</table>\n",
       "</div>"
      ],
      "text/plain": [
       "   PassengerId  Has_other_child  Has_other_female  Has_other_old  \\\n",
       "0            2                0                 0              0   \n",
       "1            4                0                 0              0   \n",
       "2            7                0                 0              0   \n",
       "3           11                1                 1              0   \n",
       "4           12                0                 0              0   \n",
       "\n",
       "   Has_other_young_male  \n",
       "0                     1  \n",
       "1                     1  \n",
       "2                     0  \n",
       "3                     0  \n",
       "4                     0  "
      ]
     },
     "execution_count": 70,
     "metadata": {},
     "output_type": "execute_result"
    }
   ],
   "source": [
    "gp_df.head(5)"
   ]
  },
  {
   "cell_type": "code",
   "execution_count": 71,
   "metadata": {},
   "outputs": [],
   "source": [
    "extend_df=pd.merge(origin_features_df[['PassengerId']],gp_df,on='PassengerId',how='left')\n",
    "extend_df.fillna(0,inplace=True)"
   ]
  },
  {
   "cell_type": "code",
   "execution_count": 72,
   "metadata": {},
   "outputs": [
    {
     "data": {
      "text/html": [
       "<div>\n",
       "<style scoped>\n",
       "    .dataframe tbody tr th:only-of-type {\n",
       "        vertical-align: middle;\n",
       "    }\n",
       "\n",
       "    .dataframe tbody tr th {\n",
       "        vertical-align: top;\n",
       "    }\n",
       "\n",
       "    .dataframe thead th {\n",
       "        text-align: right;\n",
       "    }\n",
       "</style>\n",
       "<table border=\"1\" class=\"dataframe\">\n",
       "  <thead>\n",
       "    <tr style=\"text-align: right;\">\n",
       "      <th></th>\n",
       "      <th>PassengerId</th>\n",
       "      <th>Has_other_child</th>\n",
       "      <th>Has_other_female</th>\n",
       "      <th>Has_other_old</th>\n",
       "      <th>Has_other_young_male</th>\n",
       "    </tr>\n",
       "  </thead>\n",
       "  <tbody>\n",
       "    <tr>\n",
       "      <th>0</th>\n",
       "      <td>1</td>\n",
       "      <td>0.0</td>\n",
       "      <td>0.0</td>\n",
       "      <td>0.0</td>\n",
       "      <td>0.0</td>\n",
       "    </tr>\n",
       "    <tr>\n",
       "      <th>1</th>\n",
       "      <td>2</td>\n",
       "      <td>0.0</td>\n",
       "      <td>0.0</td>\n",
       "      <td>0.0</td>\n",
       "      <td>1.0</td>\n",
       "    </tr>\n",
       "    <tr>\n",
       "      <th>2</th>\n",
       "      <td>3</td>\n",
       "      <td>0.0</td>\n",
       "      <td>0.0</td>\n",
       "      <td>0.0</td>\n",
       "      <td>0.0</td>\n",
       "    </tr>\n",
       "    <tr>\n",
       "      <th>3</th>\n",
       "      <td>4</td>\n",
       "      <td>0.0</td>\n",
       "      <td>0.0</td>\n",
       "      <td>0.0</td>\n",
       "      <td>1.0</td>\n",
       "    </tr>\n",
       "    <tr>\n",
       "      <th>4</th>\n",
       "      <td>5</td>\n",
       "      <td>0.0</td>\n",
       "      <td>0.0</td>\n",
       "      <td>0.0</td>\n",
       "      <td>0.0</td>\n",
       "    </tr>\n",
       "  </tbody>\n",
       "</table>\n",
       "</div>"
      ],
      "text/plain": [
       "   PassengerId  Has_other_child  Has_other_female  Has_other_old  \\\n",
       "0            1              0.0               0.0            0.0   \n",
       "1            2              0.0               0.0            0.0   \n",
       "2            3              0.0               0.0            0.0   \n",
       "3            4              0.0               0.0            0.0   \n",
       "4            5              0.0               0.0            0.0   \n",
       "\n",
       "   Has_other_young_male  \n",
       "0                   0.0  \n",
       "1                   1.0  \n",
       "2                   0.0  \n",
       "3                   1.0  \n",
       "4                   0.0  "
      ]
     },
     "execution_count": 72,
     "metadata": {},
     "output_type": "execute_result"
    }
   ],
   "source": [
    "extend_df.head(5)"
   ]
  },
  {
   "cell_type": "code",
   "execution_count": 73,
   "metadata": {},
   "outputs": [],
   "source": [
    "del extend_df['PassengerId']\n",
    "features_df=pd.concat([features_df,extend_df],axis=1)"
   ]
  },
  {
   "cell_type": "code",
   "execution_count": 74,
   "metadata": {},
   "outputs": [
    {
     "data": {
      "text/html": [
       "<div>\n",
       "<style scoped>\n",
       "    .dataframe tbody tr th:only-of-type {\n",
       "        vertical-align: middle;\n",
       "    }\n",
       "\n",
       "    .dataframe tbody tr th {\n",
       "        vertical-align: top;\n",
       "    }\n",
       "\n",
       "    .dataframe thead th {\n",
       "        text-align: right;\n",
       "    }\n",
       "</style>\n",
       "<table border=\"1\" class=\"dataframe\">\n",
       "  <thead>\n",
       "    <tr style=\"text-align: right;\">\n",
       "      <th></th>\n",
       "      <th>Pclass</th>\n",
       "      <th>Sex</th>\n",
       "      <th>Age</th>\n",
       "      <th>SibSp</th>\n",
       "      <th>Parch</th>\n",
       "      <th>Fare</th>\n",
       "      <th>Cabin</th>\n",
       "      <th>Embarked_1</th>\n",
       "      <th>Embarked_2</th>\n",
       "      <th>Embarked_3</th>\n",
       "      <th>Has_other_child</th>\n",
       "      <th>Has_other_female</th>\n",
       "      <th>Has_other_old</th>\n",
       "      <th>Has_other_young_male</th>\n",
       "    </tr>\n",
       "  </thead>\n",
       "  <tbody>\n",
       "    <tr>\n",
       "      <th>0</th>\n",
       "      <td>3</td>\n",
       "      <td>0</td>\n",
       "      <td>22.0</td>\n",
       "      <td>1.0</td>\n",
       "      <td>0.0</td>\n",
       "      <td>7.2500</td>\n",
       "      <td>0.299854</td>\n",
       "      <td>1</td>\n",
       "      <td>0</td>\n",
       "      <td>0</td>\n",
       "      <td>0.0</td>\n",
       "      <td>0.0</td>\n",
       "      <td>0.0</td>\n",
       "      <td>0.0</td>\n",
       "    </tr>\n",
       "    <tr>\n",
       "      <th>1</th>\n",
       "      <td>1</td>\n",
       "      <td>1</td>\n",
       "      <td>38.0</td>\n",
       "      <td>1.0</td>\n",
       "      <td>0.0</td>\n",
       "      <td>71.2833</td>\n",
       "      <td>0.383838</td>\n",
       "      <td>0</td>\n",
       "      <td>1</td>\n",
       "      <td>0</td>\n",
       "      <td>0.0</td>\n",
       "      <td>0.0</td>\n",
       "      <td>0.0</td>\n",
       "      <td>1.0</td>\n",
       "    </tr>\n",
       "    <tr>\n",
       "      <th>2</th>\n",
       "      <td>3</td>\n",
       "      <td>1</td>\n",
       "      <td>26.0</td>\n",
       "      <td>0.0</td>\n",
       "      <td>0.0</td>\n",
       "      <td>7.9250</td>\n",
       "      <td>0.299854</td>\n",
       "      <td>1</td>\n",
       "      <td>0</td>\n",
       "      <td>0</td>\n",
       "      <td>0.0</td>\n",
       "      <td>0.0</td>\n",
       "      <td>0.0</td>\n",
       "      <td>0.0</td>\n",
       "    </tr>\n",
       "    <tr>\n",
       "      <th>3</th>\n",
       "      <td>1</td>\n",
       "      <td>1</td>\n",
       "      <td>35.0</td>\n",
       "      <td>1.0</td>\n",
       "      <td>0.0</td>\n",
       "      <td>53.1000</td>\n",
       "      <td>0.468759</td>\n",
       "      <td>1</td>\n",
       "      <td>0</td>\n",
       "      <td>0</td>\n",
       "      <td>0.0</td>\n",
       "      <td>0.0</td>\n",
       "      <td>0.0</td>\n",
       "      <td>1.0</td>\n",
       "    </tr>\n",
       "    <tr>\n",
       "      <th>4</th>\n",
       "      <td>3</td>\n",
       "      <td>0</td>\n",
       "      <td>35.0</td>\n",
       "      <td>0.0</td>\n",
       "      <td>0.0</td>\n",
       "      <td>8.0500</td>\n",
       "      <td>0.299854</td>\n",
       "      <td>1</td>\n",
       "      <td>0</td>\n",
       "      <td>0</td>\n",
       "      <td>0.0</td>\n",
       "      <td>0.0</td>\n",
       "      <td>0.0</td>\n",
       "      <td>0.0</td>\n",
       "    </tr>\n",
       "  </tbody>\n",
       "</table>\n",
       "</div>"
      ],
      "text/plain": [
       "   Pclass  Sex   Age  SibSp  Parch     Fare     Cabin  Embarked_1  Embarked_2  \\\n",
       "0       3    0  22.0    1.0    0.0   7.2500  0.299854           1           0   \n",
       "1       1    1  38.0    1.0    0.0  71.2833  0.383838           0           1   \n",
       "2       3    1  26.0    0.0    0.0   7.9250  0.299854           1           0   \n",
       "3       1    1  35.0    1.0    0.0  53.1000  0.468759           1           0   \n",
       "4       3    0  35.0    0.0    0.0   8.0500  0.299854           1           0   \n",
       "\n",
       "   Embarked_3  Has_other_child  Has_other_female  Has_other_old  \\\n",
       "0           0              0.0               0.0            0.0   \n",
       "1           0              0.0               0.0            0.0   \n",
       "2           0              0.0               0.0            0.0   \n",
       "3           0              0.0               0.0            0.0   \n",
       "4           0              0.0               0.0            0.0   \n",
       "\n",
       "   Has_other_young_male  \n",
       "0                   0.0  \n",
       "1                   1.0  \n",
       "2                   0.0  \n",
       "3                   1.0  \n",
       "4                   0.0  "
      ]
     },
     "execution_count": 74,
     "metadata": {},
     "output_type": "execute_result"
    }
   ],
   "source": [
    "features_df.head(5)"
   ]
  },
  {
   "cell_type": "code",
   "execution_count": 75,
   "metadata": {},
   "outputs": [
    {
     "data": {
      "text/plain": [
       "(0.7793257119630568, 0.04107771702611043)"
      ]
     },
     "execution_count": 75,
     "metadata": {},
     "output_type": "execute_result"
    }
   ],
   "source": [
    "#检查效果\n",
    "classifier=GradientBoostingClassifier()\n",
    "scores = cross_val_score(classifier, features_df[:891], labels, scoring='f1', cv = 5)\n",
    "np.mean(scores),np.std(scores)"
   ]
  },
  {
   "cell_type": "markdown",
   "metadata": {},
   "source": [
    "#### 4.1.2 特征扩展：推理\n",
    "之前我们删掉了Name，其实Name中的姓可以反应一些特征，比如Mrs可以放映出该乘客已经结婚，Miss表示未婚小姐姐，我们将其提取出来，另外SibSp表示乘客兄弟姐妹/配偶的个数，而Parch表示乘客父母/孩子的个数，可以简单相加表示他们的家庭成员多少，越多的存活率可能越高...  \n",
    "\n",
    "更多:https://www.kaggle.com/gunesevitan/advanced-feature-engineering-tutorial-with-titanic"
   ]
  },
  {
   "cell_type": "code",
   "execution_count": 76,
   "metadata": {},
   "outputs": [],
   "source": [
    "features_df['family_size']=features_df['SibSp']+features_df['Parch']+1"
   ]
  },
  {
   "cell_type": "code",
   "execution_count": 77,
   "metadata": {},
   "outputs": [
    {
     "data": {
      "text/plain": [
       "<matplotlib.axes._subplots.AxesSubplot at 0x16253375160>"
      ]
     },
     "execution_count": 77,
     "metadata": {},
     "output_type": "execute_result"
    },
    {
     "data": {
      "image/png": "[encoded data removed]",
      "text/plain": [
       "<Figure size 432x288 with 1 Axes>"
      ]
     },
     "metadata": {},
     "output_type": "display_data"
    }
   ],
   "source": [
    "#统计存活率分布\n",
    "show_df=features_df[:891]\n",
    "show_df['Survived']=labels\n",
    "show_df.groupby('family_size')['Survived'].mean().plot(kind='bar')"
   ]
  },
  {
   "cell_type": "code",
   "execution_count": 78,
   "metadata": {},
   "outputs": [
    {
     "data": {
      "text/plain": [
       "<matplotlib.axes._subplots.AxesSubplot at 0x162533e6390>"
      ]
     },
     "execution_count": 78,
     "metadata": {},
     "output_type": "execute_result"
    },
    {
     "data": {
      "image/png": "[encoded data removed]",
      "text/plain": [
       "<Figure size 432x288 with 1 Axes>"
      ]
     },
     "metadata": {},
     "output_type": "display_data"
    }
   ],
   "source": [
    "show_df.groupby('family_size')['Survived'].count().plot(kind='bar')"
   ]
  },
  {
   "cell_type": "code",
   "execution_count": 79,
   "metadata": {},
   "outputs": [
    {
     "data": {
      "text/plain": [
       " Mr              757\n",
       " Miss            260\n",
       " Mrs             197\n",
       " Master           61\n",
       " Rev               8\n",
       " Dr                8\n",
       " Col               4\n",
       " Major             2\n",
       " Ms                2\n",
       " Mlle              2\n",
       " the Countess      1\n",
       " Dona              1\n",
       " Don               1\n",
       " Jonkheer          1\n",
       " Sir               1\n",
       " Capt              1\n",
       " Mme               1\n",
       " Lady              1\n",
       "Name: Name, dtype: int64"
      ]
     },
     "execution_count": 79,
     "metadata": {},
     "output_type": "execute_result"
    }
   ],
   "source": [
    "#提取姓名中的title\n",
    "origin_features_df['Name'].apply(lambda name:name.split(',')[1].split('.')[0]).value_counts()"
   ]
  },
  {
   "cell_type": "code",
   "execution_count": 80,
   "metadata": {},
   "outputs": [],
   "source": [
    "titles=['Mr','Miss','Mrs','Master']\n",
    "def extract_title(name):\n",
    "    for title in titles:\n",
    "        if title in name:\n",
    "            return title\n",
    "    return 'Other'\n",
    "features_df['name_title']=origin_features_df['Name'].apply(extract_title)"
   ]
  },
  {
   "cell_type": "code",
   "execution_count": 81,
   "metadata": {},
   "outputs": [],
   "source": [
    "features_df=pd.get_dummies(features_df,columns=['name_title'])"
   ]
  },
  {
   "cell_type": "code",
   "execution_count": 82,
   "metadata": {},
   "outputs": [
    {
     "data": {
      "text/html": [
       "<div>\n",
       "<style scoped>\n",
       "    .dataframe tbody tr th:only-of-type {\n",
       "        vertical-align: middle;\n",
       "    }\n",
       "\n",
       "    .dataframe tbody tr th {\n",
       "        vertical-align: top;\n",
       "    }\n",
       "\n",
       "    .dataframe thead th {\n",
       "        text-align: right;\n",
       "    }\n",
       "</style>\n",
       "<table border=\"1\" class=\"dataframe\">\n",
       "  <thead>\n",
       "    <tr style=\"text-align: right;\">\n",
       "      <th></th>\n",
       "      <th>Pclass</th>\n",
       "      <th>Sex</th>\n",
       "      <th>Age</th>\n",
       "      <th>SibSp</th>\n",
       "      <th>Parch</th>\n",
       "      <th>Fare</th>\n",
       "      <th>Cabin</th>\n",
       "      <th>Embarked_1</th>\n",
       "      <th>Embarked_2</th>\n",
       "      <th>Embarked_3</th>\n",
       "      <th>Has_other_child</th>\n",
       "      <th>Has_other_female</th>\n",
       "      <th>Has_other_old</th>\n",
       "      <th>Has_other_young_male</th>\n",
       "      <th>family_size</th>\n",
       "      <th>name_title_Master</th>\n",
       "      <th>name_title_Miss</th>\n",
       "      <th>name_title_Mr</th>\n",
       "      <th>name_title_Other</th>\n",
       "    </tr>\n",
       "  </thead>\n",
       "  <tbody>\n",
       "    <tr>\n",
       "      <th>0</th>\n",
       "      <td>3</td>\n",
       "      <td>0</td>\n",
       "      <td>22.0</td>\n",
       "      <td>1.0</td>\n",
       "      <td>0.0</td>\n",
       "      <td>7.2500</td>\n",
       "      <td>0.299854</td>\n",
       "      <td>1</td>\n",
       "      <td>0</td>\n",
       "      <td>0</td>\n",
       "      <td>0.0</td>\n",
       "      <td>0.0</td>\n",
       "      <td>0.0</td>\n",
       "      <td>0.0</td>\n",
       "      <td>2.0</td>\n",
       "      <td>0</td>\n",
       "      <td>0</td>\n",
       "      <td>1</td>\n",
       "      <td>0</td>\n",
       "    </tr>\n",
       "    <tr>\n",
       "      <th>1</th>\n",
       "      <td>1</td>\n",
       "      <td>1</td>\n",
       "      <td>38.0</td>\n",
       "      <td>1.0</td>\n",
       "      <td>0.0</td>\n",
       "      <td>71.2833</td>\n",
       "      <td>0.383838</td>\n",
       "      <td>0</td>\n",
       "      <td>1</td>\n",
       "      <td>0</td>\n",
       "      <td>0.0</td>\n",
       "      <td>0.0</td>\n",
       "      <td>0.0</td>\n",
       "      <td>1.0</td>\n",
       "      <td>2.0</td>\n",
       "      <td>0</td>\n",
       "      <td>0</td>\n",
       "      <td>1</td>\n",
       "      <td>0</td>\n",
       "    </tr>\n",
       "    <tr>\n",
       "      <th>2</th>\n",
       "      <td>3</td>\n",
       "      <td>1</td>\n",
       "      <td>26.0</td>\n",
       "      <td>0.0</td>\n",
       "      <td>0.0</td>\n",
       "      <td>7.9250</td>\n",
       "      <td>0.299854</td>\n",
       "      <td>1</td>\n",
       "      <td>0</td>\n",
       "      <td>0</td>\n",
       "      <td>0.0</td>\n",
       "      <td>0.0</td>\n",
       "      <td>0.0</td>\n",
       "      <td>0.0</td>\n",
       "      <td>1.0</td>\n",
       "      <td>0</td>\n",
       "      <td>1</td>\n",
       "      <td>0</td>\n",
       "      <td>0</td>\n",
       "    </tr>\n",
       "    <tr>\n",
       "      <th>3</th>\n",
       "      <td>1</td>\n",
       "      <td>1</td>\n",
       "      <td>35.0</td>\n",
       "      <td>1.0</td>\n",
       "      <td>0.0</td>\n",
       "      <td>53.1000</td>\n",
       "      <td>0.468759</td>\n",
       "      <td>1</td>\n",
       "      <td>0</td>\n",
       "      <td>0</td>\n",
       "      <td>0.0</td>\n",
       "      <td>0.0</td>\n",
       "      <td>0.0</td>\n",
       "      <td>1.0</td>\n",
       "      <td>2.0</td>\n",
       "      <td>0</td>\n",
       "      <td>0</td>\n",
       "      <td>1</td>\n",
       "      <td>0</td>\n",
       "    </tr>\n",
       "    <tr>\n",
       "      <th>4</th>\n",
       "      <td>3</td>\n",
       "      <td>0</td>\n",
       "      <td>35.0</td>\n",
       "      <td>0.0</td>\n",
       "      <td>0.0</td>\n",
       "      <td>8.0500</td>\n",
       "      <td>0.299854</td>\n",
       "      <td>1</td>\n",
       "      <td>0</td>\n",
       "      <td>0</td>\n",
       "      <td>0.0</td>\n",
       "      <td>0.0</td>\n",
       "      <td>0.0</td>\n",
       "      <td>0.0</td>\n",
       "      <td>1.0</td>\n",
       "      <td>0</td>\n",
       "      <td>0</td>\n",
       "      <td>1</td>\n",
       "      <td>0</td>\n",
       "    </tr>\n",
       "  </tbody>\n",
       "</table>\n",
       "</div>"
      ],
      "text/plain": [
       "   Pclass  Sex   Age  SibSp  Parch     Fare     Cabin  Embarked_1  Embarked_2  \\\n",
       "0       3    0  22.0    1.0    0.0   7.2500  0.299854           1           0   \n",
       "1       1    1  38.0    1.0    0.0  71.2833  0.383838           0           1   \n",
       "2       3    1  26.0    0.0    0.0   7.9250  0.299854           1           0   \n",
       "3       1    1  35.0    1.0    0.0  53.1000  0.468759           1           0   \n",
       "4       3    0  35.0    0.0    0.0   8.0500  0.299854           1           0   \n",
       "\n",
       "   Embarked_3  Has_other_child  Has_other_female  Has_other_old  \\\n",
       "0           0              0.0               0.0            0.0   \n",
       "1           0              0.0               0.0            0.0   \n",
       "2           0              0.0               0.0            0.0   \n",
       "3           0              0.0               0.0            0.0   \n",
       "4           0              0.0               0.0            0.0   \n",
       "\n",
       "   Has_other_young_male  family_size  name_title_Master  name_title_Miss  \\\n",
       "0                   0.0          2.0                  0                0   \n",
       "1                   1.0          2.0                  0                0   \n",
       "2                   0.0          1.0                  0                1   \n",
       "3                   1.0          2.0                  0                0   \n",
       "4                   0.0          1.0                  0                0   \n",
       "\n",
       "   name_title_Mr  name_title_Other  \n",
       "0              1                 0  \n",
       "1              1                 0  \n",
       "2              0                 0  \n",
       "3              1                 0  \n",
       "4              1                 0  "
      ]
     },
     "execution_count": 82,
     "metadata": {},
     "output_type": "execute_result"
    }
   ],
   "source": [
    "features_df.head()"
   ]
  },
  {
   "cell_type": "code",
   "execution_count": 83,
   "metadata": {},
   "outputs": [
    {
     "data": {
      "text/plain": [
       "(0.7850367518401871, 0.04384734351577558)"
      ]
     },
     "execution_count": 83,
     "metadata": {},
     "output_type": "execute_result"
    }
   ],
   "source": [
    "#检查效果\n",
    "classifier=GradientBoostingClassifier()\n",
    "scores = cross_val_score(classifier, features_df[:891], labels, scoring='f1', cv = 5)\n",
    "np.mean(scores),np.std(scores)"
   ]
  },
  {
   "cell_type": "markdown",
   "metadata": {},
   "source": [
    "#### 4.1.2 扩展特征：添加聚类标签\n",
    "聚类标签可以看作是对目前样本的做的特征映射，将高维空间相似的特征映射到相同的标签；  \n",
    "这里演示用kmean生成聚类标签，利用calinski_harabaz选择较优的k，  \n",
    "更多：https://blog.csdn.net/u010159842/article/details/78624135"
   ]
  },
  {
   "cell_type": "code",
   "execution_count": 84,
   "metadata": {},
   "outputs": [],
   "source": [
    "cluster_data_np=StandardScaler().fit_transform(features_df)"
   ]
  },
  {
   "cell_type": "code",
   "execution_count": 85,
   "metadata": {},
   "outputs": [
    {
     "data": {
      "text/plain": [
       "Text(0,0.5,'distortion degree')"
      ]
     },
     "execution_count": 85,
     "metadata": {},
     "output_type": "execute_result"
    },
    {
     "data": {
      "image/png": "[encoded data removed]",
      "text/plain": [
       "<Figure size 432x288 with 1 Axes>"
      ]
     },
     "metadata": {},
     "output_type": "display_data"
    }
   ],
   "source": [
    "K=range(2,20)\n",
    "calinski_harabaz_scores=[]\n",
    "for k in K:\n",
    "    kmeans=KMeans(n_clusters=k)\n",
    "    kmeans.fit(cluster_data_np)\n",
    "    calinski_harabaz_scores.append(metrics.calinski_harabaz_score(cluster_data_np, kmeans.predict(cluster_data_np)))\n",
    "plt.plot(K,calinski_harabaz_scores,'bx-')\n",
    "plt.xlabel('k')\n",
    "plt.ylabel(u'distortion degree')"
   ]
  },
  {
   "cell_type": "code",
   "execution_count": 86,
   "metadata": {},
   "outputs": [],
   "source": [
    "kmeans=KMeans(n_clusters=11)\n",
    "kmeans.fit(cluster_data_np)\n",
    "ext_cluster_fea_df=copy.deepcopy(features_df)\n",
    "ext_cluster_fea_df['cluster_factor']=kmeans.predict(cluster_data_np)"
   ]
  },
  {
   "cell_type": "code",
   "execution_count": 87,
   "metadata": {},
   "outputs": [],
   "source": [
    "ext_cluster_fea_dummy_df = pd.get_dummies(ext_cluster_fea_df,columns=['cluster_factor'])"
   ]
  },
  {
   "cell_type": "code",
   "execution_count": 88,
   "metadata": {},
   "outputs": [
    {
     "data": {
      "text/plain": [
       "(0.7805970033404762, 0.045626939881205225)"
      ]
     },
     "execution_count": 88,
     "metadata": {},
     "output_type": "execute_result"
    }
   ],
   "source": [
    "#检查效果\n",
    "classifier=GradientBoostingClassifier()\n",
    "scores = cross_val_score(classifier, ext_cluster_fea_dummy_df[:891], labels, scoring='f1', cv = 5)\n",
    "np.mean(scores),np.std(scores)"
   ]
  },
  {
   "cell_type": "markdown",
   "metadata": {},
   "source": [
    "不过貌似这样选择的k做的聚类因子未必是最好的....可以多尝试几种..."
   ]
  },
  {
   "cell_type": "markdown",
   "metadata": {},
   "source": [
    "#### 4.1.2  扩展特征：数值特征\n",
    "对数值特征的扩展，可以考虑：  \n",
    "（1）连续值分箱：某些特征分箱可能可以体现不一样的意义...  \n",
    "（2）log变换等...改变原始数据的分布特性...  \n",
    "（3）无脑构造多项式/交互特征：$[a,b]->[1,a,b,a^2,b^2,ab]$  \n",
    "接下来试一试..."
   ]
  },
  {
   "cell_type": "code",
   "execution_count": 89,
   "metadata": {},
   "outputs": [],
   "source": [
    "ext_fea_df=copy.deepcopy(ext_cluster_fea_dummy_df)\n",
    "ext_fea_df['Age_bins']=pd.cut(ext_fea_df['Age'],bins=10,labels=False)#对age分箱\n",
    "ext_fea_df['Fare_bins']=pd.cut(ext_fea_df['Fare'],bins=10,labels=False)#对Fare分箱\n",
    "ext_fea_df['Age_log']=ext_fea_df['Age'].apply(lambda x:np.log1p(x))#log变换\n",
    "ext_fea_df['Age_log_cdf']=ext_fea_df['Age_log'].apply(lambda x:norm.cdf((x-ext_fea_df['Age_log'].mean())/ext_fea_df['Age_log'].std()))#cdf变换"
   ]
  },
  {
   "cell_type": "code",
   "execution_count": 90,
   "metadata": {},
   "outputs": [
    {
     "data": {
      "text/plain": [
       "(0.7686322685829483, 0.03609935046387324)"
      ]
     },
     "execution_count": 90,
     "metadata": {},
     "output_type": "execute_result"
    }
   ],
   "source": [
    "#lr\n",
    "ext_fea_np=StandardScaler().fit_transform(ext_fea_df[:891])\n",
    "classifier=LogisticRegression()\n",
    "scores = cross_val_score(classifier, ext_fea_np, labels, scoring='f1', cv = 5)\n",
    "np.mean(scores),np.std(scores)"
   ]
  },
  {
   "cell_type": "code",
   "execution_count": 91,
   "metadata": {},
   "outputs": [
    {
     "data": {
      "text/plain": [
       "(0.7823895879512534, 0.04632164288132967)"
      ]
     },
     "execution_count": 91,
     "metadata": {},
     "output_type": "execute_result"
    }
   ],
   "source": [
    "#gbdt\n",
    "classifier=GradientBoostingClassifier()\n",
    "scores = cross_val_score(classifier, ext_fea_np, labels, scoring='f1', cv = 5)\n",
    "np.mean(scores),np.std(scores)"
   ]
  },
  {
   "cell_type": "code",
   "execution_count": 92,
   "metadata": {},
   "outputs": [],
   "source": [
    "#构造交互特征：一般来说选择0/1类型的特征来构造更make sense\n",
    "poly=PolynomialFeatures(degree=2,include_bias=False,interaction_only=False)#无脑多项式转换\n",
    "poly_fea_np=poly.fit_transform(ext_fea_df)#这里是numpy类型\n",
    "poly_fea_df=pd.DataFrame(poly_fea_np,columns=poly.get_feature_names())"
   ]
  },
  {
   "cell_type": "markdown",
   "metadata": {},
   "source": [
    "**注意：构造多项式特征慎用，它以$O(n^2)$增涨特征量，如果原始有1000个特征，变换后会有100W个特征...**"
   ]
  },
  {
   "cell_type": "code",
   "execution_count": 93,
   "metadata": {},
   "outputs": [
    {
     "data": {
      "text/html": [
       "<div>\n",
       "<style scoped>\n",
       "    .dataframe tbody tr th:only-of-type {\n",
       "        vertical-align: middle;\n",
       "    }\n",
       "\n",
       "    .dataframe tbody tr th {\n",
       "        vertical-align: top;\n",
       "    }\n",
       "\n",
       "    .dataframe thead th {\n",
       "        text-align: right;\n",
       "    }\n",
       "</style>\n",
       "<table border=\"1\" class=\"dataframe\">\n",
       "  <thead>\n",
       "    <tr style=\"text-align: right;\">\n",
       "      <th></th>\n",
       "      <th>x0</th>\n",
       "      <th>x1</th>\n",
       "      <th>x2</th>\n",
       "      <th>x3</th>\n",
       "      <th>x4</th>\n",
       "      <th>x5</th>\n",
       "      <th>x6</th>\n",
       "      <th>x7</th>\n",
       "      <th>x8</th>\n",
       "      <th>x9</th>\n",
       "      <th>...</th>\n",
       "      <th>x30^2</th>\n",
       "      <th>x30 x31</th>\n",
       "      <th>x30 x32</th>\n",
       "      <th>x30 x33</th>\n",
       "      <th>x31^2</th>\n",
       "      <th>x31 x32</th>\n",
       "      <th>x31 x33</th>\n",
       "      <th>x32^2</th>\n",
       "      <th>x32 x33</th>\n",
       "      <th>x33^2</th>\n",
       "    </tr>\n",
       "  </thead>\n",
       "  <tbody>\n",
       "    <tr>\n",
       "      <th>0</th>\n",
       "      <td>3.0</td>\n",
       "      <td>0.0</td>\n",
       "      <td>22.0</td>\n",
       "      <td>1.0</td>\n",
       "      <td>0.0</td>\n",
       "      <td>7.2500</td>\n",
       "      <td>0.299854</td>\n",
       "      <td>1.0</td>\n",
       "      <td>0.0</td>\n",
       "      <td>0.0</td>\n",
       "      <td>...</td>\n",
       "      <td>9.0</td>\n",
       "      <td>0.0</td>\n",
       "      <td>9.406483</td>\n",
       "      <td>1.055688</td>\n",
       "      <td>0.0</td>\n",
       "      <td>0.000000</td>\n",
       "      <td>0.000000</td>\n",
       "      <td>9.831324</td>\n",
       "      <td>1.103368</td>\n",
       "      <td>0.123831</td>\n",
       "    </tr>\n",
       "    <tr>\n",
       "      <th>1</th>\n",
       "      <td>1.0</td>\n",
       "      <td>1.0</td>\n",
       "      <td>38.0</td>\n",
       "      <td>1.0</td>\n",
       "      <td>0.0</td>\n",
       "      <td>71.2833</td>\n",
       "      <td>0.383838</td>\n",
       "      <td>0.0</td>\n",
       "      <td>1.0</td>\n",
       "      <td>0.0</td>\n",
       "      <td>...</td>\n",
       "      <td>36.0</td>\n",
       "      <td>36.0</td>\n",
       "      <td>21.981370</td>\n",
       "      <td>4.646550</td>\n",
       "      <td>36.0</td>\n",
       "      <td>21.981370</td>\n",
       "      <td>4.646550</td>\n",
       "      <td>13.421684</td>\n",
       "      <td>2.837154</td>\n",
       "      <td>0.599734</td>\n",
       "    </tr>\n",
       "    <tr>\n",
       "      <th>2</th>\n",
       "      <td>3.0</td>\n",
       "      <td>1.0</td>\n",
       "      <td>26.0</td>\n",
       "      <td>0.0</td>\n",
       "      <td>0.0</td>\n",
       "      <td>7.9250</td>\n",
       "      <td>0.299854</td>\n",
       "      <td>1.0</td>\n",
       "      <td>0.0</td>\n",
       "      <td>0.0</td>\n",
       "      <td>...</td>\n",
       "      <td>16.0</td>\n",
       "      <td>0.0</td>\n",
       "      <td>13.183347</td>\n",
       "      <td>1.942617</td>\n",
       "      <td>0.0</td>\n",
       "      <td>0.000000</td>\n",
       "      <td>0.000000</td>\n",
       "      <td>10.862541</td>\n",
       "      <td>1.600637</td>\n",
       "      <td>0.235860</td>\n",
       "    </tr>\n",
       "    <tr>\n",
       "      <th>3</th>\n",
       "      <td>1.0</td>\n",
       "      <td>1.0</td>\n",
       "      <td>35.0</td>\n",
       "      <td>1.0</td>\n",
       "      <td>0.0</td>\n",
       "      <td>53.1000</td>\n",
       "      <td>0.468759</td>\n",
       "      <td>1.0</td>\n",
       "      <td>0.0</td>\n",
       "      <td>0.0</td>\n",
       "      <td>...</td>\n",
       "      <td>36.0</td>\n",
       "      <td>24.0</td>\n",
       "      <td>21.501114</td>\n",
       "      <td>4.317604</td>\n",
       "      <td>16.0</td>\n",
       "      <td>14.334076</td>\n",
       "      <td>2.878403</td>\n",
       "      <td>12.841608</td>\n",
       "      <td>2.578703</td>\n",
       "      <td>0.517825</td>\n",
       "    </tr>\n",
       "    <tr>\n",
       "      <th>4</th>\n",
       "      <td>3.0</td>\n",
       "      <td>0.0</td>\n",
       "      <td>35.0</td>\n",
       "      <td>0.0</td>\n",
       "      <td>0.0</td>\n",
       "      <td>8.0500</td>\n",
       "      <td>0.299854</td>\n",
       "      <td>1.0</td>\n",
       "      <td>0.0</td>\n",
       "      <td>0.0</td>\n",
       "      <td>...</td>\n",
       "      <td>36.0</td>\n",
       "      <td>0.0</td>\n",
       "      <td>21.501114</td>\n",
       "      <td>4.317604</td>\n",
       "      <td>0.0</td>\n",
       "      <td>0.000000</td>\n",
       "      <td>0.000000</td>\n",
       "      <td>12.841608</td>\n",
       "      <td>2.578703</td>\n",
       "      <td>0.517825</td>\n",
       "    </tr>\n",
       "  </tbody>\n",
       "</table>\n",
       "<p>5 rows × 629 columns</p>\n",
       "</div>"
      ],
      "text/plain": [
       "    x0   x1    x2   x3   x4       x5        x6   x7   x8   x9    ...     \\\n",
       "0  3.0  0.0  22.0  1.0  0.0   7.2500  0.299854  1.0  0.0  0.0    ...      \n",
       "1  1.0  1.0  38.0  1.0  0.0  71.2833  0.383838  0.0  1.0  0.0    ...      \n",
       "2  3.0  1.0  26.0  0.0  0.0   7.9250  0.299854  1.0  0.0  0.0    ...      \n",
       "3  1.0  1.0  35.0  1.0  0.0  53.1000  0.468759  1.0  0.0  0.0    ...      \n",
       "4  3.0  0.0  35.0  0.0  0.0   8.0500  0.299854  1.0  0.0  0.0    ...      \n",
       "\n",
       "   x30^2  x30 x31    x30 x32   x30 x33  x31^2    x31 x32   x31 x33      x32^2  \\\n",
       "0    9.0      0.0   9.406483  1.055688    0.0   0.000000  0.000000   9.831324   \n",
       "1   36.0     36.0  21.981370  4.646550   36.0  21.981370  4.646550  13.421684   \n",
       "2   16.0      0.0  13.183347  1.942617    0.0   0.000000  0.000000  10.862541   \n",
       "3   36.0     24.0  21.501114  4.317604   16.0  14.334076  2.878403  12.841608   \n",
       "4   36.0      0.0  21.501114  4.317604    0.0   0.000000  0.000000  12.841608   \n",
       "\n",
       "    x32 x33     x33^2  \n",
       "0  1.103368  0.123831  \n",
       "1  2.837154  0.599734  \n",
       "2  1.600637  0.235860  \n",
       "3  2.578703  0.517825  \n",
       "4  2.578703  0.517825  \n",
       "\n",
       "[5 rows x 629 columns]"
      ]
     },
     "execution_count": 93,
     "metadata": {},
     "output_type": "execute_result"
    }
   ],
   "source": [
    "poly_fea_df.head(5)"
   ]
  },
  {
   "cell_type": "code",
   "execution_count": 94,
   "metadata": {},
   "outputs": [
    {
     "data": {
      "text/plain": [
       "(1309, 629)"
      ]
     },
     "execution_count": 94,
     "metadata": {},
     "output_type": "execute_result"
    }
   ],
   "source": [
    "poly_fea_df.shape"
   ]
  },
  {
   "cell_type": "code",
   "execution_count": 95,
   "metadata": {},
   "outputs": [
    {
     "data": {
      "text/plain": [
       "(0.7529680759275237, 0.047662184324391406)"
      ]
     },
     "execution_count": 95,
     "metadata": {},
     "output_type": "execute_result"
    }
   ],
   "source": [
    "#看看在lr上的表现\n",
    "classifier=LogisticRegression()\n",
    "scores = cross_val_score(classifier, StandardScaler().fit_transform(poly_fea_df[:891]), labels, scoring='f1', cv = 5)\n",
    "np.mean(scores),np.std(scores)"
   ]
  },
  {
   "cell_type": "code",
   "execution_count": 96,
   "metadata": {},
   "outputs": [
    {
     "data": {
      "text/plain": [
       "(0.7877111481159954, 0.043269962360609864)"
      ]
     },
     "execution_count": 96,
     "metadata": {},
     "output_type": "execute_result"
    }
   ],
   "source": [
    "#gbdt\n",
    "classifier=GradientBoostingClassifier()\n",
    "scores = cross_val_score(classifier, poly_fea_df[:891], labels, scoring='f1', cv = 5)\n",
    "np.mean(scores),np.std(scores)"
   ]
  },
  {
   "cell_type": "markdown",
   "metadata": {},
   "source": [
    "###### 特征数增加是否会影响模型稳定性？\n",
    "这里发现特征量的快速增加（10->629），lr的std增加了很多，gbdt有所减少，这是因为特征数量的增加被动的增加了lr模型的复杂度($\\sigma(w^Tx+b)$,模型的复杂度与$x$的维度正比)，而gbdt在生成树的时候对于用处不大的特征，选择的少或者压根不会选。"
   ]
  },
  {
   "cell_type": "markdown",
   "metadata": {},
   "source": [
    "#### 4.1.2 特征扩展：离散特征\n",
    "离散特征的扩展可以考虑特征组合，比如：  \n",
    "（1）从make sense的情况下组合特征；  \n",
    "（2）自动特征组合..."
   ]
  },
  {
   "cell_type": "markdown",
   "metadata": {},
   "source": [
    "#### make sense的特征\n",
    "构造乘客性别和票类型的组合特征：\n",
    "\n",
    "Pclass |  Sex  \n",
    "-|-\n",
    "1 | male |\n",
    "2 | female |  \n",
    "转换为：  \n",
    "\n",
    "Pclass_1_female |  Pclass_2_female | Pclass_3_female |  Pclass_1_male |Pclass_2_male |  Pclass_3_male  \n",
    "-|-|-|-|-|-\n",
    "0|0|0|1|0|0\n",
    "0|1|0|0|0|0 \n"
   ]
  },
  {
   "cell_type": "code",
   "execution_count": 97,
   "metadata": {},
   "outputs": [],
   "source": [
    "def combine_pclass_sex(pclass,sex):\n",
    "    if sex=='male':\n",
    "        return pclass-1\n",
    "    else:\n",
    "        return pclass+2\n",
    "ext_cat_fea_df=copy.deepcopy(poly_fea_df)\n",
    "ext_cat_fea_df['Pclass_Sex']=origin_features_df.apply(lambda row:combine_pclass_sex(row['Pclass'],row['Sex']),axis=1)\n",
    "ext_cat_fea_dummy_df = pd.get_dummies(ext_cat_fea_df,columns=['Pclass_Sex'])"
   ]
  },
  {
   "cell_type": "code",
   "execution_count": 98,
   "metadata": {},
   "outputs": [
    {
     "data": {
      "text/plain": [
       "Index(['x0', 'x1', 'x2', 'x3', 'x4', 'x5', 'x6', 'x7', 'x8', 'x9',\n",
       "       ...\n",
       "       'x31 x33', 'x32^2', 'x32 x33', 'x33^2', 'Pclass_Sex_0', 'Pclass_Sex_1',\n",
       "       'Pclass_Sex_2', 'Pclass_Sex_3', 'Pclass_Sex_4', 'Pclass_Sex_5'],\n",
       "      dtype='object', length=635)"
      ]
     },
     "execution_count": 98,
     "metadata": {},
     "output_type": "execute_result"
    }
   ],
   "source": [
    "ext_cat_fea_dummy_df.columns"
   ]
  },
  {
   "cell_type": "code",
   "execution_count": 99,
   "metadata": {},
   "outputs": [
    {
     "data": {
      "text/plain": [
       "(0.7875957671794318, 0.03422694316681235)"
      ]
     },
     "execution_count": 99,
     "metadata": {},
     "output_type": "execute_result"
    }
   ],
   "source": [
    "#gbdt\n",
    "classifier=GradientBoostingClassifier()\n",
    "scores = cross_val_score(classifier, ext_cat_fea_dummy_df[:891], labels, scoring='f1', cv = 5)\n",
    "np.mean(scores),np.std(scores)"
   ]
  },
  {
   "cell_type": "markdown",
   "metadata": {},
   "source": [
    "#### 4.1.2 特征扩展：自动构建组合特征\n",
    "比较流行的一种方式是gbdt+lr,即利用gbdt探索不错的特征空间，然后用lr对这些特征空间张成one-hot特征进行拟合；  \n",
    "![avatar](./source/gbdt_lr.png)\n",
    "参考：https://www.cnblogs.com/wkang/p/9657032.html"
   ]
  },
  {
   "cell_type": "code",
   "execution_count": 100,
   "metadata": {},
   "outputs": [
    {
     "data": {
      "text/plain": [
       "(0.7713015276197386, 0.034522977378099305)"
      ]
     },
     "execution_count": 100,
     "metadata": {},
     "output_type": "execute_result"
    }
   ],
   "source": [
    "from sklearn.preprocessing import OneHotEncoder\n",
    "n_trees=100\n",
    "tree_depth=2#树的深度不必太深\n",
    "kfold= KFold(n_splits=5,shuffle=True)\n",
    "scores=[]\n",
    "for train_index,test_index in kfold.split(ext_cat_fea_dummy_df[:891],labels):\n",
    "    X_train=ext_cat_fea_dummy_df.loc[train_index]\n",
    "    y_train=labels[train_index]\n",
    "    X_test=ext_cat_fea_dummy_df.loc[test_index]\n",
    "    y_test=labels[test_index]\n",
    "    \n",
    "    gbm1 = GradientBoostingClassifier(n_estimators=n_trees,max_depth=tree_depth)\n",
    "    gbm1.fit(X_train, y_train)\n",
    "    train_new_feature = gbm1.apply(X_train)\n",
    "    train_new_feature = train_new_feature.reshape(-1, n_trees)\n",
    "\n",
    "    enc = OneHotEncoder()\n",
    "\n",
    "    enc.fit(train_new_feature)\n",
    "\n",
    "    # # # 每一个属性的最大取值数目\n",
    "    # # print('每一个特征的最大取值数目:', enc.n_values_)\n",
    "    # # print('所有特征的取值数目总和:', enc.n_values_.sum())\n",
    "\n",
    "    train_new_feature2 = np.array(enc.transform(train_new_feature).toarray())\n",
    "\n",
    "    #训练lr\n",
    "    lr=LogisticRegression()\n",
    "    lr.fit(train_new_feature2,y_train)\n",
    "    #测试\n",
    "    test_new_feature = gbm1.apply(X_test)\n",
    "    test_new_feature = test_new_feature.reshape(-1, n_trees)\n",
    "    test_new_feature2 = np.array(enc.transform(test_new_feature).toarray())\n",
    "\n",
    "    y_predict=lr.predict(test_new_feature2)\n",
    "    f1_score=metrics.f1_score(y_test,y_predict)\n",
    "    scores.append(f1_score)\n",
    "np.mean(scores),np.std(scores)"
   ]
  },
  {
   "cell_type": "markdown",
   "metadata": {},
   "source": [
    "**通过一系列的特征扩展，我们将baseline gbdt从f1=0.776,std=0.045提升到f1=0.790,std=0.037；此时的最优fetures为ext_cat_fea_dummy_df，接下来我们的目标是去掉那些噪声特征，利用尽可能少的特征去建模达到和之前模型一样的效果；**  \n",
    "#### 4.1.3 特征选择\n",
    "（1）基于统计：方差、相关性、gini、info gain、chi2    \n",
    "（2）基于模型：RFE递归删减特征、训练基模型，选择权值系数较高的特征  \n",
    "\n",
    "更多:https://www.jianshu.com/p/1c4ec02dd33f"
   ]
  },
  {
   "cell_type": "markdown",
   "metadata": {},
   "source": [
    "##### 4.1.3 特征选择-方差\n",
    "将方差较低的特征过滤掉"
   ]
  },
  {
   "cell_type": "code",
   "execution_count": 101,
   "metadata": {},
   "outputs": [
    {
     "data": {
      "text/plain": [
       "(891, 492)"
      ]
     },
     "execution_count": 101,
     "metadata": {},
     "output_type": "execute_result"
    }
   ],
   "source": [
    "var_standard_df=StandardScaler().fit_transform(ext_cat_fea_dummy_df[:891])\n",
    "VarianceThreshold(threshold=0.01).fit_transform(var_standard_df).shape"
   ]
  },
  {
   "cell_type": "code",
   "execution_count": 102,
   "metadata": {},
   "outputs": [
    {
     "data": {
      "text/plain": [
       "(0.7870500513055333, 0.041771813326123064)"
      ]
     },
     "execution_count": 102,
     "metadata": {},
     "output_type": "execute_result"
    }
   ],
   "source": [
    "#gbdt\n",
    "classifier=GradientBoostingClassifier()\n",
    "scores = cross_val_score(classifier, VarianceThreshold(threshold=0.01).fit_transform(ext_cat_fea_dummy_df[:891]), labels, scoring='f1', cv = 5)\n",
    "np.mean(scores),np.std(scores)"
   ]
  },
  {
   "cell_type": "markdown",
   "metadata": {},
   "source": [
    "##### 4.1.3 特征选择-相关性\n",
    "选择与y标签相关性top的因子建模"
   ]
  },
  {
   "cell_type": "code",
   "execution_count": 103,
   "metadata": {},
   "outputs": [
    {
     "data": {
      "text/plain": [
       "Survived    1.000000\n",
       "x1 x32      0.545021\n",
       "x1 x6       0.543980\n",
       "x1          0.543351\n",
       "x1^2        0.543351\n",
       "Name: Survived, dtype: float64"
      ]
     },
     "execution_count": 103,
     "metadata": {},
     "output_type": "execute_result"
    }
   ],
   "source": [
    "ext_cat_fea_add_y_df=copy.deepcopy(ext_cat_fea_dummy_df[:891])\n",
    "ext_cat_fea_add_y_df['Survived']=labels\n",
    "ext_cat_fea_add_y_df.corr()['Survived'].abs().sort_values(ascending=False).head(5)"
   ]
  },
  {
   "cell_type": "code",
   "execution_count": 104,
   "metadata": {},
   "outputs": [],
   "source": [
    "#选择相关性>0.2的因子建模，注意要去掉Survived\n",
    "highly_correlated_features = ext_cat_fea_add_y_df.columns[ext_cat_fea_add_y_df.corr()['Survived'].abs() > 0.1]\n",
    "highly_correlated_features = highly_correlated_features.drop('Survived')\n",
    "high_corr_features_df=ext_cat_fea_add_y_df[highly_correlated_features]"
   ]
  },
  {
   "cell_type": "code",
   "execution_count": 105,
   "metadata": {},
   "outputs": [
    {
     "data": {
      "text/plain": [
       "(891, 214)"
      ]
     },
     "execution_count": 105,
     "metadata": {},
     "output_type": "execute_result"
    }
   ],
   "source": [
    "high_corr_features_df.shape"
   ]
  },
  {
   "cell_type": "code",
   "execution_count": 106,
   "metadata": {},
   "outputs": [
    {
     "data": {
      "text/html": [
       "<div>\n",
       "<style scoped>\n",
       "    .dataframe tbody tr th:only-of-type {\n",
       "        vertical-align: middle;\n",
       "    }\n",
       "\n",
       "    .dataframe tbody tr th {\n",
       "        vertical-align: top;\n",
       "    }\n",
       "\n",
       "    .dataframe thead th {\n",
       "        text-align: right;\n",
       "    }\n",
       "</style>\n",
       "<table border=\"1\" class=\"dataframe\">\n",
       "  <thead>\n",
       "    <tr style=\"text-align: right;\">\n",
       "      <th></th>\n",
       "      <th>x0</th>\n",
       "      <th>x1</th>\n",
       "      <th>x4</th>\n",
       "      <th>x5</th>\n",
       "      <th>x6</th>\n",
       "      <th>x7</th>\n",
       "      <th>x8</th>\n",
       "      <th>x11</th>\n",
       "      <th>x13</th>\n",
       "      <th>x16</th>\n",
       "      <th>...</th>\n",
       "      <th>x27 x33</th>\n",
       "      <th>x30 x31</th>\n",
       "      <th>x31^2</th>\n",
       "      <th>x31 x32</th>\n",
       "      <th>x31 x33</th>\n",
       "      <th>Pclass_Sex_1</th>\n",
       "      <th>Pclass_Sex_2</th>\n",
       "      <th>Pclass_Sex_3</th>\n",
       "      <th>Pclass_Sex_4</th>\n",
       "      <th>Pclass_Sex_5</th>\n",
       "    </tr>\n",
       "  </thead>\n",
       "  <tbody>\n",
       "    <tr>\n",
       "      <th>0</th>\n",
       "      <td>3.0</td>\n",
       "      <td>0.0</td>\n",
       "      <td>0.0</td>\n",
       "      <td>7.2500</td>\n",
       "      <td>0.299854</td>\n",
       "      <td>1.0</td>\n",
       "      <td>0.0</td>\n",
       "      <td>0.0</td>\n",
       "      <td>0.0</td>\n",
       "      <td>0.0</td>\n",
       "      <td>...</td>\n",
       "      <td>0.000000</td>\n",
       "      <td>0.0</td>\n",
       "      <td>0.0</td>\n",
       "      <td>0.000000</td>\n",
       "      <td>0.000000</td>\n",
       "      <td>0</td>\n",
       "      <td>1</td>\n",
       "      <td>0</td>\n",
       "      <td>0</td>\n",
       "      <td>0</td>\n",
       "    </tr>\n",
       "    <tr>\n",
       "      <th>1</th>\n",
       "      <td>1.0</td>\n",
       "      <td>1.0</td>\n",
       "      <td>0.0</td>\n",
       "      <td>71.2833</td>\n",
       "      <td>0.383838</td>\n",
       "      <td>0.0</td>\n",
       "      <td>1.0</td>\n",
       "      <td>0.0</td>\n",
       "      <td>1.0</td>\n",
       "      <td>0.0</td>\n",
       "      <td>...</td>\n",
       "      <td>0.774425</td>\n",
       "      <td>36.0</td>\n",
       "      <td>36.0</td>\n",
       "      <td>21.981370</td>\n",
       "      <td>4.646550</td>\n",
       "      <td>0</td>\n",
       "      <td>0</td>\n",
       "      <td>1</td>\n",
       "      <td>0</td>\n",
       "      <td>0</td>\n",
       "    </tr>\n",
       "    <tr>\n",
       "      <th>2</th>\n",
       "      <td>3.0</td>\n",
       "      <td>1.0</td>\n",
       "      <td>0.0</td>\n",
       "      <td>7.9250</td>\n",
       "      <td>0.299854</td>\n",
       "      <td>1.0</td>\n",
       "      <td>0.0</td>\n",
       "      <td>0.0</td>\n",
       "      <td>0.0</td>\n",
       "      <td>1.0</td>\n",
       "      <td>...</td>\n",
       "      <td>0.000000</td>\n",
       "      <td>0.0</td>\n",
       "      <td>0.0</td>\n",
       "      <td>0.000000</td>\n",
       "      <td>0.000000</td>\n",
       "      <td>0</td>\n",
       "      <td>0</td>\n",
       "      <td>0</td>\n",
       "      <td>0</td>\n",
       "      <td>1</td>\n",
       "    </tr>\n",
       "    <tr>\n",
       "      <th>3</th>\n",
       "      <td>1.0</td>\n",
       "      <td>1.0</td>\n",
       "      <td>0.0</td>\n",
       "      <td>53.1000</td>\n",
       "      <td>0.468759</td>\n",
       "      <td>1.0</td>\n",
       "      <td>0.0</td>\n",
       "      <td>0.0</td>\n",
       "      <td>1.0</td>\n",
       "      <td>0.0</td>\n",
       "      <td>...</td>\n",
       "      <td>0.719601</td>\n",
       "      <td>24.0</td>\n",
       "      <td>16.0</td>\n",
       "      <td>14.334076</td>\n",
       "      <td>2.878403</td>\n",
       "      <td>0</td>\n",
       "      <td>0</td>\n",
       "      <td>1</td>\n",
       "      <td>0</td>\n",
       "      <td>0</td>\n",
       "    </tr>\n",
       "    <tr>\n",
       "      <th>4</th>\n",
       "      <td>3.0</td>\n",
       "      <td>0.0</td>\n",
       "      <td>0.0</td>\n",
       "      <td>8.0500</td>\n",
       "      <td>0.299854</td>\n",
       "      <td>1.0</td>\n",
       "      <td>0.0</td>\n",
       "      <td>0.0</td>\n",
       "      <td>0.0</td>\n",
       "      <td>0.0</td>\n",
       "      <td>...</td>\n",
       "      <td>0.000000</td>\n",
       "      <td>0.0</td>\n",
       "      <td>0.0</td>\n",
       "      <td>0.000000</td>\n",
       "      <td>0.000000</td>\n",
       "      <td>0</td>\n",
       "      <td>1</td>\n",
       "      <td>0</td>\n",
       "      <td>0</td>\n",
       "      <td>0</td>\n",
       "    </tr>\n",
       "  </tbody>\n",
       "</table>\n",
       "<p>5 rows × 214 columns</p>\n",
       "</div>"
      ],
      "text/plain": [
       "    x0   x1   x4       x5        x6   x7   x8  x11  x13  x16      ...       \\\n",
       "0  3.0  0.0  0.0   7.2500  0.299854  1.0  0.0  0.0  0.0  0.0      ...        \n",
       "1  1.0  1.0  0.0  71.2833  0.383838  0.0  1.0  0.0  1.0  0.0      ...        \n",
       "2  3.0  1.0  0.0   7.9250  0.299854  1.0  0.0  0.0  0.0  1.0      ...        \n",
       "3  1.0  1.0  0.0  53.1000  0.468759  1.0  0.0  0.0  1.0  0.0      ...        \n",
       "4  3.0  0.0  0.0   8.0500  0.299854  1.0  0.0  0.0  0.0  0.0      ...        \n",
       "\n",
       "    x27 x33  x30 x31  x31^2    x31 x32   x31 x33  Pclass_Sex_1  Pclass_Sex_2  \\\n",
       "0  0.000000      0.0    0.0   0.000000  0.000000             0             1   \n",
       "1  0.774425     36.0   36.0  21.981370  4.646550             0             0   \n",
       "2  0.000000      0.0    0.0   0.000000  0.000000             0             0   \n",
       "3  0.719601     24.0   16.0  14.334076  2.878403             0             0   \n",
       "4  0.000000      0.0    0.0   0.000000  0.000000             0             1   \n",
       "\n",
       "   Pclass_Sex_3  Pclass_Sex_4  Pclass_Sex_5  \n",
       "0             0             0             0  \n",
       "1             1             0             0  \n",
       "2             0             0             1  \n",
       "3             1             0             0  \n",
       "4             0             0             0  \n",
       "\n",
       "[5 rows x 214 columns]"
      ]
     },
     "execution_count": 106,
     "metadata": {},
     "output_type": "execute_result"
    }
   ],
   "source": [
    "high_corr_features_df.head(5)"
   ]
  },
  {
   "cell_type": "code",
   "execution_count": 107,
   "metadata": {},
   "outputs": [
    {
     "data": {
      "text/plain": [
       "(0.789829696982462, 0.0483977829936617)"
      ]
     },
     "execution_count": 107,
     "metadata": {},
     "output_type": "execute_result"
    }
   ],
   "source": [
    "#gbdt\n",
    "classifier=GradientBoostingClassifier()\n",
    "scores = cross_val_score(classifier, high_corr_features_df, labels, scoring='f1', cv = 5)\n",
    "np.mean(scores),np.std(scores)"
   ]
  },
  {
   "cell_type": "markdown",
   "metadata": {},
   "source": [
    "**注意：如果出现与y标签相关性很高的因子要引起重视，它可能是由y=>的因子，这种情况应该删掉，因为在test集中这部分因子可能是NaN**\n",
    "##### 4.1.3 特征选择-Gini指数\n",
    "gini指数的计算很简单，训练一个决策树就好了"
   ]
  },
  {
   "cell_type": "code",
   "execution_count": 108,
   "metadata": {},
   "outputs": [],
   "source": [
    "tree = DecisionTreeClassifier()#如果要用信息增益，设置criterion='entropy'\n",
    "tree.fit(ext_cat_fea_dummy_df[:891],labels)\n",
    "importances = pd.DataFrame({ 'feature':ext_cat_fea_dummy_df.columns,'importance': tree.feature_importances_}).sort_values('importance', ascending=False)"
   ]
  },
  {
   "cell_type": "code",
   "execution_count": 109,
   "metadata": {},
   "outputs": [
    {
     "data": {
      "text/html": [
       "<div>\n",
       "<style scoped>\n",
       "    .dataframe tbody tr th:only-of-type {\n",
       "        vertical-align: middle;\n",
       "    }\n",
       "\n",
       "    .dataframe tbody tr th {\n",
       "        vertical-align: top;\n",
       "    }\n",
       "\n",
       "    .dataframe thead th {\n",
       "        text-align: right;\n",
       "    }\n",
       "</style>\n",
       "<table border=\"1\" class=\"dataframe\">\n",
       "  <thead>\n",
       "    <tr style=\"text-align: right;\">\n",
       "      <th></th>\n",
       "      <th>feature</th>\n",
       "      <th>importance</th>\n",
       "    </tr>\n",
       "  </thead>\n",
       "  <tbody>\n",
       "    <tr>\n",
       "      <th>81</th>\n",
       "      <td>x1 x14</td>\n",
       "      <td>0.308042</td>\n",
       "    </tr>\n",
       "    <tr>\n",
       "      <th>41</th>\n",
       "      <td>x0 x7</td>\n",
       "      <td>0.081556</td>\n",
       "    </tr>\n",
       "    <tr>\n",
       "      <th>6</th>\n",
       "      <td>x6</td>\n",
       "      <td>0.060521</td>\n",
       "    </tr>\n",
       "    <tr>\n",
       "      <th>438</th>\n",
       "      <td>x14 x33</td>\n",
       "      <td>0.053993</td>\n",
       "    </tr>\n",
       "    <tr>\n",
       "      <th>222</th>\n",
       "      <td>x5 x33</td>\n",
       "      <td>0.030702</td>\n",
       "    </tr>\n",
       "  </tbody>\n",
       "</table>\n",
       "</div>"
      ],
      "text/plain": [
       "     feature  importance\n",
       "81    x1 x14    0.308042\n",
       "41     x0 x7    0.081556\n",
       "6         x6    0.060521\n",
       "438  x14 x33    0.053993\n",
       "222   x5 x33    0.030702"
      ]
     },
     "execution_count": 109,
     "metadata": {},
     "output_type": "execute_result"
    }
   ],
   "source": [
    "importances.head()"
   ]
  },
  {
   "cell_type": "code",
   "execution_count": 110,
   "metadata": {},
   "outputs": [
    {
     "data": {
      "text/plain": [
       "(0.7993443854210763, 0.05081475219128071)"
      ]
     },
     "execution_count": 110,
     "metadata": {},
     "output_type": "execute_result"
    }
   ],
   "source": [
    "#选择top因子建模\n",
    "select_features=importances['feature'].tolist()[:50]\n",
    "#gbdt\n",
    "classifier=GradientBoostingClassifier()\n",
    "scores = cross_val_score(classifier, ext_cat_fea_dummy_df[:891][select_features], labels, scoring='f1', cv = 5)\n",
    "np.mean(scores),np.std(scores)"
   ]
  },
  {
   "cell_type": "markdown",
   "metadata": {},
   "source": [
    "##### 4.1.3-chi2选择"
   ]
  },
  {
   "cell_type": "code",
   "execution_count": 111,
   "metadata": {},
   "outputs": [],
   "source": [
    "from sklearn.feature_selection import SelectKBest\n",
    "from sklearn.feature_selection import chi2"
   ]
  },
  {
   "cell_type": "code",
   "execution_count": 112,
   "metadata": {},
   "outputs": [],
   "source": [
    "min_max_standard_df=MinMaxScaler().fit_transform(ext_cat_fea_dummy_df[:891])#chi2要求每一项都>0"
   ]
  },
  {
   "cell_type": "code",
   "execution_count": 113,
   "metadata": {},
   "outputs": [],
   "source": [
    "#选择前50个特征\n",
    "top_50_features=SelectKBest(chi2, k=50).fit_transform(min_max_standard_df, labels)"
   ]
  },
  {
   "cell_type": "code",
   "execution_count": 114,
   "metadata": {},
   "outputs": [
    {
     "data": {
      "text/plain": [
       "(0.7547838029844384, 0.0382334783823522)"
      ]
     },
     "execution_count": 114,
     "metadata": {},
     "output_type": "execute_result"
    }
   ],
   "source": [
    "#gbdt\n",
    "classifier=GradientBoostingClassifier()\n",
    "scores = cross_val_score(classifier, top_50_features, labels, scoring='f1', cv = 5)\n",
    "np.mean(scores),np.std(scores)"
   ]
  },
  {
   "cell_type": "markdown",
   "metadata": {},
   "source": [
    "##### 4.1.3-RFE递归消除"
   ]
  },
  {
   "cell_type": "code",
   "execution_count": 115,
   "metadata": {},
   "outputs": [],
   "source": [
    "# from sklearn.feature_selection import RFE\n",
    "# rfe_df=RFE(estimator=GradientBoostingClassifier(), n_features_to_select=50).fit_transform(ext_cat_fea_dummy_df[:891], labels)"
   ]
  },
  {
   "cell_type": "markdown",
   "metadata": {},
   "source": [
    "**这里相当的慢**"
   ]
  },
  {
   "cell_type": "code",
   "execution_count": 116,
   "metadata": {},
   "outputs": [],
   "source": [
    "# #gbdt\n",
    "# classifier=GradientBoostingClassifier()\n",
    "# scores = cross_val_score(classifier, rfe_df, labels, scoring='f1', cv = 5)\n",
    "# np.mean(scores),np.std(scores)"
   ]
  },
  {
   "cell_type": "markdown",
   "metadata": {},
   "source": [
    "#### 4.1.3-基于模型选特征\n",
    "其实这里和gini系数的选择一样，通过训练一个模型来选择特征最优特征，然后再去训练一个模型，只是这里选择特征用的模型与训练用的模型一样"
   ]
  },
  {
   "cell_type": "code",
   "execution_count": 117,
   "metadata": {},
   "outputs": [
    {
     "data": {
      "text/html": [
       "<div>\n",
       "<style scoped>\n",
       "    .dataframe tbody tr th:only-of-type {\n",
       "        vertical-align: middle;\n",
       "    }\n",
       "\n",
       "    .dataframe tbody tr th {\n",
       "        vertical-align: top;\n",
       "    }\n",
       "\n",
       "    .dataframe thead th {\n",
       "        text-align: right;\n",
       "    }\n",
       "</style>\n",
       "<table border=\"1\" class=\"dataframe\">\n",
       "  <thead>\n",
       "    <tr style=\"text-align: right;\">\n",
       "      <th></th>\n",
       "      <th>feature</th>\n",
       "      <th>importance</th>\n",
       "    </tr>\n",
       "  </thead>\n",
       "  <tbody>\n",
       "    <tr>\n",
       "      <th>73</th>\n",
       "      <td>x1 x6</td>\n",
       "      <td>0.143721</td>\n",
       "    </tr>\n",
       "    <tr>\n",
       "      <th>35</th>\n",
       "      <td>x0 x1</td>\n",
       "      <td>0.119379</td>\n",
       "    </tr>\n",
       "    <tr>\n",
       "      <th>72</th>\n",
       "      <td>x1 x5</td>\n",
       "      <td>0.069650</td>\n",
       "    </tr>\n",
       "    <tr>\n",
       "      <th>41</th>\n",
       "      <td>x0 x7</td>\n",
       "      <td>0.061407</td>\n",
       "    </tr>\n",
       "    <tr>\n",
       "      <th>6</th>\n",
       "      <td>x6</td>\n",
       "      <td>0.047584</td>\n",
       "    </tr>\n",
       "  </tbody>\n",
       "</table>\n",
       "</div>"
      ],
      "text/plain": [
       "   feature  importance\n",
       "73   x1 x6    0.143721\n",
       "35   x0 x1    0.119379\n",
       "72   x1 x5    0.069650\n",
       "41   x0 x7    0.061407\n",
       "6       x6    0.047584"
      ]
     },
     "execution_count": 117,
     "metadata": {},
     "output_type": "execute_result"
    }
   ],
   "source": [
    "#也可以直接用我们gbdt筛选后的特征\n",
    "tree = GradientBoostingClassifier()\n",
    "tree.fit(ext_cat_fea_dummy_df[:891],labels)\n",
    "importances = pd.DataFrame({ 'feature':ext_cat_fea_dummy_df.columns,'importance': tree.feature_importances_}).sort_values('importance', ascending=False)\n",
    "importances.head()"
   ]
  },
  {
   "cell_type": "code",
   "execution_count": 118,
   "metadata": {},
   "outputs": [
    {
     "data": {
      "text/plain": [
       "(0.8000794313188381, 0.06017298725378909)"
      ]
     },
     "execution_count": 118,
     "metadata": {},
     "output_type": "execute_result"
    }
   ],
   "source": [
    "#选择top因子建模\n",
    "select_features=importances['feature'].tolist()[:50]\n",
    "features_select_top_50_df=ext_cat_fea_dummy_df[select_features]\n",
    "#gbdt\n",
    "classifier=GradientBoostingClassifier()\n",
    "scores = cross_val_score(classifier,features_select_top_50_df[:891],labels, scoring='f1', cv = 5)\n",
    "np.mean(scores),np.std(scores)"
   ]
  },
  {
   "cell_type": "markdown",
   "metadata": {},
   "source": [
    "也可以使用SelectFromModel自动选择最优的top n因子"
   ]
  },
  {
   "cell_type": "code",
   "execution_count": 119,
   "metadata": {},
   "outputs": [
    {
     "data": {
      "text/plain": [
       "(0.7907252589751879, 0.05549700964161168)"
      ]
     },
     "execution_count": 119,
     "metadata": {},
     "output_type": "execute_result"
    }
   ],
   "source": [
    "kfold= KFold(n_splits=5,random_state=42,shuffle=True)\n",
    "scores=[]\n",
    "top_nums=[]\n",
    "for train_index,test_index in kfold.split(ext_cat_fea_dummy_df[:891],labels):\n",
    "    X_train=ext_cat_fea_dummy_df.loc[train_index]\n",
    "    y_train=labels[train_index]\n",
    "    X_test=ext_cat_fea_dummy_df.loc[test_index]\n",
    "    y_test=labels[test_index]\n",
    "    \n",
    "    select_feature_model = SelectFromModel(GradientBoostingClassifier())\n",
    "    X_new_train=select_feature_model.fit_transform(X_train,y_train)\n",
    "    \n",
    "    X_new_test=select_feature_model.transform(X_test)\n",
    "    \n",
    "    _,top_num=X_new_test.shape\n",
    "    top_nums.append(top_num)\n",
    "    \n",
    "    gbdt=GradientBoostingClassifier()\n",
    "    gbdt.fit(X_new_train,y_train)\n",
    "    y_predict=gbdt.predict(X_new_test)\n",
    "    f1_score=metrics.f1_score(y_test,y_predict)\n",
    "    scores.append(f1_score)\n",
    "np.mean(scores),np.std(scores)"
   ]
  },
  {
   "cell_type": "code",
   "execution_count": 120,
   "metadata": {},
   "outputs": [
    {
     "data": {
      "text/plain": [
       "63.8"
      ]
     },
     "execution_count": 120,
     "metadata": {},
     "output_type": "execute_result"
    }
   ],
   "source": [
    "np.mean(top_nums)"
   ]
  },
  {
   "cell_type": "markdown",
   "metadata": {},
   "source": [
    "##### **注意：之前的特征选择操作都不太严谨，因为是将训练集和验证集合并在一起做的特征选择，再用cv的方式看一下**"
   ]
  },
  {
   "cell_type": "code",
   "execution_count": 121,
   "metadata": {},
   "outputs": [
    {
     "data": {
      "text/plain": [
       "(0.7853628345234904, 0.054688358631340604)"
      ]
     },
     "execution_count": 121,
     "metadata": {},
     "output_type": "execute_result"
    }
   ],
   "source": [
    "kfold= KFold(n_splits=5,random_state=42,shuffle=True)\n",
    "scores=[]\n",
    "for train_index,test_index in kfold.split(ext_cat_fea_dummy_df[:891],labels):\n",
    "    X_train=ext_cat_fea_dummy_df.loc[train_index]\n",
    "    y_train=labels[train_index]\n",
    "    X_test=ext_cat_fea_dummy_df.loc[test_index]\n",
    "    y_test=labels[test_index]\n",
    "    \n",
    "    tree = GradientBoostingClassifier()\n",
    "    tree.fit(X_train,y_train)\n",
    "    importances = pd.DataFrame({ 'feature':X_train.columns,'importance': tree.feature_importances_}).sort_values('importance', ascending=False)\n",
    "    \n",
    "    select_features=importances['feature'].tolist()[:50]\n",
    "    \n",
    "    \n",
    "    gbdt=GradientBoostingClassifier()\n",
    "    gbdt.fit(X_train[select_features],y_train)\n",
    "    y_predict=gbdt.predict(X_test[select_features])\n",
    "    f1_score=metrics.f1_score(y_test,y_predict)\n",
    "    scores.append(f1_score)\n",
    "np.mean(scores),np.std(scores)"
   ]
  },
  {
   "cell_type": "markdown",
   "metadata": {},
   "source": [
    "发现其实只需要1/10的因子就能达到和之前一样的效果，甚至更好....  \n",
    "\n",
    "#### 4.1.4 特征转换\n",
    "特征选择是从当前的特征集中选择一个子集，而特征转换是对feature/feature和label做某些数学操作，转换后的特征不在是之前特征的子集，比如：  \n",
    "（1）pca:主成分分析；  \n",
    "（2）lda:线性判别分析；  \n",
    "（3）lle:局部线性嵌入；  \n",
    "（4）ae:自编码；\n",
    "（5）vae:变分自编码；"
   ]
  },
  {
   "cell_type": "markdown",
   "metadata": {},
   "source": [
    "##### 4.1.4-pca\n",
    "pca是一种无监督的线性降维方式，它构建了一个新的正交坐标系，相应的坐标轴分别叫“第一主成分”，“第二主成分”...，且数据在“第一主成分”坐标轴上**方差**最大，“第二主成分”其次，...通常可以只取前n个主成分，将方差较小的主成分理解为**噪声**；  \n",
    "![avatar](./source/pca示例.png)\n",
    "更多：https://blog.csdn.net/program_developer/article/details/80632779 "
   ]
  },
  {
   "cell_type": "code",
   "execution_count": 122,
   "metadata": {},
   "outputs": [],
   "source": [
    "from sklearn.decomposition import PCA\n",
    "standard_df=StandardScaler().fit_transform(features_select_top_50_df)\n",
    "X_pca=PCA(n_components=20).fit_transform(standard_df)"
   ]
  },
  {
   "cell_type": "code",
   "execution_count": 123,
   "metadata": {},
   "outputs": [
    {
     "data": {
      "text/plain": [
       "(0.7900949253855687, 0.035405470298260994)"
      ]
     },
     "execution_count": 123,
     "metadata": {},
     "output_type": "execute_result"
    }
   ],
   "source": [
    "#gbdt\n",
    "classifier=GradientBoostingClassifier()\n",
    "scores = cross_val_score(classifier,X_pca[:891], labels, scoring='f1', cv = 5)\n",
    "np.mean(scores),np.std(scores)"
   ]
  },
  {
   "cell_type": "code",
   "execution_count": 124,
   "metadata": {},
   "outputs": [
    {
     "data": {
      "image/png": "[encoded data removed]",
      "text/plain": [
       "<Figure size 432x288 with 1 Axes>"
      ]
     },
     "metadata": {},
     "output_type": "display_data"
    }
   ],
   "source": [
    "plt.scatter(X_pca[:891][:, 0], X_pca[:891][:, 1],marker='o',c=labels)\n",
    "plt.show()"
   ]
  },
  {
   "cell_type": "markdown",
   "metadata": {},
   "source": [
    "#### 4.1.4-lda\n",
    "lda是一种线性的有监督降维方式，与pca的最大化方差的目标不同，它的目标是找到这样的新坐标轴：**同类样例的投影尽可能近，异类样例的投影点尽可能远**；  \n",
    "更多：https://blog.csdn.net/weixin_40604987/article/details/79615968"
   ]
  },
  {
   "cell_type": "code",
   "execution_count": 125,
   "metadata": {},
   "outputs": [
    {
     "data": {
      "text/plain": [
       "(0.7569760200754199, 0.0505068477051737)"
      ]
     },
     "execution_count": 125,
     "metadata": {},
     "output_type": "execute_result"
    }
   ],
   "source": [
    "from sklearn.discriminant_analysis  import LinearDiscriminantAnalysis\n",
    "kfold= KFold(n_splits=5,random_state=42,shuffle=True)\n",
    "scores=[]\n",
    "standard_np=StandardScaler().fit_transform(features_select_top_50_df)\n",
    "for train_index,test_index in kfold.split(standard_np[:891],labels):\n",
    "    X_train=standard_np[train_index]\n",
    "    y_train=labels[train_index]\n",
    "    X_test=standard_np[test_index]\n",
    "    y_test=labels[test_index]\n",
    "    \n",
    "    lda=LinearDiscriminantAnalysis(n_components=20)\n",
    "    lda.fit(X_train, y_train)\n",
    "    \n",
    "    X_new_train=lda.transform(X_train)\n",
    "    X_new_test=lda.transform(X_test)\n",
    "    \n",
    "    gbdt=GradientBoostingClassifier()\n",
    "    gbdt.fit(X_new_train,y_train)\n",
    "    y_predict=gbdt.predict(X_new_test)\n",
    "    f1_score=metrics.f1_score(y_test,y_predict)\n",
    "    scores.append(f1_score)\n",
    "np.mean(scores),np.std(scores)"
   ]
  },
  {
   "cell_type": "code",
   "execution_count": 126,
   "metadata": {},
   "outputs": [
    {
     "data": {
      "image/png": "[encoded data removed]",
      "text/plain": [
       "<Figure size 432x288 with 1 Axes>"
      ]
     },
     "metadata": {},
     "output_type": "display_data"
    }
   ],
   "source": [
    "plt.scatter(X_new_train[:891][:, 0], X_new_train[:891][:, 0],marker='o',c=y_train)\n",
    "plt.show()"
   ]
  },
  {
   "cell_type": "markdown",
   "metadata": {},
   "source": [
    "#### 4.1.4 lle-局部线性嵌入（LocallyLinearEmbedding）\n",
    "降维时保持样本局部的线性特征\n",
    "![avatar](./source/lle示例.jpg)\n",
    "更多：https://www.cnblogs.com/pinard/p/6266408.html?utm_source=itdadao&utm_medium=referral"
   ]
  },
  {
   "cell_type": "code",
   "execution_count": 127,
   "metadata": {},
   "outputs": [],
   "source": [
    "from sklearn.manifold import LocallyLinearEmbedding\n",
    "standard_df=StandardScaler().fit_transform(features_select_top_50_df)\n",
    "X_lle=LocallyLinearEmbedding(n_components=20).fit_transform(standard_df)"
   ]
  },
  {
   "cell_type": "code",
   "execution_count": 128,
   "metadata": {},
   "outputs": [
    {
     "data": {
      "text/plain": [
       "(0.7460614383554046, 0.048413373247755194)"
      ]
     },
     "execution_count": 128,
     "metadata": {},
     "output_type": "execute_result"
    }
   ],
   "source": [
    "#gbdt\n",
    "classifier=GradientBoostingClassifier()\n",
    "scores = cross_val_score(classifier,X_lle[:891], labels, scoring='f1', cv = 5)\n",
    "np.mean(scores),np.std(scores)"
   ]
  },
  {
   "cell_type": "code",
   "execution_count": 129,
   "metadata": {},
   "outputs": [
    {
     "data": {
      "image/png": "[encoded data removed]",
      "text/plain": [
       "<Figure size 432x288 with 1 Axes>"
      ]
     },
     "metadata": {},
     "output_type": "display_data"
    }
   ],
   "source": [
    "plt.scatter(X_lle[:891][:, 0], X_lle[:891][:, 1],marker='o',c=labels)\n",
    "plt.show()"
   ]
  },
  {
   "cell_type": "markdown",
   "metadata": {},
   "source": [
    "#### 4.1.4 ae-自编码\n",
    "预测目标就是输入目标，可以把它看做一个压缩和解压的过程，如下，通过encoder把一个高维的数据压缩为低维的数据，通过decoder将低维数据还原为高维的数据，这样这个低维的数据可以看做高维数据的一种“不失真”表示；    \n",
    "![avatar](./source/ae示例.jpg)\n",
    "ae在图像和nlp方面都有很多深入的应用，比如cv中的vae，nlp中的bert等...  \n",
    "更多：https://blog.csdn.net/leida_wt/article/details/85052299"
   ]
  },
  {
   "cell_type": "code",
   "execution_count": 130,
   "metadata": {},
   "outputs": [
    {
     "name": "stderr",
     "output_type": "stream",
     "text": [
      "Using TensorFlow backend.\n"
     ]
    }
   ],
   "source": [
    "from keras.models import Model\n",
    "from keras.layers import *\n",
    "# 指定显卡\n",
    "import os\n",
    "os.environ['CUDA_VISIBLE_DEVICES']='0'\n",
    "# 动态申请显存\n",
    "import keras.backend.tensorflow_backend as KTF\n",
    "import tensorflow as tf\n",
    "\n",
    "config = tf.ConfigProto()\n",
    "config.gpu_options.allow_growth = True  # 不全部占满显存, 按需分配\n",
    "sess = tf.Session(config=config)\n",
    "KTF.set_session(sess)"
   ]
  },
  {
   "cell_type": "code",
   "execution_count": 131,
   "metadata": {},
   "outputs": [],
   "source": [
    "#定义网络结构\n",
    "epochs=200\n",
    "batch_size=128\n",
    "input_dim=50\n",
    "\n",
    "input_layer=Input(shape=(input_dim,))\n",
    "encode_layer=Dense(2,activation='relu',name='encoder')(input_layer)\n",
    "decode_layer=Dense(input_dim,activation='tanh')(encode_layer)\n",
    "\n",
    "model=Model(inputs=input_layer,outputs=decode_layer)\n",
    "#获取encode_layer层的输出\n",
    "encode_layer_model = Model(inputs=model.input,outputs=model.get_layer('encoder').output)\n",
    "model.compile('adam',loss='mse')"
   ]
  },
  {
   "cell_type": "code",
   "execution_count": 132,
   "metadata": {},
   "outputs": [],
   "source": [
    "#预处理输入数据\n",
    "ae_standard_np=StandardScaler().fit_transform(features_select_top_50_df)"
   ]
  },
  {
   "cell_type": "code",
   "execution_count": 133,
   "metadata": {},
   "outputs": [],
   "source": [
    "X_train=ae_standard_np[:1200]\n",
    "X_eval=ae_standard_np[1200:]"
   ]
  },
  {
   "cell_type": "code",
   "execution_count": 134,
   "metadata": {},
   "outputs": [
    {
     "data": {
      "text/plain": [
       "((1200, 50), (109, 50))"
      ]
     },
     "execution_count": 134,
     "metadata": {},
     "output_type": "execute_result"
    }
   ],
   "source": [
    "X_train.shape,X_eval.shape"
   ]
  },
  {
   "cell_type": "code",
   "execution_count": 135,
   "metadata": {},
   "outputs": [
    {
     "name": "stdout",
     "output_type": "stream",
     "text": [
      "Train on 1200 samples, validate on 109 samples\n",
      "Epoch 1/200\n",
      "1200/1200 [==============================] - 1s 431us/step - loss: 1.0197 - val_loss: 1.0672\n",
      "Epoch 2/200\n",
      "1200/1200 [==============================] - 0s 26us/step - loss: 1.0076 - val_loss: 1.0549\n",
      "Epoch 3/200\n",
      "1200/1200 [==============================] - 0s 27us/step - loss: 0.9979 - val_loss: 1.0463\n",
      "Epoch 4/200\n",
      "1200/1200 [==============================] - 0s 31us/step - loss: 0.9906 - val_loss: 1.0395\n",
      "Epoch 5/200\n",
      "1200/1200 [==============================] - 0s 30us/step - loss: 0.9843 - val_loss: 1.0336\n",
      "Epoch 6/200\n",
      "1200/1200 [==============================] - ETA: 0s - loss: 1.072 - 0s 25us/step - loss: 0.9777 - val_loss: 1.0273\n",
      "Epoch 7/200\n",
      "1200/1200 [==============================] - 0s 27us/step - loss: 0.9709 - val_loss: 1.0201\n",
      "Epoch 8/200\n",
      "1200/1200 [==============================] - 0s 27us/step - loss: 0.9629 - val_loss: 1.0119\n",
      "Epoch 9/200\n",
      "1200/1200 [==============================] - 0s 32us/step - loss: 0.9538 - val_loss: 1.0024\n",
      "Epoch 10/200\n",
      "1200/1200 [==============================] - 0s 35us/step - loss: 0.9436 - val_loss: 0.9919\n",
      "Epoch 11/200\n",
      "1200/1200 [==============================] - 0s 30us/step - loss: 0.9327 - val_loss: 0.9803\n",
      "Epoch 12/200\n",
      "1200/1200 [==============================] - 0s 29us/step - loss: 0.9207 - val_loss: 0.9675\n",
      "Epoch 13/200\n",
      "1200/1200 [==============================] - 0s 28us/step - loss: 0.9089 - val_loss: 0.9531\n",
      "Epoch 14/200\n",
      "1200/1200 [==============================] - 0s 25us/step - loss: 0.8954 - val_loss: 0.9385\n",
      "Epoch 15/200\n",
      "1200/1200 [==============================] - 0s 27us/step - loss: 0.8825 - val_loss: 0.9230\n",
      "Epoch 16/200\n",
      "1200/1200 [==============================] - 0s 33us/step - loss: 0.8690 - val_loss: 0.9072\n",
      "Epoch 17/200\n",
      "1200/1200 [==============================] - 0s 29us/step - loss: 0.8553 - val_loss: 0.8916\n",
      "Epoch 18/200\n",
      "1200/1200 [==============================] - 0s 27us/step - loss: 0.8423 - val_loss: 0.8761\n",
      "Epoch 19/200\n",
      "1200/1200 [==============================] - 0s 27us/step - loss: 0.8295 - val_loss: 0.8612\n",
      "Epoch 20/200\n",
      "1200/1200 [==============================] - 0s 27us/step - loss: 0.8172 - val_loss: 0.8468\n",
      "Epoch 21/200\n",
      "1200/1200 [==============================] - 0s 27us/step - loss: 0.8053 - val_loss: 0.8331\n",
      "Epoch 22/200\n",
      "1200/1200 [==============================] - 0s 24us/step - loss: 0.7940 - val_loss: 0.8199\n",
      "Epoch 23/200\n",
      "1200/1200 [==============================] - 0s 24us/step - loss: 0.7832 - val_loss: 0.8081\n",
      "Epoch 24/200\n",
      "1200/1200 [==============================] - 0s 26us/step - loss: 0.7733 - val_loss: 0.7970\n",
      "Epoch 25/200\n",
      "1200/1200 [==============================] - 0s 26us/step - loss: 0.7639 - val_loss: 0.7866\n",
      "Epoch 26/200\n",
      "1200/1200 [==============================] - 0s 27us/step - loss: 0.7555 - val_loss: 0.7776\n",
      "Epoch 27/200\n",
      "1200/1200 [==============================] - 0s 27us/step - loss: 0.7478 - val_loss: 0.7694\n",
      "Epoch 28/200\n",
      "1200/1200 [==============================] - 0s 27us/step - loss: 0.7408 - val_loss: 0.7620\n",
      "Epoch 29/200\n",
      "1200/1200 [==============================] - 0s 27us/step - loss: 0.7344 - val_loss: 0.7553\n",
      "Epoch 30/200\n",
      "1200/1200 [==============================] - 0s 30us/step - loss: 0.7284 - val_loss: 0.7491\n",
      "Epoch 31/200\n",
      "1200/1200 [==============================] - 0s 27us/step - loss: 0.7230 - val_loss: 0.7435\n",
      "Epoch 32/200\n",
      "1200/1200 [==============================] - 0s 26us/step - loss: 0.7179 - val_loss: 0.7384\n",
      "Epoch 33/200\n",
      "1200/1200 [==============================] - 0s 25us/step - loss: 0.7132 - val_loss: 0.7341\n",
      "Epoch 34/200\n",
      "1200/1200 [==============================] - 0s 27us/step - loss: 0.7088 - val_loss: 0.7302\n",
      "Epoch 35/200\n",
      "1200/1200 [==============================] - 0s 27us/step - loss: 0.7046 - val_loss: 0.7265\n",
      "Epoch 36/200\n",
      "1200/1200 [==============================] - 0s 29us/step - loss: 0.7006 - val_loss: 0.7230\n",
      "Epoch 37/200\n",
      "1200/1200 [==============================] - 0s 25us/step - loss: 0.6968 - val_loss: 0.7197\n",
      "Epoch 38/200\n",
      "1200/1200 [==============================] - 0s 27us/step - loss: 0.6931 - val_loss: 0.7165\n",
      "Epoch 39/200\n",
      "1200/1200 [==============================] - 0s 28us/step - loss: 0.6894 - val_loss: 0.7136\n",
      "Epoch 40/200\n",
      "1200/1200 [==============================] - 0s 29us/step - loss: 0.6859 - val_loss: 0.7109\n",
      "Epoch 41/200\n",
      "1200/1200 [==============================] - 0s 27us/step - loss: 0.6826 - val_loss: 0.7083\n",
      "Epoch 42/200\n",
      "1200/1200 [==============================] - 0s 25us/step - loss: 0.6794 - val_loss: 0.7061\n",
      "Epoch 43/200\n",
      "1200/1200 [==============================] - 0s 27us/step - loss: 0.6764 - val_loss: 0.7038\n",
      "Epoch 44/200\n",
      "1200/1200 [==============================] - 0s 26us/step - loss: 0.6734 - val_loss: 0.7015\n",
      "Epoch 45/200\n",
      "1200/1200 [==============================] - 0s 26us/step - loss: 0.6705 - val_loss: 0.6995\n",
      "Epoch 46/200\n",
      "1200/1200 [==============================] - 0s 26us/step - loss: 0.6676 - val_loss: 0.6974\n",
      "Epoch 47/200\n",
      "1200/1200 [==============================] - 0s 31us/step - loss: 0.6648 - val_loss: 0.6955\n",
      "Epoch 48/200\n",
      "1200/1200 [==============================] - 0s 27us/step - loss: 0.6621 - val_loss: 0.6935\n",
      "Epoch 49/200\n",
      "1200/1200 [==============================] - 0s 25us/step - loss: 0.6595 - val_loss: 0.6914\n",
      "Epoch 50/200\n",
      "1200/1200 [==============================] - 0s 28us/step - loss: 0.6570 - val_loss: 0.6894\n",
      "Epoch 51/200\n",
      "1200/1200 [==============================] - 0s 27us/step - loss: 0.6547 - val_loss: 0.6874\n",
      "Epoch 52/200\n",
      "1200/1200 [==============================] - 0s 25us/step - loss: 0.6525 - val_loss: 0.6855\n",
      "Epoch 53/200\n",
      "1200/1200 [==============================] - 0s 27us/step - loss: 0.6504 - val_loss: 0.6838\n",
      "Epoch 54/200\n",
      "1200/1200 [==============================] - 0s 26us/step - loss: 0.6484 - val_loss: 0.6823\n",
      "Epoch 55/200\n",
      "1200/1200 [==============================] - 0s 26us/step - loss: 0.6466 - val_loss: 0.6809\n",
      "Epoch 56/200\n",
      "1200/1200 [==============================] - 0s 24us/step - loss: 0.6447 - val_loss: 0.6794\n",
      "Epoch 57/200\n",
      "1200/1200 [==============================] - 0s 25us/step - loss: 0.6430 - val_loss: 0.6781\n",
      "Epoch 58/200\n",
      "1200/1200 [==============================] - 0s 30us/step - loss: 0.6413 - val_loss: 0.6769\n",
      "Epoch 59/200\n",
      "1200/1200 [==============================] - 0s 32us/step - loss: 0.6398 - val_loss: 0.6757\n",
      "Epoch 60/200\n",
      "1200/1200 [==============================] - 0s 28us/step - loss: 0.6382 - val_loss: 0.6744\n",
      "Epoch 61/200\n",
      "1200/1200 [==============================] - 0s 27us/step - loss: 0.6367 - val_loss: 0.6733\n",
      "Epoch 62/200\n",
      "1200/1200 [==============================] - 0s 32us/step - loss: 0.6353 - val_loss: 0.6718\n",
      "Epoch 63/200\n",
      "1200/1200 [==============================] - 0s 47us/step - loss: 0.6339 - val_loss: 0.6708\n",
      "Epoch 64/200\n",
      "1200/1200 [==============================] - 0s 42us/step - loss: 0.6326 - val_loss: 0.6694\n",
      "Epoch 65/200\n",
      "1200/1200 [==============================] - ETA: 0s - loss: 0.649 - 0s 33us/step - loss: 0.6313 - val_loss: 0.6685\n",
      "Epoch 66/200\n",
      "1200/1200 [==============================] - 0s 31us/step - loss: 0.6301 - val_loss: 0.6675\n",
      "Epoch 67/200\n",
      "1200/1200 [==============================] - 0s 33us/step - loss: 0.6289 - val_loss: 0.6665\n",
      "Epoch 68/200\n",
      "1200/1200 [==============================] - 0s 28us/step - loss: 0.6278 - val_loss: 0.6657\n",
      "Epoch 69/200\n",
      "1200/1200 [==============================] - 0s 33us/step - loss: 0.6267 - val_loss: 0.6647\n",
      "Epoch 70/200\n",
      "1200/1200 [==============================] - 0s 27us/step - loss: 0.6256 - val_loss: 0.6633\n",
      "Epoch 71/200\n",
      "1200/1200 [==============================] - 0s 32us/step - loss: 0.6246 - val_loss: 0.6620\n",
      "Epoch 72/200\n",
      "1200/1200 [==============================] - 0s 27us/step - loss: 0.6236 - val_loss: 0.6612\n",
      "Epoch 73/200\n",
      "1200/1200 [==============================] - 0s 26us/step - loss: 0.6226 - val_loss: 0.6606\n",
      "Epoch 74/200\n",
      "1200/1200 [==============================] - 0s 27us/step - loss: 0.6217 - val_loss: 0.6595\n",
      "Epoch 75/200\n",
      "1200/1200 [==============================] - ETA: 0s - loss: 0.707 - 0s 28us/step - loss: 0.6208 - val_loss: 0.6584\n",
      "Epoch 76/200\n",
      "1200/1200 [==============================] - 0s 27us/step - loss: 0.6199 - val_loss: 0.6576\n",
      "Epoch 77/200\n",
      "1200/1200 [==============================] - 0s 25us/step - loss: 0.6191 - val_loss: 0.6567\n"
     ]
    },
    {
     "name": "stdout",
     "output_type": "stream",
     "text": [
      "Epoch 78/200\n",
      "1200/1200 [==============================] - 0s 27us/step - loss: 0.6182 - val_loss: 0.6565\n",
      "Epoch 79/200\n",
      "1200/1200 [==============================] - 0s 28us/step - loss: 0.6174 - val_loss: 0.6556\n",
      "Epoch 80/200\n",
      "1200/1200 [==============================] - 0s 27us/step - loss: 0.6166 - val_loss: 0.6546\n",
      "Epoch 81/200\n",
      "1200/1200 [==============================] - 0s 35us/step - loss: 0.6159 - val_loss: 0.6539\n",
      "Epoch 82/200\n",
      "1200/1200 [==============================] - 0s 34us/step - loss: 0.6152 - val_loss: 0.6530\n",
      "Epoch 83/200\n",
      "1200/1200 [==============================] - 0s 37us/step - loss: 0.6145 - val_loss: 0.6522\n",
      "Epoch 84/200\n",
      "1200/1200 [==============================] - 0s 31us/step - loss: 0.6138 - val_loss: 0.6518\n",
      "Epoch 85/200\n",
      "1200/1200 [==============================] - 0s 29us/step - loss: 0.6131 - val_loss: 0.6513\n",
      "Epoch 86/200\n",
      "1200/1200 [==============================] - 0s 32us/step - loss: 0.6125 - val_loss: 0.6506\n",
      "Epoch 87/200\n",
      "1200/1200 [==============================] - 0s 33us/step - loss: 0.6119 - val_loss: 0.6500\n",
      "Epoch 88/200\n",
      "1200/1200 [==============================] - 0s 35us/step - loss: 0.6113 - val_loss: 0.6497\n",
      "Epoch 89/200\n",
      "1200/1200 [==============================] - 0s 37us/step - loss: 0.6107 - val_loss: 0.6494\n",
      "Epoch 90/200\n",
      "1200/1200 [==============================] - 0s 42us/step - loss: 0.6102 - val_loss: 0.6489\n",
      "Epoch 91/200\n",
      "1200/1200 [==============================] - 0s 47us/step - loss: 0.6096 - val_loss: 0.6480\n",
      "Epoch 92/200\n",
      "1200/1200 [==============================] - 0s 45us/step - loss: 0.6091 - val_loss: 0.6474\n",
      "Epoch 93/200\n",
      "1200/1200 [==============================] - 0s 42us/step - loss: 0.6086 - val_loss: 0.6467\n",
      "Epoch 94/200\n",
      "1200/1200 [==============================] - 0s 35us/step - loss: 0.6081 - val_loss: 0.6468\n",
      "Epoch 95/200\n",
      "1200/1200 [==============================] - 0s 49us/step - loss: 0.6076 - val_loss: 0.6464\n",
      "Epoch 96/200\n",
      "1200/1200 [==============================] - 0s 40us/step - loss: 0.6071 - val_loss: 0.6460\n",
      "Epoch 97/200\n",
      "1200/1200 [==============================] - 0s 39us/step - loss: 0.6066 - val_loss: 0.6454\n",
      "Epoch 98/200\n",
      "1200/1200 [==============================] - 0s 36us/step - loss: 0.6062 - val_loss: 0.6451\n",
      "Epoch 99/200\n",
      "1200/1200 [==============================] - 0s 48us/step - loss: 0.6058 - val_loss: 0.6444\n",
      "Epoch 100/200\n",
      "1200/1200 [==============================] - 0s 50us/step - loss: 0.6053 - val_loss: 0.6441\n",
      "Epoch 101/200\n",
      "1200/1200 [==============================] - 0s 39us/step - loss: 0.6050 - val_loss: 0.6437\n",
      "Epoch 102/200\n",
      "1200/1200 [==============================] - 0s 35us/step - loss: 0.6046 - val_loss: 0.6430\n",
      "Epoch 103/200\n",
      "1200/1200 [==============================] - 0s 32us/step - loss: 0.6041 - val_loss: 0.6426\n",
      "Epoch 104/200\n",
      "1200/1200 [==============================] - 0s 27us/step - loss: 0.6037 - val_loss: 0.6424\n",
      "Epoch 105/200\n",
      "1200/1200 [==============================] - 0s 27us/step - loss: 0.6034 - val_loss: 0.6419\n",
      "Epoch 106/200\n",
      "1200/1200 [==============================] - 0s 32us/step - loss: 0.6031 - val_loss: 0.6416\n",
      "Epoch 107/200\n",
      "1200/1200 [==============================] - 0s 36us/step - loss: 0.6028 - val_loss: 0.6415\n",
      "Epoch 108/200\n",
      "1200/1200 [==============================] - 0s 39us/step - loss: 0.6023 - val_loss: 0.6411\n",
      "Epoch 109/200\n",
      "1200/1200 [==============================] - 0s 30us/step - loss: 0.6019 - val_loss: 0.6408\n",
      "Epoch 110/200\n",
      "1200/1200 [==============================] - 0s 27us/step - loss: 0.6015 - val_loss: 0.6403\n",
      "Epoch 111/200\n",
      "1200/1200 [==============================] - 0s 31us/step - loss: 0.6013 - val_loss: 0.6399\n",
      "Epoch 112/200\n",
      "1200/1200 [==============================] - 0s 29us/step - loss: 0.6008 - val_loss: 0.6397\n",
      "Epoch 113/200\n",
      "1200/1200 [==============================] - 0s 31us/step - loss: 0.6005 - val_loss: 0.6396\n",
      "Epoch 114/200\n",
      "1200/1200 [==============================] - 0s 28us/step - loss: 0.6001 - val_loss: 0.6391\n",
      "Epoch 115/200\n",
      "1200/1200 [==============================] - 0s 27us/step - loss: 0.5998 - val_loss: 0.6383\n",
      "Epoch 116/200\n",
      "1200/1200 [==============================] - 0s 30us/step - loss: 0.5995 - val_loss: 0.6380\n",
      "Epoch 117/200\n",
      "1200/1200 [==============================] - 0s 32us/step - loss: 0.5992 - val_loss: 0.6379\n",
      "Epoch 118/200\n",
      "1200/1200 [==============================] - 0s 36us/step - loss: 0.5989 - val_loss: 0.6377\n",
      "Epoch 119/200\n",
      "1200/1200 [==============================] - 0s 32us/step - loss: 0.5986 - val_loss: 0.6375\n",
      "Epoch 120/200\n",
      "1200/1200 [==============================] - 0s 29us/step - loss: 0.5983 - val_loss: 0.6374\n",
      "Epoch 121/200\n",
      "1200/1200 [==============================] - 0s 30us/step - loss: 0.5981 - val_loss: 0.6370\n",
      "Epoch 122/200\n",
      "1200/1200 [==============================] - 0s 42us/step - loss: 0.5978 - val_loss: 0.6367\n",
      "Epoch 123/200\n",
      "1200/1200 [==============================] - 0s 32us/step - loss: 0.5976 - val_loss: 0.6364\n",
      "Epoch 124/200\n",
      "1200/1200 [==============================] - 0s 34us/step - loss: 0.5973 - val_loss: 0.6363\n",
      "Epoch 125/200\n",
      "1200/1200 [==============================] - 0s 34us/step - loss: 0.5970 - val_loss: 0.6363\n",
      "Epoch 126/200\n",
      "1200/1200 [==============================] - 0s 35us/step - loss: 0.5968 - val_loss: 0.6360\n",
      "Epoch 127/200\n",
      "1200/1200 [==============================] - 0s 37us/step - loss: 0.5966 - val_loss: 0.6358\n",
      "Epoch 128/200\n",
      "1200/1200 [==============================] - 0s 33us/step - loss: 0.5964 - val_loss: 0.6359\n",
      "Epoch 129/200\n",
      "1200/1200 [==============================] - 0s 30us/step - loss: 0.5961 - val_loss: 0.6355\n",
      "Epoch 130/200\n",
      "1200/1200 [==============================] - 0s 33us/step - loss: 0.5960 - val_loss: 0.6355\n",
      "Epoch 131/200\n",
      "1200/1200 [==============================] - 0s 32us/step - loss: 0.5957 - val_loss: 0.6352\n",
      "Epoch 132/200\n",
      "1200/1200 [==============================] - 0s 32us/step - loss: 0.5956 - val_loss: 0.6351\n",
      "Epoch 133/200\n",
      "1200/1200 [==============================] - 0s 33us/step - loss: 0.5953 - val_loss: 0.6348\n",
      "Epoch 134/200\n",
      "1200/1200 [==============================] - 0s 31us/step - loss: 0.5952 - val_loss: 0.6349\n",
      "Epoch 135/200\n",
      "1200/1200 [==============================] - 0s 34us/step - loss: 0.5950 - val_loss: 0.6348\n",
      "Epoch 136/200\n",
      "1200/1200 [==============================] - 0s 29us/step - loss: 0.5948 - val_loss: 0.6347\n",
      "Epoch 137/200\n",
      "1200/1200 [==============================] - 0s 24us/step - loss: 0.5946 - val_loss: 0.6346\n",
      "Epoch 138/200\n",
      "1200/1200 [==============================] - 0s 27us/step - loss: 0.5945 - val_loss: 0.6343\n",
      "Epoch 139/200\n",
      "1200/1200 [==============================] - 0s 37us/step - loss: 0.5943 - val_loss: 0.6342\n",
      "Epoch 140/200\n",
      "1200/1200 [==============================] - 0s 30us/step - loss: 0.5941 - val_loss: 0.6339\n",
      "Epoch 141/200\n",
      "1200/1200 [==============================] - 0s 32us/step - loss: 0.5939 - val_loss: 0.6338\n",
      "Epoch 142/200\n",
      "1200/1200 [==============================] - 0s 40us/step - loss: 0.5938 - val_loss: 0.6338\n",
      "Epoch 143/200\n",
      "1200/1200 [==============================] - 0s 33us/step - loss: 0.5936 - val_loss: 0.6336\n",
      "Epoch 144/200\n",
      "1200/1200 [==============================] - 0s 31us/step - loss: 0.5934 - val_loss: 0.6336\n",
      "Epoch 145/200\n",
      "1200/1200 [==============================] - 0s 29us/step - loss: 0.5933 - val_loss: 0.6336\n",
      "Epoch 146/200\n",
      "1200/1200 [==============================] - 0s 29us/step - loss: 0.5931 - val_loss: 0.6332\n",
      "Epoch 147/200\n",
      "1200/1200 [==============================] - 0s 28us/step - loss: 0.5930 - val_loss: 0.6332\n",
      "Epoch 148/200\n",
      "1200/1200 [==============================] - 0s 30us/step - loss: 0.5929 - val_loss: 0.6330\n",
      "Epoch 149/200\n",
      "1200/1200 [==============================] - 0s 27us/step - loss: 0.5927 - val_loss: 0.6328\n",
      "Epoch 150/200\n",
      "1200/1200 [==============================] - 0s 31us/step - loss: 0.5926 - val_loss: 0.6327\n",
      "Epoch 151/200\n",
      "1200/1200 [==============================] - 0s 32us/step - loss: 0.5924 - val_loss: 0.6323\n",
      "Epoch 152/200\n",
      "1200/1200 [==============================] - 0s 27us/step - loss: 0.5923 - val_loss: 0.6320\n",
      "Epoch 153/200\n",
      "1200/1200 [==============================] - 0s 26us/step - loss: 0.5921 - val_loss: 0.6319\n",
      "Epoch 154/200\n",
      "1200/1200 [==============================] - 0s 27us/step - loss: 0.5920 - val_loss: 0.6319\n",
      "Epoch 155/200\n",
      "1200/1200 [==============================] - 0s 24us/step - loss: 0.5919 - val_loss: 0.6319\n",
      "Epoch 156/200\n",
      "1200/1200 [==============================] - 0s 27us/step - loss: 0.5918 - val_loss: 0.6318\n",
      "Epoch 157/200\n",
      "1200/1200 [==============================] - 0s 26us/step - loss: 0.5916 - val_loss: 0.6316\n",
      "Epoch 158/200\n",
      "1200/1200 [==============================] - 0s 27us/step - loss: 0.5915 - val_loss: 0.6314\n",
      "Epoch 159/200\n",
      "1200/1200 [==============================] - 0s 32us/step - loss: 0.5914 - val_loss: 0.6314\n",
      "Epoch 160/200\n",
      "1200/1200 [==============================] - 0s 31us/step - loss: 0.5913 - val_loss: 0.6316\n",
      "Epoch 161/200\n",
      "1200/1200 [==============================] - 0s 31us/step - loss: 0.5912 - val_loss: 0.6311\n",
      "Epoch 162/200\n",
      "1200/1200 [==============================] - 0s 29us/step - loss: 0.5911 - val_loss: 0.6309\n",
      "Epoch 163/200\n",
      "1200/1200 [==============================] - 0s 28us/step - loss: 0.5909 - val_loss: 0.6306\n",
      "Epoch 164/200\n",
      "1200/1200 [==============================] - 0s 26us/step - loss: 0.5908 - val_loss: 0.6306\n",
      "Epoch 165/200\n",
      "1200/1200 [==============================] - 0s 27us/step - loss: 0.5907 - val_loss: 0.6303\n",
      "Epoch 166/200\n",
      "1200/1200 [==============================] - 0s 25us/step - loss: 0.5906 - val_loss: 0.6306\n",
      "Epoch 167/200\n",
      "1200/1200 [==============================] - 0s 25us/step - loss: 0.5905 - val_loss: 0.6304\n",
      "Epoch 168/200\n",
      "1200/1200 [==============================] - 0s 25us/step - loss: 0.5904 - val_loss: 0.6301\n",
      "Epoch 169/200\n",
      "1200/1200 [==============================] - 0s 27us/step - loss: 0.5902 - val_loss: 0.6305\n",
      "Epoch 170/200\n",
      "1200/1200 [==============================] - 0s 29us/step - loss: 0.5902 - val_loss: 0.6305\n",
      "Epoch 171/200\n",
      "1200/1200 [==============================] - 0s 27us/step - loss: 0.5901 - val_loss: 0.6305\n",
      "Epoch 172/200\n",
      "1200/1200 [==============================] - 0s 29us/step - loss: 0.5900 - val_loss: 0.6297\n",
      "Epoch 173/200\n",
      "1200/1200 [==============================] - 0s 28us/step - loss: 0.5899 - val_loss: 0.6297\n",
      "Epoch 174/200\n",
      "1200/1200 [==============================] - 0s 27us/step - loss: 0.5898 - val_loss: 0.6299\n",
      "Epoch 175/200\n",
      "1200/1200 [==============================] - 0s 26us/step - loss: 0.5896 - val_loss: 0.6299\n",
      "Epoch 176/200\n",
      "1200/1200 [==============================] - 0s 26us/step - loss: 0.5896 - val_loss: 0.6297\n",
      "Epoch 177/200\n",
      "1200/1200 [==============================] - 0s 26us/step - loss: 0.5895 - val_loss: 0.6295\n",
      "Epoch 178/200\n",
      "1200/1200 [==============================] - 0s 27us/step - loss: 0.5894 - val_loss: 0.6296\n",
      "Epoch 179/200\n",
      "1200/1200 [==============================] - ETA: 0s - loss: 0.452 - 0s 28us/step - loss: 0.5892 - val_loss: 0.6293\n",
      "Epoch 180/200\n",
      "1200/1200 [==============================] - 0s 27us/step - loss: 0.5892 - val_loss: 0.6293\n",
      "Epoch 181/200\n",
      "1200/1200 [==============================] - 0s 27us/step - loss: 0.5891 - val_loss: 0.6294\n",
      "Epoch 182/200\n",
      "1200/1200 [==============================] - 0s 27us/step - loss: 0.5890 - val_loss: 0.6292\n",
      "Epoch 183/200\n",
      "1200/1200 [==============================] - 0s 32us/step - loss: 0.5889 - val_loss: 0.6289\n",
      "Epoch 184/200\n",
      "1200/1200 [==============================] - 0s 36us/step - loss: 0.5888 - val_loss: 0.6289\n",
      "Epoch 185/200\n",
      "1200/1200 [==============================] - 0s 41us/step - loss: 0.5888 - val_loss: 0.6288\n",
      "Epoch 186/200\n",
      "1200/1200 [==============================] - 0s 36us/step - loss: 0.5887 - val_loss: 0.6288\n",
      "Epoch 187/200\n",
      "1200/1200 [==============================] - 0s 33us/step - loss: 0.5886 - val_loss: 0.6285\n",
      "Epoch 188/200\n",
      "1200/1200 [==============================] - 0s 30us/step - loss: 0.5885 - val_loss: 0.6287\n",
      "Epoch 189/200\n",
      "1200/1200 [==============================] - 0s 29us/step - loss: 0.5884 - val_loss: 0.6286\n",
      "Epoch 190/200\n",
      "1200/1200 [==============================] - 0s 30us/step - loss: 0.5883 - val_loss: 0.6285\n",
      "Epoch 191/200\n",
      "1200/1200 [==============================] - 0s 28us/step - loss: 0.5882 - val_loss: 0.6282\n",
      "Epoch 192/200\n",
      "1200/1200 [==============================] - 0s 30us/step - loss: 0.5882 - val_loss: 0.6280\n",
      "Epoch 193/200\n",
      "1200/1200 [==============================] - 0s 30us/step - loss: 0.5881 - val_loss: 0.6280\n",
      "Epoch 194/200\n",
      "1200/1200 [==============================] - 0s 32us/step - loss: 0.5881 - val_loss: 0.6280\n",
      "Epoch 195/200\n",
      "1200/1200 [==============================] - 0s 31us/step - loss: 0.5880 - val_loss: 0.6281\n",
      "Epoch 196/200\n",
      "1200/1200 [==============================] - 0s 30us/step - loss: 0.5879 - val_loss: 0.6282\n",
      "Epoch 197/200\n",
      "1200/1200 [==============================] - 0s 28us/step - loss: 0.5878 - val_loss: 0.6279\n",
      "Epoch 198/200\n",
      "1200/1200 [==============================] - 0s 29us/step - loss: 0.5877 - val_loss: 0.6279\n",
      "Epoch 199/200\n",
      "1200/1200 [==============================] - 0s 27us/step - loss: 0.5877 - val_loss: 0.6276\n",
      "Epoch 200/200\n",
      "1200/1200 [==============================] - 0s 30us/step - loss: 0.5876 - val_loss: 0.6273\n"
     ]
    },
    {
     "data": {
      "text/plain": [
       "<keras.callbacks.History at 0x16263a29278>"
      ]
     },
     "execution_count": 135,
     "metadata": {},
     "output_type": "execute_result"
    }
   ],
   "source": [
    "#训练模型\n",
    "model.fit(X_train,X_train,batch_size=batch_size,epochs=epochs,validation_data=[X_eval,X_eval])"
   ]
  },
  {
   "cell_type": "code",
   "execution_count": 136,
   "metadata": {},
   "outputs": [
    {
     "data": {
      "text/plain": [
       "array([ 0.82766931,  1.93572254,  0.0336646 ,  1.07885292, -0.37019258,\n",
       "        1.49602053,  0.96276563,  1.25937023, -0.22643032,  1.34499549,\n",
       "        2.35787478, -0.51502135,  2.56645764,  2.24948554,  1.17060062,\n",
       "       -0.3250884 , -0.36321285, -0.39213719,  0.6212742 ,  1.06873154,\n",
       "       -0.18490606,  1.10470414, -0.08773955, -0.35177719,  0.87936559,\n",
       "        0.55780901, -0.14069042, -0.14198762,  2.42674631, -0.12079052,\n",
       "       -0.77146693, -0.12027696, -0.17571017,  1.34499549, -0.44771505,\n",
       "       -0.10208177, -0.19266846,  1.67113775,  0.54501064, -0.47507471,\n",
       "       -0.12027696, -0.32342025,  2.25917848, -0.29429097, -0.31815144,\n",
       "       -0.24310938, -0.25669649, -0.34643049, -0.05251453, -0.44281517])"
      ]
     },
     "execution_count": 136,
     "metadata": {},
     "output_type": "execute_result"
    }
   ],
   "source": [
    "X_eval[0]"
   ]
  },
  {
   "cell_type": "code",
   "execution_count": 137,
   "metadata": {},
   "outputs": [
    {
     "data": {
      "text/plain": [
       "array([ 0.84259963,  0.89565194, -0.1657296 ,  0.3699348 , -0.46292907,\n",
       "        0.74069   ,  0.52614015, -0.3312198 , -0.6547402 ,  0.8768692 ,\n",
       "        0.8939867 , -0.9338216 ,  0.55263174,  0.7648835 , -0.33672792,\n",
       "       -0.41581   , -0.5297965 , -0.6790321 ,  0.6871953 ,  0.1279342 ,\n",
       "       -0.6482408 , -0.19741514,  0.01378946,  0.31400046,  0.7704295 ,\n",
       "       -0.21264473, -0.5385604 , -0.50612307,  0.46878704, -0.632584  ,\n",
       "       -0.9613648 , -0.1219368 , -0.03166279,  0.8712636 , -0.60364246,\n",
       "        0.07714609, -0.6353725 ,  0.9529996 ,  0.25829062, -0.6812642 ,\n",
       "       -0.12176671,  0.2922581 ,  0.8147812 ,  0.16231813, -0.10317522,\n",
       "       -0.35576746,  0.08484281, -0.15319254,  0.03710562, -0.6286148 ],\n",
       "      dtype=float32)"
      ]
     },
     "execution_count": 137,
     "metadata": {},
     "output_type": "execute_result"
    }
   ],
   "source": [
    "model.predict(X_eval)[0]"
   ]
  },
  {
   "cell_type": "code",
   "execution_count": 138,
   "metadata": {},
   "outputs": [
    {
     "data": {
      "text/plain": [
       "array([1.7635584, 0.       ], dtype=float32)"
      ]
     },
     "execution_count": 138,
     "metadata": {},
     "output_type": "execute_result"
    }
   ],
   "source": [
    "encode_layer_model.predict(X_eval)[0]"
   ]
  },
  {
   "cell_type": "code",
   "execution_count": 139,
   "metadata": {},
   "outputs": [
    {
     "data": {
      "text/plain": [
       "(0.08181091146516974, 0.7877961965753176)"
      ]
     },
     "execution_count": 139,
     "metadata": {},
     "output_type": "execute_result"
    }
   ],
   "source": [
    "np.mean(X_eval-model.predict(X_eval)),np.std(X_eval-model.predict(X_eval))"
   ]
  },
  {
   "cell_type": "code",
   "execution_count": 140,
   "metadata": {},
   "outputs": [],
   "source": [
    "ae_new_features=encode_layer_model.predict(ae_standard_np)"
   ]
  },
  {
   "cell_type": "code",
   "execution_count": 141,
   "metadata": {},
   "outputs": [
    {
     "data": {
      "text/plain": [
       "(1309, 2)"
      ]
     },
     "execution_count": 141,
     "metadata": {},
     "output_type": "execute_result"
    }
   ],
   "source": [
    "ae_new_features.shape"
   ]
  },
  {
   "cell_type": "code",
   "execution_count": 142,
   "metadata": {},
   "outputs": [
    {
     "data": {
      "text/plain": [
       "(0.6780143813765033, 0.017743977525973863)"
      ]
     },
     "execution_count": 142,
     "metadata": {},
     "output_type": "execute_result"
    }
   ],
   "source": [
    "#gbdt\n",
    "classifier=GradientBoostingClassifier()\n",
    "scores = cross_val_score(classifier,ae_new_features[:891], labels, scoring='f1', cv = 5)\n",
    "np.mean(scores),np.std(scores)"
   ]
  },
  {
   "cell_type": "code",
   "execution_count": 143,
   "metadata": {},
   "outputs": [
    {
     "data": {
      "image/png": "[encoded data removed]",
      "text/plain": [
       "<Figure size 432x288 with 1 Axes>"
      ]
     },
     "metadata": {},
     "output_type": "display_data"
    }
   ],
   "source": [
    "plt.scatter(ae_new_features[:891][:, 0], ae_new_features[:891][:, 1],marker='o',c=labels)\n",
    "plt.show()"
   ]
  },
  {
   "cell_type": "markdown",
   "metadata": {},
   "source": [
    "#### 4.1.4 vae-变分自编码\n",
    "变分自编码即在中间添加白噪声，增强自编码的泛化能力  \n",
    "更多：https://blog.csdn.net/weixin_41923961/article/details/81586082"
   ]
  },
  {
   "cell_type": "code",
   "execution_count": 144,
   "metadata": {},
   "outputs": [],
   "source": [
    "#定义网络结构\n",
    "from keras import backend as K\n",
    "from keras import objectives\n",
    "latent_dim = 2\n",
    "intermediate_dim = 32\n",
    "epsilon_std = 1.0\n",
    "\n",
    "x = Input(shape=(input_dim,))\n",
    "h = Dense(intermediate_dim, activation='relu')(x)\n",
    "z_mean = Dense(latent_dim)(h)\n",
    "z_log_var = Dense(latent_dim)(h)\n",
    "\n",
    "#my tips:Gauss sampling,sample Z\n",
    "def sampling(args): \n",
    "    z_mean, z_log_var = args\n",
    "    epsilon = K.random_normal(shape=(latent_dim,), mean=0.,stddev=epsilon_std)\n",
    "    return z_mean + K.exp(z_log_var / 2) * epsilon\n",
    " \n",
    "# note that \"output_shape\" isn't necessary with the TensorFlow backend\n",
    "# my tips:get sample z(encoded)\n",
    "z = Lambda(sampling, output_shape=(latent_dim,))([z_mean, z_log_var])\n",
    " \n",
    "# we instantiate these layers separately so as to reuse them later\n",
    "decoder_h = Dense(intermediate_dim, activation='relu')\n",
    "decoder_mean = Dense(input_dim, activation='sigmoid')\n",
    "h_decoded = decoder_h(z)\n",
    "x_decoded_mean = decoder_mean(h_decoded)\n",
    " \n",
    "#my tips:loss(restruct X)+KL\n",
    "def vae_loss(x, x_decoded_mean):\n",
    "    #my tips:logloss\n",
    "    xent_loss = input_dim * objectives.binary_crossentropy(x, x_decoded_mean)\n",
    "    #my tips:see paper's appendix B\n",
    "    kl_loss = - 0.5 * K.sum(1 + z_log_var - K.square(z_mean) - K.exp(z_log_var), axis=-1)\n",
    "    return xent_loss + kl_loss\n",
    " \n",
    "vae = Model(x, x_decoded_mean)\n",
    "vae.compile(optimizer='rmsprop', loss=vae_loss)"
   ]
  },
  {
   "cell_type": "code",
   "execution_count": 145,
   "metadata": {},
   "outputs": [
    {
     "name": "stdout",
     "output_type": "stream",
     "text": [
      "Train on 1200 samples, validate on 109 samples\n",
      "Epoch 1/200\n",
      "1200/1200 [==============================] - 0s 385us/step - loss: 36.0322 - val_loss: 34.7021\n",
      "Epoch 2/200\n",
      "1200/1200 [==============================] - 0s 46us/step - loss: 33.8301 - val_loss: 31.6163\n",
      "Epoch 3/200\n",
      "1200/1200 [==============================] - 0s 41us/step - loss: 32.4203 - val_loss: 32.2834\n",
      "Epoch 4/200\n",
      "1200/1200 [==============================] - 0s 40us/step - loss: 29.9816 - val_loss: 30.0823\n",
      "Epoch 5/200\n",
      "1200/1200 [==============================] - 0s 44us/step - loss: 26.8610 - val_loss: 26.0733\n",
      "Epoch 6/200\n",
      "1200/1200 [==============================] - 0s 46us/step - loss: 23.5636 - val_loss: 25.6523\n",
      "Epoch 7/200\n",
      "1200/1200 [==============================] - 0s 44us/step - loss: 18.2856 - val_loss: 9.0534\n",
      "Epoch 8/200\n",
      "1200/1200 [==============================] - 0s 44us/step - loss: 11.1824 - val_loss: 6.3278\n",
      "Epoch 9/200\n",
      "1200/1200 [==============================] - 0s 42us/step - loss: 6.7168 - val_loss: 4.9056\n",
      "Epoch 10/200\n",
      "1200/1200 [==============================] - 0s 49us/step - loss: -2.0989 - val_loss: -6.4802\n",
      "Epoch 11/200\n",
      "1200/1200 [==============================] - ETA: 0s - loss: -4.34 - 0s 47us/step - loss: -8.4981 - val_loss: -16.3702\n",
      "Epoch 12/200\n",
      "1200/1200 [==============================] - 0s 44us/step - loss: -20.0082 - val_loss: -29.4273\n",
      "Epoch 13/200\n",
      "1200/1200 [==============================] - 0s 49us/step - loss: -25.1697 - val_loss: -32.0603\n",
      "Epoch 14/200\n",
      "1200/1200 [==============================] - 0s 48us/step - loss: -35.0976 - val_loss: -42.6215\n",
      "Epoch 15/200\n",
      "1200/1200 [==============================] - 0s 46us/step - loss: -44.6793 - val_loss: -54.9334\n",
      "Epoch 16/200\n",
      "1200/1200 [==============================] - 0s 49us/step - loss: -54.1252 - val_loss: -66.2804\n",
      "Epoch 17/200\n",
      "1200/1200 [==============================] - 0s 64us/step - loss: -62.6568 - val_loss: -69.8099\n",
      "Epoch 18/200\n",
      "1200/1200 [==============================] - 0s 71us/step - loss: -79.3135 - val_loss: -92.0042\n",
      "Epoch 19/200\n",
      "1200/1200 [==============================] - 0s 53us/step - loss: -85.6046 - val_loss: -98.2631\n",
      "Epoch 20/200\n",
      "1200/1200 [==============================] - 0s 45us/step - loss: -97.7223 - val_loss: -110.7350\n",
      "Epoch 21/200\n",
      "1200/1200 [==============================] - 0s 43us/step - loss: -108.8734 - val_loss: -121.7681\n",
      "Epoch 22/200\n",
      "1200/1200 [==============================] - 0s 39us/step - loss: -117.2519 - val_loss: -122.9283\n",
      "Epoch 23/200\n",
      "1200/1200 [==============================] - 0s 43us/step - loss: -124.0625 - val_loss: -130.6821\n",
      "Epoch 24/200\n",
      "1200/1200 [==============================] - 0s 39us/step - loss: -127.9313 - val_loss: -134.6431\n",
      "Epoch 25/200\n",
      "1200/1200 [==============================] - 0s 41us/step - loss: -136.6242 - val_loss: -144.6512\n",
      "Epoch 26/200\n",
      "1200/1200 [==============================] - 0s 39us/step - loss: -141.2549 - val_loss: -149.7274\n",
      "Epoch 27/200\n",
      "1200/1200 [==============================] - 0s 41us/step - loss: -147.2086 - val_loss: -150.6741\n",
      "Epoch 28/200\n",
      "1200/1200 [==============================] - 0s 39us/step - loss: -150.1748 - val_loss: -156.0731\n",
      "Epoch 29/200\n",
      "1200/1200 [==============================] - 0s 42us/step - loss: -153.8265 - val_loss: -155.1350\n",
      "Epoch 30/200\n",
      "1200/1200 [==============================] - 0s 43us/step - loss: -159.5195 - val_loss: -164.9775\n",
      "Epoch 31/200\n",
      "1200/1200 [==============================] - 0s 40us/step - loss: -162.5176 - val_loss: -167.6422\n",
      "Epoch 32/200\n",
      "1200/1200 [==============================] - 0s 42us/step - loss: -164.5841 - val_loss: -162.5660\n",
      "Epoch 33/200\n",
      "1200/1200 [==============================] - 0s 38us/step - loss: -169.3451 - val_loss: -172.1781\n",
      "Epoch 34/200\n",
      "1200/1200 [==============================] - 0s 42us/step - loss: -172.9661 - val_loss: -170.5206\n",
      "Epoch 35/200\n",
      "1200/1200 [==============================] - 0s 41us/step - loss: -175.2212 - val_loss: -178.1695\n",
      "Epoch 36/200\n",
      "1200/1200 [==============================] - 0s 39us/step - loss: -176.2896 - val_loss: -174.4894\n",
      "Epoch 37/200\n",
      "1200/1200 [==============================] - 0s 43us/step - loss: -180.8014 - val_loss: -180.8597\n",
      "Epoch 38/200\n",
      "1200/1200 [==============================] - 0s 39us/step - loss: -182.6409 - val_loss: -183.8219\n",
      "Epoch 39/200\n",
      "1200/1200 [==============================] - 0s 42us/step - loss: -184.8439 - val_loss: -186.8923\n",
      "Epoch 40/200\n",
      "1200/1200 [==============================] - 0s 45us/step - loss: -187.4653 - val_loss: -187.9583\n",
      "Epoch 41/200\n",
      "1200/1200 [==============================] - 0s 41us/step - loss: -188.7138 - val_loss: -189.6729\n",
      "Epoch 42/200\n",
      "1200/1200 [==============================] - 0s 42us/step - loss: -191.0132 - val_loss: -192.4526\n",
      "Epoch 43/200\n",
      "1200/1200 [==============================] - 0s 39us/step - loss: -193.3996 - val_loss: -191.4754\n",
      "Epoch 44/200\n",
      "1200/1200 [==============================] - 0s 40us/step - loss: -195.4018 - val_loss: -192.4886\n",
      "Epoch 45/200\n",
      "1200/1200 [==============================] - 0s 43us/step - loss: -197.8354 - val_loss: -198.9803\n",
      "Epoch 46/200\n",
      "1200/1200 [==============================] - 0s 41us/step - loss: -199.3286 - val_loss: -199.6373\n",
      "Epoch 47/200\n",
      "1200/1200 [==============================] - 0s 49us/step - loss: -199.9366 - val_loss: -195.8194\n",
      "Epoch 48/200\n",
      "1200/1200 [==============================] - 0s 43us/step - loss: -202.2465 - val_loss: -201.8374\n",
      "Epoch 49/200\n",
      "1200/1200 [==============================] - 0s 40us/step - loss: -204.1095 - val_loss: -203.7368\n",
      "Epoch 50/200\n",
      "1200/1200 [==============================] - 0s 41us/step - loss: -206.1324 - val_loss: -205.3748\n",
      "Epoch 51/200\n",
      "1200/1200 [==============================] - 0s 43us/step - loss: -207.9977 - val_loss: -208.2765\n",
      "Epoch 52/200\n",
      "1200/1200 [==============================] - 0s 46us/step - loss: -206.9545 - val_loss: -207.8138\n",
      "Epoch 53/200\n",
      "1200/1200 [==============================] - 0s 62us/step - loss: -210.4672 - val_loss: -210.5954\n",
      "Epoch 54/200\n",
      "1200/1200 [==============================] - 0s 52us/step - loss: -211.8306 - val_loss: -211.2946\n",
      "Epoch 55/200\n",
      "1200/1200 [==============================] - 0s 52us/step - loss: -213.8054 - val_loss: -211.6980\n",
      "Epoch 56/200\n",
      "1200/1200 [==============================] - 0s 43us/step - loss: -214.7484 - val_loss: -213.9301\n",
      "Epoch 57/200\n",
      "1200/1200 [==============================] - 0s 42us/step - loss: -215.6093 - val_loss: -215.3631\n",
      "Epoch 58/200\n",
      "1200/1200 [==============================] - 0s 37us/step - loss: -217.7883 - val_loss: -215.9731\n",
      "Epoch 59/200\n",
      "1200/1200 [==============================] - 0s 38us/step - loss: -218.1276 - val_loss: -216.4344\n",
      "Epoch 60/200\n",
      "1200/1200 [==============================] - 0s 39us/step - loss: -220.2750 - val_loss: -217.1644\n",
      "Epoch 61/200\n",
      "1200/1200 [==============================] - 0s 39us/step - loss: -218.7617 - val_loss: -219.0812\n",
      "Epoch 62/200\n",
      "1200/1200 [==============================] - 0s 37us/step - loss: -221.8987 - val_loss: -221.1280\n",
      "Epoch 63/200\n",
      "1200/1200 [==============================] - 0s 40us/step - loss: -221.3936 - val_loss: -221.3479\n",
      "Epoch 64/200\n",
      "1200/1200 [==============================] - 0s 37us/step - loss: -223.6522 - val_loss: -220.7797\n",
      "Epoch 65/200\n",
      "1200/1200 [==============================] - 0s 43us/step - loss: -225.2709 - val_loss: -223.5696\n",
      "Epoch 66/200\n",
      "1200/1200 [==============================] - 0s 40us/step - loss: -225.4791 - val_loss: -224.2963\n",
      "Epoch 67/200\n",
      "1200/1200 [==============================] - 0s 40us/step - loss: -226.3259 - val_loss: -225.5609\n",
      "Epoch 68/200\n",
      "1200/1200 [==============================] - 0s 43us/step - loss: -226.7861 - val_loss: -225.8561\n",
      "Epoch 69/200\n",
      "1200/1200 [==============================] - 0s 37us/step - loss: -228.7305 - val_loss: -222.9846\n",
      "Epoch 70/200\n",
      "1200/1200 [==============================] - 0s 37us/step - loss: -228.3335 - val_loss: -226.6503\n",
      "Epoch 71/200\n",
      "1200/1200 [==============================] - 0s 37us/step - loss: -229.9302 - val_loss: -228.6987\n",
      "Epoch 72/200\n",
      "1200/1200 [==============================] - 0s 40us/step - loss: -230.0094 - val_loss: -229.6452\n",
      "Epoch 73/200\n",
      "1200/1200 [==============================] - 0s 38us/step - loss: -230.9542 - val_loss: -229.7367\n",
      "Epoch 74/200\n",
      "1200/1200 [==============================] - 0s 42us/step - loss: -231.8372 - val_loss: -230.7162\n"
     ]
    },
    {
     "name": "stdout",
     "output_type": "stream",
     "text": [
      "Epoch 75/200\n",
      "1200/1200 [==============================] - 0s 42us/step - loss: -232.7775 - val_loss: -231.3263\n",
      "Epoch 76/200\n",
      "1200/1200 [==============================] - 0s 43us/step - loss: -233.9794 - val_loss: -231.1739\n",
      "Epoch 77/200\n",
      "1200/1200 [==============================] - 0s 37us/step - loss: -233.5089 - val_loss: -233.4069\n",
      "Epoch 78/200\n",
      "1200/1200 [==============================] - 0s 41us/step - loss: -233.5800 - val_loss: -230.3409\n",
      "Epoch 79/200\n",
      "1200/1200 [==============================] - 0s 42us/step - loss: -234.5334 - val_loss: -234.8030\n",
      "Epoch 80/200\n",
      "1200/1200 [==============================] - 0s 43us/step - loss: -235.5616 - val_loss: -235.6455\n",
      "Epoch 81/200\n",
      "1200/1200 [==============================] - 0s 39us/step - loss: -236.4999 - val_loss: -235.4594\n",
      "Epoch 82/200\n",
      "1200/1200 [==============================] - 0s 37us/step - loss: -237.3346 - val_loss: -235.1954\n",
      "Epoch 83/200\n",
      "1200/1200 [==============================] - 0s 38us/step - loss: -237.3713 - val_loss: -237.6295\n",
      "Epoch 84/200\n",
      "1200/1200 [==============================] - 0s 45us/step - loss: -237.2432 - val_loss: -237.3528\n",
      "Epoch 85/200\n",
      "1200/1200 [==============================] - 0s 40us/step - loss: -239.1301 - val_loss: -237.9530\n",
      "Epoch 86/200\n",
      "1200/1200 [==============================] - 0s 42us/step - loss: -239.6052 - val_loss: -237.2639\n",
      "Epoch 87/200\n",
      "1200/1200 [==============================] - 0s 42us/step - loss: -240.2287 - val_loss: -240.5369\n",
      "Epoch 88/200\n",
      "1200/1200 [==============================] - 0s 50us/step - loss: -240.4089 - val_loss: -237.0349\n",
      "Epoch 89/200\n",
      "1200/1200 [==============================] - 0s 45us/step - loss: -240.1467 - val_loss: -239.0190\n",
      "Epoch 90/200\n",
      "1200/1200 [==============================] - 0s 52us/step - loss: -241.0824 - val_loss: -241.3419\n",
      "Epoch 91/200\n",
      "1200/1200 [==============================] - 0s 74us/step - loss: -241.7599 - val_loss: -241.4667\n",
      "Epoch 92/200\n",
      "1200/1200 [==============================] - 0s 67us/step - loss: -242.0052 - val_loss: -241.6755\n",
      "Epoch 93/200\n",
      "1200/1200 [==============================] - 0s 50us/step - loss: -241.1170 - val_loss: -240.2891\n",
      "Epoch 94/200\n",
      "1200/1200 [==============================] - 0s 60us/step - loss: -242.9253 - val_loss: -241.1100\n",
      "Epoch 95/200\n",
      "1200/1200 [==============================] - 0s 43us/step - loss: -242.8805 - val_loss: -243.4879\n",
      "Epoch 96/200\n",
      "1200/1200 [==============================] - 0s 51us/step - loss: -243.2285 - val_loss: -243.0897\n",
      "Epoch 97/200\n",
      "1200/1200 [==============================] - 0s 45us/step - loss: -243.7404 - val_loss: -238.6712\n",
      "Epoch 98/200\n",
      "1200/1200 [==============================] - 0s 47us/step - loss: -243.7135 - val_loss: -244.2330\n",
      "Epoch 99/200\n",
      "1200/1200 [==============================] - 0s 43us/step - loss: -243.9751 - val_loss: -244.6698\n",
      "Epoch 100/200\n",
      "1200/1200 [==============================] - 0s 50us/step - loss: -244.3595 - val_loss: -244.6985\n",
      "Epoch 101/200\n",
      "1200/1200 [==============================] - 0s 62us/step - loss: -245.7793 - val_loss: -240.5719\n",
      "Epoch 102/200\n",
      "1200/1200 [==============================] - 0s 47us/step - loss: -245.5833 - val_loss: -244.5527\n",
      "Epoch 103/200\n",
      "1200/1200 [==============================] - 0s 50us/step - loss: -245.1174 - val_loss: -245.6055\n",
      "Epoch 104/200\n",
      "1200/1200 [==============================] - 0s 63us/step - loss: -246.6947 - val_loss: -244.5897\n",
      "Epoch 105/200\n",
      "1200/1200 [==============================] - 0s 66us/step - loss: -246.0648 - val_loss: -247.2596\n",
      "Epoch 106/200\n",
      "1200/1200 [==============================] - 0s 49us/step - loss: -246.3280 - val_loss: -245.1700\n",
      "Epoch 107/200\n",
      "1200/1200 [==============================] - 0s 51us/step - loss: -246.9919 - val_loss: -244.3329\n",
      "Epoch 108/200\n",
      "1200/1200 [==============================] - 0s 47us/step - loss: -247.8342 - val_loss: -246.8969\n",
      "Epoch 109/200\n",
      "1200/1200 [==============================] - 0s 41us/step - loss: -247.9137 - val_loss: -248.1945\n",
      "Epoch 110/200\n",
      "1200/1200 [==============================] - 0s 41us/step - loss: -248.4584 - val_loss: -247.3998\n",
      "Epoch 111/200\n",
      "1200/1200 [==============================] - 0s 41us/step - loss: -248.6404 - val_loss: -249.1832\n",
      "Epoch 112/200\n",
      "1200/1200 [==============================] - 0s 45us/step - loss: -247.1656 - val_loss: -249.1751\n",
      "Epoch 113/200\n",
      "1200/1200 [==============================] - 0s 43us/step - loss: -248.9547 - val_loss: -248.4621\n",
      "Epoch 114/200\n",
      "1200/1200 [==============================] - 0s 59us/step - loss: -249.1383 - val_loss: -248.1487\n",
      "Epoch 115/200\n",
      "1200/1200 [==============================] - 0s 48us/step - loss: -249.1573 - val_loss: -249.6732\n",
      "Epoch 116/200\n",
      "1200/1200 [==============================] - 0s 42us/step - loss: -249.4962 - val_loss: -249.2317\n",
      "Epoch 117/200\n",
      "1200/1200 [==============================] - 0s 42us/step - loss: -250.1192 - val_loss: -249.3401\n",
      "Epoch 118/200\n",
      "1200/1200 [==============================] - 0s 43us/step - loss: -250.7836 - val_loss: -250.8305\n",
      "Epoch 119/200\n",
      "1200/1200 [==============================] - 0s 48us/step - loss: -248.8736 - val_loss: -251.2466\n",
      "Epoch 120/200\n",
      "1200/1200 [==============================] - 0s 44us/step - loss: -250.1215 - val_loss: -250.8976\n",
      "Epoch 121/200\n",
      "1200/1200 [==============================] - 0s 53us/step - loss: -250.8677 - val_loss: -250.9131\n",
      "Epoch 122/200\n",
      "1200/1200 [==============================] - 0s 52us/step - loss: -251.9341 - val_loss: -250.6540\n",
      "Epoch 123/200\n",
      "1200/1200 [==============================] - 0s 52us/step - loss: -251.9594 - val_loss: -250.8118\n",
      "Epoch 124/200\n",
      "1200/1200 [==============================] - 0s 40us/step - loss: -250.3285 - val_loss: -252.8027\n",
      "Epoch 125/200\n",
      "1200/1200 [==============================] - 0s 41us/step - loss: -251.6773 - val_loss: -250.9750\n",
      "Epoch 126/200\n",
      "1200/1200 [==============================] - 0s 40us/step - loss: -251.9734 - val_loss: -252.5638\n",
      "Epoch 127/200\n",
      "1200/1200 [==============================] - 0s 42us/step - loss: -250.7873 - val_loss: -251.7976\n",
      "Epoch 128/200\n",
      "1200/1200 [==============================] - 0s 39us/step - loss: -252.1939 - val_loss: -253.2203\n",
      "Epoch 129/200\n",
      "1200/1200 [==============================] - 0s 39us/step - loss: -251.3227 - val_loss: -252.0128\n",
      "Epoch 130/200\n",
      "1200/1200 [==============================] - 0s 37us/step - loss: -252.7467 - val_loss: -251.7596\n",
      "Epoch 131/200\n",
      "1200/1200 [==============================] - 0s 38us/step - loss: -252.6191 - val_loss: -247.9310\n",
      "Epoch 132/200\n",
      "1200/1200 [==============================] - 0s 39us/step - loss: -251.9406 - val_loss: -254.3064\n",
      "Epoch 133/200\n",
      "1200/1200 [==============================] - 0s 41us/step - loss: -253.0807 - val_loss: -251.9808\n",
      "Epoch 134/200\n",
      "1200/1200 [==============================] - 0s 43us/step - loss: -253.0153 - val_loss: -252.5076\n",
      "Epoch 135/200\n",
      "1200/1200 [==============================] - 0s 40us/step - loss: -253.9682 - val_loss: -253.9988\n",
      "Epoch 136/200\n",
      "1200/1200 [==============================] - 0s 46us/step - loss: -253.2651 - val_loss: -252.8692\n",
      "Epoch 137/200\n",
      "1200/1200 [==============================] - 0s 42us/step - loss: -253.3367 - val_loss: -250.8972\n",
      "Epoch 138/200\n",
      "1200/1200 [==============================] - 0s 42us/step - loss: -254.4583 - val_loss: -255.2847\n",
      "Epoch 139/200\n",
      "1200/1200 [==============================] - 0s 38us/step - loss: -254.5133 - val_loss: -255.7842\n",
      "Epoch 140/200\n",
      "1200/1200 [==============================] - 0s 41us/step - loss: -253.1222 - val_loss: -255.5163\n",
      "Epoch 141/200\n",
      "1200/1200 [==============================] - 0s 39us/step - loss: -254.2175 - val_loss: -256.0805\n",
      "Epoch 142/200\n",
      "1200/1200 [==============================] - 0s 45us/step - loss: -254.9140 - val_loss: -253.1065\n",
      "Epoch 143/200\n",
      "1200/1200 [==============================] - 0s 41us/step - loss: -254.6043 - val_loss: -255.1811\n",
      "Epoch 144/200\n",
      "1200/1200 [==============================] - 0s 39us/step - loss: -255.2690 - val_loss: -255.4678\n",
      "Epoch 145/200\n",
      "1200/1200 [==============================] - 0s 40us/step - loss: -255.6712 - val_loss: -253.1640\n",
      "Epoch 146/200\n",
      "1200/1200 [==============================] - 0s 47us/step - loss: -255.0432 - val_loss: -256.3587\n",
      "Epoch 147/200\n",
      "1200/1200 [==============================] - 0s 42us/step - loss: -255.9580 - val_loss: -257.6453\n",
      "Epoch 148/200\n",
      "1200/1200 [==============================] - 0s 48us/step - loss: -256.6824 - val_loss: -256.7156\n",
      "Epoch 149/200\n",
      "1200/1200 [==============================] - 0s 40us/step - loss: -255.9437 - val_loss: -256.4921\n",
      "Epoch 150/200\n",
      "1200/1200 [==============================] - 0s 40us/step - loss: -256.3107 - val_loss: -257.5755\n",
      "Epoch 151/200\n",
      "1200/1200 [==============================] - 0s 37us/step - loss: -255.9291 - val_loss: -257.0658\n",
      "Epoch 152/200\n",
      "1200/1200 [==============================] - 0s 40us/step - loss: -257.1780 - val_loss: -257.6051\n",
      "Epoch 153/200\n",
      "1200/1200 [==============================] - 0s 39us/step - loss: -257.3651 - val_loss: -257.7213\n",
      "Epoch 154/200\n",
      "1200/1200 [==============================] - 0s 43us/step - loss: -258.1064 - val_loss: -256.3364\n",
      "Epoch 155/200\n",
      "1200/1200 [==============================] - 0s 41us/step - loss: -256.5212 - val_loss: -257.9618\n",
      "Epoch 156/200\n",
      "1200/1200 [==============================] - 0s 41us/step - loss: -257.5103 - val_loss: -259.6528\n",
      "Epoch 157/200\n",
      "1200/1200 [==============================] - 0s 53us/step - loss: -257.4006 - val_loss: -258.5351\n",
      "Epoch 158/200\n",
      "1200/1200 [==============================] - 0s 65us/step - loss: -257.8289 - val_loss: -258.3871\n",
      "Epoch 159/200\n",
      "1200/1200 [==============================] - 0s 48us/step - loss: -258.5210 - val_loss: -259.1702\n",
      "Epoch 160/200\n",
      "1200/1200 [==============================] - 0s 43us/step - loss: -257.1770 - val_loss: -257.1066\n",
      "Epoch 161/200\n",
      "1200/1200 [==============================] - 0s 42us/step - loss: -256.9588 - val_loss: -260.0514\n",
      "Epoch 162/200\n",
      "1200/1200 [==============================] - 0s 40us/step - loss: -258.5932 - val_loss: -253.6860\n",
      "Epoch 163/200\n",
      "1200/1200 [==============================] - 0s 42us/step - loss: -258.2598 - val_loss: -258.7945\n",
      "Epoch 164/200\n",
      "1200/1200 [==============================] - 0s 51us/step - loss: -258.0663 - val_loss: -258.8854\n",
      "Epoch 165/200\n",
      "1200/1200 [==============================] - 0s 42us/step - loss: -258.4618 - val_loss: -259.0408\n",
      "Epoch 166/200\n",
      "1200/1200 [==============================] - 0s 44us/step - loss: -258.7331 - val_loss: -258.9028\n",
      "Epoch 167/200\n",
      "1200/1200 [==============================] - 0s 41us/step - loss: -258.2827 - val_loss: -260.8663\n",
      "Epoch 168/200\n",
      "1200/1200 [==============================] - 0s 41us/step - loss: -258.9435 - val_loss: -259.7676\n",
      "Epoch 169/200\n",
      "1200/1200 [==============================] - 0s 41us/step - loss: -259.5698 - val_loss: -258.3349\n",
      "Epoch 170/200\n",
      "1200/1200 [==============================] - 0s 43us/step - loss: -258.4024 - val_loss: -260.0891\n",
      "Epoch 171/200\n",
      "1200/1200 [==============================] - 0s 42us/step - loss: -259.4961 - val_loss: -257.5442\n",
      "Epoch 172/200\n",
      "1200/1200 [==============================] - 0s 50us/step - loss: -259.4584 - val_loss: -260.9311\n",
      "Epoch 173/200\n",
      "1200/1200 [==============================] - 0s 65us/step - loss: -260.0174 - val_loss: -260.1952\n",
      "Epoch 174/200\n",
      "1200/1200 [==============================] - 0s 66us/step - loss: -259.9890 - val_loss: -260.7972\n",
      "Epoch 175/200\n",
      "1200/1200 [==============================] - 0s 42us/step - loss: -258.8522 - val_loss: -260.9875\n",
      "Epoch 176/200\n",
      "1200/1200 [==============================] - 0s 45us/step - loss: -260.6150 - val_loss: -260.8354\n",
      "Epoch 177/200\n",
      "1200/1200 [==============================] - 0s 43us/step - loss: -260.0136 - val_loss: -261.3633\n",
      "Epoch 178/200\n",
      "1200/1200 [==============================] - 0s 45us/step - loss: -259.9702 - val_loss: -262.4725\n",
      "Epoch 179/200\n",
      "1200/1200 [==============================] - 0s 42us/step - loss: -260.5567 - val_loss: -261.3696\n",
      "Epoch 180/200\n",
      "1200/1200 [==============================] - 0s 42us/step - loss: -260.7674 - val_loss: -262.6675\n",
      "Epoch 181/200\n",
      "1200/1200 [==============================] - 0s 37us/step - loss: -260.4077 - val_loss: -262.8889\n",
      "Epoch 182/200\n",
      "1200/1200 [==============================] - 0s 42us/step - loss: -260.9360 - val_loss: -261.5552\n",
      "Epoch 183/200\n",
      "1200/1200 [==============================] - 0s 40us/step - loss: -262.0768 - val_loss: -263.3439\n",
      "Epoch 184/200\n",
      "1200/1200 [==============================] - 0s 41us/step - loss: -260.9784 - val_loss: -261.0277\n",
      "Epoch 185/200\n",
      "1200/1200 [==============================] - 0s 42us/step - loss: -261.4523 - val_loss: -259.2585\n",
      "Epoch 186/200\n",
      "1200/1200 [==============================] - 0s 40us/step - loss: -261.6441 - val_loss: -262.5110\n",
      "Epoch 187/200\n",
      "1200/1200 [==============================] - 0s 41us/step - loss: -261.3417 - val_loss: -262.2525\n",
      "Epoch 188/200\n",
      "1200/1200 [==============================] - 0s 42us/step - loss: -261.8420 - val_loss: -263.2095\n",
      "Epoch 189/200\n",
      "1200/1200 [==============================] - 0s 42us/step - loss: -261.9902 - val_loss: -263.1647\n",
      "Epoch 190/200\n",
      "1200/1200 [==============================] - 0s 45us/step - loss: -261.7678 - val_loss: -260.9618\n",
      "Epoch 191/200\n",
      "1200/1200 [==============================] - 0s 42us/step - loss: -261.9328 - val_loss: -262.9184\n",
      "Epoch 192/200\n",
      "1200/1200 [==============================] - 0s 44us/step - loss: -262.0058 - val_loss: -264.4958\n",
      "Epoch 193/200\n",
      "1200/1200 [==============================] - 0s 58us/step - loss: -262.0998 - val_loss: -259.6314\n",
      "Epoch 194/200\n",
      "1200/1200 [==============================] - 0s 70us/step - loss: -262.2454 - val_loss: -262.4057\n",
      "Epoch 195/200\n",
      "1200/1200 [==============================] - 0s 47us/step - loss: -262.0322 - val_loss: -263.2751\n",
      "Epoch 196/200\n",
      "1200/1200 [==============================] - 0s 41us/step - loss: -262.6861 - val_loss: -265.0775\n",
      "Epoch 197/200\n",
      "1200/1200 [==============================] - 0s 38us/step - loss: -263.2413 - val_loss: -264.7730\n",
      "Epoch 198/200\n",
      "1200/1200 [==============================] - 0s 42us/step - loss: -262.4230 - val_loss: -260.6247\n",
      "Epoch 199/200\n",
      "1200/1200 [==============================] - 0s 41us/step - loss: -261.8484 - val_loss: -265.1191\n",
      "Epoch 200/200\n",
      "1200/1200 [==============================] - 0s 42us/step - loss: -263.5959 - val_loss: -263.4030\n"
     ]
    },
    {
     "data": {
      "text/plain": [
       "<keras.callbacks.History at 0x1620b37d4e0>"
      ]
     },
     "execution_count": 145,
     "metadata": {},
     "output_type": "execute_result"
    }
   ],
   "source": [
    "vae.fit(X_train,X_train,batch_size=batch_size,epochs=epochs,validation_data=[X_eval,X_eval])"
   ]
  },
  {
   "cell_type": "code",
   "execution_count": 146,
   "metadata": {},
   "outputs": [],
   "source": [
    "encoder = Model(x, z_mean)"
   ]
  },
  {
   "cell_type": "code",
   "execution_count": 147,
   "metadata": {},
   "outputs": [],
   "source": [
    "ae_new_features=encoder.predict(ae_standard_np)"
   ]
  },
  {
   "cell_type": "code",
   "execution_count": 148,
   "metadata": {},
   "outputs": [
    {
     "data": {
      "text/plain": [
       "(0.6989266662463456, 0.03092964026276171)"
      ]
     },
     "execution_count": 148,
     "metadata": {},
     "output_type": "execute_result"
    }
   ],
   "source": [
    "#gbdt\n",
    "classifier=GradientBoostingClassifier()\n",
    "scores = cross_val_score(classifier,ae_new_features[:891], labels, scoring='f1', cv = 5)\n",
    "np.mean(scores),np.std(scores)"
   ]
  },
  {
   "cell_type": "code",
   "execution_count": 149,
   "metadata": {},
   "outputs": [
    {
     "data": {
      "image/png": "[encoded data removed]",
      "text/plain": [
       "<Figure size 432x288 with 1 Axes>"
      ]
     },
     "metadata": {},
     "output_type": "display_data"
    }
   ],
   "source": [
    "plt.scatter(ae_new_features[:891][:, 0], ae_new_features[:891][:, 1],marker='o',c=labels)\n",
    "plt.show()"
   ]
  },
  {
   "cell_type": "markdown",
   "metadata": {},
   "source": [
    "添加白噪声数据进行正则化后，更容易将数据分散开\n",
    "\n",
    "##### 特征增强总结\n",
    "特征增强很关键，是后续操作的基础，其实最有用的在于造出make sense的特征，从之前的操作来看我们造了几个make sense的特征就立即把模型从0.77+提升到了0.78+，而通过后续一系列的复杂特征变换（聚类、交互特征、特征选择...）才从0.78+提升到0.79+，接下来我们在features_select_top_50_df基础上尝试一些数据增强的方式；  \n",
    "\n",
    "#### 4.2 数据增强\n",
    "提供更多数据给模型训练，可从两方面来考虑：  \n",
    "\n",
    "（1）利用其余的未标记数据进行无监督学习，在我们的标记数据进行监督学习（半监督学习），比如nlp任务中收集海量的文本数据训练embedding，然后再在其他nlp任务上做fine tuning；  \n",
    "（2）在当前数据的基础上造出相似的数据，比如nlp任务中删除某一个词、替换同义词...，cv任务中缩放、旋转、翻转图片、gan..."
   ]
  },
  {
   "cell_type": "markdown",
   "metadata": {},
   "source": [
    "##### 4.2.1 数据增强-半监督学习\n",
    "这里没有多余的feature数据，我们假设test部分就是多出来的部分；  \n",
    "\n",
    "在pca上做对比..."
   ]
  },
  {
   "cell_type": "code",
   "execution_count": 150,
   "metadata": {},
   "outputs": [
    {
     "data": {
      "text/plain": [
       "(0.7791925787728027, 0.03804481662137799)"
      ]
     },
     "execution_count": 150,
     "metadata": {},
     "output_type": "execute_result"
    }
   ],
   "source": [
    "#增强前\n",
    "standard_df=StandardScaler().fit_transform(features_select_top_50_df[:891])\n",
    "X_pca=PCA(n_components=20).fit_transform(standard_df)\n",
    "#gbdt\n",
    "classifier=GradientBoostingClassifier()\n",
    "scores = cross_val_score(classifier,X_pca, labels, scoring='f1', cv = 5)\n",
    "np.mean(scores),np.std(scores)"
   ]
  },
  {
   "cell_type": "code",
   "execution_count": 151,
   "metadata": {},
   "outputs": [
    {
     "data": {
      "text/plain": [
       "(0.7915154050620196, 0.03498963750537092)"
      ]
     },
     "execution_count": 151,
     "metadata": {},
     "output_type": "execute_result"
    }
   ],
   "source": [
    "#增强后\n",
    "standard_df=StandardScaler().fit_transform(features_select_top_50_df)\n",
    "X_pca=PCA(n_components=20).fit_transform(standard_df)\n",
    "#gbdt\n",
    "classifier=GradientBoostingClassifier()\n",
    "scores = cross_val_score(classifier,X_pca[:891], labels, scoring='f1', cv = 5)\n",
    "np.mean(scores),np.std(scores)"
   ]
  },
  {
   "cell_type": "markdown",
   "metadata": {},
   "source": [
    "在ae上对比..."
   ]
  },
  {
   "cell_type": "code",
   "execution_count": 152,
   "metadata": {},
   "outputs": [
    {
     "name": "stdout",
     "output_type": "stream",
     "text": [
      "Train on 750 samples, validate on 141 samples\n",
      "Epoch 1/200\n",
      "750/750 [==============================] - 0s 375us/step - loss: 1.1590 - val_loss: 1.1222\n",
      "Epoch 2/200\n",
      "750/750 [==============================] - 0s 44us/step - loss: 1.1042 - val_loss: 1.0713\n",
      "Epoch 3/200\n",
      "750/750 [==============================] - 0s 43us/step - loss: 1.0534 - val_loss: 1.0264\n",
      "Epoch 4/200\n",
      "750/750 [==============================] - 0s 40us/step - loss: 1.0071 - val_loss: 0.9862\n",
      "Epoch 5/200\n",
      "750/750 [==============================] - 0s 31us/step - loss: 0.9651 - val_loss: 0.9490\n",
      "Epoch 6/200\n",
      "750/750 [==============================] - 0s 31us/step - loss: 0.9265 - val_loss: 0.9132\n",
      "Epoch 7/200\n",
      "750/750 [==============================] - 0s 32us/step - loss: 0.8904 - val_loss: 0.8790\n",
      "Epoch 8/200\n",
      "750/750 [==============================] - 0s 31us/step - loss: 0.8560 - val_loss: 0.8464\n",
      "Epoch 9/200\n",
      "750/750 [==============================] - 0s 33us/step - loss: 0.8230 - val_loss: 0.8151\n",
      "Epoch 10/200\n",
      "750/750 [==============================] - 0s 32us/step - loss: 0.7910 - val_loss: 0.7854\n",
      "Epoch 11/200\n",
      "750/750 [==============================] - 0s 32us/step - loss: 0.7612 - val_loss: 0.7566\n",
      "Epoch 12/200\n",
      "750/750 [==============================] - 0s 31us/step - loss: 0.7317 - val_loss: 0.7296\n",
      "Epoch 13/200\n",
      "750/750 [==============================] - 0s 32us/step - loss: 0.7036 - val_loss: 0.7039\n",
      "Epoch 14/200\n",
      "750/750 [==============================] - 0s 33us/step - loss: 0.6766 - val_loss: 0.6794\n",
      "Epoch 15/200\n",
      "750/750 [==============================] - 0s 32us/step - loss: 0.6513 - val_loss: 0.6564\n",
      "Epoch 16/200\n",
      "750/750 [==============================] - 0s 32us/step - loss: 0.6281 - val_loss: 0.6357\n",
      "Epoch 17/200\n",
      "750/750 [==============================] - 0s 33us/step - loss: 0.6073 - val_loss: 0.6173\n",
      "Epoch 18/200\n",
      "750/750 [==============================] - 0s 33us/step - loss: 0.5889 - val_loss: 0.6015\n",
      "Epoch 19/200\n",
      "750/750 [==============================] - 0s 32us/step - loss: 0.5728 - val_loss: 0.5876\n",
      "Epoch 20/200\n",
      "750/750 [==============================] - 0s 31us/step - loss: 0.5585 - val_loss: 0.5753\n",
      "Epoch 21/200\n",
      "750/750 [==============================] - 0s 32us/step - loss: 0.5460 - val_loss: 0.5642\n",
      "Epoch 22/200\n",
      "750/750 [==============================] - 0s 31us/step - loss: 0.5350 - val_loss: 0.5545\n",
      "Epoch 23/200\n",
      "750/750 [==============================] - 0s 31us/step - loss: 0.5252 - val_loss: 0.5456\n",
      "Epoch 24/200\n",
      "750/750 [==============================] - 0s 35us/step - loss: 0.5169 - val_loss: 0.5375\n",
      "Epoch 25/200\n",
      "750/750 [==============================] - 0s 35us/step - loss: 0.5093 - val_loss: 0.5302\n",
      "Epoch 26/200\n",
      "750/750 [==============================] - 0s 35us/step - loss: 0.5027 - val_loss: 0.5235\n",
      "Epoch 27/200\n",
      "750/750 [==============================] - 0s 32us/step - loss: 0.4966 - val_loss: 0.5174\n",
      "Epoch 28/200\n",
      "750/750 [==============================] - 0s 32us/step - loss: 0.4910 - val_loss: 0.5118\n",
      "Epoch 29/200\n",
      "750/750 [==============================] - 0s 41us/step - loss: 0.4859 - val_loss: 0.5066\n",
      "Epoch 30/200\n",
      "750/750 [==============================] - 0s 39us/step - loss: 0.4811 - val_loss: 0.5018\n",
      "Epoch 31/200\n",
      "750/750 [==============================] - 0s 29us/step - loss: 0.4766 - val_loss: 0.4972\n",
      "Epoch 32/200\n",
      "750/750 [==============================] - 0s 33us/step - loss: 0.4724 - val_loss: 0.4930\n",
      "Epoch 33/200\n",
      "750/750 [==============================] - 0s 35us/step - loss: 0.4686 - val_loss: 0.4890\n",
      "Epoch 34/200\n",
      "750/750 [==============================] - 0s 35us/step - loss: 0.4648 - val_loss: 0.4852\n",
      "Epoch 35/200\n",
      "750/750 [==============================] - 0s 31us/step - loss: 0.4613 - val_loss: 0.4816\n",
      "Epoch 36/200\n",
      "750/750 [==============================] - 0s 35us/step - loss: 0.4579 - val_loss: 0.4783\n",
      "Epoch 37/200\n",
      "750/750 [==============================] - 0s 36us/step - loss: 0.4547 - val_loss: 0.4751\n",
      "Epoch 38/200\n",
      "750/750 [==============================] - 0s 35us/step - loss: 0.4516 - val_loss: 0.4721\n",
      "Epoch 39/200\n",
      "750/750 [==============================] - 0s 29us/step - loss: 0.4487 - val_loss: 0.4694\n",
      "Epoch 40/200\n",
      "750/750 [==============================] - 0s 33us/step - loss: 0.4460 - val_loss: 0.4666\n",
      "Epoch 41/200\n",
      "750/750 [==============================] - 0s 37us/step - loss: 0.4434 - val_loss: 0.4641\n",
      "Epoch 42/200\n",
      "750/750 [==============================] - 0s 49us/step - loss: 0.4410 - val_loss: 0.4618\n",
      "Epoch 43/200\n",
      "750/750 [==============================] - 0s 43us/step - loss: 0.4386 - val_loss: 0.4596\n",
      "Epoch 44/200\n",
      "750/750 [==============================] - 0s 47us/step - loss: 0.4364 - val_loss: 0.4575\n",
      "Epoch 45/200\n",
      "750/750 [==============================] - 0s 31us/step - loss: 0.4343 - val_loss: 0.4556\n",
      "Epoch 46/200\n",
      "750/750 [==============================] - 0s 32us/step - loss: 0.4322 - val_loss: 0.4536\n",
      "Epoch 47/200\n",
      "750/750 [==============================] - 0s 31us/step - loss: 0.4303 - val_loss: 0.4518\n",
      "Epoch 48/200\n",
      "750/750 [==============================] - 0s 31us/step - loss: 0.4285 - val_loss: 0.4501\n",
      "Epoch 49/200\n",
      "750/750 [==============================] - 0s 31us/step - loss: 0.4267 - val_loss: 0.4484\n",
      "Epoch 50/200\n",
      "750/750 [==============================] - 0s 29us/step - loss: 0.4250 - val_loss: 0.4469\n",
      "Epoch 51/200\n",
      "750/750 [==============================] - 0s 29us/step - loss: 0.4234 - val_loss: 0.4454\n",
      "Epoch 52/200\n",
      "750/750 [==============================] - 0s 29us/step - loss: 0.4219 - val_loss: 0.4439\n",
      "Epoch 53/200\n",
      "750/750 [==============================] - 0s 29us/step - loss: 0.4204 - val_loss: 0.4426\n",
      "Epoch 54/200\n",
      "750/750 [==============================] - 0s 33us/step - loss: 0.4190 - val_loss: 0.4414\n",
      "Epoch 55/200\n",
      "750/750 [==============================] - 0s 32us/step - loss: 0.4176 - val_loss: 0.4400\n",
      "Epoch 56/200\n",
      "750/750 [==============================] - 0s 28us/step - loss: 0.4163 - val_loss: 0.4388\n",
      "Epoch 57/200\n",
      "750/750 [==============================] - 0s 29us/step - loss: 0.4150 - val_loss: 0.4377\n",
      "Epoch 58/200\n",
      "750/750 [==============================] - 0s 25us/step - loss: 0.4138 - val_loss: 0.4366\n",
      "Epoch 59/200\n",
      "750/750 [==============================] - 0s 29us/step - loss: 0.4126 - val_loss: 0.4355\n",
      "Epoch 60/200\n",
      "750/750 [==============================] - 0s 31us/step - loss: 0.4115 - val_loss: 0.4344\n",
      "Epoch 61/200\n",
      "750/750 [==============================] - 0s 29us/step - loss: 0.4104 - val_loss: 0.4333\n",
      "Epoch 62/200\n",
      "750/750 [==============================] - 0s 29us/step - loss: 0.4094 - val_loss: 0.4323\n",
      "Epoch 63/200\n",
      "750/750 [==============================] - 0s 31us/step - loss: 0.4084 - val_loss: 0.4314\n",
      "Epoch 64/200\n",
      "750/750 [==============================] - 0s 29us/step - loss: 0.4074 - val_loss: 0.4304\n",
      "Epoch 65/200\n",
      "750/750 [==============================] - 0s 28us/step - loss: 0.4064 - val_loss: 0.4295\n",
      "Epoch 66/200\n",
      "750/750 [==============================] - 0s 28us/step - loss: 0.4055 - val_loss: 0.4285\n",
      "Epoch 67/200\n",
      "750/750 [==============================] - 0s 31us/step - loss: 0.4046 - val_loss: 0.4277\n",
      "Epoch 68/200\n",
      "750/750 [==============================] - 0s 29us/step - loss: 0.4038 - val_loss: 0.4268\n",
      "Epoch 69/200\n",
      "750/750 [==============================] - 0s 32us/step - loss: 0.4030 - val_loss: 0.4259\n",
      "Epoch 70/200\n",
      "750/750 [==============================] - 0s 35us/step - loss: 0.4021 - val_loss: 0.4251\n",
      "Epoch 71/200\n",
      "750/750 [==============================] - 0s 31us/step - loss: 0.4013 - val_loss: 0.4243\n",
      "Epoch 72/200\n",
      "750/750 [==============================] - 0s 27us/step - loss: 0.4006 - val_loss: 0.4236\n",
      "Epoch 73/200\n",
      "750/750 [==============================] - 0s 31us/step - loss: 0.3998 - val_loss: 0.4227\n",
      "Epoch 74/200\n",
      "750/750 [==============================] - 0s 33us/step - loss: 0.3991 - val_loss: 0.4219\n",
      "Epoch 75/200\n",
      "750/750 [==============================] - 0s 36us/step - loss: 0.3984 - val_loss: 0.4211\n",
      "Epoch 76/200\n",
      "750/750 [==============================] - 0s 43us/step - loss: 0.3977 - val_loss: 0.4205\n",
      "Epoch 77/200\n",
      "750/750 [==============================] - 0s 41us/step - loss: 0.3970 - val_loss: 0.4198\n",
      "Epoch 78/200\n",
      "750/750 [==============================] - 0s 41us/step - loss: 0.3964 - val_loss: 0.4191\n",
      "Epoch 79/200\n",
      "750/750 [==============================] - 0s 44us/step - loss: 0.3957 - val_loss: 0.4183\n",
      "Epoch 80/200\n",
      "750/750 [==============================] - 0s 32us/step - loss: 0.3950 - val_loss: 0.4177\n",
      "Epoch 81/200\n",
      "750/750 [==============================] - 0s 33us/step - loss: 0.3945 - val_loss: 0.4170\n",
      "Epoch 82/200\n",
      "750/750 [==============================] - 0s 37us/step - loss: 0.3938 - val_loss: 0.4163\n",
      "Epoch 83/200\n",
      "750/750 [==============================] - 0s 33us/step - loss: 0.3933 - val_loss: 0.4157\n",
      "Epoch 84/200\n",
      "750/750 [==============================] - 0s 28us/step - loss: 0.3927 - val_loss: 0.4151\n",
      "Epoch 85/200\n",
      "750/750 [==============================] - 0s 33us/step - loss: 0.3921 - val_loss: 0.4144\n",
      "Epoch 86/200\n",
      "750/750 [==============================] - 0s 32us/step - loss: 0.3916 - val_loss: 0.4139\n",
      "Epoch 87/200\n",
      "750/750 [==============================] - 0s 36us/step - loss: 0.3910 - val_loss: 0.4133\n",
      "Epoch 88/200\n",
      "750/750 [==============================] - 0s 35us/step - loss: 0.3905 - val_loss: 0.4126\n",
      "Epoch 89/200\n",
      "750/750 [==============================] - 0s 33us/step - loss: 0.3900 - val_loss: 0.4121\n",
      "Epoch 90/200\n",
      "750/750 [==============================] - 0s 32us/step - loss: 0.3895 - val_loss: 0.4115\n",
      "Epoch 91/200\n",
      "750/750 [==============================] - 0s 28us/step - loss: 0.3890 - val_loss: 0.4111\n",
      "Epoch 92/200\n",
      "750/750 [==============================] - 0s 33us/step - loss: 0.3886 - val_loss: 0.4104\n",
      "Epoch 93/200\n",
      "750/750 [==============================] - 0s 41us/step - loss: 0.3881 - val_loss: 0.4100\n",
      "Epoch 94/200\n",
      "750/750 [==============================] - ETA: 0s - loss: 0.392 - 0s 41us/step - loss: 0.3876 - val_loss: 0.4095\n",
      "Epoch 95/200\n",
      "750/750 [==============================] - 0s 47us/step - loss: 0.3872 - val_loss: 0.4090\n",
      "Epoch 96/200\n",
      "750/750 [==============================] - 0s 36us/step - loss: 0.3868 - val_loss: 0.4084\n",
      "Epoch 97/200\n",
      "750/750 [==============================] - 0s 39us/step - loss: 0.3863 - val_loss: 0.4080\n",
      "Epoch 98/200\n",
      "750/750 [==============================] - 0s 36us/step - loss: 0.3859 - val_loss: 0.4076\n",
      "Epoch 99/200\n",
      "750/750 [==============================] - 0s 37us/step - loss: 0.3855 - val_loss: 0.4071\n",
      "Epoch 100/200\n",
      "750/750 [==============================] - 0s 33us/step - loss: 0.3851 - val_loss: 0.4067\n",
      "Epoch 101/200\n",
      "750/750 [==============================] - 0s 33us/step - loss: 0.3847 - val_loss: 0.4062\n",
      "Epoch 102/200\n",
      "750/750 [==============================] - 0s 40us/step - loss: 0.3843 - val_loss: 0.4058\n",
      "Epoch 103/200\n",
      "750/750 [==============================] - 0s 41us/step - loss: 0.3840 - val_loss: 0.4054\n",
      "Epoch 104/200\n",
      "750/750 [==============================] - 0s 39us/step - loss: 0.3836 - val_loss: 0.4049\n",
      "Epoch 105/200\n",
      "750/750 [==============================] - 0s 41us/step - loss: 0.3833 - val_loss: 0.4045\n",
      "Epoch 106/200\n",
      "750/750 [==============================] - 0s 43us/step - loss: 0.3829 - val_loss: 0.4043\n",
      "Epoch 107/200\n",
      "750/750 [==============================] - 0s 37us/step - loss: 0.3825 - val_loss: 0.4039\n",
      "Epoch 108/200\n",
      "750/750 [==============================] - 0s 33us/step - loss: 0.3822 - val_loss: 0.4035\n",
      "Epoch 109/200\n",
      "750/750 [==============================] - 0s 31us/step - loss: 0.3819 - val_loss: 0.4030\n",
      "Epoch 110/200\n",
      "750/750 [==============================] - 0s 31us/step - loss: 0.3815 - val_loss: 0.4027\n",
      "Epoch 111/200\n",
      "750/750 [==============================] - 0s 33us/step - loss: 0.3812 - val_loss: 0.4024\n",
      "Epoch 112/200\n",
      "750/750 [==============================] - 0s 32us/step - loss: 0.3809 - val_loss: 0.4021\n",
      "Epoch 113/200\n",
      "750/750 [==============================] - 0s 33us/step - loss: 0.3806 - val_loss: 0.4017\n",
      "Epoch 114/200\n",
      "750/750 [==============================] - 0s 33us/step - loss: 0.3803 - val_loss: 0.4013\n",
      "Epoch 115/200\n",
      "750/750 [==============================] - 0s 35us/step - loss: 0.3799 - val_loss: 0.4010\n",
      "Epoch 116/200\n",
      "750/750 [==============================] - 0s 44us/step - loss: 0.3797 - val_loss: 0.4007\n",
      "Epoch 117/200\n",
      "750/750 [==============================] - 0s 43us/step - loss: 0.3793 - val_loss: 0.4004\n",
      "Epoch 118/200\n",
      "750/750 [==============================] - 0s 44us/step - loss: 0.3790 - val_loss: 0.4000\n",
      "Epoch 119/200\n",
      "750/750 [==============================] - 0s 45us/step - loss: 0.3788 - val_loss: 0.3997\n",
      "Epoch 120/200\n",
      "750/750 [==============================] - 0s 39us/step - loss: 0.3785 - val_loss: 0.3994\n",
      "Epoch 121/200\n",
      "750/750 [==============================] - 0s 29us/step - loss: 0.3782 - val_loss: 0.3992\n",
      "Epoch 122/200\n",
      "750/750 [==============================] - 0s 35us/step - loss: 0.3779 - val_loss: 0.3988\n",
      "Epoch 123/200\n",
      "750/750 [==============================] - 0s 31us/step - loss: 0.3776 - val_loss: 0.3985\n",
      "Epoch 124/200\n",
      "750/750 [==============================] - 0s 35us/step - loss: 0.3773 - val_loss: 0.3983\n",
      "Epoch 125/200\n",
      "750/750 [==============================] - 0s 44us/step - loss: 0.3771 - val_loss: 0.3981\n",
      "Epoch 126/200\n",
      "750/750 [==============================] - 0s 44us/step - loss: 0.3768 - val_loss: 0.3978\n",
      "Epoch 127/200\n",
      "750/750 [==============================] - 0s 44us/step - loss: 0.3766 - val_loss: 0.3976\n",
      "Epoch 128/200\n",
      "750/750 [==============================] - 0s 43us/step - loss: 0.3763 - val_loss: 0.3973\n",
      "Epoch 129/200\n",
      "750/750 [==============================] - 0s 45us/step - loss: 0.3760 - val_loss: 0.3970\n",
      "Epoch 130/200\n",
      "750/750 [==============================] - 0s 35us/step - loss: 0.3758 - val_loss: 0.3968\n",
      "Epoch 131/200\n",
      "750/750 [==============================] - 0s 31us/step - loss: 0.3755 - val_loss: 0.3965\n",
      "Epoch 132/200\n",
      "750/750 [==============================] - 0s 33us/step - loss: 0.3753 - val_loss: 0.3962\n",
      "Epoch 133/200\n",
      "750/750 [==============================] - 0s 36us/step - loss: 0.3751 - val_loss: 0.3960\n",
      "Epoch 134/200\n",
      "750/750 [==============================] - 0s 39us/step - loss: 0.3748 - val_loss: 0.3958\n",
      "Epoch 135/200\n",
      "750/750 [==============================] - 0s 37us/step - loss: 0.3746 - val_loss: 0.3956\n",
      "Epoch 136/200\n",
      "750/750 [==============================] - 0s 47us/step - loss: 0.3744 - val_loss: 0.3954\n",
      "Epoch 137/200\n",
      "750/750 [==============================] - 0s 45us/step - loss: 0.3741 - val_loss: 0.3951\n",
      "Epoch 138/200\n",
      "750/750 [==============================] - 0s 35us/step - loss: 0.3739 - val_loss: 0.3949\n",
      "Epoch 139/200\n",
      "750/750 [==============================] - 0s 44us/step - loss: 0.3737 - val_loss: 0.3946\n",
      "Epoch 140/200\n",
      "750/750 [==============================] - 0s 33us/step - loss: 0.3734 - val_loss: 0.3944\n",
      "Epoch 141/200\n",
      "750/750 [==============================] - ETA: 0s - loss: 0.444 - 0s 40us/step - loss: 0.3732 - val_loss: 0.3942\n",
      "Epoch 142/200\n",
      "750/750 [==============================] - 0s 37us/step - loss: 0.3730 - val_loss: 0.3940\n",
      "Epoch 143/200\n",
      "750/750 [==============================] - 0s 44us/step - loss: 0.3728 - val_loss: 0.3939\n",
      "Epoch 144/200\n",
      "750/750 [==============================] - 0s 41us/step - loss: 0.3726 - val_loss: 0.3936\n",
      "Epoch 145/200\n",
      "750/750 [==============================] - 0s 40us/step - loss: 0.3724 - val_loss: 0.3934\n",
      "Epoch 146/200\n",
      "750/750 [==============================] - 0s 36us/step - loss: 0.3722 - val_loss: 0.3931\n",
      "Epoch 147/200\n",
      "750/750 [==============================] - 0s 36us/step - loss: 0.3720 - val_loss: 0.3930\n",
      "Epoch 148/200\n",
      "750/750 [==============================] - 0s 33us/step - loss: 0.3718 - val_loss: 0.3928\n",
      "Epoch 149/200\n",
      "750/750 [==============================] - 0s 40us/step - loss: 0.3716 - val_loss: 0.3926\n",
      "Epoch 150/200\n",
      "750/750 [==============================] - 0s 44us/step - loss: 0.3714 - val_loss: 0.3924\n",
      "Epoch 151/200\n",
      "750/750 [==============================] - 0s 45us/step - loss: 0.3712 - val_loss: 0.3922\n",
      "Epoch 152/200\n",
      "750/750 [==============================] - 0s 39us/step - loss: 0.3710 - val_loss: 0.3920\n",
      "Epoch 153/200\n",
      "750/750 [==============================] - 0s 33us/step - loss: 0.3708 - val_loss: 0.3919\n",
      "Epoch 154/200\n",
      "750/750 [==============================] - 0s 41us/step - loss: 0.3706 - val_loss: 0.3916\n",
      "Epoch 155/200\n",
      "750/750 [==============================] - 0s 40us/step - loss: 0.3704 - val_loss: 0.3915\n",
      "Epoch 156/200\n",
      "750/750 [==============================] - 0s 43us/step - loss: 0.3703 - val_loss: 0.3913\n",
      "Epoch 157/200\n",
      "750/750 [==============================] - 0s 44us/step - loss: 0.3701 - val_loss: 0.3912\n",
      "Epoch 158/200\n"
     ]
    },
    {
     "name": "stdout",
     "output_type": "stream",
     "text": [
      "750/750 [==============================] - 0s 40us/step - loss: 0.3699 - val_loss: 0.3910\n",
      "Epoch 159/200\n",
      "750/750 [==============================] - 0s 43us/step - loss: 0.3697 - val_loss: 0.3908\n",
      "Epoch 160/200\n",
      "750/750 [==============================] - 0s 36us/step - loss: 0.3696 - val_loss: 0.3906\n",
      "Epoch 161/200\n",
      "750/750 [==============================] - 0s 31us/step - loss: 0.3694 - val_loss: 0.3905\n",
      "Epoch 162/200\n",
      "750/750 [==============================] - 0s 32us/step - loss: 0.3692 - val_loss: 0.3904\n",
      "Epoch 163/200\n",
      "750/750 [==============================] - 0s 33us/step - loss: 0.3691 - val_loss: 0.3902\n",
      "Epoch 164/200\n",
      "750/750 [==============================] - 0s 28us/step - loss: 0.3689 - val_loss: 0.3900\n",
      "Epoch 165/200\n",
      "750/750 [==============================] - 0s 28us/step - loss: 0.3688 - val_loss: 0.3898\n",
      "Epoch 166/200\n",
      "750/750 [==============================] - 0s 33us/step - loss: 0.3686 - val_loss: 0.3897\n",
      "Epoch 167/200\n",
      "750/750 [==============================] - 0s 35us/step - loss: 0.3684 - val_loss: 0.3896\n",
      "Epoch 168/200\n",
      "750/750 [==============================] - 0s 37us/step - loss: 0.3683 - val_loss: 0.3894\n",
      "Epoch 169/200\n",
      "750/750 [==============================] - 0s 40us/step - loss: 0.3681 - val_loss: 0.3893\n",
      "Epoch 170/200\n",
      "750/750 [==============================] - 0s 40us/step - loss: 0.3680 - val_loss: 0.3891\n",
      "Epoch 171/200\n",
      "750/750 [==============================] - 0s 44us/step - loss: 0.3678 - val_loss: 0.3890\n",
      "Epoch 172/200\n",
      "750/750 [==============================] - 0s 43us/step - loss: 0.3677 - val_loss: 0.3888\n",
      "Epoch 173/200\n",
      "750/750 [==============================] - 0s 36us/step - loss: 0.3675 - val_loss: 0.3887\n",
      "Epoch 174/200\n",
      "750/750 [==============================] - 0s 36us/step - loss: 0.3674 - val_loss: 0.3886\n",
      "Epoch 175/200\n",
      "750/750 [==============================] - 0s 32us/step - loss: 0.3672 - val_loss: 0.3885\n",
      "Epoch 176/200\n",
      "750/750 [==============================] - 0s 27us/step - loss: 0.3671 - val_loss: 0.3883\n",
      "Epoch 177/200\n",
      "750/750 [==============================] - 0s 28us/step - loss: 0.3669 - val_loss: 0.3882\n",
      "Epoch 178/200\n",
      "750/750 [==============================] - 0s 31us/step - loss: 0.3668 - val_loss: 0.3881\n",
      "Epoch 179/200\n",
      "750/750 [==============================] - 0s 25us/step - loss: 0.3667 - val_loss: 0.3879\n",
      "Epoch 180/200\n",
      "750/750 [==============================] - 0s 33us/step - loss: 0.3665 - val_loss: 0.3878\n",
      "Epoch 181/200\n",
      "750/750 [==============================] - 0s 35us/step - loss: 0.3664 - val_loss: 0.3877\n",
      "Epoch 182/200\n",
      "750/750 [==============================] - 0s 29us/step - loss: 0.3663 - val_loss: 0.3875\n",
      "Epoch 183/200\n",
      "750/750 [==============================] - 0s 31us/step - loss: 0.3661 - val_loss: 0.3874\n",
      "Epoch 184/200\n",
      "750/750 [==============================] - 0s 28us/step - loss: 0.3660 - val_loss: 0.3873\n",
      "Epoch 185/200\n",
      "750/750 [==============================] - 0s 29us/step - loss: 0.3659 - val_loss: 0.3872\n",
      "Epoch 186/200\n",
      "750/750 [==============================] - 0s 28us/step - loss: 0.3658 - val_loss: 0.3872\n",
      "Epoch 187/200\n",
      "750/750 [==============================] - 0s 29us/step - loss: 0.3656 - val_loss: 0.3870\n",
      "Epoch 188/200\n",
      "750/750 [==============================] - 0s 33us/step - loss: 0.3655 - val_loss: 0.3868\n",
      "Epoch 189/200\n",
      "750/750 [==============================] - 0s 29us/step - loss: 0.3654 - val_loss: 0.3868\n",
      "Epoch 190/200\n",
      "750/750 [==============================] - 0s 28us/step - loss: 0.3653 - val_loss: 0.3867\n",
      "Epoch 191/200\n",
      "750/750 [==============================] - 0s 31us/step - loss: 0.3652 - val_loss: 0.3865\n",
      "Epoch 192/200\n",
      "750/750 [==============================] - 0s 33us/step - loss: 0.3650 - val_loss: 0.3864\n",
      "Epoch 193/200\n",
      "750/750 [==============================] - 0s 32us/step - loss: 0.3649 - val_loss: 0.3863\n",
      "Epoch 194/200\n",
      "750/750 [==============================] - 0s 31us/step - loss: 0.3648 - val_loss: 0.3862\n",
      "Epoch 195/200\n",
      "750/750 [==============================] - 0s 29us/step - loss: 0.3647 - val_loss: 0.3861\n",
      "Epoch 196/200\n",
      "750/750 [==============================] - 0s 29us/step - loss: 0.3646 - val_loss: 0.3859\n",
      "Epoch 197/200\n",
      "750/750 [==============================] - 0s 31us/step - loss: 0.3645 - val_loss: 0.3859\n",
      "Epoch 198/200\n",
      "750/750 [==============================] - 0s 31us/step - loss: 0.3644 - val_loss: 0.3858\n",
      "Epoch 199/200\n",
      "750/750 [==============================] - 0s 28us/step - loss: 0.3642 - val_loss: 0.3857\n",
      "Epoch 200/200\n",
      "750/750 [==============================] - 0s 29us/step - loss: 0.3641 - val_loss: 0.3855\n"
     ]
    },
    {
     "data": {
      "text/plain": [
       "(0.7752863876311468, 0.04550175059993495)"
      ]
     },
     "execution_count": 152,
     "metadata": {},
     "output_type": "execute_result"
    }
   ],
   "source": [
    "#增强前\n",
    "#定义网络结构\n",
    "epochs=200\n",
    "batch_size=128\n",
    "input_dim=50\n",
    "\n",
    "input_layer=Input(shape=(input_dim,))\n",
    "encode_layer=Dense(20,activation='relu',name='encoder')(input_layer)\n",
    "decode_layer=Dense(input_dim,activation='tanh')(encode_layer)\n",
    "\n",
    "model=Model(inputs=input_layer,outputs=decode_layer)\n",
    "#获取encode_layer层的输出\n",
    "encode_layer_model = Model(inputs=model.input,outputs=model.get_layer('encoder').output)\n",
    "model.compile('adam',loss='mse')\n",
    "\n",
    "ae_standard_np=StandardScaler().fit_transform(features_select_top_50_df[:891])\n",
    "X_train=ae_standard_np[:750]\n",
    "X_eval=ae_standard_np[750:]\n",
    "\n",
    "#训练模型\n",
    "model.fit(X_train,X_train,batch_size=batch_size,epochs=epochs,validation_data=[X_eval,X_eval])\n",
    "ae_new_features=encode_layer_model.predict(ae_standard_np)\n",
    "#gbdt\n",
    "classifier=GradientBoostingClassifier()\n",
    "scores = cross_val_score(classifier,ae_new_features, labels, scoring='f1', cv = 5)\n",
    "np.mean(scores),np.std(scores)"
   ]
  },
  {
   "cell_type": "code",
   "execution_count": 153,
   "metadata": {},
   "outputs": [
    {
     "name": "stdout",
     "output_type": "stream",
     "text": [
      "Train on 1200 samples, validate on 109 samples\n",
      "Epoch 1/200\n",
      "1200/1200 [==============================] - 0s 274us/step - loss: 1.1714 - val_loss: 1.1603\n",
      "Epoch 2/200\n",
      "1200/1200 [==============================] - 0s 27us/step - loss: 1.0831 - val_loss: 1.0879\n",
      "Epoch 3/200\n",
      "1200/1200 [==============================] - 0s 29us/step - loss: 1.0114 - val_loss: 1.0262\n",
      "Epoch 4/200\n",
      "1200/1200 [==============================] - 0s 35us/step - loss: 0.9489 - val_loss: 0.9699\n",
      "Epoch 5/200\n",
      "1200/1200 [==============================] - 0s 42us/step - loss: 0.8911 - val_loss: 0.9141\n",
      "Epoch 6/200\n",
      "1200/1200 [==============================] - 0s 29us/step - loss: 0.8366 - val_loss: 0.8592\n",
      "Epoch 7/200\n",
      "1200/1200 [==============================] - 0s 27us/step - loss: 0.7843 - val_loss: 0.8059\n",
      "Epoch 8/200\n",
      "1200/1200 [==============================] - 0s 33us/step - loss: 0.7343 - val_loss: 0.7563\n",
      "Epoch 9/200\n",
      "1200/1200 [==============================] - 0s 26us/step - loss: 0.6885 - val_loss: 0.7123\n",
      "Epoch 10/200\n",
      "1200/1200 [==============================] - 0s 27us/step - loss: 0.6495 - val_loss: 0.6757\n",
      "Epoch 11/200\n",
      "1200/1200 [==============================] - 0s 27us/step - loss: 0.6175 - val_loss: 0.6482\n",
      "Epoch 12/200\n",
      "1200/1200 [==============================] - 0s 27us/step - loss: 0.5933 - val_loss: 0.6267\n",
      "Epoch 13/200\n",
      "1200/1200 [==============================] - 0s 26us/step - loss: 0.5740 - val_loss: 0.6095\n",
      "Epoch 14/200\n",
      "1200/1200 [==============================] - 0s 27us/step - loss: 0.5581 - val_loss: 0.5945\n",
      "Epoch 15/200\n",
      "1200/1200 [==============================] - 0s 25us/step - loss: 0.5441 - val_loss: 0.5817\n",
      "Epoch 16/200\n",
      "1200/1200 [==============================] - 0s 27us/step - loss: 0.5322 - val_loss: 0.5702\n",
      "Epoch 17/200\n",
      "1200/1200 [==============================] - 0s 27us/step - loss: 0.5212 - val_loss: 0.5597\n",
      "Epoch 18/200\n",
      "1200/1200 [==============================] - 0s 27us/step - loss: 0.5113 - val_loss: 0.5500\n",
      "Epoch 19/200\n",
      "1200/1200 [==============================] - 0s 29us/step - loss: 0.5021 - val_loss: 0.5409\n",
      "Epoch 20/200\n",
      "1200/1200 [==============================] - 0s 27us/step - loss: 0.4937 - val_loss: 0.5327\n",
      "Epoch 21/200\n",
      "1200/1200 [==============================] - 0s 26us/step - loss: 0.4860 - val_loss: 0.5249\n",
      "Epoch 22/200\n",
      "1200/1200 [==============================] - 0s 31us/step - loss: 0.4789 - val_loss: 0.5178\n",
      "Epoch 23/200\n",
      "1200/1200 [==============================] - 0s 29us/step - loss: 0.4725 - val_loss: 0.5112\n",
      "Epoch 24/200\n",
      "1200/1200 [==============================] - 0s 27us/step - loss: 0.4665 - val_loss: 0.5052\n",
      "Epoch 25/200\n",
      "1200/1200 [==============================] - 0s 28us/step - loss: 0.4610 - val_loss: 0.4993\n",
      "Epoch 26/200\n",
      "1200/1200 [==============================] - 0s 34us/step - loss: 0.4561 - val_loss: 0.4938\n",
      "Epoch 27/200\n",
      "1200/1200 [==============================] - 0s 27us/step - loss: 0.4514 - val_loss: 0.4889\n",
      "Epoch 28/200\n",
      "1200/1200 [==============================] - 0s 27us/step - loss: 0.4470 - val_loss: 0.4844\n",
      "Epoch 29/200\n",
      "1200/1200 [==============================] - 0s 27us/step - loss: 0.4431 - val_loss: 0.4799\n",
      "Epoch 30/200\n",
      "1200/1200 [==============================] - 0s 27us/step - loss: 0.4394 - val_loss: 0.4757\n",
      "Epoch 31/200\n",
      "1200/1200 [==============================] - 0s 30us/step - loss: 0.4359 - val_loss: 0.4719\n",
      "Epoch 32/200\n",
      "1200/1200 [==============================] - 0s 27us/step - loss: 0.4327 - val_loss: 0.4680\n",
      "Epoch 33/200\n",
      "1200/1200 [==============================] - 0s 29us/step - loss: 0.4296 - val_loss: 0.4647\n",
      "Epoch 34/200\n",
      "1200/1200 [==============================] - 0s 27us/step - loss: 0.4268 - val_loss: 0.4614\n",
      "Epoch 35/200\n",
      "1200/1200 [==============================] - 0s 27us/step - loss: 0.4242 - val_loss: 0.4584\n",
      "Epoch 36/200\n",
      "1200/1200 [==============================] - 0s 27us/step - loss: 0.4217 - val_loss: 0.4560\n",
      "Epoch 37/200\n",
      "1200/1200 [==============================] - 0s 28us/step - loss: 0.4194 - val_loss: 0.4533\n",
      "Epoch 38/200\n",
      "1200/1200 [==============================] - 0s 29us/step - loss: 0.4173 - val_loss: 0.4511\n",
      "Epoch 39/200\n",
      "1200/1200 [==============================] - 0s 28us/step - loss: 0.4153 - val_loss: 0.4488\n",
      "Epoch 40/200\n",
      "1200/1200 [==============================] - 0s 31us/step - loss: 0.4134 - val_loss: 0.4467\n",
      "Epoch 41/200\n",
      "1200/1200 [==============================] - 0s 28us/step - loss: 0.4116 - val_loss: 0.4446\n",
      "Epoch 42/200\n",
      "1200/1200 [==============================] - 0s 27us/step - loss: 0.4099 - val_loss: 0.4426\n",
      "Epoch 43/200\n",
      "1200/1200 [==============================] - 0s 27us/step - loss: 0.4083 - val_loss: 0.4408\n",
      "Epoch 44/200\n",
      "1200/1200 [==============================] - 0s 31us/step - loss: 0.4068 - val_loss: 0.4392\n",
      "Epoch 45/200\n",
      "1200/1200 [==============================] - 0s 25us/step - loss: 0.4053 - val_loss: 0.4375\n",
      "Epoch 46/200\n",
      "1200/1200 [==============================] - 0s 29us/step - loss: 0.4040 - val_loss: 0.4361\n",
      "Epoch 47/200\n",
      "1200/1200 [==============================] - 0s 28us/step - loss: 0.4027 - val_loss: 0.4347\n",
      "Epoch 48/200\n",
      "1200/1200 [==============================] - 0s 27us/step - loss: 0.4015 - val_loss: 0.4334\n",
      "Epoch 49/200\n",
      "1200/1200 [==============================] - 0s 29us/step - loss: 0.4003 - val_loss: 0.4321\n",
      "Epoch 50/200\n",
      "1200/1200 [==============================] - 0s 28us/step - loss: 0.3992 - val_loss: 0.4310\n",
      "Epoch 51/200\n",
      "1200/1200 [==============================] - 0s 27us/step - loss: 0.3982 - val_loss: 0.4295\n",
      "Epoch 52/200\n",
      "1200/1200 [==============================] - 0s 29us/step - loss: 0.3972 - val_loss: 0.4285\n",
      "Epoch 53/200\n",
      "1200/1200 [==============================] - 0s 27us/step - loss: 0.3963 - val_loss: 0.4274\n",
      "Epoch 54/200\n",
      "1200/1200 [==============================] - 0s 26us/step - loss: 0.3954 - val_loss: 0.4266\n",
      "Epoch 55/200\n",
      "1200/1200 [==============================] - 0s 27us/step - loss: 0.3945 - val_loss: 0.4254\n",
      "Epoch 56/200\n",
      "1200/1200 [==============================] - 0s 27us/step - loss: 0.3937 - val_loss: 0.4242\n",
      "Epoch 57/200\n",
      "1200/1200 [==============================] - 0s 27us/step - loss: 0.3929 - val_loss: 0.4232\n",
      "Epoch 58/200\n",
      "1200/1200 [==============================] - 0s 29us/step - loss: 0.3921 - val_loss: 0.4223\n",
      "Epoch 59/200\n",
      "1200/1200 [==============================] - 0s 27us/step - loss: 0.3914 - val_loss: 0.4214\n",
      "Epoch 60/200\n",
      "1200/1200 [==============================] - 0s 27us/step - loss: 0.3907 - val_loss: 0.4206\n",
      "Epoch 61/200\n",
      "1200/1200 [==============================] - 0s 29us/step - loss: 0.3900 - val_loss: 0.4198\n",
      "Epoch 62/200\n",
      "1200/1200 [==============================] - 0s 29us/step - loss: 0.3893 - val_loss: 0.4191\n",
      "Epoch 63/200\n",
      "1200/1200 [==============================] - 0s 27us/step - loss: 0.3887 - val_loss: 0.4181\n",
      "Epoch 64/200\n",
      "1200/1200 [==============================] - 0s 27us/step - loss: 0.3880 - val_loss: 0.4173\n",
      "Epoch 65/200\n",
      "1200/1200 [==============================] - 0s 34us/step - loss: 0.3874 - val_loss: 0.4164\n",
      "Epoch 66/200\n",
      "1200/1200 [==============================] - 0s 30us/step - loss: 0.3868 - val_loss: 0.4157\n",
      "Epoch 67/200\n",
      "1200/1200 [==============================] - 0s 26us/step - loss: 0.3862 - val_loss: 0.4151\n",
      "Epoch 68/200\n",
      "1200/1200 [==============================] - 0s 27us/step - loss: 0.3857 - val_loss: 0.4144\n",
      "Epoch 69/200\n",
      "1200/1200 [==============================] - 0s 30us/step - loss: 0.3852 - val_loss: 0.4136\n",
      "Epoch 70/200\n",
      "1200/1200 [==============================] - 0s 27us/step - loss: 0.3846 - val_loss: 0.4131\n",
      "Epoch 71/200\n",
      "1200/1200 [==============================] - 0s 28us/step - loss: 0.3841 - val_loss: 0.4122\n",
      "Epoch 72/200\n",
      "1200/1200 [==============================] - 0s 29us/step - loss: 0.3836 - val_loss: 0.4114\n",
      "Epoch 73/200\n",
      "1200/1200 [==============================] - 0s 27us/step - loss: 0.3831 - val_loss: 0.4107\n",
      "Epoch 74/200\n",
      "1200/1200 [==============================] - 0s 29us/step - loss: 0.3826 - val_loss: 0.4101\n",
      "Epoch 75/200\n",
      "1200/1200 [==============================] - 0s 28us/step - loss: 0.3821 - val_loss: 0.4097\n",
      "Epoch 76/200\n",
      "1200/1200 [==============================] - 0s 30us/step - loss: 0.3817 - val_loss: 0.4091\n",
      "Epoch 77/200\n",
      "1200/1200 [==============================] - 0s 30us/step - loss: 0.3812 - val_loss: 0.4085\n",
      "Epoch 78/200\n",
      "1200/1200 [==============================] - 0s 31us/step - loss: 0.3808 - val_loss: 0.4079\n",
      "Epoch 79/200\n",
      "1200/1200 [==============================] - 0s 28us/step - loss: 0.3804 - val_loss: 0.4073\n",
      "Epoch 80/200\n",
      "1200/1200 [==============================] - 0s 25us/step - loss: 0.3799 - val_loss: 0.4068\n",
      "Epoch 81/200\n",
      "1200/1200 [==============================] - 0s 30us/step - loss: 0.3795 - val_loss: 0.4064\n",
      "Epoch 82/200\n",
      "1200/1200 [==============================] - 0s 27us/step - loss: 0.3791 - val_loss: 0.4059\n",
      "Epoch 83/200\n",
      "1200/1200 [==============================] - 0s 30us/step - loss: 0.3787 - val_loss: 0.4053\n",
      "Epoch 84/200\n",
      "1200/1200 [==============================] - 0s 31us/step - loss: 0.3784 - val_loss: 0.4048\n",
      "Epoch 85/200\n",
      "1200/1200 [==============================] - 0s 29us/step - loss: 0.3780 - val_loss: 0.4044\n",
      "Epoch 86/200\n",
      "1200/1200 [==============================] - 0s 32us/step - loss: 0.3776 - val_loss: 0.4038\n",
      "Epoch 87/200\n",
      "1200/1200 [==============================] - 0s 27us/step - loss: 0.3773 - val_loss: 0.4033\n",
      "Epoch 88/200\n",
      "1200/1200 [==============================] - 0s 27us/step - loss: 0.3769 - val_loss: 0.4031\n",
      "Epoch 89/200\n",
      "1200/1200 [==============================] - 0s 27us/step - loss: 0.3766 - val_loss: 0.4026\n",
      "Epoch 90/200\n",
      "1200/1200 [==============================] - 0s 27us/step - loss: 0.3763 - val_loss: 0.4022\n",
      "Epoch 91/200\n",
      "1200/1200 [==============================] - 0s 29us/step - loss: 0.3759 - val_loss: 0.4017\n",
      "Epoch 92/200\n",
      "1200/1200 [==============================] - 0s 30us/step - loss: 0.3756 - val_loss: 0.4013\n",
      "Epoch 93/200\n",
      "1200/1200 [==============================] - 0s 27us/step - loss: 0.3753 - val_loss: 0.4010\n",
      "Epoch 94/200\n",
      "1200/1200 [==============================] - 0s 28us/step - loss: 0.3750 - val_loss: 0.4006\n",
      "Epoch 95/200\n",
      "1200/1200 [==============================] - 0s 27us/step - loss: 0.3747 - val_loss: 0.4003\n",
      "Epoch 96/200\n",
      "1200/1200 [==============================] - 0s 27us/step - loss: 0.3744 - val_loss: 0.3999\n",
      "Epoch 97/200\n",
      "1200/1200 [==============================] - 0s 29us/step - loss: 0.3741 - val_loss: 0.3997\n",
      "Epoch 98/200\n",
      "1200/1200 [==============================] - 0s 26us/step - loss: 0.3738 - val_loss: 0.3993\n",
      "Epoch 99/200\n",
      "1200/1200 [==============================] - ETA: 0s - loss: 0.360 - 0s 28us/step - loss: 0.3735 - val_loss: 0.3990\n",
      "Epoch 100/200\n",
      "1200/1200 [==============================] - 0s 27us/step - loss: 0.3732 - val_loss: 0.3986\n",
      "Epoch 101/200\n",
      "1200/1200 [==============================] - 0s 27us/step - loss: 0.3729 - val_loss: 0.3983\n",
      "Epoch 102/200\n",
      "1200/1200 [==============================] - 0s 26us/step - loss: 0.3726 - val_loss: 0.3980\n",
      "Epoch 103/200\n",
      "1200/1200 [==============================] - ETA: 0s - loss: 0.346 - 0s 27us/step - loss: 0.3723 - val_loss: 0.3976\n",
      "Epoch 104/200\n",
      "1200/1200 [==============================] - 0s 26us/step - loss: 0.3720 - val_loss: 0.3973\n",
      "Epoch 105/200\n",
      "1200/1200 [==============================] - 0s 27us/step - loss: 0.3717 - val_loss: 0.3970\n",
      "Epoch 106/200\n",
      "1200/1200 [==============================] - 0s 28us/step - loss: 0.3714 - val_loss: 0.3967\n",
      "Epoch 107/200\n",
      "1200/1200 [==============================] - 0s 27us/step - loss: 0.3711 - val_loss: 0.3963\n",
      "Epoch 108/200\n",
      "1200/1200 [==============================] - 0s 28us/step - loss: 0.3709 - val_loss: 0.3962\n",
      "Epoch 109/200\n",
      "1200/1200 [==============================] - 0s 29us/step - loss: 0.3706 - val_loss: 0.3958\n",
      "Epoch 110/200\n",
      "1200/1200 [==============================] - 0s 27us/step - loss: 0.3703 - val_loss: 0.3955\n",
      "Epoch 111/200\n",
      "1200/1200 [==============================] - 0s 32us/step - loss: 0.3701 - val_loss: 0.3952\n",
      "Epoch 112/200\n",
      "1200/1200 [==============================] - 0s 27us/step - loss: 0.3698 - val_loss: 0.3949\n",
      "Epoch 113/200\n",
      "1200/1200 [==============================] - 0s 29us/step - loss: 0.3696 - val_loss: 0.3947\n",
      "Epoch 114/200\n",
      "1200/1200 [==============================] - 0s 29us/step - loss: 0.3694 - val_loss: 0.3944\n",
      "Epoch 115/200\n",
      "1200/1200 [==============================] - 0s 27us/step - loss: 0.3692 - val_loss: 0.3942\n",
      "Epoch 116/200\n",
      "1200/1200 [==============================] - 0s 29us/step - loss: 0.3690 - val_loss: 0.3940\n",
      "Epoch 117/200\n",
      "1200/1200 [==============================] - 0s 27us/step - loss: 0.3688 - val_loss: 0.3938\n",
      "Epoch 118/200\n",
      "1200/1200 [==============================] - 0s 28us/step - loss: 0.3686 - val_loss: 0.3935\n",
      "Epoch 119/200\n",
      "1200/1200 [==============================] - 0s 27us/step - loss: 0.3685 - val_loss: 0.3933\n",
      "Epoch 120/200\n",
      "1200/1200 [==============================] - 0s 27us/step - loss: 0.3683 - val_loss: 0.3932\n",
      "Epoch 121/200\n",
      "1200/1200 [==============================] - 0s 28us/step - loss: 0.3681 - val_loss: 0.3929\n",
      "Epoch 122/200\n",
      "1200/1200 [==============================] - 0s 27us/step - loss: 0.3679 - val_loss: 0.3928\n",
      "Epoch 123/200\n",
      "1200/1200 [==============================] - 0s 27us/step - loss: 0.3678 - val_loss: 0.3926\n",
      "Epoch 124/200\n",
      "1200/1200 [==============================] - 0s 27us/step - loss: 0.3676 - val_loss: 0.3925\n",
      "Epoch 125/200\n",
      "1200/1200 [==============================] - 0s 30us/step - loss: 0.3674 - val_loss: 0.3924\n",
      "Epoch 126/200\n",
      "1200/1200 [==============================] - 0s 28us/step - loss: 0.3673 - val_loss: 0.3921\n",
      "Epoch 127/200\n",
      "1200/1200 [==============================] - 0s 30us/step - loss: 0.3671 - val_loss: 0.3921\n",
      "Epoch 128/200\n",
      "1200/1200 [==============================] - 0s 28us/step - loss: 0.3670 - val_loss: 0.3919\n",
      "Epoch 129/200\n",
      "1200/1200 [==============================] - 0s 30us/step - loss: 0.3668 - val_loss: 0.3917\n",
      "Epoch 130/200\n",
      "1200/1200 [==============================] - 0s 34us/step - loss: 0.3667 - val_loss: 0.3916\n",
      "Epoch 131/200\n",
      "1200/1200 [==============================] - 0s 34us/step - loss: 0.3665 - val_loss: 0.3914\n",
      "Epoch 132/200\n",
      "1200/1200 [==============================] - 0s 39us/step - loss: 0.3664 - val_loss: 0.3913\n",
      "Epoch 133/200\n",
      "1200/1200 [==============================] - 0s 38us/step - loss: 0.3662 - val_loss: 0.3910\n",
      "Epoch 134/200\n",
      "1200/1200 [==============================] - 0s 35us/step - loss: 0.3661 - val_loss: 0.3910\n",
      "Epoch 135/200\n",
      "1200/1200 [==============================] - 0s 29us/step - loss: 0.3660 - val_loss: 0.3909\n",
      "Epoch 136/200\n",
      "1200/1200 [==============================] - 0s 27us/step - loss: 0.3659 - val_loss: 0.3907\n",
      "Epoch 137/200\n",
      "1200/1200 [==============================] - 0s 33us/step - loss: 0.3657 - val_loss: 0.3905\n",
      "Epoch 138/200\n",
      "1200/1200 [==============================] - 0s 29us/step - loss: 0.3656 - val_loss: 0.3905\n",
      "Epoch 139/200\n",
      "1200/1200 [==============================] - 0s 27us/step - loss: 0.3655 - val_loss: 0.3903\n",
      "Epoch 140/200\n",
      "1200/1200 [==============================] - 0s 28us/step - loss: 0.3653 - val_loss: 0.3903\n",
      "Epoch 141/200\n",
      "1200/1200 [==============================] - 0s 28us/step - loss: 0.3652 - val_loss: 0.3901\n",
      "Epoch 142/200\n",
      "1200/1200 [==============================] - 0s 27us/step - loss: 0.3651 - val_loss: 0.3899\n",
      "Epoch 143/200\n",
      "1200/1200 [==============================] - 0s 26us/step - loss: 0.3650 - val_loss: 0.3899\n",
      "Epoch 144/200\n",
      "1200/1200 [==============================] - 0s 30us/step - loss: 0.3649 - val_loss: 0.3897\n",
      "Epoch 145/200\n",
      "1200/1200 [==============================] - ETA: 0s - loss: 0.341 - 0s 29us/step - loss: 0.3648 - val_loss: 0.3897\n",
      "Epoch 146/200\n",
      "1200/1200 [==============================] - 0s 27us/step - loss: 0.3647 - val_loss: 0.3896\n",
      "Epoch 147/200\n",
      "1200/1200 [==============================] - 0s 31us/step - loss: 0.3646 - val_loss: 0.3894\n",
      "Epoch 148/200\n",
      "1200/1200 [==============================] - 0s 28us/step - loss: 0.3645 - val_loss: 0.3894\n",
      "Epoch 149/200\n",
      "1200/1200 [==============================] - 0s 27us/step - loss: 0.3644 - val_loss: 0.3893\n",
      "Epoch 150/200\n",
      "1200/1200 [==============================] - 0s 30us/step - loss: 0.3642 - val_loss: 0.3892\n",
      "Epoch 151/200\n",
      "1200/1200 [==============================] - 0s 27us/step - loss: 0.3641 - val_loss: 0.3891\n",
      "Epoch 152/200\n",
      "1200/1200 [==============================] - 0s 28us/step - loss: 0.3641 - val_loss: 0.3889\n",
      "Epoch 153/200\n",
      "1200/1200 [==============================] - 0s 29us/step - loss: 0.3639 - val_loss: 0.3889\n",
      "Epoch 154/200\n",
      "1200/1200 [==============================] - 0s 28us/step - loss: 0.3639 - val_loss: 0.3888\n"
     ]
    },
    {
     "name": "stdout",
     "output_type": "stream",
     "text": [
      "Epoch 155/200\n",
      "1200/1200 [==============================] - 0s 27us/step - loss: 0.3638 - val_loss: 0.3888\n",
      "Epoch 156/200\n",
      "1200/1200 [==============================] - 0s 29us/step - loss: 0.3637 - val_loss: 0.3886\n",
      "Epoch 157/200\n",
      "1200/1200 [==============================] - 0s 26us/step - loss: 0.3636 - val_loss: 0.3886\n",
      "Epoch 158/200\n",
      "1200/1200 [==============================] - 0s 26us/step - loss: 0.3635 - val_loss: 0.3886\n",
      "Epoch 159/200\n",
      "1200/1200 [==============================] - 0s 27us/step - loss: 0.3634 - val_loss: 0.3884\n",
      "Epoch 160/200\n",
      "1200/1200 [==============================] - 0s 27us/step - loss: 0.3633 - val_loss: 0.3884\n",
      "Epoch 161/200\n",
      "1200/1200 [==============================] - 0s 28us/step - loss: 0.3632 - val_loss: 0.3883\n",
      "Epoch 162/200\n",
      "1200/1200 [==============================] - 0s 30us/step - loss: 0.3631 - val_loss: 0.3882\n",
      "Epoch 163/200\n",
      "1200/1200 [==============================] - 0s 24us/step - loss: 0.3630 - val_loss: 0.3881\n",
      "Epoch 164/200\n",
      "1200/1200 [==============================] - 0s 32us/step - loss: 0.3629 - val_loss: 0.3880\n",
      "Epoch 165/200\n",
      "1200/1200 [==============================] - 0s 32us/step - loss: 0.3628 - val_loss: 0.3879\n",
      "Epoch 166/200\n",
      "1200/1200 [==============================] - 0s 27us/step - loss: 0.3627 - val_loss: 0.3879\n",
      "Epoch 167/200\n",
      "1200/1200 [==============================] - 0s 32us/step - loss: 0.3626 - val_loss: 0.3878\n",
      "Epoch 168/200\n",
      "1200/1200 [==============================] - 0s 37us/step - loss: 0.3625 - val_loss: 0.3878\n",
      "Epoch 169/200\n",
      "1200/1200 [==============================] - 0s 39us/step - loss: 0.3624 - val_loss: 0.3878\n",
      "Epoch 170/200\n",
      "1200/1200 [==============================] - 0s 34us/step - loss: 0.3623 - val_loss: 0.3877\n",
      "Epoch 171/200\n",
      "1200/1200 [==============================] - 0s 35us/step - loss: 0.3622 - val_loss: 0.3876\n",
      "Epoch 172/200\n",
      "1200/1200 [==============================] - 0s 40us/step - loss: 0.3621 - val_loss: 0.3874\n",
      "Epoch 173/200\n",
      "1200/1200 [==============================] - 0s 37us/step - loss: 0.3621 - val_loss: 0.3875\n",
      "Epoch 174/200\n",
      "1200/1200 [==============================] - 0s 32us/step - loss: 0.3620 - val_loss: 0.3873\n",
      "Epoch 175/200\n",
      "1200/1200 [==============================] - 0s 92us/step - loss: 0.3619 - val_loss: 0.3872\n",
      "Epoch 176/200\n",
      "1200/1200 [==============================] - 0s 27us/step - loss: 0.3618 - val_loss: 0.3872\n",
      "Epoch 177/200\n",
      "1200/1200 [==============================] - 0s 27us/step - loss: 0.3617 - val_loss: 0.3871\n",
      "Epoch 178/200\n",
      "1200/1200 [==============================] - 0s 28us/step - loss: 0.3617 - val_loss: 0.3870\n",
      "Epoch 179/200\n",
      "1200/1200 [==============================] - 0s 29us/step - loss: 0.3616 - val_loss: 0.3868\n",
      "Epoch 180/200\n",
      "1200/1200 [==============================] - 0s 27us/step - loss: 0.3615 - val_loss: 0.3868\n",
      "Epoch 181/200\n",
      "1200/1200 [==============================] - 0s 27us/step - loss: 0.3614 - val_loss: 0.3868\n",
      "Epoch 182/200\n",
      "1200/1200 [==============================] - 0s 27us/step - loss: 0.3614 - val_loss: 0.3868\n",
      "Epoch 183/200\n",
      "1200/1200 [==============================] - 0s 30us/step - loss: 0.3613 - val_loss: 0.3867\n",
      "Epoch 184/200\n",
      "1200/1200 [==============================] - 0s 31us/step - loss: 0.3612 - val_loss: 0.3866\n",
      "Epoch 185/200\n",
      "1200/1200 [==============================] - 0s 31us/step - loss: 0.3611 - val_loss: 0.3865\n",
      "Epoch 186/200\n",
      "1200/1200 [==============================] - 0s 31us/step - loss: 0.3611 - val_loss: 0.3864\n",
      "Epoch 187/200\n",
      "1200/1200 [==============================] - 0s 31us/step - loss: 0.3610 - val_loss: 0.3863\n",
      "Epoch 188/200\n",
      "1200/1200 [==============================] - 0s 32us/step - loss: 0.3609 - val_loss: 0.3863\n",
      "Epoch 189/200\n",
      "1200/1200 [==============================] - 0s 32us/step - loss: 0.3608 - val_loss: 0.3862\n",
      "Epoch 190/200\n",
      "1200/1200 [==============================] - 0s 34us/step - loss: 0.3607 - val_loss: 0.3862\n",
      "Epoch 191/200\n",
      "1200/1200 [==============================] - 0s 31us/step - loss: 0.3607 - val_loss: 0.3862\n",
      "Epoch 192/200\n",
      "1200/1200 [==============================] - 0s 29us/step - loss: 0.3606 - val_loss: 0.3860\n",
      "Epoch 193/200\n",
      "1200/1200 [==============================] - 0s 28us/step - loss: 0.3605 - val_loss: 0.3859\n",
      "Epoch 194/200\n",
      "1200/1200 [==============================] - 0s 27us/step - loss: 0.3605 - val_loss: 0.3860\n",
      "Epoch 195/200\n",
      "1200/1200 [==============================] - 0s 29us/step - loss: 0.3604 - val_loss: 0.3858\n",
      "Epoch 196/200\n",
      "1200/1200 [==============================] - 0s 27us/step - loss: 0.3603 - val_loss: 0.3858\n",
      "Epoch 197/200\n",
      "1200/1200 [==============================] - 0s 27us/step - loss: 0.3602 - val_loss: 0.3858\n",
      "Epoch 198/200\n",
      "1200/1200 [==============================] - ETA: 0s - loss: 0.232 - 0s 27us/step - loss: 0.3602 - val_loss: 0.3857\n",
      "Epoch 199/200\n",
      "1200/1200 [==============================] - 0s 34us/step - loss: 0.3601 - val_loss: 0.3856\n",
      "Epoch 200/200\n",
      "1200/1200 [==============================] - 0s 30us/step - loss: 0.3601 - val_loss: 0.3856\n"
     ]
    },
    {
     "data": {
      "text/plain": [
       "(0.7675414890194835, 0.033262851771355864)"
      ]
     },
     "execution_count": 153,
     "metadata": {},
     "output_type": "execute_result"
    }
   ],
   "source": [
    "#增强后\n",
    "epochs=200\n",
    "batch_size=128\n",
    "input_dim=50\n",
    "\n",
    "input_layer=Input(shape=(input_dim,))\n",
    "encode_layer=Dense(20,activation='relu',name='encoder')(input_layer)\n",
    "decode_layer=Dense(input_dim,activation='tanh')(encode_layer)\n",
    "\n",
    "model=Model(inputs=input_layer,outputs=decode_layer)\n",
    "#获取encode_layer层的输出\n",
    "encode_layer_model = Model(inputs=model.input,outputs=model.get_layer('encoder').output)\n",
    "model.compile('adam',loss='mse')\n",
    "\n",
    "ae_standard_np=StandardScaler().fit_transform(features_select_top_50_df)\n",
    "X_train=ae_standard_np[:1200]\n",
    "X_eval=ae_standard_np[1200:]\n",
    "\n",
    "#训练模型\n",
    "model.fit(X_train,X_train,batch_size=batch_size,epochs=epochs,validation_data=[X_eval,X_eval])\n",
    "ae_new_features=encode_layer_model.predict(ae_standard_np)\n",
    "#gbdt\n",
    "classifier=GradientBoostingClassifier()\n",
    "scores = cross_val_score(classifier,ae_new_features[:891], labels, scoring='f1', cv = 5)\n",
    "np.mean(scores),np.std(scores)"
   ]
  },
  {
   "cell_type": "markdown",
   "metadata": {},
   "source": [
    "另外，对NaN的填充，仅用训练数据和用增强后的数据也可以做对比....."
   ]
  },
  {
   "cell_type": "markdown",
   "metadata": {},
   "source": [
    "##### 4.2.2 数据增强-过采样\n",
    "这里推荐imblearn工具  \n",
    "pip install imblearn"
   ]
  },
  {
   "cell_type": "code",
   "execution_count": 154,
   "metadata": {},
   "outputs": [
    {
     "data": {
      "text/plain": [
       "(0.8023959131004276, 0.05676594835661363)"
      ]
     },
     "execution_count": 154,
     "metadata": {},
     "output_type": "execute_result"
    }
   ],
   "source": [
    "from imblearn.over_sampling import SMOTE\n",
    "kfold= KFold(n_splits=5,random_state=42,shuffle=True)\n",
    "scores=[]\n",
    "for train_index,test_index in kfold.split(features_select_top_50_df[:891],labels):\n",
    "    X_train=features_select_top_50_df.loc[train_index]\n",
    "    y_train=labels[train_index]\n",
    "    X_test=features_select_top_50_df.loc[test_index]\n",
    "    y_test=labels[test_index]\n",
    "    \n",
    "    X_resampled,y_resampled=SMOTE(k_neighbors=5).fit_sample(X_train,y_train)\n",
    "    \n",
    "    gbdt=GradientBoostingClassifier()\n",
    "    gbdt.fit(X_resampled,y_resampled)\n",
    "    y_predict=gbdt.predict(X_test)\n",
    "    f1_score=metrics.f1_score(y_test,y_predict)\n",
    "    scores.append(f1_score)\n",
    "np.mean(scores),np.std(scores)"
   ]
  },
  {
   "cell_type": "markdown",
   "metadata": {},
   "source": [
    "##### 4.2.2 数据增强-自定义规则\n",
    "对每条训练数据做如下操作：  \n",
    "（1）随机删掉某个特征（0替换）；  \n",
    "（2）随机交换同class的某个特征的值；  \n",
    "（3）随机交换非class的某个特征的值；  "
   ]
  },
  {
   "cell_type": "code",
   "execution_count": 155,
   "metadata": {},
   "outputs": [],
   "source": [
    "def extend_data(train_df,train_y):\n",
    "    #删除操作\n",
    "    rows,cols=train_df.shape\n",
    "    delete_df=copy.deepcopy(train_df)\n",
    "    for i in range(0,rows):\n",
    "        j=random.choice(range(0,cols))\n",
    "        delete_df.iloc[i,j]=0#注意：要用iloc[i,j]的方式才能成功赋值，loc[i,j],iloc[i][j],iloc[i,j]的方式都不行\n",
    "    #替换操作\n",
    "    replace_df=copy.deepcopy(train_df)\n",
    "    zero_class_df=train_df[train_y==0]\n",
    "    one_class_df=train_df[train_y==1]\n",
    "    zero_rows,_=zero_class_df.shape\n",
    "    one_rows,_=one_class_df.shape\n",
    "    for i in range(0,rows):\n",
    "        j=random.choice(range(0,cols))\n",
    "        if train_y.tolist()[i]==0:\n",
    "            new_i=random.choice(range(0,zero_rows))\n",
    "            replace_df.iloc[i,j]=zero_class_df.iloc[new_i,j]\n",
    "        else:\n",
    "            new_i=random.choice(range(0,one_rows))\n",
    "            replace_df.iloc[i,j]=one_class_df.iloc[new_i,j]\n",
    "    #替换操作\n",
    "    replace_df2=copy.deepcopy(train_df)\n",
    "    for i in range(0,rows):\n",
    "        j=random.choice(range(0,cols))\n",
    "        if train_y.tolist()[i]==0:\n",
    "            new_i=random.choice(range(0,one_rows))\n",
    "            replace_df2.iloc[i,j]=one_class_df.iloc[new_i,j]\n",
    "        else:\n",
    "            new_i=random.choice(range(0,zero_rows))\n",
    "            replace_df2.iloc[i,j]=zero_class_df.iloc[new_i,j]\n",
    "    #合并\n",
    "    return pd.concat([train_df,delete_df,replace_df,replace_df2]),train_y.tolist()*4"
   ]
  },
  {
   "cell_type": "code",
   "execution_count": 156,
   "metadata": {},
   "outputs": [
    {
     "data": {
      "text/plain": [
       "(0.8050731990298431, 0.05334388437545418)"
      ]
     },
     "execution_count": 156,
     "metadata": {},
     "output_type": "execute_result"
    }
   ],
   "source": [
    "kfold= KFold(n_splits=5,random_state=42,shuffle=True)\n",
    "scores=[]\n",
    "for train_index,test_index in kfold.split(features_select_top_50_df[:891],labels):\n",
    "    X_train=features_select_top_50_df.loc[train_index]\n",
    "    y_train=labels[train_index]\n",
    "    X_test=features_select_top_50_df.loc[test_index]\n",
    "    y_test=labels[test_index]\n",
    "    \n",
    "    X_extended,y_extended=extend_data(X_train,y_train)\n",
    "    X_extended2,y_extended2=extend_data(X_train,y_train)\n",
    "    X_extended3,y_extended3=extend_data(X_train,y_train)\n",
    "    \n",
    "    gbdt=GradientBoostingClassifier()\n",
    "    gbdt.fit(pd.concat([X_train,X_extended,X_extended2,X_extended3]),y_train.tolist()+y_extended+y_extended2+y_extended3)\n",
    "    y_predict=gbdt.predict(X_test)\n",
    "    f1_score=metrics.f1_score(y_test,y_predict)\n",
    "    scores.append(f1_score)\n",
    "np.mean(scores),np.std(scores)"
   ]
  },
  {
   "cell_type": "markdown",
   "metadata": {},
   "source": [
    "这里把数据扩了12倍，多次运行，绝大部分情况下f1>0.8，当然，我们也可以与过采样的方法结合起来"
   ]
  },
  {
   "cell_type": "markdown",
   "metadata": {},
   "source": [
    "#### 4.3模型优化  \n",
    "模型的优化，可以考虑：  \n",
    "（1）单模型优化：超参搜索；  \n",
    "（2）多模型集成：集成学习；  \n",
    "\n",
    "##### 4.3.1 超参数搜索\n",
    "超参是指需要人为设定的参数，比如前面gbdt中的```n_estimators,max_depth,learning_rate```等；目前常见的超参搜索有网格搜索、随机搜索、贝叶斯优化搜索，还有基于强化学习的，比如google vizier...，其实比较好的方法是“人工智能”搜索（只需要一个excel表，并记录到相关操作对结果的改变就好了<坏结果也要保留>），接下来我们就在features_select_top_50_df数据集以及gbdt模型的基础上演示网格搜索、随机搜索、贝叶斯搜索...\n",
    "\n",
    "##### 4.3.1 超参数搜索-网格搜索\n",
    "网格搜索是将超参搜索空间切分成许多网格，我们在这些交点上选择一个较优秀的超参，但由于优化目标往往非凸，最优参数往往会成为漏网之鱼，通常比较建议的一种方式是在大范围内进行初步搜索，然后再在小范围内精确搜索。"
   ]
  },
  {
   "cell_type": "code",
   "execution_count": 157,
   "metadata": {},
   "outputs": [
    {
     "data": {
      "text/plain": [
       "GridSearchCV(cv='warn', error_score='raise-deprecating',\n",
       "       estimator=GradientBoostingClassifier(criterion='friedman_mse', init=None,\n",
       "              learning_rate=0.1, loss='deviance', max_depth=3,\n",
       "              max_features=None, max_leaf_nodes=None,\n",
       "              min_impurity_decrease=0.0, min_impurity_split=None,\n",
       "              min_samples_leaf=1, min_sampl...      subsample=1.0, tol=0.0001, validation_fraction=0.1,\n",
       "              verbose=0, warm_start=False),\n",
       "       fit_params=None, iid='warn', n_jobs=None,\n",
       "       param_grid={'max_depth': [3, 4, 5], 'learning_rate': [0.1, 0.15, 0.2], 'n_estimators': [50, 80, 100, 150]},\n",
       "       pre_dispatch='2*n_jobs', refit=True, return_train_score='warn',\n",
       "       scoring='f1', verbose=0)"
      ]
     },
     "execution_count": 157,
     "metadata": {},
     "output_type": "execute_result"
    }
   ],
   "source": [
    "from sklearn.model_selection import GridSearchCV\n",
    "#定义搜索空间\n",
    "gdbt_parameters = {'max_depth': [3,4,5],'learning_rate':[0.1,0.15,0.2],'n_estimators':[50,80,100,150]}\n",
    "#定义模型\n",
    "gbdt=GradientBoostingClassifier()\n",
    "#进行搜索\n",
    "grid = GridSearchCV(gbdt, gdbt_parameters,scoring='f1')\n",
    "grid.fit(features_select_top_50_df[:891], labels)"
   ]
  },
  {
   "cell_type": "code",
   "execution_count": 158,
   "metadata": {},
   "outputs": [
    {
     "data": {
      "text/plain": [
       "0.7913674844734889"
      ]
     },
     "execution_count": 158,
     "metadata": {},
     "output_type": "execute_result"
    }
   ],
   "source": [
    "grid.best_score_"
   ]
  },
  {
   "cell_type": "code",
   "execution_count": 159,
   "metadata": {},
   "outputs": [
    {
     "data": {
      "text/plain": [
       "{'learning_rate': 0.1, 'max_depth': 3, 'n_estimators': 100}"
      ]
     },
     "execution_count": 159,
     "metadata": {},
     "output_type": "execute_result"
    }
   ],
   "source": [
    "grid.best_params_"
   ]
  },
  {
   "cell_type": "code",
   "execution_count": 160,
   "metadata": {},
   "outputs": [
    {
     "data": {
      "text/plain": [
       "(0.8049563435310698, 0.04026419511814796)"
      ]
     },
     "execution_count": 160,
     "metadata": {},
     "output_type": "execute_result"
    }
   ],
   "source": [
    "#试一试这组参数\n",
    "classifier=GradientBoostingClassifier(n_estimators=80,max_depth=3,learning_rate=0.15)\n",
    "scores = cross_val_score(classifier,features_select_top_50_df[:891],labels, scoring='f1', cv = 5)\n",
    "np.mean(scores),np.std(scores)"
   ]
  },
  {
   "cell_type": "markdown",
   "metadata": {},
   "source": [
    "##### 4.3.1超参数搜索-随机搜索\n",
    "更多：https://blog.csdn.net/qq_36810398/article/details/86699842"
   ]
  },
  {
   "cell_type": "code",
   "execution_count": 161,
   "metadata": {},
   "outputs": [
    {
     "data": {
      "text/plain": [
       "RandomizedSearchCV(cv='warn', error_score='raise-deprecating',\n",
       "          estimator=GradientBoostingClassifier(criterion='friedman_mse', init=None,\n",
       "              learning_rate=0.1, loss='deviance', max_depth=3,\n",
       "              max_features=None, max_leaf_nodes=None,\n",
       "              min_impurity_decrease=0.0, min_impurity_split=None,\n",
       "              min_samples_leaf=1, min_sampl...      subsample=1.0, tol=0.0001, validation_fraction=0.1,\n",
       "              verbose=0, warm_start=False),\n",
       "          fit_params=None, iid='warn', n_iter=10, n_jobs=None,\n",
       "          param_distributions={'max_depth': [3, 4, 5], 'learning_rate': [0.1, 0.15, 0.2], 'n_estimators': [50, 80, 100, 150]},\n",
       "          pre_dispatch='2*n_jobs', random_state=None, refit=True,\n",
       "          return_train_score='warn', scoring='f1', verbose=0)"
      ]
     },
     "execution_count": 161,
     "metadata": {},
     "output_type": "execute_result"
    }
   ],
   "source": [
    "from sklearn.model_selection import RandomizedSearchCV\n",
    "#定义搜索空间\n",
    "gdbt_parameters = {'max_depth': [3,4,5],'learning_rate':[0.1,0.15,0.2],'n_estimators':[50,80,100,150]}\n",
    "#定义模型\n",
    "gbdt=GradientBoostingClassifier()\n",
    "#进行搜索\n",
    "random_search = RandomizedSearchCV(gbdt, gdbt_parameters,scoring='f1')\n",
    "random_search.fit(features_select_top_50_df[:891], labels)"
   ]
  },
  {
   "cell_type": "code",
   "execution_count": 162,
   "metadata": {},
   "outputs": [
    {
     "data": {
      "text/plain": [
       "{'n_estimators': 50, 'max_depth': 3, 'learning_rate': 0.15}"
      ]
     },
     "execution_count": 162,
     "metadata": {},
     "output_type": "execute_result"
    }
   ],
   "source": [
    "random_search.best_params_"
   ]
  },
  {
   "cell_type": "code",
   "execution_count": 163,
   "metadata": {},
   "outputs": [
    {
     "data": {
      "text/plain": [
       "(0.7953503302636137, 0.05131962771636548)"
      ]
     },
     "execution_count": 163,
     "metadata": {},
     "output_type": "execute_result"
    }
   ],
   "source": [
    "#试一试这组参数\n",
    "classifier=GradientBoostingClassifier(n_estimators=80,max_depth=3,learning_rate=0.1)\n",
    "scores = cross_val_score(classifier,features_select_top_50_df[:891],labels, scoring='f1', cv = 5)\n",
    "np.mean(scores),np.std(scores)"
   ]
  },
  {
   "cell_type": "markdown",
   "metadata": {},
   "source": [
    "#### 4.3.1超参数搜索-贝叶斯优化\n",
    "这里推荐使用Hyperopt工具  \n",
    "更多：https://www.jianshu.com/p/35eed1567463"
   ]
  },
  {
   "cell_type": "code",
   "execution_count": 164,
   "metadata": {},
   "outputs": [
    {
     "name": "stdout",
     "output_type": "stream",
     "text": [
      "100%|████████████████████████████████████████████████| 300/300 [03:25<00:00,  1.59it/s, best loss: -0.8084986135045984]\n",
      "best: {'learning_rate': 1, 'max_depth': 0, 'n_estimators': 0}\n"
     ]
    }
   ],
   "source": [
    "from hyperopt import fmin, tpe, hp,STATUS_OK,Trials\n",
    "\n",
    "#定义loss函数\n",
    "def hyperopt_train_test(params):\n",
    "    clf = GradientBoostingClassifier(**params)\n",
    "    return cross_val_score(clf, features_select_top_50_df[:891],labels,cv=5,scoring='f1').mean()\n",
    "#定义搜索空间\n",
    "space4gbdt = {\n",
    "    'max_depth': hp.choice('max_depth', [3,4,5]),\n",
    "    'n_estimators': hp.choice('n_estimators', [50,80,100,150]),\n",
    "    'learning_rate': hp.choice('learning_rate', [0.1,0.15,0.2])\n",
    "}\n",
    "#定义优化目标-最小化-f1\n",
    "def f(params):\n",
    "    f1 = hyperopt_train_test(params)\n",
    "    return {'loss': -f1, 'status': STATUS_OK}\n",
    "#查找最佳参数\n",
    "trials = Trials()\n",
    "best = fmin(f, space4gbdt, algo=tpe.suggest, max_evals=300, trials=trials)\n",
    "print('best:',best)"
   ]
  },
  {
   "cell_type": "code",
   "execution_count": 165,
   "metadata": {},
   "outputs": [
    {
     "data": {
      "text/plain": [
       "(0.8028268945820634, 0.04982023136963339)"
      ]
     },
     "execution_count": 165,
     "metadata": {},
     "output_type": "execute_result"
    }
   ],
   "source": [
    "#试一试这组参数\n",
    "classifier=GradientBoostingClassifier(n_estimators=50,max_depth=3,learning_rate=0.2)\n",
    "scores = cross_val_score(classifier,features_select_top_50_df[:891],labels, scoring='f1', cv = 5)\n",
    "np.mean(scores),np.std(scores)"
   ]
  },
  {
   "cell_type": "markdown",
   "metadata": {},
   "source": [
    "从前面的几组参数来看，可以发现learning_rate在0.1到0.15,n_estimators在50,80之间都可取，max_depth都选择为3，接下来，我们换更小的步长进行搜索..."
   ]
  },
  {
   "cell_type": "code",
   "execution_count": 166,
   "metadata": {},
   "outputs": [
    {
     "data": {
      "text/plain": [
       "RandomizedSearchCV(cv='warn', error_score='raise-deprecating',\n",
       "          estimator=GradientBoostingClassifier(criterion='friedman_mse', init=None,\n",
       "              learning_rate=0.1, loss='deviance', max_depth=3,\n",
       "              max_features=None, max_leaf_nodes=None,\n",
       "              min_impurity_decrease=0.0, min_impurity_split=None,\n",
       "              min_samples_leaf=1, min_sampl...      subsample=1.0, tol=0.0001, validation_fraction=0.1,\n",
       "              verbose=0, warm_start=False),\n",
       "          fit_params=None, iid='warn', n_iter=10, n_jobs=None,\n",
       "          param_distributions={'learning_rate': [0.1, 0.11, 0.12, 0.13, 0.14, 0.15, 0.16, 0.17, 0.18, 0.19, 0.2], 'n_estimators': range(50, 81)},\n",
       "          pre_dispatch='2*n_jobs', random_state=None, refit=True,\n",
       "          return_train_score='warn', scoring='f1', verbose=0)"
      ]
     },
     "execution_count": 166,
     "metadata": {},
     "output_type": "execute_result"
    }
   ],
   "source": [
    "from sklearn.model_selection import RandomizedSearchCV\n",
    "#定义搜索空间\n",
    "gdbt_parameters = {'learning_rate':[item/100 for item in list(range(10,21))],'n_estimators':range(50,81)}\n",
    "#定义模型\n",
    "gbdt=GradientBoostingClassifier()\n",
    "#进行搜索\n",
    "random_search = RandomizedSearchCV(gbdt, gdbt_parameters,scoring='f1')\n",
    "random_search.fit(features_select_top_50_df[:891], labels)"
   ]
  },
  {
   "cell_type": "code",
   "execution_count": 167,
   "metadata": {},
   "outputs": [
    {
     "data": {
      "text/plain": [
       "{'n_estimators': 52, 'learning_rate': 0.12}"
      ]
     },
     "execution_count": 167,
     "metadata": {},
     "output_type": "execute_result"
    }
   ],
   "source": [
    "random_search.best_params_"
   ]
  },
  {
   "cell_type": "code",
   "execution_count": 168,
   "metadata": {},
   "outputs": [
    {
     "data": {
      "text/plain": [
       "(0.7901044801644943, 0.05243792278711915)"
      ]
     },
     "execution_count": 168,
     "metadata": {},
     "output_type": "execute_result"
    }
   ],
   "source": [
    "#试一试这组参数\n",
    "classifier=GradientBoostingClassifier(n_estimators=50,max_depth=3,learning_rate=0.17)\n",
    "scores = cross_val_score(classifier,features_select_top_50_df[:891],labels, scoring='f1', cv = 5)\n",
    "np.mean(scores),np.std(scores)"
   ]
  },
  {
   "cell_type": "markdown",
   "metadata": {},
   "source": [
    "### 4.3.2 集成学习\n",
    "最后我们还可以将多个模型的输出结果进行集成，常见的bagging(代表是rf),boosting(代表是gbdt)；另外gbdt的多种实现版本，大家可以在各种竞赛(特别是kaggle)中经常见到，比如xgboost,lightgbm,catboost等，这里我介绍另外一种比较暴力的集成学习方法：**stacking**，它将模型的预测结果作为上一层模型的特征输入，结构如图：  \n",
    "![avatar](./source/stacking.jpg)\n",
    "\n",
    "更多： https://github.com/zhulei227/Stacking_Ensembles  \n",
    "更多stacking集成工具：https://www.jianshu.com/p/59313f43916f"
   ]
  },
  {
   "cell_type": "code",
   "execution_count": 169,
   "metadata": {},
   "outputs": [],
   "source": [
    "from stacking_classifier import *\n",
    "#定义模型结构\n",
    "classifier = StackingClassifier(\n",
    "    base_classifiers=[\n",
    "        RandomForestClassifier(),\n",
    "        AdaBoostClassifier(),\n",
    "        BaggingClassifier(),\n",
    "        GradientBoostingClassifier(),\n",
    "        LightGBMClassifier(),\n",
    "        SVMClassifier(),\n",
    "        NaiveBayesClassifier(),\n",
    "    ],\n",
    "    meta_classifier=LogisticRegression(),\n",
    "    subsample_features_rate=0.9,\n",
    "    n_jobs=-1\n",
    ")\n",
    "classifier.build_model()"
   ]
  },
  {
   "cell_type": "code",
   "execution_count": 170,
   "metadata": {},
   "outputs": [
    {
     "name": "stdout",
     "output_type": "stream",
     "text": [
      "3 35\n",
      "2 1\n",
      "2 5\n"
     ]
    },
    {
     "data": {
      "text/plain": [
       "0.8085106382978724"
      ]
     },
     "execution_count": 170,
     "metadata": {},
     "output_type": "execute_result"
    }
   ],
   "source": [
    "X_train,X_test, y_train, y_test =train_test_split(features_select_top_50_df[:891], labels,test_size=0.2, random_state=42)\n",
    "classifier.fit(X_train,y_train)\n",
    "y_predict=classifier.predict(X_test)\n",
    "f1_score=metrics.f1_score(y_test,y_predict)\n",
    "f1_score"
   ]
  }
 ],
 "metadata": {
  "kernelspec": {
   "display_name": "Python 3",
   "language": "python",
   "name": "python3"
  },
  "language_info": {
   "codemirror_mode": {
    "name": "ipython",
    "version": 3
   },
   "file_extension": ".py",
   "mimetype": "text/x-python",
   "name": "python",
   "nbconvert_exporter": "python",
   "pygments_lexer": "ipython3",
   "version": "3.6.5"
  }
 },
 "nbformat": 4,
 "nbformat_minor": 2
}
