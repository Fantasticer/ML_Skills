{
 "cells": [
  {
   "cell_type": "code",
   "execution_count": 1,
   "metadata": {},
   "outputs": [],
   "source": [
    "from sklearn.model_selection import train_test_split,cross_val_score,KFold\n",
    "from sklearn.ensemble import GradientBoostingClassifier,RandomForestClassifier\n",
    "from sklearn.cluster import KMeans\n",
    "from sklearn import metrics\n",
    "import matplotlib.pyplot as plt\n",
    "%matplotlib inline\n",
    "import numpy as np\n",
    "import pandas as pd\n",
    "train_df=pd.read_csv('./titanic/train.csv')\n",
    "test_df=pd.read_csv('./titanic/test.csv')\n",
    "import warnings\n",
    "warnings.filterwarnings('ignore')"
   ]
  },
  {
   "cell_type": "code",
   "execution_count": 2,
   "metadata": {},
   "outputs": [],
   "source": [
    "#重复上一节的操作...\n",
    "train_df['Cabin'].fillna('missing',inplace=True)\n",
    "test_df['Cabin'].fillna('missing',inplace=True)\n",
    "train_df['Embarked'].fillna(train_df['Embarked'].mode()[0],inplace=True)\n",
    "train_df['Age'].fillna(train_df['Age'].mean(),inplace=True)\n",
    "test_df['Age'].fillna(train_df['Age'].mean(),inplace=True)\n",
    "test_df['Fare'].fillna(train_df['Fare'].mean(),inplace=True)\n",
    "import category_encoders as ce\n",
    "del train_df['Name']\n",
    "del train_df['Ticket']\n",
    "del test_df['Name']\n",
    "del test_df['Ticket']\n",
    "del train_df['PassengerId']\n",
    "del test_df['PassengerId']\n",
    "label=train_df[\"Survived\"]\n",
    "del train_df[\"Survived\"]\n",
    "# target \n",
    "target_encoder = ce.TargetEncoder(cols=['Embarked','Cabin']).fit(train_df,label)\n",
    "train_df=target_encoder.transform(train_df)\n",
    "test_df=target_encoder.transform(test_df)\n",
    "\n",
    "# one hot\n",
    "onehot_encoder = ce.OneHotEncoder(cols=['Sex']).fit(train_df)\n",
    "train_df=onehot_encoder.transform(train_df)\n",
    "test_df=onehot_encoder.transform(test_df)\n",
    "\n",
    "from sklearn.preprocessing import StandardScaler,MinMaxScaler,Normalizer\n",
    "#z-score归一化为例\n",
    "standard_scaler=StandardScaler()\n",
    "standard_scaler.fit(train_df)\n",
    "new_train_df=pd.DataFrame(standard_scaler.transform(train_df),columns=train_df.columns)\n",
    "new_test_df=pd.DataFrame(standard_scaler.transform(test_df),columns=train_df.columns)"
   ]
  },
  {
   "cell_type": "code",
   "execution_count": 3,
   "metadata": {},
   "outputs": [
    {
     "data": {
      "text/plain": [
       "(0.7785468194526353, 0.04490418481133087)"
      ]
     },
     "execution_count": 3,
     "metadata": {},
     "output_type": "execute_result"
    }
   ],
   "source": [
    "# base line...\n",
    "classifier=GradientBoostingClassifier()\n",
    "scores = cross_val_score(classifier, new_train_df, label, scoring='f1', cv = 5)\n",
    "np.mean(scores),np.std(scores)"
   ]
  },
  {
   "cell_type": "markdown",
   "metadata": {},
   "source": [
    "### 简介\n",
    "关于特征增强，可以考虑两个方向：   \n",
    "\n",
    "（1）增加有用的特征： \n",
    "\n",
    "    这个就有些黑科技了，更多的是通过业务常识去造特征；\n",
    "\n",
    "（2）去掉有害的特征，即**特征降维**，这又有两个方向：   \n",
    "\n",
    ">（2.1）从原始特征集中去掉部分特征，这部分技术通常称为**特征选择**；   \n",
    "\n",
    ">（2.2）将原始特征集映射为一个新的低维特征集，从而过滤掉高维空间中的噪声，这部分技术可以称为**特征变换**"
   ]
  },
  {
   "cell_type": "markdown",
   "metadata": {},
   "source": [
    "### 一.增加有用的特征 \n",
    "\n",
    "#### 1.1根据业务背景造特征\n",
    "\n",
    "这部分不具有通用性...就不写代码了...对于titanic这个数据集，可以考虑从Name中提取一些特征，比如Mrs可以放映出该乘客已经结婚，Miss表示未婚小姐姐等...另外SibSp表示乘客兄弟姐妹/配偶的个数，而Parch表示乘客父母/孩子的个数，可以简单相加表示他们的家庭成员多少，越多的存活率可能越高...\n"
   ]
  },
  {
   "cell_type": "markdown",
   "metadata": {},
   "source": [
    "#### 1.2添加聚类标签\n",
    "聚类标签可以看作是对目前样本的做的特征映射，将高维空间相似的特征映射到相同的标签；这里演示用kmean生成聚类标签，利用calinski_harabaz选择较优的k"
   ]
  },
  {
   "cell_type": "code",
   "execution_count": 4,
   "metadata": {},
   "outputs": [
    {
     "data": {
      "text/plain": [
       "Text(0,0.5,'distortion degree')"
      ]
     },
     "execution_count": 4,
     "metadata": {},
     "output_type": "execute_result"
    },
    {
     "data": {
      "image/png": "[encoded data removed]",
      "text/plain": [
       "<matplotlib.figure.Figure at 0x2243dd29a58>"
      ]
     },
     "metadata": {},
     "output_type": "display_data"
    }
   ],
   "source": [
    "K=range(2,20)\n",
    "calinski_harabaz_scores=[]\n",
    "for k in K:\n",
    "    kmeans=KMeans(n_clusters=k)\n",
    "    kmeans.fit(new_train_df)\n",
    "    calinski_harabaz_scores.append(metrics.calinski_harabaz_score(new_train_df, kmeans.predict(new_train_df)))\n",
    "plt.plot(K,calinski_harabaz_scores,'bx-')\n",
    "plt.xlabel('k')\n",
    "plt.ylabel(u'distortion degree')"
   ]
  },
  {
   "cell_type": "code",
   "execution_count": 5,
   "metadata": {},
   "outputs": [],
   "source": [
    "kmeans=KMeans(n_clusters=12)\n",
    "kmeans.fit(new_train_df)\n",
    "new_train_df['cluster_factor']=kmeans.predict(new_train_df)"
   ]
  },
  {
   "cell_type": "code",
   "execution_count": 6,
   "metadata": {},
   "outputs": [
    {
     "data": {
      "text/plain": [
       "(0.7804749461033647, 0.042362860092948845)"
      ]
     },
     "execution_count": 6,
     "metadata": {},
     "output_type": "execute_result"
    }
   ],
   "source": [
    "classifier=GradientBoostingClassifier()\n",
    "scores = cross_val_score(classifier, new_train_df, label, scoring='f1', cv = 5)\n",
    "np.mean(scores),np.std(scores)"
   ]
  },
  {
   "cell_type": "markdown",
   "metadata": {},
   "source": [
    "#### 1.3 多项式特征\n",
    "简单来说就这样的过程：$[a,b]->[1,a,b,a^2,b^2,ab]$，通常用于构造“是/否”这样的特征，比如$a=0/1,b=0/1$，那么$ab=1$就表示$a=1$且$b=1$的情况   \n",
    "\n",
    "**特别注意：构造多项式特征慎用，它以$O(n^2)$增涨特征量，如果原始有1000个特征，变换后会有100W个特征，建议单独对某一特征子集使用**"
   ]
  },
  {
   "cell_type": "code",
   "execution_count": 7,
   "metadata": {},
   "outputs": [],
   "source": [
    "from sklearn.preprocessing import PolynomialFeatures\n",
    "poly=PolynomialFeatures(degree=2,include_bias=False,interaction_only=False)#\n",
    "poly_fea_np=poly.fit_transform(train_df)\n",
    "poly_fea_df=pd.DataFrame(poly_fea_np,columns=poly.get_feature_names())"
   ]
  },
  {
   "cell_type": "code",
   "execution_count": 8,
   "metadata": {},
   "outputs": [
    {
     "data": {
      "text/plain": [
       "(0.7790340389472006, 0.033251719990077054)"
      ]
     },
     "execution_count": 8,
     "metadata": {},
     "output_type": "execute_result"
    }
   ],
   "source": [
    "classifier=GradientBoostingClassifier()\n",
    "scores = cross_val_score(classifier, poly_fea_df, label, scoring='f1', cv = 5)\n",
    "np.mean(scores),np.std(scores)"
   ]
  },
  {
   "cell_type": "markdown",
   "metadata": {},
   "source": [
    "#### 1.4 自动构建组合特征\n",
    "比较流行的一种方式是gbdt+lr,即利用gbdt探索不错的特征空间，然后用lr对这些特征空间张成one-hot特征进行拟合；  \n",
    "![avatar](./source/gbdt_lr.png)\n",
    "参考：https://www.cnblogs.com/wkang/p/9657032.html"
   ]
  },
  {
   "cell_type": "code",
   "execution_count": 9,
   "metadata": {},
   "outputs": [
    {
     "data": {
      "text/plain": [
       "(0.7725114798293671, 0.01960145339940876)"
      ]
     },
     "execution_count": 9,
     "metadata": {},
     "output_type": "execute_result"
    }
   ],
   "source": [
    "from sklearn.preprocessing import OneHotEncoder\n",
    "from sklearn.linear_model import LogisticRegression\n",
    "n_trees=100\n",
    "tree_depth=2#树的深度不必太深\n",
    "kfold= KFold(n_splits=5,shuffle=True)\n",
    "scores=[]\n",
    "for train_index,test_index in kfold.split(new_train_df,label):\n",
    "    X_train=new_train_df.loc[train_index]\n",
    "    y_train=label[train_index]\n",
    "    X_test=new_train_df.loc[test_index]\n",
    "    y_test=label[test_index]\n",
    "    \n",
    "    gbm1 = GradientBoostingClassifier(n_estimators=n_trees,max_depth=tree_depth)\n",
    "    gbm1.fit(X_train, y_train)\n",
    "    train_new_feature = gbm1.apply(X_train)\n",
    "    train_new_feature = train_new_feature.reshape(-1, n_trees)\n",
    "\n",
    "    enc = OneHotEncoder()\n",
    "\n",
    "    enc.fit(train_new_feature)\n",
    "\n",
    "    # # # 每一个属性的最大取值数目\n",
    "    # # print('每一个特征的最大取值数目:', enc.n_values_)\n",
    "    # # print('所有特征的取值数目总和:', enc.n_values_.sum())\n",
    "\n",
    "    train_new_feature2 = np.array(enc.transform(train_new_feature).toarray())\n",
    "\n",
    "    #训练lr\n",
    "    lr=LogisticRegression()\n",
    "    lr.fit(train_new_feature2,y_train)\n",
    "    #测试\n",
    "    test_new_feature = gbm1.apply(X_test)\n",
    "    test_new_feature = test_new_feature.reshape(-1, n_trees)\n",
    "    test_new_feature2 = np.array(enc.transform(test_new_feature).toarray())\n",
    "\n",
    "    y_predict=lr.predict(test_new_feature2)\n",
    "    f1_score=metrics.f1_score(y_test,y_predict)\n",
    "    scores.append(f1_score)\n",
    "np.mean(scores),np.std(scores)"
   ]
  },
  {
   "cell_type": "markdown",
   "metadata": {},
   "source": [
    "### 二. 特征选择\n",
    "特征选择主要有两个方向：   \n",
    "\n",
    "（1）基于统计指标：方差、相关性、gini、info gain、chi2，统计指标其实在一开始的数据清洗阶段也有用到    \n",
    "\n",
    "（2）基于模型指标：RFE递归删减特征、训练基模型，选择权值系数较高的特征  "
   ]
  },
  {
   "cell_type": "markdown",
   "metadata": {},
   "source": [
    "#### 删除低方差特征\n",
    "在我们造的特征中可能会产生一些低方差特征，这类特征往往倾斜严重"
   ]
  },
  {
   "cell_type": "code",
   "execution_count": 10,
   "metadata": {},
   "outputs": [
    {
     "data": {
      "text/plain": [
       "(891, 50)"
      ]
     },
     "execution_count": 10,
     "metadata": {},
     "output_type": "execute_result"
    }
   ],
   "source": [
    "from sklearn.feature_selection import SelectFromModel,VarianceThreshold\n",
    "VarianceThreshold(threshold=0.01).fit_transform(poly_fea_df).shape"
   ]
  },
  {
   "cell_type": "code",
   "execution_count": 11,
   "metadata": {},
   "outputs": [
    {
     "data": {
      "text/plain": [
       "(0.7866156425794545, 0.027746067690248344)"
      ]
     },
     "execution_count": 11,
     "metadata": {},
     "output_type": "execute_result"
    }
   ],
   "source": [
    "classifier=GradientBoostingClassifier()\n",
    "scores = cross_val_score(classifier, VarianceThreshold(threshold=0.01).fit_transform(poly_fea_df), label, scoring='f1', cv = 5)\n",
    "np.mean(scores),np.std(scores)"
   ]
  },
  {
   "cell_type": "markdown",
   "metadata": {},
   "source": [
    "#### 选择高相关性特征\n",
    "变相排除低相关性特征"
   ]
  },
  {
   "cell_type": "code",
   "execution_count": 12,
   "metadata": {},
   "outputs": [
    {
     "data": {
      "text/plain": [
       "Survived    1.000000\n",
       "x2 x8       0.548295\n",
       "x1          0.543351\n",
       "x2          0.543351\n",
       "x1^2        0.543351\n",
       "Name: Survived, dtype: float64"
      ]
     },
     "execution_count": 12,
     "metadata": {},
     "output_type": "execute_result"
    }
   ],
   "source": [
    "import copy\n",
    "copy_df=copy.deepcopy(poly_fea_df)\n",
    "copy_df['Survived']=label\n",
    "copy_df.corr()['Survived'].abs().sort_values(ascending=False).head(5)"
   ]
  },
  {
   "cell_type": "code",
   "execution_count": 13,
   "metadata": {},
   "outputs": [],
   "source": [
    "#选择相关性>0.2的因子建模，注意要去掉Survived\n",
    "highly_correlated_features = copy_df.columns[copy_df.corr()['Survived'].abs() > 0.1]\n",
    "highly_correlated_features = highly_correlated_features.drop('Survived')\n",
    "high_corr_features_df=copy_df[highly_correlated_features]"
   ]
  },
  {
   "cell_type": "code",
   "execution_count": 14,
   "metadata": {},
   "outputs": [
    {
     "data": {
      "text/plain": [
       "(0.7905768103351534, 0.03280111455743408)"
      ]
     },
     "execution_count": 14,
     "metadata": {},
     "output_type": "execute_result"
    }
   ],
   "source": [
    "classifier=GradientBoostingClassifier()\n",
    "scores = cross_val_score(classifier, high_corr_features_df, label, scoring='f1', cv = 5)\n",
    "np.mean(scores),np.std(scores)"
   ]
  },
  {
   "cell_type": "markdown",
   "metadata": {},
   "source": [
    "#### 选择高gini指数特征\n",
    "要计算gini指数，可以通过训练决策树得到"
   ]
  },
  {
   "cell_type": "code",
   "execution_count": 15,
   "metadata": {},
   "outputs": [
    {
     "data": {
      "text/html": [
       "<div>\n",
       "<style scoped>\n",
       "    .dataframe tbody tr th:only-of-type {\n",
       "        vertical-align: middle;\n",
       "    }\n",
       "\n",
       "    .dataframe tbody tr th {\n",
       "        vertical-align: top;\n",
       "    }\n",
       "\n",
       "    .dataframe thead th {\n",
       "        text-align: right;\n",
       "    }\n",
       "</style>\n",
       "<table border=\"1\" class=\"dataframe\">\n",
       "  <thead>\n",
       "    <tr style=\"text-align: right;\">\n",
       "      <th></th>\n",
       "      <th>feature</th>\n",
       "      <th>importance</th>\n",
       "    </tr>\n",
       "  </thead>\n",
       "  <tbody>\n",
       "    <tr>\n",
       "      <th>20</th>\n",
       "      <td>x1 x3</td>\n",
       "      <td>0.347396</td>\n",
       "    </tr>\n",
       "    <tr>\n",
       "      <th>0</th>\n",
       "      <td>x0</td>\n",
       "      <td>0.086186</td>\n",
       "    </tr>\n",
       "    <tr>\n",
       "      <th>15</th>\n",
       "      <td>x0 x6</td>\n",
       "      <td>0.067206</td>\n",
       "    </tr>\n",
       "    <tr>\n",
       "      <th>7</th>\n",
       "      <td>x7</td>\n",
       "      <td>0.056080</td>\n",
       "    </tr>\n",
       "    <tr>\n",
       "      <th>36</th>\n",
       "      <td>x3 x6</td>\n",
       "      <td>0.049074</td>\n",
       "    </tr>\n",
       "  </tbody>\n",
       "</table>\n",
       "</div>"
      ],
      "text/plain": [
       "   feature  importance\n",
       "20   x1 x3    0.347396\n",
       "0       x0    0.086186\n",
       "15   x0 x6    0.067206\n",
       "7       x7    0.056080\n",
       "36   x3 x6    0.049074"
      ]
     },
     "execution_count": 15,
     "metadata": {},
     "output_type": "execute_result"
    }
   ],
   "source": [
    "from sklearn.tree import DecisionTreeClassifier\n",
    "tree = DecisionTreeClassifier()#如果要用信息增益，设置criterion='entropy'\n",
    "tree.fit(poly_fea_df,label)\n",
    "importances = pd.DataFrame({ 'feature':poly_fea_df.columns,'importance': tree.feature_importances_}).sort_values('importance', ascending=False)\n",
    "importances.head()"
   ]
  },
  {
   "cell_type": "code",
   "execution_count": 16,
   "metadata": {},
   "outputs": [
    {
     "data": {
      "text/plain": [
       "(0.7810221130326891, 0.03470329254309837)"
      ]
     },
     "execution_count": 16,
     "metadata": {},
     "output_type": "execute_result"
    }
   ],
   "source": [
    "#选择top因子建模\n",
    "select_features=importances['feature'].tolist()[:50]\n",
    "classifier=GradientBoostingClassifier()\n",
    "scores = cross_val_score(classifier, poly_fea_df[select_features], label, scoring='f1', cv = 5)\n",
    "np.mean(scores),np.std(scores)"
   ]
  },
  {
   "cell_type": "markdown",
   "metadata": {},
   "source": [
    "#### 选择高chi2特征"
   ]
  },
  {
   "cell_type": "code",
   "execution_count": 17,
   "metadata": {},
   "outputs": [
    {
     "data": {
      "text/plain": [
       "(0.7882105223722208, 0.036066492211802935)"
      ]
     },
     "execution_count": 17,
     "metadata": {},
     "output_type": "execute_result"
    }
   ],
   "source": [
    "from sklearn.feature_selection import SelectKBest\n",
    "from sklearn.feature_selection import chi2\n",
    "#选择前50个特征\n",
    "top_50_feature_df=SelectKBest(chi2, k=50).fit_transform(poly_fea_df, label)\n",
    "classifier=GradientBoostingClassifier()\n",
    "scores = cross_val_score(classifier, top_50_feature_df, label, scoring='f1', cv = 5)\n",
    "np.mean(scores),np.std(scores)"
   ]
  },
  {
   "cell_type": "markdown",
   "metadata": {},
   "source": [
    "#### RFE递归消除\n",
    "就是一个一个删掉去试，一般不用，跑的太慢了...."
   ]
  },
  {
   "cell_type": "code",
   "execution_count": 18,
   "metadata": {},
   "outputs": [],
   "source": [
    "# from sklearn.feature_selection import RFE\n",
    "# rfe_df=RFE(estimator=GradientBoostingClassifier(), n_features_to_select=50).fit_transform(poly_fea_df, label)\n",
    "# classifier=GradientBoostingClassifier()\n",
    "# scores = cross_val_score(classifier, rfe_df, labels, scoring='f1', cv = 5)\n",
    "# np.mean(scores),np.std(scores)"
   ]
  },
  {
   "cell_type": "markdown",
   "metadata": {},
   "source": [
    "#### 基于模型选特征\n",
    "其实这里和gini系数的选择一样，通过训练一个模型来选择特征最优特征，然后再去训练一个模型，只是这里选择特征用的模型与训练用的模型一样"
   ]
  },
  {
   "cell_type": "code",
   "execution_count": 19,
   "metadata": {},
   "outputs": [
    {
     "data": {
      "text/html": [
       "<div>\n",
       "<style scoped>\n",
       "    .dataframe tbody tr th:only-of-type {\n",
       "        vertical-align: middle;\n",
       "    }\n",
       "\n",
       "    .dataframe tbody tr th {\n",
       "        vertical-align: top;\n",
       "    }\n",
       "\n",
       "    .dataframe thead th {\n",
       "        text-align: right;\n",
       "    }\n",
       "</style>\n",
       "<table border=\"1\" class=\"dataframe\">\n",
       "  <thead>\n",
       "    <tr style=\"text-align: right;\">\n",
       "      <th></th>\n",
       "      <th>feature</th>\n",
       "      <th>importance</th>\n",
       "    </tr>\n",
       "  </thead>\n",
       "  <tbody>\n",
       "    <tr>\n",
       "      <th>20</th>\n",
       "      <td>x1 x3</td>\n",
       "      <td>0.456122</td>\n",
       "    </tr>\n",
       "    <tr>\n",
       "      <th>9</th>\n",
       "      <td>x0^2</td>\n",
       "      <td>0.074019</td>\n",
       "    </tr>\n",
       "    <tr>\n",
       "      <th>12</th>\n",
       "      <td>x0 x3</td>\n",
       "      <td>0.047668</td>\n",
       "    </tr>\n",
       "    <tr>\n",
       "      <th>52</th>\n",
       "      <td>x7 x8</td>\n",
       "      <td>0.044320</td>\n",
       "    </tr>\n",
       "    <tr>\n",
       "      <th>50</th>\n",
       "      <td>x6 x8</td>\n",
       "      <td>0.042022</td>\n",
       "    </tr>\n",
       "  </tbody>\n",
       "</table>\n",
       "</div>"
      ],
      "text/plain": [
       "   feature  importance\n",
       "20   x1 x3    0.456122\n",
       "9     x0^2    0.074019\n",
       "12   x0 x3    0.047668\n",
       "52   x7 x8    0.044320\n",
       "50   x6 x8    0.042022"
      ]
     },
     "execution_count": 19,
     "metadata": {},
     "output_type": "execute_result"
    }
   ],
   "source": [
    "gbdt = GradientBoostingClassifier()\n",
    "gbdt.fit(poly_fea_df,label)\n",
    "importances = pd.DataFrame({ 'feature':poly_fea_df.columns,'importance': gbdt.feature_importances_}).sort_values('importance', ascending=False)\n",
    "importances.head()"
   ]
  },
  {
   "cell_type": "code",
   "execution_count": 20,
   "metadata": {},
   "outputs": [
    {
     "data": {
      "text/plain": [
       "(0.7827012697429128, 0.035156370587767695)"
      ]
     },
     "execution_count": 20,
     "metadata": {},
     "output_type": "execute_result"
    }
   ],
   "source": [
    "#选择top因子建模\n",
    "select_features=importances['feature'].tolist()[:50]\n",
    "features_select_top_50_df=poly_fea_df[select_features]\n",
    "#gbdt\n",
    "classifier=GradientBoostingClassifier()\n",
    "scores = cross_val_score(classifier,features_select_top_50_df,label, scoring='f1', cv = 5)\n",
    "np.mean(scores),np.std(scores)"
   ]
  },
  {
   "cell_type": "markdown",
   "metadata": {},
   "source": [
    "#### SelectFromModel自动选择最优特征"
   ]
  },
  {
   "cell_type": "code",
   "execution_count": 21,
   "metadata": {},
   "outputs": [
    {
     "data": {
      "text/plain": [
       "(0.7637325156867544, 0.05080842842696327)"
      ]
     },
     "execution_count": 21,
     "metadata": {},
     "output_type": "execute_result"
    }
   ],
   "source": [
    "kfold= KFold(n_splits=5,random_state=42,shuffle=True)\n",
    "scores=[]\n",
    "top_nums=[]\n",
    "for train_index,test_index in kfold.split(poly_fea_df,label):\n",
    "    X_train=poly_fea_df.loc[train_index]\n",
    "    y_train=label[train_index]\n",
    "    X_test=poly_fea_df.loc[test_index]\n",
    "    y_test=label[test_index]\n",
    "    \n",
    "    select_feature_model = SelectFromModel(GradientBoostingClassifier())\n",
    "    X_new_train=select_feature_model.fit_transform(X_train,y_train)\n",
    "    \n",
    "    X_new_test=select_feature_model.transform(X_test)\n",
    "    \n",
    "    _,top_num=X_new_test.shape\n",
    "    top_nums.append(top_num)\n",
    "    \n",
    "    gbdt=GradientBoostingClassifier()\n",
    "    gbdt.fit(X_new_train,y_train)\n",
    "    y_predict=gbdt.predict(X_new_test)\n",
    "    f1_score=metrics.f1_score(y_test,y_predict)\n",
    "    scores.append(f1_score)\n",
    "np.mean(scores),np.std(scores)"
   ]
  },
  {
   "cell_type": "markdown",
   "metadata": {},
   "source": [
    "### 三.特征转换\n",
    "不同于特征选择，特征转换是将原始特征空间映射到了一个新的低维（往往是）空间中，梳理了如下这些方法：   \n",
    "\n",
    "（1）pca:主成分分析；   \n",
    "\n",
    "（2）lda:线性判别分析；   \n",
    "\n",
    "（3）lle:局部线性嵌入；   \n",
    "\n",
    "（4）ae:自编码；   \n",
    "\n",
    "（5）vae:变分自编码；"
   ]
  },
  {
   "cell_type": "markdown",
   "metadata": {},
   "source": [
    "#### pca\n",
    "pca是一种无监督的线性降维方式，它构建了一个新的正交坐标系，相应的坐标轴分别叫“第一主成分”，“第二主成分”...，且数据在“第一主成分”坐标轴上**方差**最大，“第二主成分”其次，...通常可以只取前n个主成分，将方差较小的主成分理解为**噪声**；  \n",
    "![avatar](./source/pca示例.png)\n",
    "更多：https://blog.csdn.net/program_developer/article/details/80632779 "
   ]
  },
  {
   "cell_type": "code",
   "execution_count": 22,
   "metadata": {},
   "outputs": [],
   "source": [
    "from sklearn.decomposition import PCA\n",
    "standard_df=StandardScaler().fit_transform(poly_fea_df)\n",
    "X_pca=PCA(n_components=20).fit_transform(standard_df)"
   ]
  },
  {
   "cell_type": "code",
   "execution_count": 23,
   "metadata": {},
   "outputs": [
    {
     "data": {
      "text/plain": [
       "(0.7570897942864615, 0.05234462942327912)"
      ]
     },
     "execution_count": 23,
     "metadata": {},
     "output_type": "execute_result"
    }
   ],
   "source": [
    "classifier=GradientBoostingClassifier()\n",
    "scores = cross_val_score(classifier,X_pca, label, scoring='f1', cv = 5)\n",
    "np.mean(scores),np.std(scores)"
   ]
  },
  {
   "cell_type": "code",
   "execution_count": 24,
   "metadata": {},
   "outputs": [
    {
     "data": {
      "image/png": "[encoded data removed]",
      "text/plain": [
       "<matplotlib.figure.Figure at 0x2244009a9b0>"
      ]
     },
     "metadata": {},
     "output_type": "display_data"
    }
   ],
   "source": [
    "# 前两维的效果\n",
    "plt.scatter(X_pca[:, 0], X_pca[:, 1],marker='o',c=label)\n",
    "plt.show()"
   ]
  },
  {
   "cell_type": "markdown",
   "metadata": {},
   "source": [
    "#### lda\n",
    "lda是一种线性的有监督降维方式，与pca的最大化方差的目标不同，它的目标是找到这样的新坐标轴：**同类样例的投影尽可能近，异类样例的投影点尽可能远**；  \n",
    "更多：https://blog.csdn.net/weixin_40604987/article/details/79615968"
   ]
  },
  {
   "cell_type": "code",
   "execution_count": 25,
   "metadata": {},
   "outputs": [
    {
     "data": {
      "text/plain": [
       "(0.7230947045846136, 0.03832196912050019)"
      ]
     },
     "execution_count": 25,
     "metadata": {},
     "output_type": "execute_result"
    }
   ],
   "source": [
    "from sklearn.discriminant_analysis  import LinearDiscriminantAnalysis\n",
    "kfold= KFold(n_splits=5,random_state=42,shuffle=True)\n",
    "scores=[]\n",
    "for train_index,test_index in kfold.split(poly_fea_df,label):\n",
    "    X_train=poly_fea_df.loc[train_index]\n",
    "    y_train=label.loc[train_index]\n",
    "    X_test=poly_fea_df.loc[test_index]\n",
    "    y_test=label.loc[test_index]\n",
    "    \n",
    "    lda=LinearDiscriminantAnalysis(n_components=20)\n",
    "    lda.fit(X_train, y_train)\n",
    "    \n",
    "    X_new_train=lda.transform(X_train)\n",
    "    X_new_test=lda.transform(X_test)\n",
    "    \n",
    "    gbdt=GradientBoostingClassifier()\n",
    "    gbdt.fit(X_new_train,y_train)\n",
    "    y_predict=gbdt.predict(X_new_test)\n",
    "    f1_score=metrics.f1_score(y_test,y_predict)\n",
    "    scores.append(f1_score)\n",
    "np.mean(scores),np.std(scores)"
   ]
  },
  {
   "cell_type": "code",
   "execution_count": 26,
   "metadata": {},
   "outputs": [
    {
     "data": {
      "image/png": "[encoded data removed]",
      "text/plain": [
       "<matplotlib.figure.Figure at 0x224400be208>"
      ]
     },
     "metadata": {},
     "output_type": "display_data"
    }
   ],
   "source": [
    "plt.scatter(X_new_train[:, 0], X_new_train[:, 0],marker='o',c=y_train)\n",
    "plt.show()"
   ]
  },
  {
   "cell_type": "markdown",
   "metadata": {},
   "source": [
    "#### lle-局部线性嵌入（LocallyLinearEmbedding）\n",
    "降维时保持样本局部的线性特征\n",
    "![avatar](./source/lle示例.jpg)\n",
    "更多：https://www.cnblogs.com/pinard/p/6266408.html?utm_source=itdadao&utm_medium=referral"
   ]
  },
  {
   "cell_type": "code",
   "execution_count": 27,
   "metadata": {},
   "outputs": [
    {
     "data": {
      "text/plain": [
       "(0.5623881209232492, 0.0636799703332207)"
      ]
     },
     "execution_count": 27,
     "metadata": {},
     "output_type": "execute_result"
    }
   ],
   "source": [
    "from sklearn.manifold import LocallyLinearEmbedding\n",
    "X_lle=LocallyLinearEmbedding(n_components=20).fit_transform(poly_fea_df)\n",
    "classifier=GradientBoostingClassifier()\n",
    "scores = cross_val_score(classifier,X_lle, label, scoring='f1', cv = 5)\n",
    "np.mean(scores),np.std(scores)"
   ]
  },
  {
   "cell_type": "code",
   "execution_count": 28,
   "metadata": {},
   "outputs": [
    {
     "data": {
      "image/png": "[encoded data removed]",
      "text/plain": [
       "<matplotlib.figure.Figure at 0x22440092400>"
      ]
     },
     "metadata": {},
     "output_type": "display_data"
    }
   ],
   "source": [
    "plt.scatter(X_lle[:, 0], X_lle[:, 1],marker='o',c=label)\n",
    "plt.show()"
   ]
  },
  {
   "cell_type": "markdown",
   "metadata": {},
   "source": [
    "#### ae-自编码  \n",
    "可以把它看做一个压缩和解压的过程，如下，通过encoder把一个高维的数据压缩为低维的数据，再通过decoder将低维数据还原为高维的数据，这样这个低维的数据可以看做高维数据的一种“不失真”表示，编码器和解码器通常使用神经网络...   \n",
    "\n",
    "![avatar](./source/ae.png)  \n"
   ]
  },
  {
   "cell_type": "code",
   "execution_count": 29,
   "metadata": {},
   "outputs": [],
   "source": [
    "# from keras.models import Model\n",
    "# from keras.layers import *\n",
    "\n",
    "# #定义网络结构\n",
    "# epochs=200\n",
    "# batch_size=128\n",
    "# input_dim=poly_fea_df.shape[1]\n",
    "\n",
    "# input_layer=Input(shape=(input_dim,))\n",
    "# encode_layer=Dense(2,activation='relu',name='encoder')(input_layer)\n",
    "# decode_layer=Dense(input_dim,activation='tanh')(encode_layer)\n",
    "\n",
    "# model=Model(inputs=input_layer,outputs=decode_layer)\n",
    "# #获取encode_layer层的输出\n",
    "# encode_layer_model = Model(inputs=model.input,outputs=model.get_layer('encoder').output)\n",
    "# model.compile('adam',loss='mse')"
   ]
  },
  {
   "cell_type": "code",
   "execution_count": 30,
   "metadata": {},
   "outputs": [],
   "source": [
    "#训练模型\n",
    "# model.fit(poly_fea_df[:500],poly_fea_df[:500],batch_size=batch_size,epochs=epochs,validation_data=[poly_fea_df[500:],poly_fea_df[500:]])"
   ]
  },
  {
   "cell_type": "markdown",
   "metadata": {},
   "source": [
    "####  vae-变分自编码\n",
    "会让中间层的编码数据更加趋近于高斯分布  \n",
    "\n",
    "参考：https://blog.csdn.net/weixin_41923961/article/details/81586082"
   ]
  },
  {
   "cell_type": "code",
   "execution_count": null,
   "metadata": {},
   "outputs": [],
   "source": []
  }
 ],
 "metadata": {
  "kernelspec": {
   "display_name": "Python 3",
   "language": "python",
   "name": "python3"
  },
  "language_info": {
   "codemirror_mode": {
    "name": "ipython",
    "version": 3
   },
   "file_extension": ".py",
   "mimetype": "text/x-python",
   "name": "python",
   "nbconvert_exporter": "python",
   "pygments_lexer": "ipython3",
   "version": "3.6.4"
  }
 },
 "nbformat": 4,
 "nbformat_minor": 2
}
