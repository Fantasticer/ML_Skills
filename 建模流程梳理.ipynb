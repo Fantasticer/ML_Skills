{
 "cells": [
  {
   "cell_type": "markdown",
   "metadata": {},
   "source": [
    "**该notebook以titanic数据为例，梳理了一些ml建模常用的操作，包括如下一些内容：**   \n",
    "\n",
    "1. 理解数据并可视化分析(pandas,seaborn)  \n",
    "\n",
    "2. 数据清洗：NaN的不同填充方法、categorical 变量的处理、数据归一化操作(z-score,min-max,normalize,log,boxcox等)  \n",
    "\n",
    "3. 模型选择(方差-偏差、过拟合-欠拟合)  \n",
    "\n",
    "4. 优化，包括：  \n",
    "\n",
    "    4.1 特征增强\n",
    "        4.1.1 特征优化：根据背景知识造特征、聚类算法构建新特征、长尾数据的log变换、boxcox、cdf、pdf变换；构建组合特征，自动构建组合特征(gbdt+lr)；构建交互式特征；  \n",
    "\n",
    "        4.1.2 特征选择：基于统计方法的方差、相关性、gini、mi、chi2选择等，基于模型的迭代消除法等；  \n",
    "\n",
    "        4.1.3 特征变换：pca、lda、lle(局部线性嵌入)、ae（自编码）等  \n",
    "\n",
    "    4.2 数据增强：半监督学习、过采样、根据数据特征造新数据  \n",
    "    \n",
    "    4.3 模型增强：\n",
    "        4.3.1 超参优化：随机搜索、网格搜索、贝叶斯优化\n",
    "        4.3.2 集成学习：stacking"
   ]
  },
  {
   "cell_type": "code",
   "execution_count": 1,
   "metadata": {},
   "outputs": [],
   "source": [
    "import pandas as pd\n",
    "import numpy as np\n",
    "import matplotlib.pyplot as plt\n",
    "import seaborn as sns\n",
    "import copy\n",
    "import random\n",
    "from sklearn.model_selection import train_test_split,cross_val_score,KFold\n",
    "from sklearn.feature_selection import SelectFromModel,VarianceThreshold\n",
    "from sklearn.ensemble import GradientBoostingClassifier,RandomForestClassifier\n",
    "from sklearn.linear_model import LogisticRegression\n",
    "from sklearn.tree import DecisionTreeClassifier\n",
    "from sklearn import metrics\n",
    "from sklearn.preprocessing import PolynomialFeatures\n",
    "from sklearn.cluster import KMeans\n",
    "%matplotlib inline\n",
    "plt.style.use('fivethirtyeight')\n",
    "\n",
    "import warnings\n",
    "warnings.filterwarnings('ignore')"
   ]
  },
  {
   "cell_type": "markdown",
   "metadata": {},
   "source": [
    "导入数据：\n",
    "\n",
    "Survived:0代表死亡，1代表存活\n",
    "\n",
    "Pclass:乘客所持票类\n",
    "\n",
    "Name:乘客姓名\n",
    "\n",
    "Sex:乘客性别\n",
    "\n",
    "Age:乘客年龄\n",
    "\n",
    "SibSp:乘客兄弟姐妹/配偶的个数\n",
    "\n",
    "Parch:乘客父母/孩子的个数\n",
    "\n",
    "Ticket:票号\n",
    "\n",
    "Fare:乘客所持票的价格\n",
    "\n",
    "Cabin:乘客所在船舱\n",
    "\n",
    "Embarked:乘客登船港口:S、C、Q"
   ]
  },
  {
   "cell_type": "code",
   "execution_count": 2,
   "metadata": {},
   "outputs": [],
   "source": [
    "train_df=pd.read_csv('./titanic/train.csv')\n",
    "test_df=pd.read_csv('./titanic/test.csv')"
   ]
  },
  {
   "cell_type": "markdown",
   "metadata": {},
   "source": [
    "### 一.理解数据"
   ]
  },
  {
   "cell_type": "code",
   "execution_count": 3,
   "metadata": {},
   "outputs": [
    {
     "data": {
      "text/plain": [
       "('训练集：', (891, 12), '测试集', (418, 11))"
      ]
     },
     "execution_count": 3,
     "metadata": {},
     "output_type": "execute_result"
    }
   ],
   "source": [
    "#查看shape\n",
    "'训练集：',train_df.shape,'测试集',test_df.shape"
   ]
  },
  {
   "cell_type": "code",
   "execution_count": 4,
   "metadata": {},
   "outputs": [
    {
     "data": {
      "text/html": [
       "<div>\n",
       "<style scoped>\n",
       "    .dataframe tbody tr th:only-of-type {\n",
       "        vertical-align: middle;\n",
       "    }\n",
       "\n",
       "    .dataframe tbody tr th {\n",
       "        vertical-align: top;\n",
       "    }\n",
       "\n",
       "    .dataframe thead th {\n",
       "        text-align: right;\n",
       "    }\n",
       "</style>\n",
       "<table border=\"1\" class=\"dataframe\">\n",
       "  <thead>\n",
       "    <tr style=\"text-align: right;\">\n",
       "      <th></th>\n",
       "      <th>PassengerId</th>\n",
       "      <th>Survived</th>\n",
       "      <th>Pclass</th>\n",
       "      <th>Name</th>\n",
       "      <th>Sex</th>\n",
       "      <th>Age</th>\n",
       "      <th>SibSp</th>\n",
       "      <th>Parch</th>\n",
       "      <th>Ticket</th>\n",
       "      <th>Fare</th>\n",
       "      <th>Cabin</th>\n",
       "      <th>Embarked</th>\n",
       "    </tr>\n",
       "  </thead>\n",
       "  <tbody>\n",
       "    <tr>\n",
       "      <th>0</th>\n",
       "      <td>1</td>\n",
       "      <td>0</td>\n",
       "      <td>3</td>\n",
       "      <td>Braund, Mr. Owen Harris</td>\n",
       "      <td>male</td>\n",
       "      <td>22.0</td>\n",
       "      <td>1</td>\n",
       "      <td>0</td>\n",
       "      <td>A/5 21171</td>\n",
       "      <td>7.2500</td>\n",
       "      <td>NaN</td>\n",
       "      <td>S</td>\n",
       "    </tr>\n",
       "    <tr>\n",
       "      <th>1</th>\n",
       "      <td>2</td>\n",
       "      <td>1</td>\n",
       "      <td>1</td>\n",
       "      <td>Cumings, Mrs. John Bradley (Florence Briggs Th...</td>\n",
       "      <td>female</td>\n",
       "      <td>38.0</td>\n",
       "      <td>1</td>\n",
       "      <td>0</td>\n",
       "      <td>PC 17599</td>\n",
       "      <td>71.2833</td>\n",
       "      <td>C85</td>\n",
       "      <td>C</td>\n",
       "    </tr>\n",
       "    <tr>\n",
       "      <th>2</th>\n",
       "      <td>3</td>\n",
       "      <td>1</td>\n",
       "      <td>3</td>\n",
       "      <td>Heikkinen, Miss. Laina</td>\n",
       "      <td>female</td>\n",
       "      <td>26.0</td>\n",
       "      <td>0</td>\n",
       "      <td>0</td>\n",
       "      <td>STON/O2. 3101282</td>\n",
       "      <td>7.9250</td>\n",
       "      <td>NaN</td>\n",
       "      <td>S</td>\n",
       "    </tr>\n",
       "    <tr>\n",
       "      <th>3</th>\n",
       "      <td>4</td>\n",
       "      <td>1</td>\n",
       "      <td>1</td>\n",
       "      <td>Futrelle, Mrs. Jacques Heath (Lily May Peel)</td>\n",
       "      <td>female</td>\n",
       "      <td>35.0</td>\n",
       "      <td>1</td>\n",
       "      <td>0</td>\n",
       "      <td>113803</td>\n",
       "      <td>53.1000</td>\n",
       "      <td>C123</td>\n",
       "      <td>S</td>\n",
       "    </tr>\n",
       "    <tr>\n",
       "      <th>4</th>\n",
       "      <td>5</td>\n",
       "      <td>0</td>\n",
       "      <td>3</td>\n",
       "      <td>Allen, Mr. William Henry</td>\n",
       "      <td>male</td>\n",
       "      <td>35.0</td>\n",
       "      <td>0</td>\n",
       "      <td>0</td>\n",
       "      <td>373450</td>\n",
       "      <td>8.0500</td>\n",
       "      <td>NaN</td>\n",
       "      <td>S</td>\n",
       "    </tr>\n",
       "  </tbody>\n",
       "</table>\n",
       "</div>"
      ],
      "text/plain": [
       "   PassengerId  Survived  Pclass  \\\n",
       "0            1         0       3   \n",
       "1            2         1       1   \n",
       "2            3         1       3   \n",
       "3            4         1       1   \n",
       "4            5         0       3   \n",
       "\n",
       "                                                Name     Sex   Age  SibSp  \\\n",
       "0                            Braund, Mr. Owen Harris    male  22.0      1   \n",
       "1  Cumings, Mrs. John Bradley (Florence Briggs Th...  female  38.0      1   \n",
       "2                             Heikkinen, Miss. Laina  female  26.0      0   \n",
       "3       Futrelle, Mrs. Jacques Heath (Lily May Peel)  female  35.0      1   \n",
       "4                           Allen, Mr. William Henry    male  35.0      0   \n",
       "\n",
       "   Parch            Ticket     Fare Cabin Embarked  \n",
       "0      0         A/5 21171   7.2500   NaN        S  \n",
       "1      0          PC 17599  71.2833   C85        C  \n",
       "2      0  STON/O2. 3101282   7.9250   NaN        S  \n",
       "3      0            113803  53.1000  C123        S  \n",
       "4      0            373450   8.0500   NaN        S  "
      ]
     },
     "execution_count": 4,
     "metadata": {},
     "output_type": "execute_result"
    }
   ],
   "source": [
    "#查看数据前几行\n",
    "train_df.head()"
   ]
  },
  {
   "cell_type": "code",
   "execution_count": 5,
   "metadata": {},
   "outputs": [
    {
     "data": {
      "text/html": [
       "<div>\n",
       "<style scoped>\n",
       "    .dataframe tbody tr th:only-of-type {\n",
       "        vertical-align: middle;\n",
       "    }\n",
       "\n",
       "    .dataframe tbody tr th {\n",
       "        vertical-align: top;\n",
       "    }\n",
       "\n",
       "    .dataframe thead th {\n",
       "        text-align: right;\n",
       "    }\n",
       "</style>\n",
       "<table border=\"1\" class=\"dataframe\">\n",
       "  <thead>\n",
       "    <tr style=\"text-align: right;\">\n",
       "      <th></th>\n",
       "      <th>PassengerId</th>\n",
       "      <th>Pclass</th>\n",
       "      <th>Name</th>\n",
       "      <th>Sex</th>\n",
       "      <th>Age</th>\n",
       "      <th>SibSp</th>\n",
       "      <th>Parch</th>\n",
       "      <th>Ticket</th>\n",
       "      <th>Fare</th>\n",
       "      <th>Cabin</th>\n",
       "      <th>Embarked</th>\n",
       "    </tr>\n",
       "  </thead>\n",
       "  <tbody>\n",
       "    <tr>\n",
       "      <th>0</th>\n",
       "      <td>892</td>\n",
       "      <td>3</td>\n",
       "      <td>Kelly, Mr. James</td>\n",
       "      <td>male</td>\n",
       "      <td>34.5</td>\n",
       "      <td>0</td>\n",
       "      <td>0</td>\n",
       "      <td>330911</td>\n",
       "      <td>7.8292</td>\n",
       "      <td>NaN</td>\n",
       "      <td>Q</td>\n",
       "    </tr>\n",
       "    <tr>\n",
       "      <th>1</th>\n",
       "      <td>893</td>\n",
       "      <td>3</td>\n",
       "      <td>Wilkes, Mrs. James (Ellen Needs)</td>\n",
       "      <td>female</td>\n",
       "      <td>47.0</td>\n",
       "      <td>1</td>\n",
       "      <td>0</td>\n",
       "      <td>363272</td>\n",
       "      <td>7.0000</td>\n",
       "      <td>NaN</td>\n",
       "      <td>S</td>\n",
       "    </tr>\n",
       "    <tr>\n",
       "      <th>2</th>\n",
       "      <td>894</td>\n",
       "      <td>2</td>\n",
       "      <td>Myles, Mr. Thomas Francis</td>\n",
       "      <td>male</td>\n",
       "      <td>62.0</td>\n",
       "      <td>0</td>\n",
       "      <td>0</td>\n",
       "      <td>240276</td>\n",
       "      <td>9.6875</td>\n",
       "      <td>NaN</td>\n",
       "      <td>Q</td>\n",
       "    </tr>\n",
       "    <tr>\n",
       "      <th>3</th>\n",
       "      <td>895</td>\n",
       "      <td>3</td>\n",
       "      <td>Wirz, Mr. Albert</td>\n",
       "      <td>male</td>\n",
       "      <td>27.0</td>\n",
       "      <td>0</td>\n",
       "      <td>0</td>\n",
       "      <td>315154</td>\n",
       "      <td>8.6625</td>\n",
       "      <td>NaN</td>\n",
       "      <td>S</td>\n",
       "    </tr>\n",
       "    <tr>\n",
       "      <th>4</th>\n",
       "      <td>896</td>\n",
       "      <td>3</td>\n",
       "      <td>Hirvonen, Mrs. Alexander (Helga E Lindqvist)</td>\n",
       "      <td>female</td>\n",
       "      <td>22.0</td>\n",
       "      <td>1</td>\n",
       "      <td>1</td>\n",
       "      <td>3101298</td>\n",
       "      <td>12.2875</td>\n",
       "      <td>NaN</td>\n",
       "      <td>S</td>\n",
       "    </tr>\n",
       "  </tbody>\n",
       "</table>\n",
       "</div>"
      ],
      "text/plain": [
       "   PassengerId  Pclass                                          Name     Sex  \\\n",
       "0          892       3                              Kelly, Mr. James    male   \n",
       "1          893       3              Wilkes, Mrs. James (Ellen Needs)  female   \n",
       "2          894       2                     Myles, Mr. Thomas Francis    male   \n",
       "3          895       3                              Wirz, Mr. Albert    male   \n",
       "4          896       3  Hirvonen, Mrs. Alexander (Helga E Lindqvist)  female   \n",
       "\n",
       "    Age  SibSp  Parch   Ticket     Fare Cabin Embarked  \n",
       "0  34.5      0      0   330911   7.8292   NaN        Q  \n",
       "1  47.0      1      0   363272   7.0000   NaN        S  \n",
       "2  62.0      0      0   240276   9.6875   NaN        Q  \n",
       "3  27.0      0      0   315154   8.6625   NaN        S  \n",
       "4  22.0      1      1  3101298  12.2875   NaN        S  "
      ]
     },
     "execution_count": 5,
     "metadata": {},
     "output_type": "execute_result"
    }
   ],
   "source": [
    "test_df.head()"
   ]
  },
  {
   "cell_type": "markdown",
   "metadata": {},
   "source": [
    "测试集相对于训练集少了Survived，即任务目标，为了方便后续的各种处理，这里将数据合并，并切分为features部分以及labels部分"
   ]
  },
  {
   "cell_type": "code",
   "execution_count": 6,
   "metadata": {},
   "outputs": [],
   "source": [
    "labels=train_df['Survived']\n",
    "origin_features_df=pd.concat([train_df.drop(columns=['Survived']),test_df]).reset_index(drop=True)\n",
    "features_df=copy.deepcopy(origin_features_df)"
   ]
  },
  {
   "cell_type": "code",
   "execution_count": 7,
   "metadata": {},
   "outputs": [
    {
     "data": {
      "text/plain": [
       "(1309, 11)"
      ]
     },
     "execution_count": 7,
     "metadata": {},
     "output_type": "execute_result"
    }
   ],
   "source": [
    "features_df.shape"
   ]
  },
  {
   "cell_type": "code",
   "execution_count": 8,
   "metadata": {},
   "outputs": [
    {
     "data": {
      "text/html": [
       "<div>\n",
       "<style scoped>\n",
       "    .dataframe tbody tr th:only-of-type {\n",
       "        vertical-align: middle;\n",
       "    }\n",
       "\n",
       "    .dataframe tbody tr th {\n",
       "        vertical-align: top;\n",
       "    }\n",
       "\n",
       "    .dataframe thead th {\n",
       "        text-align: right;\n",
       "    }\n",
       "</style>\n",
       "<table border=\"1\" class=\"dataframe\">\n",
       "  <thead>\n",
       "    <tr style=\"text-align: right;\">\n",
       "      <th></th>\n",
       "      <th>PassengerId</th>\n",
       "      <th>Pclass</th>\n",
       "      <th>Name</th>\n",
       "      <th>Sex</th>\n",
       "      <th>Age</th>\n",
       "      <th>SibSp</th>\n",
       "      <th>Parch</th>\n",
       "      <th>Ticket</th>\n",
       "      <th>Fare</th>\n",
       "      <th>Cabin</th>\n",
       "      <th>Embarked</th>\n",
       "    </tr>\n",
       "  </thead>\n",
       "  <tbody>\n",
       "    <tr>\n",
       "      <th>0</th>\n",
       "      <td>1</td>\n",
       "      <td>3</td>\n",
       "      <td>Braund, Mr. Owen Harris</td>\n",
       "      <td>male</td>\n",
       "      <td>22.0</td>\n",
       "      <td>1</td>\n",
       "      <td>0</td>\n",
       "      <td>A/5 21171</td>\n",
       "      <td>7.2500</td>\n",
       "      <td>NaN</td>\n",
       "      <td>S</td>\n",
       "    </tr>\n",
       "    <tr>\n",
       "      <th>1</th>\n",
       "      <td>2</td>\n",
       "      <td>1</td>\n",
       "      <td>Cumings, Mrs. John Bradley (Florence Briggs Th...</td>\n",
       "      <td>female</td>\n",
       "      <td>38.0</td>\n",
       "      <td>1</td>\n",
       "      <td>0</td>\n",
       "      <td>PC 17599</td>\n",
       "      <td>71.2833</td>\n",
       "      <td>C85</td>\n",
       "      <td>C</td>\n",
       "    </tr>\n",
       "    <tr>\n",
       "      <th>2</th>\n",
       "      <td>3</td>\n",
       "      <td>3</td>\n",
       "      <td>Heikkinen, Miss. Laina</td>\n",
       "      <td>female</td>\n",
       "      <td>26.0</td>\n",
       "      <td>0</td>\n",
       "      <td>0</td>\n",
       "      <td>STON/O2. 3101282</td>\n",
       "      <td>7.9250</td>\n",
       "      <td>NaN</td>\n",
       "      <td>S</td>\n",
       "    </tr>\n",
       "    <tr>\n",
       "      <th>3</th>\n",
       "      <td>4</td>\n",
       "      <td>1</td>\n",
       "      <td>Futrelle, Mrs. Jacques Heath (Lily May Peel)</td>\n",
       "      <td>female</td>\n",
       "      <td>35.0</td>\n",
       "      <td>1</td>\n",
       "      <td>0</td>\n",
       "      <td>113803</td>\n",
       "      <td>53.1000</td>\n",
       "      <td>C123</td>\n",
       "      <td>S</td>\n",
       "    </tr>\n",
       "    <tr>\n",
       "      <th>4</th>\n",
       "      <td>5</td>\n",
       "      <td>3</td>\n",
       "      <td>Allen, Mr. William Henry</td>\n",
       "      <td>male</td>\n",
       "      <td>35.0</td>\n",
       "      <td>0</td>\n",
       "      <td>0</td>\n",
       "      <td>373450</td>\n",
       "      <td>8.0500</td>\n",
       "      <td>NaN</td>\n",
       "      <td>S</td>\n",
       "    </tr>\n",
       "  </tbody>\n",
       "</table>\n",
       "</div>"
      ],
      "text/plain": [
       "   PassengerId  Pclass                                               Name  \\\n",
       "0            1       3                            Braund, Mr. Owen Harris   \n",
       "1            2       1  Cumings, Mrs. John Bradley (Florence Briggs Th...   \n",
       "2            3       3                             Heikkinen, Miss. Laina   \n",
       "3            4       1       Futrelle, Mrs. Jacques Heath (Lily May Peel)   \n",
       "4            5       3                           Allen, Mr. William Henry   \n",
       "\n",
       "      Sex   Age  SibSp  Parch            Ticket     Fare Cabin Embarked  \n",
       "0    male  22.0      1      0         A/5 21171   7.2500   NaN        S  \n",
       "1  female  38.0      1      0          PC 17599  71.2833   C85        C  \n",
       "2  female  26.0      0      0  STON/O2. 3101282   7.9250   NaN        S  \n",
       "3  female  35.0      1      0            113803  53.1000  C123        S  \n",
       "4    male  35.0      0      0            373450   8.0500   NaN        S  "
      ]
     },
     "execution_count": 8,
     "metadata": {},
     "output_type": "execute_result"
    }
   ],
   "source": [
    "features_df.head()"
   ]
  },
  {
   "cell_type": "code",
   "execution_count": 9,
   "metadata": {},
   "outputs": [
    {
     "data": {
      "text/plain": [
       "0    0\n",
       "1    1\n",
       "2    1\n",
       "3    1\n",
       "4    0\n",
       "Name: Survived, dtype: int64"
      ]
     },
     "execution_count": 9,
     "metadata": {},
     "output_type": "execute_result"
    }
   ],
   "source": [
    "labels.head(5)"
   ]
  },
  {
   "cell_type": "code",
   "execution_count": 10,
   "metadata": {},
   "outputs": [
    {
     "name": "stdout",
     "output_type": "stream",
     "text": [
      "<class 'pandas.core.frame.DataFrame'>\n",
      "RangeIndex: 1309 entries, 0 to 1308\n",
      "Data columns (total 11 columns):\n",
      "PassengerId    1309 non-null int64\n",
      "Pclass         1309 non-null int64\n",
      "Name           1309 non-null object\n",
      "Sex            1309 non-null object\n",
      "Age            1046 non-null float64\n",
      "SibSp          1309 non-null int64\n",
      "Parch          1309 non-null int64\n",
      "Ticket         1309 non-null object\n",
      "Fare           1308 non-null float64\n",
      "Cabin          295 non-null object\n",
      "Embarked       1307 non-null object\n",
      "dtypes: float64(2), int64(4), object(5)\n",
      "memory usage: 112.6+ KB\n"
     ]
    }
   ],
   "source": [
    "#查看数据条数、每个特征的缺失值个数、特征类型\n",
    "features_df.info()"
   ]
  },
  {
   "cell_type": "markdown",
   "metadata": {},
   "source": [
    "### 1.1特征分类\n",
    "\n",
    "表现\\功能 | 离散型特征 |  数值型特征  \n",
    ":- | :-: | -:\n",
    "int,float | PassengerId,**Pclass** | Age,**Pclass**,SibSp,Parch,Fare \n",
    "str | Name,Sex,Ticket,Cabin,Embarked |  \n",
    "\n",
    "从功能上我们可以简单把数据分为两类，一类是离散型特征、一类是数值型特征：  \n",
    "\n",
    "（1）数值型特征：对**“比较大小”**有意义的特征，比如“高、中、低”，“优秀、良好、一般、差”等这一类特征可以看做数值型特征\n",
    "\n",
    "（2）离散型特征：PassengerId虽然表现为int，但对其比较大小并无实际意义"
   ]
  },
  {
   "cell_type": "code",
   "execution_count": 11,
   "metadata": {},
   "outputs": [
    {
     "data": {
      "text/html": [
       "<div>\n",
       "<style scoped>\n",
       "    .dataframe tbody tr th:only-of-type {\n",
       "        vertical-align: middle;\n",
       "    }\n",
       "\n",
       "    .dataframe tbody tr th {\n",
       "        vertical-align: top;\n",
       "    }\n",
       "\n",
       "    .dataframe thead th {\n",
       "        text-align: right;\n",
       "    }\n",
       "</style>\n",
       "<table border=\"1\" class=\"dataframe\">\n",
       "  <thead>\n",
       "    <tr style=\"text-align: right;\">\n",
       "      <th></th>\n",
       "      <th>PassengerId</th>\n",
       "      <th>Pclass</th>\n",
       "      <th>Age</th>\n",
       "      <th>SibSp</th>\n",
       "      <th>Parch</th>\n",
       "      <th>Fare</th>\n",
       "    </tr>\n",
       "  </thead>\n",
       "  <tbody>\n",
       "    <tr>\n",
       "      <th>count</th>\n",
       "      <td>1309.000000</td>\n",
       "      <td>1309.000000</td>\n",
       "      <td>1046.000000</td>\n",
       "      <td>1309.000000</td>\n",
       "      <td>1309.000000</td>\n",
       "      <td>1308.000000</td>\n",
       "    </tr>\n",
       "    <tr>\n",
       "      <th>mean</th>\n",
       "      <td>655.000000</td>\n",
       "      <td>2.294882</td>\n",
       "      <td>29.881138</td>\n",
       "      <td>0.498854</td>\n",
       "      <td>0.385027</td>\n",
       "      <td>33.295479</td>\n",
       "    </tr>\n",
       "    <tr>\n",
       "      <th>std</th>\n",
       "      <td>378.020061</td>\n",
       "      <td>0.837836</td>\n",
       "      <td>14.413493</td>\n",
       "      <td>1.041658</td>\n",
       "      <td>0.865560</td>\n",
       "      <td>51.758668</td>\n",
       "    </tr>\n",
       "    <tr>\n",
       "      <th>min</th>\n",
       "      <td>1.000000</td>\n",
       "      <td>1.000000</td>\n",
       "      <td>0.170000</td>\n",
       "      <td>0.000000</td>\n",
       "      <td>0.000000</td>\n",
       "      <td>0.000000</td>\n",
       "    </tr>\n",
       "    <tr>\n",
       "      <th>25%</th>\n",
       "      <td>328.000000</td>\n",
       "      <td>2.000000</td>\n",
       "      <td>21.000000</td>\n",
       "      <td>0.000000</td>\n",
       "      <td>0.000000</td>\n",
       "      <td>7.895800</td>\n",
       "    </tr>\n",
       "    <tr>\n",
       "      <th>50%</th>\n",
       "      <td>655.000000</td>\n",
       "      <td>3.000000</td>\n",
       "      <td>28.000000</td>\n",
       "      <td>0.000000</td>\n",
       "      <td>0.000000</td>\n",
       "      <td>14.454200</td>\n",
       "    </tr>\n",
       "    <tr>\n",
       "      <th>75%</th>\n",
       "      <td>982.000000</td>\n",
       "      <td>3.000000</td>\n",
       "      <td>39.000000</td>\n",
       "      <td>1.000000</td>\n",
       "      <td>0.000000</td>\n",
       "      <td>31.275000</td>\n",
       "    </tr>\n",
       "    <tr>\n",
       "      <th>max</th>\n",
       "      <td>1309.000000</td>\n",
       "      <td>3.000000</td>\n",
       "      <td>80.000000</td>\n",
       "      <td>8.000000</td>\n",
       "      <td>9.000000</td>\n",
       "      <td>512.329200</td>\n",
       "    </tr>\n",
       "  </tbody>\n",
       "</table>\n",
       "</div>"
      ],
      "text/plain": [
       "       PassengerId       Pclass          Age        SibSp        Parch  \\\n",
       "count  1309.000000  1309.000000  1046.000000  1309.000000  1309.000000   \n",
       "mean    655.000000     2.294882    29.881138     0.498854     0.385027   \n",
       "std     378.020061     0.837836    14.413493     1.041658     0.865560   \n",
       "min       1.000000     1.000000     0.170000     0.000000     0.000000   \n",
       "25%     328.000000     2.000000    21.000000     0.000000     0.000000   \n",
       "50%     655.000000     3.000000    28.000000     0.000000     0.000000   \n",
       "75%     982.000000     3.000000    39.000000     1.000000     0.000000   \n",
       "max    1309.000000     3.000000    80.000000     8.000000     9.000000   \n",
       "\n",
       "              Fare  \n",
       "count  1308.000000  \n",
       "mean     33.295479  \n",
       "std      51.758668  \n",
       "min       0.000000  \n",
       "25%       7.895800  \n",
       "50%      14.454200  \n",
       "75%      31.275000  \n",
       "max     512.329200  "
      ]
     },
     "execution_count": 11,
     "metadata": {},
     "output_type": "execute_result"
    }
   ],
   "source": [
    "#进一步，查看int,float特征的分布\n",
    "features_df.describe()"
   ]
  },
  {
   "cell_type": "code",
   "execution_count": 12,
   "metadata": {},
   "outputs": [
    {
     "data": {
      "text/html": [
       "<div>\n",
       "<style scoped>\n",
       "    .dataframe tbody tr th:only-of-type {\n",
       "        vertical-align: middle;\n",
       "    }\n",
       "\n",
       "    .dataframe tbody tr th {\n",
       "        vertical-align: top;\n",
       "    }\n",
       "\n",
       "    .dataframe thead th {\n",
       "        text-align: right;\n",
       "    }\n",
       "</style>\n",
       "<table border=\"1\" class=\"dataframe\">\n",
       "  <thead>\n",
       "    <tr style=\"text-align: right;\">\n",
       "      <th></th>\n",
       "      <th>Name</th>\n",
       "      <th>Sex</th>\n",
       "      <th>Ticket</th>\n",
       "      <th>Cabin</th>\n",
       "      <th>Embarked</th>\n",
       "    </tr>\n",
       "  </thead>\n",
       "  <tbody>\n",
       "    <tr>\n",
       "      <th>count</th>\n",
       "      <td>1309</td>\n",
       "      <td>1309</td>\n",
       "      <td>1309</td>\n",
       "      <td>295</td>\n",
       "      <td>1307</td>\n",
       "    </tr>\n",
       "    <tr>\n",
       "      <th>unique</th>\n",
       "      <td>1307</td>\n",
       "      <td>2</td>\n",
       "      <td>929</td>\n",
       "      <td>186</td>\n",
       "      <td>3</td>\n",
       "    </tr>\n",
       "    <tr>\n",
       "      <th>top</th>\n",
       "      <td>Kelly, Mr. James</td>\n",
       "      <td>male</td>\n",
       "      <td>CA. 2343</td>\n",
       "      <td>C23 C25 C27</td>\n",
       "      <td>S</td>\n",
       "    </tr>\n",
       "    <tr>\n",
       "      <th>freq</th>\n",
       "      <td>2</td>\n",
       "      <td>843</td>\n",
       "      <td>11</td>\n",
       "      <td>6</td>\n",
       "      <td>914</td>\n",
       "    </tr>\n",
       "  </tbody>\n",
       "</table>\n",
       "</div>"
      ],
      "text/plain": [
       "                    Name   Sex    Ticket        Cabin Embarked\n",
       "count               1309  1309      1309          295     1307\n",
       "unique              1307     2       929          186        3\n",
       "top     Kelly, Mr. James  male  CA. 2343  C23 C25 C27        S\n",
       "freq                   2   843        11            6      914"
      ]
     },
     "execution_count": 12,
     "metadata": {},
     "output_type": "execute_result"
    }
   ],
   "source": [
    "#对于object类型特征，也可以使用describe查看最频繁的那一项,以及总的有多少项\n",
    "features_df.describe(include=['O'])"
   ]
  },
  {
   "cell_type": "code",
   "execution_count": 13,
   "metadata": {},
   "outputs": [
    {
     "data": {
      "text/plain": [
       "C23 C25 C27        6\n",
       "G6                 5\n",
       "B57 B59 B63 B66    5\n",
       "C22 C26            4\n",
       "C78                4\n",
       "Name: Cabin, dtype: int64"
      ]
     },
     "execution_count": 13,
     "metadata": {},
     "output_type": "execute_result"
    }
   ],
   "source": [
    "#通过value_counts查看靠前的项目\n",
    "features_df['Cabin'].value_counts().head(5)"
   ]
  },
  {
   "cell_type": "markdown",
   "metadata": {},
   "source": [
    "### 1.2可视化"
   ]
  },
  {
   "cell_type": "code",
   "execution_count": 14,
   "metadata": {},
   "outputs": [
    {
     "data": {
      "text/plain": [
       "<matplotlib.axes._subplots.AxesSubplot at 0x1870c255c88>"
      ]
     },
     "execution_count": 14,
     "metadata": {},
     "output_type": "execute_result"
    },
    {
     "data": {
      "image/png": "[encoded data removed]",
      "text/plain": [
       "<Figure size 432x288 with 1 Axes>"
      ]
     },
     "metadata": {},
     "output_type": "display_data"
    }
   ],
   "source": [
    "#条形图，存活分布\n",
    "labels.value_counts().plot(kind='bar')"
   ]
  },
  {
   "cell_type": "code",
   "execution_count": 15,
   "metadata": {},
   "outputs": [
    {
     "data": {
      "text/plain": [
       "<matplotlib.axes._subplots.AxesSubplot at 0x1870e2e10b8>"
      ]
     },
     "execution_count": 15,
     "metadata": {},
     "output_type": "execute_result"
    },
    {
     "data": {
      "image/png": "[encoded data removed]",
      "text/plain": [
       "<Figure size 432x288 with 1 Axes>"
      ]
     },
     "metadata": {},
     "output_type": "display_data"
    }
   ],
   "source": [
    "#条形图：查看Cabin的分布\n",
    "features_df['Cabin'].value_counts().sort_values(ascending=False).head(20).plot(kind='bar')"
   ]
  },
  {
   "cell_type": "code",
   "execution_count": 16,
   "metadata": {},
   "outputs": [
    {
     "data": {
      "text/plain": [
       "<matplotlib.axes._subplots.AxesSubplot at 0x1870e39d1d0>"
      ]
     },
     "execution_count": 16,
     "metadata": {},
     "output_type": "execute_result"
    },
    {
     "data": {
      "image/png": "[encoded data removed]",
      "text/plain": [
       "<Figure size 432x288 with 1 Axes>"
      ]
     },
     "metadata": {},
     "output_type": "display_data"
    }
   ],
   "source": [
    "#饼图，查看性别分布\n",
    "features_df['Sex'].value_counts().sort_values(ascending=False).plot(kind='pie')"
   ]
  },
  {
   "cell_type": "code",
   "execution_count": 17,
   "metadata": {},
   "outputs": [
    {
     "data": {
      "text/plain": [
       "<matplotlib.axes._subplots.AxesSubplot at 0x1870e40b278>"
      ]
     },
     "execution_count": 17,
     "metadata": {},
     "output_type": "execute_result"
    },
    {
     "data": {
      "image/png": "[encoded data removed]",
      "text/plain": [
       "<Figure size 432x288 with 1 Axes>"
      ]
     },
     "metadata": {},
     "output_type": "display_data"
    }
   ],
   "source": [
    "#直方图，查看年龄分布\n",
    "features_df['Age'].plot(kind='hist')#注意：有别于条形图，这里会将连续值“分箱”"
   ]
  },
  {
   "cell_type": "code",
   "execution_count": 18,
   "metadata": {},
   "outputs": [
    {
     "data": {
      "text/plain": [
       "<matplotlib.axes._subplots.AxesSubplot at 0x1870e47e198>"
      ]
     },
     "execution_count": 18,
     "metadata": {},
     "output_type": "execute_result"
    },
    {
     "data": {
      "image/png": "[encoded data removed]",
      "text/plain": [
       "<Figure size 432x288 with 1 Axes>"
      ]
     },
     "metadata": {},
     "output_type": "display_data"
    }
   ],
   "source": [
    "#箱线图，查看年龄分布\n",
    "features_df['Age'].plot(kind='box')#可见有绝大部分是20-40岁的年轻人"
   ]
  },
  {
   "cell_type": "code",
   "execution_count": 19,
   "metadata": {},
   "outputs": [
    {
     "data": {
      "text/plain": [
       "<matplotlib.axes._subplots.AxesSubplot at 0x1870e4e0f60>"
      ]
     },
     "execution_count": 19,
     "metadata": {},
     "output_type": "execute_result"
    },
    {
     "data": {
      "image/png": "[encoded data removed]",
      "text/plain": [
       "<Figure size 432x288 with 1 Axes>"
      ]
     },
     "metadata": {},
     "output_type": "display_data"
    }
   ],
   "source": [
    "#条形图：查看票价与票类的关系\n",
    "features_df.groupby('Pclass')['Fare'].mean().plot(kind='bar')#Pclass 1,2,3分别表示头等舱、一等舱、二等舱"
   ]
  },
  {
   "cell_type": "code",
   "execution_count": 20,
   "metadata": {},
   "outputs": [
    {
     "data": {
      "text/plain": [
       "<matplotlib.axes._subplots.AxesSubplot at 0x1870e541550>"
      ]
     },
     "execution_count": 20,
     "metadata": {},
     "output_type": "execute_result"
    },
    {
     "data": {
      "image/png": "[encoded data removed]",
      "text/plain": [
       "<Figure size 432x288 with 1 Axes>"
      ]
     },
     "metadata": {},
     "output_type": "display_data"
    }
   ],
   "source": [
    "#将年龄分成1-10的10个阶段，并统计对应票价\n",
    "def age_bin(x):\n",
    "    try:\n",
    "        return int(x/10)\n",
    "    except:\n",
    "        None\n",
    "features_df['Age_bin']=features_df['Age'].apply(age_bin)\n",
    "features_df.groupby('Age_bin')['Fare'].mean().plot(kind='bar')"
   ]
  },
  {
   "cell_type": "code",
   "execution_count": 21,
   "metadata": {},
   "outputs": [
    {
     "data": {
      "text/plain": [
       "<matplotlib.axes._subplots.AxesSubplot at 0x1870e5b7a20>"
      ]
     },
     "execution_count": 21,
     "metadata": {},
     "output_type": "execute_result"
    },
    {
     "data": {
      "image/png": "[encoded data removed]",
      "text/plain": [
       "<Figure size 432x288 with 1 Axes>"
      ]
     },
     "metadata": {},
     "output_type": "display_data"
    }
   ],
   "source": [
    "#平滑处理\n",
    "features_df.groupby('Age_bin')['Fare'].mean().rolling(3).mean().plot(kind='line')#注意:前rolling_num-1项会为None"
   ]
  },
  {
   "cell_type": "code",
   "execution_count": 22,
   "metadata": {},
   "outputs": [
    {
     "data": {
      "text/plain": [
       "<matplotlib.axes._subplots.AxesSubplot at 0x1870e623160>"
      ]
     },
     "execution_count": 22,
     "metadata": {},
     "output_type": "execute_result"
    },
    {
     "data": {
      "image/png": "[encoded data removed]",
      "text/plain": [
       "<Figure size 432x288 with 1 Axes>"
      ]
     },
     "metadata": {},
     "output_type": "display_data"
    }
   ],
   "source": [
    "#查看各登船港口与票类的关系\n",
    "features_df.groupby('Embarked')['Pclass'].mean().plot.bar()"
   ]
  },
  {
   "cell_type": "code",
   "execution_count": 23,
   "metadata": {},
   "outputs": [
    {
     "data": {
      "text/plain": [
       "<matplotlib.axes._subplots.AxesSubplot at 0x1870e6dac50>"
      ]
     },
     "execution_count": 23,
     "metadata": {},
     "output_type": "execute_result"
    },
    {
     "data": {
      "image/png": "[encoded data removed]",
      "text/plain": [
       "<Figure size 432x288 with 2 Axes>"
      ]
     },
     "metadata": {},
     "output_type": "display_data"
    }
   ],
   "source": [
    "#探索不同性别，不同年龄段的存活率\n",
    "show_df=features_df[:891]\n",
    "show_df['Survived']=labels\n",
    "show_df=show_df.groupby(['Sex','Age_bin'])['Survived'].mean().reset_index().pivot(index='Sex',columns='Age_bin',values='Survived').reset_index()\n",
    "show_df=show_df.where(show_df.notnull(),0)\n",
    "show_df.set_index('Sex',inplace=True,drop=True)\n",
    "sns.heatmap(show_df)"
   ]
  },
  {
   "cell_type": "markdown",
   "metadata": {},
   "source": [
    "**注意float.nan无法通过fillna填充**  \n",
    "\n",
    "可以发现婴儿和女性的存活率更高"
   ]
  },
  {
   "cell_type": "code",
   "execution_count": 24,
   "metadata": {},
   "outputs": [
    {
     "data": {
      "text/plain": [
       "<matplotlib.axes._subplots.AxesSubplot at 0x1870e8d3cc0>"
      ]
     },
     "execution_count": 24,
     "metadata": {},
     "output_type": "execute_result"
    },
    {
     "data": {
      "image/png": "[encoded data removed]",
      "text/plain": [
       "<Figure size 432x288 with 2 Axes>"
      ]
     },
     "metadata": {},
     "output_type": "display_data"
    }
   ],
   "source": [
    "#热图：探索不同特征之间的相关系数\n",
    "show_df=features_df[:891]\n",
    "show_df['Survived']=labels\n",
    "sns.heatmap(show_df.corr())"
   ]
  },
  {
   "cell_type": "markdown",
   "metadata": {},
   "source": [
    "可以发现是否存活与Fare/票价的正相关性最强，与Pclass负相关性最强"
   ]
  },
  {
   "cell_type": "markdown",
   "metadata": {},
   "source": [
    "### 二.清洗特征\n",
    "大概知道了各特征的类型以及缺失值情况后，我们就可以对数据进行清洗，将其转换成int/float数据类型"
   ]
  },
  {
   "cell_type": "markdown",
   "metadata": {},
   "source": [
    "#### 2.1 None值填充\n",
    "（1）删除...dropna...(不建议)    \n",
    "（2）暴力填充fillna一个确定的值  \n",
    "（3）均值、中位数、众数项填充  \n",
    "（4）依赖性填充  \n",
    "    4.1）基于时间的插值；  \n",
    "    4.2）建模预测..."
   ]
  },
  {
   "cell_type": "code",
   "execution_count": 25,
   "metadata": {},
   "outputs": [
    {
     "data": {
      "text/plain": [
       "PassengerId       0\n",
       "Pclass            0\n",
       "Name              0\n",
       "Sex               0\n",
       "Age             263\n",
       "SibSp             0\n",
       "Parch             0\n",
       "Ticket            0\n",
       "Fare              1\n",
       "Cabin          1014\n",
       "Embarked          2\n",
       "Age_bin         263\n",
       "dtype: int64"
      ]
     },
     "execution_count": 25,
     "metadata": {},
     "output_type": "execute_result"
    }
   ],
   "source": [
    "#首先查看缺失项\n",
    "features_df.isnull().sum()"
   ]
  },
  {
   "cell_type": "code",
   "execution_count": 26,
   "metadata": {},
   "outputs": [],
   "source": [
    "del features_df['Age_bin']"
   ]
  },
  {
   "cell_type": "code",
   "execution_count": 27,
   "metadata": {},
   "outputs": [],
   "source": [
    "#为Cabin直接填充一个定值\n",
    "features_df['Cabin'].fillna('missing',inplace=True)"
   ]
  },
  {
   "cell_type": "code",
   "execution_count": 28,
   "metadata": {},
   "outputs": [],
   "source": [
    "#为Embarked填充众数项\n",
    "features_df['Embarked'].fillna(features_df['Embarked'].mode()[0],inplace=True)"
   ]
  },
  {
   "cell_type": "code",
   "execution_count": 29,
   "metadata": {},
   "outputs": [
    {
     "data": {
      "text/html": [
       "<div>\n",
       "<style scoped>\n",
       "    .dataframe tbody tr th:only-of-type {\n",
       "        vertical-align: middle;\n",
       "    }\n",
       "\n",
       "    .dataframe tbody tr th {\n",
       "        vertical-align: top;\n",
       "    }\n",
       "\n",
       "    .dataframe thead th {\n",
       "        text-align: right;\n",
       "    }\n",
       "</style>\n",
       "<table border=\"1\" class=\"dataframe\">\n",
       "  <thead>\n",
       "    <tr style=\"text-align: right;\">\n",
       "      <th></th>\n",
       "      <th>Pclass</th>\n",
       "      <th>Age</th>\n",
       "    </tr>\n",
       "  </thead>\n",
       "  <tbody>\n",
       "    <tr>\n",
       "      <th>0</th>\n",
       "      <td>1</td>\n",
       "      <td>39.159930</td>\n",
       "    </tr>\n",
       "    <tr>\n",
       "      <th>1</th>\n",
       "      <td>2</td>\n",
       "      <td>29.506705</td>\n",
       "    </tr>\n",
       "    <tr>\n",
       "      <th>2</th>\n",
       "      <td>3</td>\n",
       "      <td>24.816367</td>\n",
       "    </tr>\n",
       "  </tbody>\n",
       "</table>\n",
       "</div>"
      ],
      "text/plain": [
       "   Pclass        Age\n",
       "0       1  39.159930\n",
       "1       2  29.506705\n",
       "2       3  24.816367"
      ]
     },
     "execution_count": 29,
     "metadata": {},
     "output_type": "execute_result"
    }
   ],
   "source": [
    "#Age与Pclass具有比较强的相关性，利用Age所属Pclass组的均值对其缺失值进行填充\n",
    "features_df.groupby('Pclass')['Age'].mean().reset_index()"
   ]
  },
  {
   "cell_type": "code",
   "execution_count": 30,
   "metadata": {},
   "outputs": [],
   "source": [
    "def fill_age(pclass,age):\n",
    "    if np.isnan(age):#注意：如果当前列为float/int类型，当前列中的None会被强制转为float的nan类型\n",
    "        if pclass==1:\n",
    "            return 39.159930\n",
    "        elif pclass==2:\n",
    "            return 29.506705\n",
    "        else:\n",
    "            return 24.816367\n",
    "    else:\n",
    "        return age\n",
    "features_df['Age']=features_df.apply(lambda row:fill_age(row['Pclass'],row['Age']),axis=1)"
   ]
  },
  {
   "cell_type": "code",
   "execution_count": 31,
   "metadata": {},
   "outputs": [],
   "source": [
    "features_df['Fare'].fillna(features_df['Fare'].mean(),inplace=True)"
   ]
  },
  {
   "cell_type": "code",
   "execution_count": 32,
   "metadata": {},
   "outputs": [
    {
     "data": {
      "text/plain": [
       "PassengerId    0\n",
       "Pclass         0\n",
       "Name           0\n",
       "Sex            0\n",
       "Age            0\n",
       "SibSp          0\n",
       "Parch          0\n",
       "Ticket         0\n",
       "Fare           0\n",
       "Cabin          0\n",
       "Embarked       0\n",
       "dtype: int64"
      ]
     },
     "execution_count": 32,
     "metadata": {},
     "output_type": "execute_result"
    }
   ],
   "source": [
    "#检查一下\n",
    "features_df.isnull().sum()"
   ]
  },
  {
   "cell_type": "markdown",
   "metadata": {},
   "source": [
    "也可以多种填充策略组合，比如先依赖于相关性高的进行填充，然后利用整体的均值/中位数等填充，然后fillna一个确定的值等，另外sklearn.preprocessing.Imputer也可方便进行均值、中位数、众数填充  \n",
    "\n",
    "#### 注意：\n",
    "**\n",
    "（1）这里没有那一种填充方法是“绝对”的好，要与后续建模中具体使用的模型结合起来，均值类型的填充也许对决策树一类的算法比较友好，fillna(0)也许对lr/神经网络一类的算法比较友好；  \n",
    "（2）切记在填充的时候不要依赖到y标签，假如Age与Survived的相关性比较强，如果Age依赖于Survived的分组均值进行填充...想想会发生什么....真正在预测的时候我们不知道Survived真实取值，所以压根没法填充...  \n",
    "（3）另外这里使用整体数据的均值/中位数进行填充涉嫌“作弊”，因为利用到了测试集部分，更正确的做法是利用训练集的信息去对训练集合测试集进行填充，但一般在样本量很大的情况下，两者均值/中位数....相差不大，所以...\n",
    "**"
   ]
  },
  {
   "cell_type": "code",
   "execution_count": 33,
   "metadata": {},
   "outputs": [
    {
     "data": {
      "text/plain": [
       "29.348219164247467"
      ]
     },
     "execution_count": 33,
     "metadata": {},
     "output_type": "execute_result"
    }
   ],
   "source": [
    "features_df['Age'].mean()"
   ]
  },
  {
   "cell_type": "code",
   "execution_count": 34,
   "metadata": {},
   "outputs": [
    {
     "data": {
      "text/plain": [
       "29.269997269360225"
      ]
     },
     "execution_count": 34,
     "metadata": {},
     "output_type": "execute_result"
    }
   ],
   "source": [
    "features_df[:891]['Age'].mean()"
   ]
  },
  {
   "cell_type": "code",
   "execution_count": 35,
   "metadata": {},
   "outputs": [
    {
     "data": {
      "text/html": [
       "<div>\n",
       "<style scoped>\n",
       "    .dataframe tbody tr th:only-of-type {\n",
       "        vertical-align: middle;\n",
       "    }\n",
       "\n",
       "    .dataframe tbody tr th {\n",
       "        vertical-align: top;\n",
       "    }\n",
       "\n",
       "    .dataframe thead th {\n",
       "        text-align: right;\n",
       "    }\n",
       "</style>\n",
       "<table border=\"1\" class=\"dataframe\">\n",
       "  <thead>\n",
       "    <tr style=\"text-align: right;\">\n",
       "      <th></th>\n",
       "      <th>PassengerId</th>\n",
       "      <th>Pclass</th>\n",
       "      <th>Name</th>\n",
       "      <th>Sex</th>\n",
       "      <th>Age</th>\n",
       "      <th>SibSp</th>\n",
       "      <th>Parch</th>\n",
       "      <th>Ticket</th>\n",
       "      <th>Fare</th>\n",
       "      <th>Cabin</th>\n",
       "      <th>Embarked</th>\n",
       "    </tr>\n",
       "  </thead>\n",
       "  <tbody>\n",
       "    <tr>\n",
       "      <th>0</th>\n",
       "      <td>1</td>\n",
       "      <td>3</td>\n",
       "      <td>Braund, Mr. Owen Harris</td>\n",
       "      <td>male</td>\n",
       "      <td>22.0</td>\n",
       "      <td>1</td>\n",
       "      <td>0</td>\n",
       "      <td>A/5 21171</td>\n",
       "      <td>7.2500</td>\n",
       "      <td>missing</td>\n",
       "      <td>S</td>\n",
       "    </tr>\n",
       "    <tr>\n",
       "      <th>1</th>\n",
       "      <td>2</td>\n",
       "      <td>1</td>\n",
       "      <td>Cumings, Mrs. John Bradley (Florence Briggs Th...</td>\n",
       "      <td>female</td>\n",
       "      <td>38.0</td>\n",
       "      <td>1</td>\n",
       "      <td>0</td>\n",
       "      <td>PC 17599</td>\n",
       "      <td>71.2833</td>\n",
       "      <td>C85</td>\n",
       "      <td>C</td>\n",
       "    </tr>\n",
       "    <tr>\n",
       "      <th>2</th>\n",
       "      <td>3</td>\n",
       "      <td>3</td>\n",
       "      <td>Heikkinen, Miss. Laina</td>\n",
       "      <td>female</td>\n",
       "      <td>26.0</td>\n",
       "      <td>0</td>\n",
       "      <td>0</td>\n",
       "      <td>STON/O2. 3101282</td>\n",
       "      <td>7.9250</td>\n",
       "      <td>missing</td>\n",
       "      <td>S</td>\n",
       "    </tr>\n",
       "    <tr>\n",
       "      <th>3</th>\n",
       "      <td>4</td>\n",
       "      <td>1</td>\n",
       "      <td>Futrelle, Mrs. Jacques Heath (Lily May Peel)</td>\n",
       "      <td>female</td>\n",
       "      <td>35.0</td>\n",
       "      <td>1</td>\n",
       "      <td>0</td>\n",
       "      <td>113803</td>\n",
       "      <td>53.1000</td>\n",
       "      <td>C123</td>\n",
       "      <td>S</td>\n",
       "    </tr>\n",
       "    <tr>\n",
       "      <th>4</th>\n",
       "      <td>5</td>\n",
       "      <td>3</td>\n",
       "      <td>Allen, Mr. William Henry</td>\n",
       "      <td>male</td>\n",
       "      <td>35.0</td>\n",
       "      <td>0</td>\n",
       "      <td>0</td>\n",
       "      <td>373450</td>\n",
       "      <td>8.0500</td>\n",
       "      <td>missing</td>\n",
       "      <td>S</td>\n",
       "    </tr>\n",
       "  </tbody>\n",
       "</table>\n",
       "</div>"
      ],
      "text/plain": [
       "   PassengerId  Pclass                                               Name  \\\n",
       "0            1       3                            Braund, Mr. Owen Harris   \n",
       "1            2       1  Cumings, Mrs. John Bradley (Florence Briggs Th...   \n",
       "2            3       3                             Heikkinen, Miss. Laina   \n",
       "3            4       1       Futrelle, Mrs. Jacques Heath (Lily May Peel)   \n",
       "4            5       3                           Allen, Mr. William Henry   \n",
       "\n",
       "      Sex   Age  SibSp  Parch            Ticket     Fare    Cabin Embarked  \n",
       "0    male  22.0      1      0         A/5 21171   7.2500  missing        S  \n",
       "1  female  38.0      1      0          PC 17599  71.2833      C85        C  \n",
       "2  female  26.0      0      0  STON/O2. 3101282   7.9250  missing        S  \n",
       "3  female  35.0      1      0            113803  53.1000     C123        S  \n",
       "4    male  35.0      0      0            373450   8.0500  missing        S  "
      ]
     },
     "execution_count": 35,
     "metadata": {},
     "output_type": "execute_result"
    }
   ],
   "source": [
    "#目前的情况如下\n",
    "features_df.head(5)"
   ]
  },
  {
   "cell_type": "markdown",
   "metadata": {},
   "source": [
    "#### 2.2 类别特征数值化\n",
    "我们还有5列类别特征，可以将他们分为两类：  \n",
    "（1）低数量类别特征/low-cardinality categorical attributes：Sex,Embarked  \n",
    "（2）高数量类别特征/high-cardinality categorical attributes:Name,Ticket,Cabin\n",
    "\n",
    "我们一个一个看....  \n",
    "\n",
    "Sex:明显的离散型特征，可以采用ont-hot编码，由于只有两个可取变量，也可以直接编码0/1  \n",
    "Embarked:明显的离散型特征，可采用one-hot编码  \n",
    "Name:可以再深入挖掘的一个特征，比如通过名字判断是否结婚  \n",
    "Ticket:看不出明显的规律，删掉  \n",
    "Cabin:这里先简单的采用TargetEncoder,一种Smothing的方式，计算y的占比；后面可以扩展特征，比如同一船舱：是否包含中年男性/是否包含小孩....，如果当前乘客为小孩，而他同行的船舱中有中年男性，那存活的可能性更高? 这里，，，先删掉    \n",
    "\n",
    "这里推荐category_encoders,有多种对离散特征encoding的方式  \n",
    "pip install category_encoders  \n",
    "更多：http://contrib.scikit-learn.org/categorical-encoding/  "
   ]
  },
  {
   "cell_type": "code",
   "execution_count": 36,
   "metadata": {},
   "outputs": [],
   "source": [
    "import category_encoders as ce\n",
    "del features_df['Name']\n",
    "del features_df['Ticket']\n",
    "onehot_encoder = ce.OneHotEncoder(cols=['Embarked']).fit(features_df)\n",
    "features_df=onehot_encoder.transform(features_df)\n",
    "\n",
    "ordinay_encoder = ce.OrdinalEncoder(cols=['Sex']).fit(features_df)\n",
    "features_df=ordinay_encoder.transform(features_df)\n",
    "\n",
    "#这里我就偷懒了....\n",
    "target_encoder = ce.TargetEncoder(cols=['Cabin']).fit(features_df[:891],labels)\n",
    "features_df=target_encoder.transform(features_df)"
   ]
  },
  {
   "cell_type": "code",
   "execution_count": 37,
   "metadata": {},
   "outputs": [],
   "source": [
    "features_df['Sex']=features_df['Sex']-1"
   ]
  },
  {
   "cell_type": "code",
   "execution_count": 38,
   "metadata": {},
   "outputs": [
    {
     "data": {
      "text/html": [
       "<div>\n",
       "<style scoped>\n",
       "    .dataframe tbody tr th:only-of-type {\n",
       "        vertical-align: middle;\n",
       "    }\n",
       "\n",
       "    .dataframe tbody tr th {\n",
       "        vertical-align: top;\n",
       "    }\n",
       "\n",
       "    .dataframe thead th {\n",
       "        text-align: right;\n",
       "    }\n",
       "</style>\n",
       "<table border=\"1\" class=\"dataframe\">\n",
       "  <thead>\n",
       "    <tr style=\"text-align: right;\">\n",
       "      <th></th>\n",
       "      <th>PassengerId</th>\n",
       "      <th>Pclass</th>\n",
       "      <th>Sex</th>\n",
       "      <th>Age</th>\n",
       "      <th>SibSp</th>\n",
       "      <th>Parch</th>\n",
       "      <th>Fare</th>\n",
       "      <th>Cabin</th>\n",
       "      <th>Embarked_1</th>\n",
       "      <th>Embarked_2</th>\n",
       "      <th>Embarked_3</th>\n",
       "    </tr>\n",
       "  </thead>\n",
       "  <tbody>\n",
       "    <tr>\n",
       "      <th>0</th>\n",
       "      <td>1</td>\n",
       "      <td>3</td>\n",
       "      <td>0</td>\n",
       "      <td>22.0</td>\n",
       "      <td>1</td>\n",
       "      <td>0</td>\n",
       "      <td>7.2500</td>\n",
       "      <td>0.299854</td>\n",
       "      <td>1</td>\n",
       "      <td>0</td>\n",
       "      <td>0</td>\n",
       "    </tr>\n",
       "    <tr>\n",
       "      <th>1</th>\n",
       "      <td>2</td>\n",
       "      <td>1</td>\n",
       "      <td>1</td>\n",
       "      <td>38.0</td>\n",
       "      <td>1</td>\n",
       "      <td>0</td>\n",
       "      <td>71.2833</td>\n",
       "      <td>0.383838</td>\n",
       "      <td>0</td>\n",
       "      <td>1</td>\n",
       "      <td>0</td>\n",
       "    </tr>\n",
       "    <tr>\n",
       "      <th>2</th>\n",
       "      <td>3</td>\n",
       "      <td>3</td>\n",
       "      <td>1</td>\n",
       "      <td>26.0</td>\n",
       "      <td>0</td>\n",
       "      <td>0</td>\n",
       "      <td>7.9250</td>\n",
       "      <td>0.299854</td>\n",
       "      <td>1</td>\n",
       "      <td>0</td>\n",
       "      <td>0</td>\n",
       "    </tr>\n",
       "    <tr>\n",
       "      <th>3</th>\n",
       "      <td>4</td>\n",
       "      <td>1</td>\n",
       "      <td>1</td>\n",
       "      <td>35.0</td>\n",
       "      <td>1</td>\n",
       "      <td>0</td>\n",
       "      <td>53.1000</td>\n",
       "      <td>0.468759</td>\n",
       "      <td>1</td>\n",
       "      <td>0</td>\n",
       "      <td>0</td>\n",
       "    </tr>\n",
       "    <tr>\n",
       "      <th>4</th>\n",
       "      <td>5</td>\n",
       "      <td>3</td>\n",
       "      <td>0</td>\n",
       "      <td>35.0</td>\n",
       "      <td>0</td>\n",
       "      <td>0</td>\n",
       "      <td>8.0500</td>\n",
       "      <td>0.299854</td>\n",
       "      <td>1</td>\n",
       "      <td>0</td>\n",
       "      <td>0</td>\n",
       "    </tr>\n",
       "  </tbody>\n",
       "</table>\n",
       "</div>"
      ],
      "text/plain": [
       "   PassengerId  Pclass  Sex   Age  SibSp  Parch     Fare     Cabin  \\\n",
       "0            1       3    0  22.0      1      0   7.2500  0.299854   \n",
       "1            2       1    1  38.0      1      0  71.2833  0.383838   \n",
       "2            3       3    1  26.0      0      0   7.9250  0.299854   \n",
       "3            4       1    1  35.0      1      0  53.1000  0.468759   \n",
       "4            5       3    0  35.0      0      0   8.0500  0.299854   \n",
       "\n",
       "   Embarked_1  Embarked_2  Embarked_3  \n",
       "0           1           0           0  \n",
       "1           0           1           0  \n",
       "2           1           0           0  \n",
       "3           1           0           0  \n",
       "4           1           0           0  "
      ]
     },
     "execution_count": 38,
     "metadata": {},
     "output_type": "execute_result"
    }
   ],
   "source": [
    "features_df.head(5)"
   ]
  },
  {
   "cell_type": "code",
   "execution_count": 39,
   "metadata": {},
   "outputs": [],
   "source": [
    "#这里PassengerId直接删掉\n",
    "del features_df['PassengerId']"
   ]
  },
  {
   "cell_type": "markdown",
   "metadata": {},
   "source": [
    "#### 2.3数据标准化\n",
    "数据是否需要标准化取决于后面的训练模型，一般来说，数据归一化有如下的一些好处：  \n",
    "（1）保持量纲的统一；  \n",
    "（2）梯度下降更稳定；\n",
    "\n",
    "它对常见算法的影响：  \n",
    "（1）knn,kmeans：欧氏距离...  \n",
    "（2）lr,svm,nn：梯度下降...  \n",
    "（3）pca：偏向于值较大的列  \n",
    "\n",
    "标准化的方法一般有以下几种：  \n",
    "（1）z-score：$z=(x-u)/\\sigma$  \n",
    "（2）min-max：$m=(x-x_{min})/(x_{max}-x_{min})$  \n",
    "（3）行归一化：$\\sqrt{(x_1^2+x_2^2+\\cdots+x_n^2)}=1,这里x_1,x_2,...,x_n表示每行特征$；  \n",
    "其他的标准化方法：  \n",
    "（1）log/boxcox归一化：对长尾分布数据比较有用，可以拉伸头部，压缩尾部\n",
    "\n",
    "更多：https://www.jianshu.com/p/fa73a07cd750"
   ]
  },
  {
   "cell_type": "code",
   "execution_count": 40,
   "metadata": {},
   "outputs": [],
   "source": [
    "from sklearn.preprocessing import StandardScaler,MinMaxScaler,Normalizer\n",
    "#z-score归一化\n",
    "titanic_z_score_df=pd.DataFrame(StandardScaler().fit_transform(features_df),columns=features_df.columns)\n",
    "#min-max归一化\n",
    "titanic_min_max_df=pd.DataFrame(MinMaxScaler().fit_transform(features_df),columns=features_df.columns)\n",
    "#行归一化\n",
    "titanic_normalize_df=pd.DataFrame(Normalizer().fit_transform(features_df),columns=features_df.columns)"
   ]
  },
  {
   "cell_type": "code",
   "execution_count": 41,
   "metadata": {},
   "outputs": [
    {
     "data": {
      "text/html": [
       "<div>\n",
       "<style scoped>\n",
       "    .dataframe tbody tr th:only-of-type {\n",
       "        vertical-align: middle;\n",
       "    }\n",
       "\n",
       "    .dataframe tbody tr th {\n",
       "        vertical-align: top;\n",
       "    }\n",
       "\n",
       "    .dataframe thead th {\n",
       "        text-align: right;\n",
       "    }\n",
       "</style>\n",
       "<table border=\"1\" class=\"dataframe\">\n",
       "  <thead>\n",
       "    <tr style=\"text-align: right;\">\n",
       "      <th></th>\n",
       "      <th>Pclass</th>\n",
       "      <th>Sex</th>\n",
       "      <th>Age</th>\n",
       "      <th>SibSp</th>\n",
       "      <th>Parch</th>\n",
       "      <th>Fare</th>\n",
       "      <th>Cabin</th>\n",
       "      <th>Embarked_1</th>\n",
       "      <th>Embarked_2</th>\n",
       "      <th>Embarked_3</th>\n",
       "    </tr>\n",
       "  </thead>\n",
       "  <tbody>\n",
       "    <tr>\n",
       "      <th>0</th>\n",
       "      <td>0.841916</td>\n",
       "      <td>-0.743497</td>\n",
       "      <td>-0.559957</td>\n",
       "      <td>0.481288</td>\n",
       "      <td>-0.445</td>\n",
       "      <td>-0.503595</td>\n",
       "      <td>-0.355244</td>\n",
       "      <td>0.655011</td>\n",
       "      <td>-0.50977</td>\n",
       "      <td>-0.32204</td>\n",
       "    </tr>\n",
       "    <tr>\n",
       "      <th>1</th>\n",
       "      <td>-1.546098</td>\n",
       "      <td>1.344995</td>\n",
       "      <td>0.659292</td>\n",
       "      <td>0.481288</td>\n",
       "      <td>-0.445</td>\n",
       "      <td>0.734503</td>\n",
       "      <td>0.314031</td>\n",
       "      <td>-1.526692</td>\n",
       "      <td>1.96167</td>\n",
       "      <td>-0.32204</td>\n",
       "    </tr>\n",
       "    <tr>\n",
       "      <th>2</th>\n",
       "      <td>0.841916</td>\n",
       "      <td>1.344995</td>\n",
       "      <td>-0.255145</td>\n",
       "      <td>-0.479087</td>\n",
       "      <td>-0.445</td>\n",
       "      <td>-0.490544</td>\n",
       "      <td>-0.355244</td>\n",
       "      <td>0.655011</td>\n",
       "      <td>-0.50977</td>\n",
       "      <td>-0.32204</td>\n",
       "    </tr>\n",
       "    <tr>\n",
       "      <th>3</th>\n",
       "      <td>-1.546098</td>\n",
       "      <td>1.344995</td>\n",
       "      <td>0.430683</td>\n",
       "      <td>0.481288</td>\n",
       "      <td>-0.445</td>\n",
       "      <td>0.382925</td>\n",
       "      <td>0.990773</td>\n",
       "      <td>0.655011</td>\n",
       "      <td>-0.50977</td>\n",
       "      <td>-0.32204</td>\n",
       "    </tr>\n",
       "    <tr>\n",
       "      <th>4</th>\n",
       "      <td>0.841916</td>\n",
       "      <td>-0.743497</td>\n",
       "      <td>0.430683</td>\n",
       "      <td>-0.479087</td>\n",
       "      <td>-0.445</td>\n",
       "      <td>-0.488127</td>\n",
       "      <td>-0.355244</td>\n",
       "      <td>0.655011</td>\n",
       "      <td>-0.50977</td>\n",
       "      <td>-0.32204</td>\n",
       "    </tr>\n",
       "  </tbody>\n",
       "</table>\n",
       "</div>"
      ],
      "text/plain": [
       "     Pclass       Sex       Age     SibSp  Parch      Fare     Cabin  \\\n",
       "0  0.841916 -0.743497 -0.559957  0.481288 -0.445 -0.503595 -0.355244   \n",
       "1 -1.546098  1.344995  0.659292  0.481288 -0.445  0.734503  0.314031   \n",
       "2  0.841916  1.344995 -0.255145 -0.479087 -0.445 -0.490544 -0.355244   \n",
       "3 -1.546098  1.344995  0.430683  0.481288 -0.445  0.382925  0.990773   \n",
       "4  0.841916 -0.743497  0.430683 -0.479087 -0.445 -0.488127 -0.355244   \n",
       "\n",
       "   Embarked_1  Embarked_2  Embarked_3  \n",
       "0    0.655011    -0.50977    -0.32204  \n",
       "1   -1.526692     1.96167    -0.32204  \n",
       "2    0.655011    -0.50977    -0.32204  \n",
       "3    0.655011    -0.50977    -0.32204  \n",
       "4    0.655011    -0.50977    -0.32204  "
      ]
     },
     "execution_count": 41,
     "metadata": {},
     "output_type": "execute_result"
    }
   ],
   "source": [
    "titanic_z_score_df.head(5)"
   ]
  },
  {
   "cell_type": "code",
   "execution_count": 42,
   "metadata": {},
   "outputs": [
    {
     "data": {
      "text/html": [
       "<div>\n",
       "<style scoped>\n",
       "    .dataframe tbody tr th:only-of-type {\n",
       "        vertical-align: middle;\n",
       "    }\n",
       "\n",
       "    .dataframe tbody tr th {\n",
       "        vertical-align: top;\n",
       "    }\n",
       "\n",
       "    .dataframe thead th {\n",
       "        text-align: right;\n",
       "    }\n",
       "</style>\n",
       "<table border=\"1\" class=\"dataframe\">\n",
       "  <thead>\n",
       "    <tr style=\"text-align: right;\">\n",
       "      <th></th>\n",
       "      <th>Pclass</th>\n",
       "      <th>Sex</th>\n",
       "      <th>Age</th>\n",
       "      <th>SibSp</th>\n",
       "      <th>Parch</th>\n",
       "      <th>Fare</th>\n",
       "      <th>Cabin</th>\n",
       "      <th>Embarked_1</th>\n",
       "      <th>Embarked_2</th>\n",
       "      <th>Embarked_3</th>\n",
       "    </tr>\n",
       "  </thead>\n",
       "  <tbody>\n",
       "    <tr>\n",
       "      <th>0</th>\n",
       "      <td>1.0</td>\n",
       "      <td>0.0</td>\n",
       "      <td>0.273456</td>\n",
       "      <td>0.125</td>\n",
       "      <td>0.0</td>\n",
       "      <td>0.014151</td>\n",
       "      <td>0.226644</td>\n",
       "      <td>1.0</td>\n",
       "      <td>0.0</td>\n",
       "      <td>0.0</td>\n",
       "    </tr>\n",
       "    <tr>\n",
       "      <th>1</th>\n",
       "      <td>0.0</td>\n",
       "      <td>1.0</td>\n",
       "      <td>0.473882</td>\n",
       "      <td>0.125</td>\n",
       "      <td>0.0</td>\n",
       "      <td>0.139136</td>\n",
       "      <td>0.323450</td>\n",
       "      <td>0.0</td>\n",
       "      <td>1.0</td>\n",
       "      <td>0.0</td>\n",
       "    </tr>\n",
       "    <tr>\n",
       "      <th>2</th>\n",
       "      <td>1.0</td>\n",
       "      <td>1.0</td>\n",
       "      <td>0.323563</td>\n",
       "      <td>0.000</td>\n",
       "      <td>0.0</td>\n",
       "      <td>0.015469</td>\n",
       "      <td>0.226644</td>\n",
       "      <td>1.0</td>\n",
       "      <td>0.0</td>\n",
       "      <td>0.0</td>\n",
       "    </tr>\n",
       "    <tr>\n",
       "      <th>3</th>\n",
       "      <td>0.0</td>\n",
       "      <td>1.0</td>\n",
       "      <td>0.436302</td>\n",
       "      <td>0.125</td>\n",
       "      <td>0.0</td>\n",
       "      <td>0.103644</td>\n",
       "      <td>0.421336</td>\n",
       "      <td>1.0</td>\n",
       "      <td>0.0</td>\n",
       "      <td>0.0</td>\n",
       "    </tr>\n",
       "    <tr>\n",
       "      <th>4</th>\n",
       "      <td>1.0</td>\n",
       "      <td>0.0</td>\n",
       "      <td>0.436302</td>\n",
       "      <td>0.000</td>\n",
       "      <td>0.0</td>\n",
       "      <td>0.015713</td>\n",
       "      <td>0.226644</td>\n",
       "      <td>1.0</td>\n",
       "      <td>0.0</td>\n",
       "      <td>0.0</td>\n",
       "    </tr>\n",
       "  </tbody>\n",
       "</table>\n",
       "</div>"
      ],
      "text/plain": [
       "   Pclass  Sex       Age  SibSp  Parch      Fare     Cabin  Embarked_1  \\\n",
       "0     1.0  0.0  0.273456  0.125    0.0  0.014151  0.226644         1.0   \n",
       "1     0.0  1.0  0.473882  0.125    0.0  0.139136  0.323450         0.0   \n",
       "2     1.0  1.0  0.323563  0.000    0.0  0.015469  0.226644         1.0   \n",
       "3     0.0  1.0  0.436302  0.125    0.0  0.103644  0.421336         1.0   \n",
       "4     1.0  0.0  0.436302  0.000    0.0  0.015713  0.226644         1.0   \n",
       "\n",
       "   Embarked_2  Embarked_3  \n",
       "0         0.0         0.0  \n",
       "1         1.0         0.0  \n",
       "2         0.0         0.0  \n",
       "3         0.0         0.0  \n",
       "4         0.0         0.0  "
      ]
     },
     "execution_count": 42,
     "metadata": {},
     "output_type": "execute_result"
    }
   ],
   "source": [
    "titanic_min_max_df.head(5)"
   ]
  },
  {
   "cell_type": "code",
   "execution_count": 43,
   "metadata": {},
   "outputs": [
    {
     "data": {
      "text/html": [
       "<div>\n",
       "<style scoped>\n",
       "    .dataframe tbody tr th:only-of-type {\n",
       "        vertical-align: middle;\n",
       "    }\n",
       "\n",
       "    .dataframe tbody tr th {\n",
       "        vertical-align: top;\n",
       "    }\n",
       "\n",
       "    .dataframe thead th {\n",
       "        text-align: right;\n",
       "    }\n",
       "</style>\n",
       "<table border=\"1\" class=\"dataframe\">\n",
       "  <thead>\n",
       "    <tr style=\"text-align: right;\">\n",
       "      <th></th>\n",
       "      <th>Pclass</th>\n",
       "      <th>Sex</th>\n",
       "      <th>Age</th>\n",
       "      <th>SibSp</th>\n",
       "      <th>Parch</th>\n",
       "      <th>Fare</th>\n",
       "      <th>Cabin</th>\n",
       "      <th>Embarked_1</th>\n",
       "      <th>Embarked_2</th>\n",
       "      <th>Embarked_3</th>\n",
       "    </tr>\n",
       "  </thead>\n",
       "  <tbody>\n",
       "    <tr>\n",
       "      <th>0</th>\n",
       "      <td>0.128194</td>\n",
       "      <td>0.000000</td>\n",
       "      <td>0.940092</td>\n",
       "      <td>0.042731</td>\n",
       "      <td>0.0</td>\n",
       "      <td>0.309803</td>\n",
       "      <td>0.012813</td>\n",
       "      <td>0.042731</td>\n",
       "      <td>0.000000</td>\n",
       "      <td>0.0</td>\n",
       "    </tr>\n",
       "    <tr>\n",
       "      <th>1</th>\n",
       "      <td>0.012375</td>\n",
       "      <td>0.012375</td>\n",
       "      <td>0.470268</td>\n",
       "      <td>0.012375</td>\n",
       "      <td>0.0</td>\n",
       "      <td>0.882164</td>\n",
       "      <td>0.004750</td>\n",
       "      <td>0.000000</td>\n",
       "      <td>0.012375</td>\n",
       "      <td>0.0</td>\n",
       "    </tr>\n",
       "    <tr>\n",
       "      <th>2</th>\n",
       "      <td>0.109552</td>\n",
       "      <td>0.036517</td>\n",
       "      <td>0.949452</td>\n",
       "      <td>0.000000</td>\n",
       "      <td>0.0</td>\n",
       "      <td>0.289400</td>\n",
       "      <td>0.010950</td>\n",
       "      <td>0.036517</td>\n",
       "      <td>0.000000</td>\n",
       "      <td>0.0</td>\n",
       "    </tr>\n",
       "    <tr>\n",
       "      <th>3</th>\n",
       "      <td>0.015716</td>\n",
       "      <td>0.015716</td>\n",
       "      <td>0.550051</td>\n",
       "      <td>0.015716</td>\n",
       "      <td>0.0</td>\n",
       "      <td>0.834507</td>\n",
       "      <td>0.007367</td>\n",
       "      <td>0.015716</td>\n",
       "      <td>0.000000</td>\n",
       "      <td>0.0</td>\n",
       "    </tr>\n",
       "    <tr>\n",
       "      <th>4</th>\n",
       "      <td>0.083208</td>\n",
       "      <td>0.000000</td>\n",
       "      <td>0.970766</td>\n",
       "      <td>0.000000</td>\n",
       "      <td>0.0</td>\n",
       "      <td>0.223276</td>\n",
       "      <td>0.008317</td>\n",
       "      <td>0.027736</td>\n",
       "      <td>0.000000</td>\n",
       "      <td>0.0</td>\n",
       "    </tr>\n",
       "  </tbody>\n",
       "</table>\n",
       "</div>"
      ],
      "text/plain": [
       "     Pclass       Sex       Age     SibSp  Parch      Fare     Cabin  \\\n",
       "0  0.128194  0.000000  0.940092  0.042731    0.0  0.309803  0.012813   \n",
       "1  0.012375  0.012375  0.470268  0.012375    0.0  0.882164  0.004750   \n",
       "2  0.109552  0.036517  0.949452  0.000000    0.0  0.289400  0.010950   \n",
       "3  0.015716  0.015716  0.550051  0.015716    0.0  0.834507  0.007367   \n",
       "4  0.083208  0.000000  0.970766  0.000000    0.0  0.223276  0.008317   \n",
       "\n",
       "   Embarked_1  Embarked_2  Embarked_3  \n",
       "0    0.042731    0.000000         0.0  \n",
       "1    0.000000    0.012375         0.0  \n",
       "2    0.036517    0.000000         0.0  \n",
       "3    0.015716    0.000000         0.0  \n",
       "4    0.027736    0.000000         0.0  "
      ]
     },
     "execution_count": 43,
     "metadata": {},
     "output_type": "execute_result"
    }
   ],
   "source": [
    "titanic_normalize_df.head(5)"
   ]
  },
  {
   "cell_type": "code",
   "execution_count": 44,
   "metadata": {},
   "outputs": [
    {
     "data": {
      "text/plain": [
       "<matplotlib.axes._subplots.AxesSubplot at 0x1870fa7f358>"
      ]
     },
     "execution_count": 44,
     "metadata": {},
     "output_type": "execute_result"
    },
    {
     "data": {
      "image/png": "[encoded data removed]",
      "text/plain": [
       "<Figure size 432x288 with 1 Axes>"
      ]
     },
     "metadata": {},
     "output_type": "display_data"
    }
   ],
   "source": [
    "#注意：z-score,min-max这两种变换都是线性变换，不会改变分布形状\n",
    "titanic_min_max_df['Age'].plot(kind='hist')"
   ]
  },
  {
   "cell_type": "code",
   "execution_count": 45,
   "metadata": {},
   "outputs": [
    {
     "data": {
      "text/plain": [
       "<matplotlib.axes._subplots.AxesSubplot at 0x1870faf22b0>"
      ]
     },
     "execution_count": 45,
     "metadata": {},
     "output_type": "execute_result"
    },
    {
     "data": {
      "image/png": "[encoded data removed]",
      "text/plain": [
       "<Figure size 432x288 with 1 Axes>"
      ]
     },
     "metadata": {},
     "output_type": "display_data"
    }
   ],
   "source": [
    "titanic_z_score_df['Age'].plot(kind='hist')"
   ]
  },
  {
   "cell_type": "code",
   "execution_count": 46,
   "metadata": {},
   "outputs": [
    {
     "data": {
      "text/plain": [
       "<matplotlib.axes._subplots.AxesSubplot at 0x1870fb581d0>"
      ]
     },
     "execution_count": 46,
     "metadata": {},
     "output_type": "execute_result"
    },
    {
     "data": {
      "image/png": "[encoded data removed]",
      "text/plain": [
       "<Figure size 432x288 with 1 Axes>"
      ]
     },
     "metadata": {},
     "output_type": "display_data"
    }
   ],
   "source": [
    "#行归一化会改变\n",
    "titanic_normalize_df['Age'].plot(kind='hist')"
   ]
  },
  {
   "cell_type": "code",
   "execution_count": 47,
   "metadata": {},
   "outputs": [
    {
     "data": {
      "text/plain": [
       "<matplotlib.axes._subplots.AxesSubplot at 0x1870fbd3da0>"
      ]
     },
     "execution_count": 47,
     "metadata": {},
     "output_type": "execute_result"
    },
    {
     "data": {
      "image/png": "[encoded data removed]",
      "text/plain": [
       "<Figure size 432x288 with 1 Axes>"
      ]
     },
     "metadata": {},
     "output_type": "display_data"
    }
   ],
   "source": [
    "#pdf:标准正态分布的概率密度函数\n",
    "from scipy.stats import norm\n",
    "age_mean=features_df['Age'].mean()\n",
    "age_std=features_df['Age'].std()\n",
    "features_df['Age'].apply(lambda x:norm.pdf((x-age_mean)/age_std)).plot(kind='hist')"
   ]
  },
  {
   "cell_type": "code",
   "execution_count": 48,
   "metadata": {},
   "outputs": [
    {
     "data": {
      "text/plain": [
       "<matplotlib.axes._subplots.AxesSubplot at 0x1870fc53400>"
      ]
     },
     "execution_count": 48,
     "metadata": {},
     "output_type": "execute_result"
    },
    {
     "data": {
      "image/png": "[encoded data removed]",
      "text/plain": [
       "<Figure size 432x288 with 1 Axes>"
      ]
     },
     "metadata": {},
     "output_type": "display_data"
    }
   ],
   "source": [
    "#cdf:分布函数\n",
    "features_df['Age'].apply(lambda x:norm.cdf((x-age_mean)/age_std)).plot(kind='hist')"
   ]
  },
  {
   "cell_type": "code",
   "execution_count": 49,
   "metadata": {},
   "outputs": [
    {
     "data": {
      "text/plain": [
       "<matplotlib.axes._subplots.AxesSubplot at 0x1870fc3b198>"
      ]
     },
     "execution_count": 49,
     "metadata": {},
     "output_type": "execute_result"
    },
    {
     "data": {
      "image/png": "[encoded data removed]",
      "text/plain": [
       "<Figure size 432x288 with 1 Axes>"
      ]
     },
     "metadata": {},
     "output_type": "display_data"
    }
   ],
   "source": [
    "#log\n",
    "features_df['Age'].apply(lambda x:np.log1p(x)).plot(kind='hist')"
   ]
  },
  {
   "cell_type": "code",
   "execution_count": 50,
   "metadata": {},
   "outputs": [
    {
     "data": {
      "text/plain": [
       "(array([ 51.,  35.,  48., 274., 478., 210., 118.,  55.,  32.,   8.]),\n",
       " array([-0.97171828,  2.70253966,  6.37679759, 10.05105553, 13.72531346,\n",
       "        17.39957139, 21.07382933, 24.74808726, 28.42234519, 32.09660313,\n",
       "        35.77086106]),\n",
       " <a list of 10 Patch objects>)"
      ]
     },
     "execution_count": 50,
     "metadata": {},
     "output_type": "execute_result"
    },
    {
     "data": {
      "image/png": "[encoded data removed]",
      "text/plain": [
       "<Figure size 432x288 with 1 Axes>"
      ]
     },
     "metadata": {},
     "output_type": "display_data"
    }
   ],
   "source": [
    "#boxcox\n",
    "from scipy.stats import boxcox\n",
    "plt.hist(boxcox(features_df['Age'])[0])"
   ]
  },
  {
   "cell_type": "code",
   "execution_count": 51,
   "metadata": {},
   "outputs": [
    {
     "data": {
      "text/plain": [
       "0.7627222156380012"
      ]
     },
     "execution_count": 51,
     "metadata": {},
     "output_type": "execute_result"
    }
   ],
   "source": [
    "#最佳lambda\n",
    "boxcox(features_df['Age'])[1]"
   ]
  },
  {
   "cell_type": "markdown",
   "metadata": {},
   "source": [
    "### 三.选择基准模型\n",
    "（1）**目标**：本数据集是预测乘客是否存活，所以可以看做是分类任务；  \n",
    "（2）**量化目标**：选择合适的评估指标，这里我们可以选择f1；  \n",
    "（3）从分类模型中选择一个较优的模型作为基准模型，这是一个比较繁琐的工作；  "
   ]
  },
  {
   "cell_type": "code",
   "execution_count": 52,
   "metadata": {},
   "outputs": [
    {
     "data": {
      "text/plain": [
       "0.7862068965517242"
      ]
     },
     "execution_count": 52,
     "metadata": {},
     "output_type": "execute_result"
    }
   ],
   "source": [
    "data_x=StandardScaler().fit_transform(features_df[:891])\n",
    "#切分训练集测试集\n",
    "X_train,X_test, y_train, y_test =train_test_split(data_x,labels,test_size=0.2, random_state=42)\n",
    "#训练模型\n",
    "classifier=LogisticRegression()\n",
    "classifier.fit(X_train,y_train)\n",
    "#预测数据\n",
    "y_predict=classifier.predict(X_test)\n",
    "#查看检测指标\n",
    "f1_score=metrics.f1_score(y_test,y_predict)\n",
    "f1_score"
   ]
  },
  {
   "cell_type": "code",
   "execution_count": 53,
   "metadata": {},
   "outputs": [
    {
     "data": {
      "text/plain": [
       "(0.759262777574798, 0.016196297194678546)"
      ]
     },
     "execution_count": 53,
     "metadata": {},
     "output_type": "execute_result"
    }
   ],
   "source": [
    "#为了结果更加客观，可以做k-fold交叉验证，但会更耗时\n",
    "\n",
    "classifier=LogisticRegression()\n",
    "scores = cross_val_score(classifier, data_x, labels, scoring='f1', cv = 5)#注意：f1只是看正样本的f1,如果要看整体的用f1_macro,但这一般会使得f1偏高\n",
    "#查看均值与标准差,均值反映模型的预测能力，标准差可以反映模型的稳定性\n",
    "np.mean(scores),np.std(scores)"
   ]
  },
  {
   "cell_type": "code",
   "execution_count": 54,
   "metadata": {},
   "outputs": [
    {
     "data": {
      "text/plain": [
       "(0.7724798337990278, 0.052794300926641495)"
      ]
     },
     "execution_count": 54,
     "metadata": {},
     "output_type": "execute_result"
    }
   ],
   "source": [
    "#我们再看看另一种分类器\n",
    "classifier=GradientBoostingClassifier()\n",
    "scores = cross_val_score(classifier, features_df[:891], labels, scoring='f1', cv = 5)\n",
    "np.mean(scores),np.std(scores)"
   ]
  },
  {
   "cell_type": "markdown",
   "metadata": {},
   "source": [
    "#### 定位模型能力：方差与偏差\n",
    "可以参考下面图为我们的模型做定位：  \n",
    "![avatar](./source/方差与偏差.png)\n",
    "来源:https://blog.csdn.net/hertzcat/article/details/80035330"
   ]
  },
  {
   "cell_type": "markdown",
   "metadata": {},
   "source": [
    "#### 检查过/欠拟合情况\n",
    "过/欠拟合可以通过模型在训练集/验证集/测试集上的表现来评估，  \n",
    "（1）训练集/验证集/测试集效果都比较差，可以看作是欠拟合(除非训练数据真的是太差了)，这时可以增加模型的复杂度试一试；  \n",
    "（2）训练集的表现好，而验证集/测试集的表现差，一般就是过拟合（这也是经常会遇到的问题），可以下面的一些方式常识：  \n",
    "    2.1）降低模型复杂度：1.换更简单的模型，2.正则化技术  \n",
    "    2.2）增强训练数据  "
   ]
  },
  {
   "cell_type": "code",
   "execution_count": 55,
   "metadata": {},
   "outputs": [
    {
     "name": "stdout",
     "output_type": "stream",
     "text": [
      "train: 0.7630057803468208 \t test: 0.7862068965517242\n"
     ]
    }
   ],
   "source": [
    "#查看lr的训练集，测试集的情况\n",
    "classifier=LogisticRegression()\n",
    "classifier.fit(X_train,y_train)\n",
    "y_test_predict=classifier.predict(X_test)\n",
    "test_f1_score=metrics.f1_score(y_test,y_test_predict)\n",
    "\n",
    "y_train_predict=classifier.predict(X_train)\n",
    "train_f1_score=metrics.f1_score(y_train,y_train_predict)\n",
    "print('train:',train_f1_score,'\\t test:',test_f1_score)"
   ]
  },
  {
   "cell_type": "code",
   "execution_count": 56,
   "metadata": {},
   "outputs": [
    {
     "name": "stdout",
     "output_type": "stream",
     "text": [
      "train: 0.8641975308641976 \t test: 0.7826086956521738\n"
     ]
    }
   ],
   "source": [
    "#查看gbdt的训练集，测试集的情况\n",
    "classifier=GradientBoostingClassifier()\n",
    "classifier.fit(X_train,y_train)\n",
    "y_test_predict=classifier.predict(X_test)\n",
    "test_f1_score=metrics.f1_score(y_test,y_test_predict)\n",
    "\n",
    "y_train_predict=classifier.predict(X_train)\n",
    "train_f1_score=metrics.f1_score(y_train,y_train_predict)\n",
    "print('train:',train_f1_score,'\\t test:',test_f1_score)"
   ]
  },
  {
   "cell_type": "markdown",
   "metadata": {},
   "source": [
    "可以发现gbdt有点过拟合了，lr很稳定，然后我们可以看出模型过拟合/欠拟合与模型方差/偏差的一些关系：  \n",
    "（1）欠拟合模型往往偏差大（这里对应f1指标较小）  \n",
    "（2）过拟合模型往往方差较大（这里对应f1的标准差较大）  \n",
    "接下来可以通过降低gbdt中cart树数量的方式来降低模型复杂度：  "
   ]
  },
  {
   "cell_type": "code",
   "execution_count": 57,
   "metadata": {},
   "outputs": [
    {
     "data": {
      "text/plain": [
       "(0.7770062297307175, 0.04740066888740136)"
      ]
     },
     "execution_count": 57,
     "metadata": {},
     "output_type": "execute_result"
    }
   ],
   "source": [
    "classifier=GradientBoostingClassifier(n_estimators=80)#默认是100\n",
    "scores = cross_val_score(classifier, data_x, labels, scoring='f1', cv = 5)\n",
    "np.mean(scores),np.std(scores)"
   ]
  },
  {
   "cell_type": "code",
   "execution_count": 58,
   "metadata": {},
   "outputs": [
    {
     "name": "stdout",
     "output_type": "stream",
     "text": [
      "train: 0.8588957055214724 \t test: 0.7769784172661871\n"
     ]
    }
   ],
   "source": [
    "classifier=GradientBoostingClassifier(n_estimators=80)\n",
    "classifier.fit(X_train,y_train)\n",
    "y_test_predict=classifier.predict(X_test)\n",
    "test_f1_score=metrics.f1_score(y_test,y_test_predict)\n",
    "\n",
    "y_train_predict=classifier.predict(X_train)\n",
    "train_f1_score=metrics.f1_score(y_train,y_train_predict)\n",
    "print('train:',train_f1_score,'\\t test:',test_f1_score)"
   ]
  },
  {
   "cell_type": "markdown",
   "metadata": {},
   "source": [
    "### 四.优化\n",
    "对于建模的优化，可以自然的从三方面来考虑：  \n",
    "（1）特征优化：扩展特征，特征选择，特征转换...  \n",
    "（2）数据增强：过采样、根据数据特性造新数据、半监督学习...  \n",
    "（3）模型优化：超参优化、模型集成..."
   ]
  },
  {
   "cell_type": "markdown",
   "metadata": {},
   "source": [
    "#### 4.1.1 特征扩展：推理\n",
    "凭借自己对数据的理解构建有意义的特征，比如：  \n",
    "通过Cabin关联乘客的同行者的信息，根据前面的性别-存活率的热图，我们扩展这样的特征：是否有其他小孩(Age<=10), 是否有其他女性，是否有其他老人(age>=70),是否有其他青年男性（20<=Age<=50），以及当前cabin的人数"
   ]
  },
  {
   "cell_type": "code",
   "execution_count": 59,
   "metadata": {},
   "outputs": [],
   "source": [
    "extend_df=origin_features_df[['PassengerId','Age','Sex','Name','Cabin']]\n",
    "extend_df=extend_df[~extend_df['Cabin'].isnull()]"
   ]
  },
  {
   "cell_type": "code",
   "execution_count": 60,
   "metadata": {},
   "outputs": [],
   "source": [
    "extend_df2=extend_df[['Age','Name','Sex','Cabin']]\n",
    "extend_df2.columns=['Age2','Name2','Sex2','Cabin']"
   ]
  },
  {
   "cell_type": "code",
   "execution_count": 61,
   "metadata": {},
   "outputs": [],
   "source": [
    "merge_df=pd.merge(extend_df,extend_df2,on='Cabin',how='left')"
   ]
  },
  {
   "cell_type": "code",
   "execution_count": 62,
   "metadata": {},
   "outputs": [],
   "source": [
    "def check_has_other_child(name1,name2,age2):\n",
    "    if name1==name2:\n",
    "        return 0\n",
    "    else:\n",
    "        if age2<=10:\n",
    "            return 1\n",
    "        else:\n",
    "            return 0\n",
    "merge_df['Has_other_child']=merge_df.apply(lambda row:check_has_other_child(row['Name'],row['Name2'],row['Age2']),axis=1)"
   ]
  },
  {
   "cell_type": "code",
   "execution_count": 63,
   "metadata": {},
   "outputs": [],
   "source": [
    "def check_has_other_female(name1,name2,sex2):\n",
    "    if name1==name2:\n",
    "        return 0\n",
    "    else:\n",
    "        if sex2=='female':\n",
    "            return 1\n",
    "        else:\n",
    "            return 0\n",
    "merge_df['Has_other_female']=merge_df.apply(lambda row:check_has_other_female(row['Name'],row['Name2'],row['Sex2']),axis=1)"
   ]
  },
  {
   "cell_type": "code",
   "execution_count": 64,
   "metadata": {},
   "outputs": [],
   "source": [
    "def check_has_other_old(name1,name2,age2):\n",
    "    if name1==name2:\n",
    "        return 0\n",
    "    else:\n",
    "        if age2>=70:\n",
    "            return 1\n",
    "        else:\n",
    "            return 0\n",
    "merge_df['Has_other_old']=merge_df.apply(lambda row:check_has_other_old(row['Name'],row['Name2'],row['Age2']),axis=1)"
   ]
  },
  {
   "cell_type": "code",
   "execution_count": 65,
   "metadata": {},
   "outputs": [],
   "source": [
    "def check_has_young_male(name1,name2,sex2,age2):\n",
    "    if name1==name2:\n",
    "        return 0\n",
    "    else:\n",
    "        if sex2=='male' and age2>=20 and age2<=50:\n",
    "            return 1\n",
    "        else:\n",
    "            return 0\n",
    "merge_df['Has_other_young_male']=merge_df.apply(lambda row:check_has_young_male(row['Name'],row['Name2'],row['Sex2'],row['Age2']),axis=1)"
   ]
  },
  {
   "cell_type": "code",
   "execution_count": 66,
   "metadata": {},
   "outputs": [],
   "source": [
    "merge_df=merge_df[['PassengerId','Has_other_child','Has_other_female','Has_other_old','Has_other_young_male']]"
   ]
  },
  {
   "cell_type": "code",
   "execution_count": 67,
   "metadata": {},
   "outputs": [],
   "source": [
    "#去重\n",
    "gp_df=merge_df.groupby(by=['PassengerId']).agg({'Has_other_child':'max','Has_other_female':'max','Has_other_old':'max','Has_other_young_male':'max'}).reset_index()"
   ]
  },
  {
   "cell_type": "code",
   "execution_count": 68,
   "metadata": {},
   "outputs": [
    {
     "data": {
      "text/html": [
       "<div>\n",
       "<style scoped>\n",
       "    .dataframe tbody tr th:only-of-type {\n",
       "        vertical-align: middle;\n",
       "    }\n",
       "\n",
       "    .dataframe tbody tr th {\n",
       "        vertical-align: top;\n",
       "    }\n",
       "\n",
       "    .dataframe thead th {\n",
       "        text-align: right;\n",
       "    }\n",
       "</style>\n",
       "<table border=\"1\" class=\"dataframe\">\n",
       "  <thead>\n",
       "    <tr style=\"text-align: right;\">\n",
       "      <th></th>\n",
       "      <th>PassengerId</th>\n",
       "      <th>Has_other_child</th>\n",
       "      <th>Has_other_female</th>\n",
       "      <th>Has_other_old</th>\n",
       "      <th>Has_other_young_male</th>\n",
       "    </tr>\n",
       "  </thead>\n",
       "  <tbody>\n",
       "    <tr>\n",
       "      <th>0</th>\n",
       "      <td>2</td>\n",
       "      <td>0</td>\n",
       "      <td>0</td>\n",
       "      <td>0</td>\n",
       "      <td>1</td>\n",
       "    </tr>\n",
       "    <tr>\n",
       "      <th>1</th>\n",
       "      <td>4</td>\n",
       "      <td>0</td>\n",
       "      <td>0</td>\n",
       "      <td>0</td>\n",
       "      <td>1</td>\n",
       "    </tr>\n",
       "    <tr>\n",
       "      <th>2</th>\n",
       "      <td>7</td>\n",
       "      <td>0</td>\n",
       "      <td>0</td>\n",
       "      <td>0</td>\n",
       "      <td>0</td>\n",
       "    </tr>\n",
       "    <tr>\n",
       "      <th>3</th>\n",
       "      <td>11</td>\n",
       "      <td>1</td>\n",
       "      <td>1</td>\n",
       "      <td>0</td>\n",
       "      <td>0</td>\n",
       "    </tr>\n",
       "    <tr>\n",
       "      <th>4</th>\n",
       "      <td>12</td>\n",
       "      <td>0</td>\n",
       "      <td>0</td>\n",
       "      <td>0</td>\n",
       "      <td>0</td>\n",
       "    </tr>\n",
       "  </tbody>\n",
       "</table>\n",
       "</div>"
      ],
      "text/plain": [
       "   PassengerId  Has_other_child  Has_other_female  Has_other_old  \\\n",
       "0            2                0                 0              0   \n",
       "1            4                0                 0              0   \n",
       "2            7                0                 0              0   \n",
       "3           11                1                 1              0   \n",
       "4           12                0                 0              0   \n",
       "\n",
       "   Has_other_young_male  \n",
       "0                     1  \n",
       "1                     1  \n",
       "2                     0  \n",
       "3                     0  \n",
       "4                     0  "
      ]
     },
     "execution_count": 68,
     "metadata": {},
     "output_type": "execute_result"
    }
   ],
   "source": [
    "gp_df.head(5)"
   ]
  },
  {
   "cell_type": "code",
   "execution_count": 69,
   "metadata": {},
   "outputs": [],
   "source": [
    "extend_df=pd.merge(origin_features_df[['PassengerId']],gp_df,on='PassengerId',how='left')\n",
    "extend_df.fillna(0,inplace=True)"
   ]
  },
  {
   "cell_type": "code",
   "execution_count": 70,
   "metadata": {},
   "outputs": [
    {
     "data": {
      "text/html": [
       "<div>\n",
       "<style scoped>\n",
       "    .dataframe tbody tr th:only-of-type {\n",
       "        vertical-align: middle;\n",
       "    }\n",
       "\n",
       "    .dataframe tbody tr th {\n",
       "        vertical-align: top;\n",
       "    }\n",
       "\n",
       "    .dataframe thead th {\n",
       "        text-align: right;\n",
       "    }\n",
       "</style>\n",
       "<table border=\"1\" class=\"dataframe\">\n",
       "  <thead>\n",
       "    <tr style=\"text-align: right;\">\n",
       "      <th></th>\n",
       "      <th>PassengerId</th>\n",
       "      <th>Has_other_child</th>\n",
       "      <th>Has_other_female</th>\n",
       "      <th>Has_other_old</th>\n",
       "      <th>Has_other_young_male</th>\n",
       "    </tr>\n",
       "  </thead>\n",
       "  <tbody>\n",
       "    <tr>\n",
       "      <th>0</th>\n",
       "      <td>1</td>\n",
       "      <td>0.0</td>\n",
       "      <td>0.0</td>\n",
       "      <td>0.0</td>\n",
       "      <td>0.0</td>\n",
       "    </tr>\n",
       "    <tr>\n",
       "      <th>1</th>\n",
       "      <td>2</td>\n",
       "      <td>0.0</td>\n",
       "      <td>0.0</td>\n",
       "      <td>0.0</td>\n",
       "      <td>1.0</td>\n",
       "    </tr>\n",
       "    <tr>\n",
       "      <th>2</th>\n",
       "      <td>3</td>\n",
       "      <td>0.0</td>\n",
       "      <td>0.0</td>\n",
       "      <td>0.0</td>\n",
       "      <td>0.0</td>\n",
       "    </tr>\n",
       "    <tr>\n",
       "      <th>3</th>\n",
       "      <td>4</td>\n",
       "      <td>0.0</td>\n",
       "      <td>0.0</td>\n",
       "      <td>0.0</td>\n",
       "      <td>1.0</td>\n",
       "    </tr>\n",
       "    <tr>\n",
       "      <th>4</th>\n",
       "      <td>5</td>\n",
       "      <td>0.0</td>\n",
       "      <td>0.0</td>\n",
       "      <td>0.0</td>\n",
       "      <td>0.0</td>\n",
       "    </tr>\n",
       "  </tbody>\n",
       "</table>\n",
       "</div>"
      ],
      "text/plain": [
       "   PassengerId  Has_other_child  Has_other_female  Has_other_old  \\\n",
       "0            1              0.0               0.0            0.0   \n",
       "1            2              0.0               0.0            0.0   \n",
       "2            3              0.0               0.0            0.0   \n",
       "3            4              0.0               0.0            0.0   \n",
       "4            5              0.0               0.0            0.0   \n",
       "\n",
       "   Has_other_young_male  \n",
       "0                   0.0  \n",
       "1                   1.0  \n",
       "2                   0.0  \n",
       "3                   1.0  \n",
       "4                   0.0  "
      ]
     },
     "execution_count": 70,
     "metadata": {},
     "output_type": "execute_result"
    }
   ],
   "source": [
    "extend_df.head(5)"
   ]
  },
  {
   "cell_type": "code",
   "execution_count": 71,
   "metadata": {},
   "outputs": [],
   "source": [
    "del extend_df['PassengerId']\n",
    "features_df=pd.concat([features_df,extend_df],axis=1)"
   ]
  },
  {
   "cell_type": "code",
   "execution_count": 72,
   "metadata": {},
   "outputs": [
    {
     "data": {
      "text/html": [
       "<div>\n",
       "<style scoped>\n",
       "    .dataframe tbody tr th:only-of-type {\n",
       "        vertical-align: middle;\n",
       "    }\n",
       "\n",
       "    .dataframe tbody tr th {\n",
       "        vertical-align: top;\n",
       "    }\n",
       "\n",
       "    .dataframe thead th {\n",
       "        text-align: right;\n",
       "    }\n",
       "</style>\n",
       "<table border=\"1\" class=\"dataframe\">\n",
       "  <thead>\n",
       "    <tr style=\"text-align: right;\">\n",
       "      <th></th>\n",
       "      <th>Pclass</th>\n",
       "      <th>Sex</th>\n",
       "      <th>Age</th>\n",
       "      <th>SibSp</th>\n",
       "      <th>Parch</th>\n",
       "      <th>Fare</th>\n",
       "      <th>Cabin</th>\n",
       "      <th>Embarked_1</th>\n",
       "      <th>Embarked_2</th>\n",
       "      <th>Embarked_3</th>\n",
       "      <th>Has_other_child</th>\n",
       "      <th>Has_other_female</th>\n",
       "      <th>Has_other_old</th>\n",
       "      <th>Has_other_young_male</th>\n",
       "    </tr>\n",
       "  </thead>\n",
       "  <tbody>\n",
       "    <tr>\n",
       "      <th>0</th>\n",
       "      <td>3</td>\n",
       "      <td>0</td>\n",
       "      <td>22.0</td>\n",
       "      <td>1</td>\n",
       "      <td>0</td>\n",
       "      <td>7.2500</td>\n",
       "      <td>0.299854</td>\n",
       "      <td>1</td>\n",
       "      <td>0</td>\n",
       "      <td>0</td>\n",
       "      <td>0.0</td>\n",
       "      <td>0.0</td>\n",
       "      <td>0.0</td>\n",
       "      <td>0.0</td>\n",
       "    </tr>\n",
       "    <tr>\n",
       "      <th>1</th>\n",
       "      <td>1</td>\n",
       "      <td>1</td>\n",
       "      <td>38.0</td>\n",
       "      <td>1</td>\n",
       "      <td>0</td>\n",
       "      <td>71.2833</td>\n",
       "      <td>0.383838</td>\n",
       "      <td>0</td>\n",
       "      <td>1</td>\n",
       "      <td>0</td>\n",
       "      <td>0.0</td>\n",
       "      <td>0.0</td>\n",
       "      <td>0.0</td>\n",
       "      <td>1.0</td>\n",
       "    </tr>\n",
       "    <tr>\n",
       "      <th>2</th>\n",
       "      <td>3</td>\n",
       "      <td>1</td>\n",
       "      <td>26.0</td>\n",
       "      <td>0</td>\n",
       "      <td>0</td>\n",
       "      <td>7.9250</td>\n",
       "      <td>0.299854</td>\n",
       "      <td>1</td>\n",
       "      <td>0</td>\n",
       "      <td>0</td>\n",
       "      <td>0.0</td>\n",
       "      <td>0.0</td>\n",
       "      <td>0.0</td>\n",
       "      <td>0.0</td>\n",
       "    </tr>\n",
       "    <tr>\n",
       "      <th>3</th>\n",
       "      <td>1</td>\n",
       "      <td>1</td>\n",
       "      <td>35.0</td>\n",
       "      <td>1</td>\n",
       "      <td>0</td>\n",
       "      <td>53.1000</td>\n",
       "      <td>0.468759</td>\n",
       "      <td>1</td>\n",
       "      <td>0</td>\n",
       "      <td>0</td>\n",
       "      <td>0.0</td>\n",
       "      <td>0.0</td>\n",
       "      <td>0.0</td>\n",
       "      <td>1.0</td>\n",
       "    </tr>\n",
       "    <tr>\n",
       "      <th>4</th>\n",
       "      <td>3</td>\n",
       "      <td>0</td>\n",
       "      <td>35.0</td>\n",
       "      <td>0</td>\n",
       "      <td>0</td>\n",
       "      <td>8.0500</td>\n",
       "      <td>0.299854</td>\n",
       "      <td>1</td>\n",
       "      <td>0</td>\n",
       "      <td>0</td>\n",
       "      <td>0.0</td>\n",
       "      <td>0.0</td>\n",
       "      <td>0.0</td>\n",
       "      <td>0.0</td>\n",
       "    </tr>\n",
       "  </tbody>\n",
       "</table>\n",
       "</div>"
      ],
      "text/plain": [
       "   Pclass  Sex   Age  SibSp  Parch     Fare     Cabin  Embarked_1  Embarked_2  \\\n",
       "0       3    0  22.0      1      0   7.2500  0.299854           1           0   \n",
       "1       1    1  38.0      1      0  71.2833  0.383838           0           1   \n",
       "2       3    1  26.0      0      0   7.9250  0.299854           1           0   \n",
       "3       1    1  35.0      1      0  53.1000  0.468759           1           0   \n",
       "4       3    0  35.0      0      0   8.0500  0.299854           1           0   \n",
       "\n",
       "   Embarked_3  Has_other_child  Has_other_female  Has_other_old  \\\n",
       "0           0              0.0               0.0            0.0   \n",
       "1           0              0.0               0.0            0.0   \n",
       "2           0              0.0               0.0            0.0   \n",
       "3           0              0.0               0.0            0.0   \n",
       "4           0              0.0               0.0            0.0   \n",
       "\n",
       "   Has_other_young_male  \n",
       "0                   0.0  \n",
       "1                   1.0  \n",
       "2                   0.0  \n",
       "3                   1.0  \n",
       "4                   0.0  "
      ]
     },
     "execution_count": 72,
     "metadata": {},
     "output_type": "execute_result"
    }
   ],
   "source": [
    "features_df.head(5)"
   ]
  },
  {
   "cell_type": "code",
   "execution_count": 73,
   "metadata": {},
   "outputs": [
    {
     "data": {
      "text/plain": [
       "(0.7769165138086762, 0.045459742819809204)"
      ]
     },
     "execution_count": 73,
     "metadata": {},
     "output_type": "execute_result"
    }
   ],
   "source": [
    "#检查效果\n",
    "classifier=GradientBoostingClassifier()\n",
    "scores = cross_val_score(classifier, features_df[:891], labels, scoring='f1', cv = 5)\n",
    "np.mean(scores),np.std(scores)"
   ]
  },
  {
   "cell_type": "markdown",
   "metadata": {},
   "source": [
    "#### 4.1.1 特征扩展：推理\n",
    "之前我们删掉了Name，其实Name中的姓可以反应一些特征，比如Mrs可以放映出该乘客已经结婚，Miss表示未婚小姐姐，我们将其提取出来，另外SibSp表示乘客兄弟姐妹/配偶的个数，而Parch表示乘客父母/孩子的个数，可以简单相加表示他们的家庭成员多少，越多的存活率可能越高...  \n",
    "\n",
    "更多:https://www.kaggle.com/gunesevitan/advanced-feature-engineering-tutorial-with-titanic"
   ]
  },
  {
   "cell_type": "code",
   "execution_count": 74,
   "metadata": {},
   "outputs": [],
   "source": [
    "features_df['family_size']=features_df['SibSp']+features_df['Parch']+1"
   ]
  },
  {
   "cell_type": "code",
   "execution_count": 75,
   "metadata": {},
   "outputs": [
    {
     "data": {
      "text/plain": [
       "<matplotlib.axes._subplots.AxesSubplot at 0x1870fdab2b0>"
      ]
     },
     "execution_count": 75,
     "metadata": {},
     "output_type": "execute_result"
    },
    {
     "data": {
      "image/png": "[encoded data removed]",
      "text/plain": [
       "<Figure size 432x288 with 1 Axes>"
      ]
     },
     "metadata": {},
     "output_type": "display_data"
    }
   ],
   "source": [
    "#统计存活率分布\n",
    "show_df=features_df[:891]\n",
    "show_df['Survived']=labels\n",
    "show_df.groupby('family_size')['Survived'].mean().plot(kind='bar')"
   ]
  },
  {
   "cell_type": "code",
   "execution_count": 76,
   "metadata": {},
   "outputs": [
    {
     "data": {
      "text/plain": [
       "<matplotlib.axes._subplots.AxesSubplot at 0x1870fe1d080>"
      ]
     },
     "execution_count": 76,
     "metadata": {},
     "output_type": "execute_result"
    },
    {
     "data": {
      "image/png": "[encoded data removed]",
      "text/plain": [
       "<Figure size 432x288 with 1 Axes>"
      ]
     },
     "metadata": {},
     "output_type": "display_data"
    }
   ],
   "source": [
    "show_df.groupby('family_size')['Survived'].count().plot(kind='bar')"
   ]
  },
  {
   "cell_type": "code",
   "execution_count": 77,
   "metadata": {},
   "outputs": [
    {
     "data": {
      "text/plain": [
       " Mr              757\n",
       " Miss            260\n",
       " Mrs             197\n",
       " Master           61\n",
       " Dr                8\n",
       " Rev               8\n",
       " Col               4\n",
       " Mlle              2\n",
       " Ms                2\n",
       " Major             2\n",
       " Mme               1\n",
       " Sir               1\n",
       " Jonkheer          1\n",
       " the Countess      1\n",
       " Capt              1\n",
       " Dona              1\n",
       " Lady              1\n",
       " Don               1\n",
       "Name: Name, dtype: int64"
      ]
     },
     "execution_count": 77,
     "metadata": {},
     "output_type": "execute_result"
    }
   ],
   "source": [
    "#提取姓名中的title\n",
    "origin_features_df['Name'].apply(lambda name:name.split(',')[1].split('.')[0]).value_counts()"
   ]
  },
  {
   "cell_type": "code",
   "execution_count": 78,
   "metadata": {},
   "outputs": [],
   "source": [
    "titles=['Mr','Miss','Mrs','Master']\n",
    "def extract_title(name):\n",
    "    for title in titles:\n",
    "        if title in name:\n",
    "            return title\n",
    "    return 'Other'\n",
    "features_df['name_title']=origin_features_df['Name'].apply(extract_title)"
   ]
  },
  {
   "cell_type": "code",
   "execution_count": 79,
   "metadata": {},
   "outputs": [],
   "source": [
    "features_df=pd.get_dummies(features_df,columns=['name_title'])"
   ]
  },
  {
   "cell_type": "code",
   "execution_count": 80,
   "metadata": {},
   "outputs": [
    {
     "data": {
      "text/html": [
       "<div>\n",
       "<style scoped>\n",
       "    .dataframe tbody tr th:only-of-type {\n",
       "        vertical-align: middle;\n",
       "    }\n",
       "\n",
       "    .dataframe tbody tr th {\n",
       "        vertical-align: top;\n",
       "    }\n",
       "\n",
       "    .dataframe thead th {\n",
       "        text-align: right;\n",
       "    }\n",
       "</style>\n",
       "<table border=\"1\" class=\"dataframe\">\n",
       "  <thead>\n",
       "    <tr style=\"text-align: right;\">\n",
       "      <th></th>\n",
       "      <th>Pclass</th>\n",
       "      <th>Sex</th>\n",
       "      <th>Age</th>\n",
       "      <th>SibSp</th>\n",
       "      <th>Parch</th>\n",
       "      <th>Fare</th>\n",
       "      <th>Cabin</th>\n",
       "      <th>Embarked_1</th>\n",
       "      <th>Embarked_2</th>\n",
       "      <th>Embarked_3</th>\n",
       "      <th>Has_other_child</th>\n",
       "      <th>Has_other_female</th>\n",
       "      <th>Has_other_old</th>\n",
       "      <th>Has_other_young_male</th>\n",
       "      <th>family_size</th>\n",
       "      <th>name_title_Master</th>\n",
       "      <th>name_title_Miss</th>\n",
       "      <th>name_title_Mr</th>\n",
       "      <th>name_title_Other</th>\n",
       "    </tr>\n",
       "  </thead>\n",
       "  <tbody>\n",
       "    <tr>\n",
       "      <th>0</th>\n",
       "      <td>3</td>\n",
       "      <td>0</td>\n",
       "      <td>22.0</td>\n",
       "      <td>1</td>\n",
       "      <td>0</td>\n",
       "      <td>7.2500</td>\n",
       "      <td>0.299854</td>\n",
       "      <td>1</td>\n",
       "      <td>0</td>\n",
       "      <td>0</td>\n",
       "      <td>0.0</td>\n",
       "      <td>0.0</td>\n",
       "      <td>0.0</td>\n",
       "      <td>0.0</td>\n",
       "      <td>2</td>\n",
       "      <td>0</td>\n",
       "      <td>0</td>\n",
       "      <td>1</td>\n",
       "      <td>0</td>\n",
       "    </tr>\n",
       "    <tr>\n",
       "      <th>1</th>\n",
       "      <td>1</td>\n",
       "      <td>1</td>\n",
       "      <td>38.0</td>\n",
       "      <td>1</td>\n",
       "      <td>0</td>\n",
       "      <td>71.2833</td>\n",
       "      <td>0.383838</td>\n",
       "      <td>0</td>\n",
       "      <td>1</td>\n",
       "      <td>0</td>\n",
       "      <td>0.0</td>\n",
       "      <td>0.0</td>\n",
       "      <td>0.0</td>\n",
       "      <td>1.0</td>\n",
       "      <td>2</td>\n",
       "      <td>0</td>\n",
       "      <td>0</td>\n",
       "      <td>1</td>\n",
       "      <td>0</td>\n",
       "    </tr>\n",
       "    <tr>\n",
       "      <th>2</th>\n",
       "      <td>3</td>\n",
       "      <td>1</td>\n",
       "      <td>26.0</td>\n",
       "      <td>0</td>\n",
       "      <td>0</td>\n",
       "      <td>7.9250</td>\n",
       "      <td>0.299854</td>\n",
       "      <td>1</td>\n",
       "      <td>0</td>\n",
       "      <td>0</td>\n",
       "      <td>0.0</td>\n",
       "      <td>0.0</td>\n",
       "      <td>0.0</td>\n",
       "      <td>0.0</td>\n",
       "      <td>1</td>\n",
       "      <td>0</td>\n",
       "      <td>1</td>\n",
       "      <td>0</td>\n",
       "      <td>0</td>\n",
       "    </tr>\n",
       "    <tr>\n",
       "      <th>3</th>\n",
       "      <td>1</td>\n",
       "      <td>1</td>\n",
       "      <td>35.0</td>\n",
       "      <td>1</td>\n",
       "      <td>0</td>\n",
       "      <td>53.1000</td>\n",
       "      <td>0.468759</td>\n",
       "      <td>1</td>\n",
       "      <td>0</td>\n",
       "      <td>0</td>\n",
       "      <td>0.0</td>\n",
       "      <td>0.0</td>\n",
       "      <td>0.0</td>\n",
       "      <td>1.0</td>\n",
       "      <td>2</td>\n",
       "      <td>0</td>\n",
       "      <td>0</td>\n",
       "      <td>1</td>\n",
       "      <td>0</td>\n",
       "    </tr>\n",
       "    <tr>\n",
       "      <th>4</th>\n",
       "      <td>3</td>\n",
       "      <td>0</td>\n",
       "      <td>35.0</td>\n",
       "      <td>0</td>\n",
       "      <td>0</td>\n",
       "      <td>8.0500</td>\n",
       "      <td>0.299854</td>\n",
       "      <td>1</td>\n",
       "      <td>0</td>\n",
       "      <td>0</td>\n",
       "      <td>0.0</td>\n",
       "      <td>0.0</td>\n",
       "      <td>0.0</td>\n",
       "      <td>0.0</td>\n",
       "      <td>1</td>\n",
       "      <td>0</td>\n",
       "      <td>0</td>\n",
       "      <td>1</td>\n",
       "      <td>0</td>\n",
       "    </tr>\n",
       "  </tbody>\n",
       "</table>\n",
       "</div>"
      ],
      "text/plain": [
       "   Pclass  Sex   Age  SibSp  Parch     Fare     Cabin  Embarked_1  Embarked_2  \\\n",
       "0       3    0  22.0      1      0   7.2500  0.299854           1           0   \n",
       "1       1    1  38.0      1      0  71.2833  0.383838           0           1   \n",
       "2       3    1  26.0      0      0   7.9250  0.299854           1           0   \n",
       "3       1    1  35.0      1      0  53.1000  0.468759           1           0   \n",
       "4       3    0  35.0      0      0   8.0500  0.299854           1           0   \n",
       "\n",
       "   Embarked_3  Has_other_child  Has_other_female  Has_other_old  \\\n",
       "0           0              0.0               0.0            0.0   \n",
       "1           0              0.0               0.0            0.0   \n",
       "2           0              0.0               0.0            0.0   \n",
       "3           0              0.0               0.0            0.0   \n",
       "4           0              0.0               0.0            0.0   \n",
       "\n",
       "   Has_other_young_male  family_size  name_title_Master  name_title_Miss  \\\n",
       "0                   0.0            2                  0                0   \n",
       "1                   1.0            2                  0                0   \n",
       "2                   0.0            1                  0                1   \n",
       "3                   1.0            2                  0                0   \n",
       "4                   0.0            1                  0                0   \n",
       "\n",
       "   name_title_Mr  name_title_Other  \n",
       "0              1                 0  \n",
       "1              1                 0  \n",
       "2              0                 0  \n",
       "3              1                 0  \n",
       "4              1                 0  "
      ]
     },
     "execution_count": 80,
     "metadata": {},
     "output_type": "execute_result"
    }
   ],
   "source": [
    "features_df.head()"
   ]
  },
  {
   "cell_type": "code",
   "execution_count": 81,
   "metadata": {},
   "outputs": [
    {
     "data": {
      "text/plain": [
       "(0.7863861150429007, 0.045106415307000484)"
      ]
     },
     "execution_count": 81,
     "metadata": {},
     "output_type": "execute_result"
    }
   ],
   "source": [
    "#检查效果\n",
    "classifier=GradientBoostingClassifier()\n",
    "scores = cross_val_score(classifier, features_df[:891], labels, scoring='f1', cv = 5)\n",
    "np.mean(scores),np.std(scores)"
   ]
  },
  {
   "cell_type": "markdown",
   "metadata": {},
   "source": [
    "#### 4.1.1 扩展特征：添加聚类标签\n",
    "聚类标签可以看作是对目前样本的做的特征映射，将高维空间相似的特征映射到相同的标签；  \n",
    "这里演示用kmean生成聚类标签，利用calinski_harabaz选择较优的k，  \n",
    "更多：https://blog.csdn.net/u010159842/article/details/78624135"
   ]
  },
  {
   "cell_type": "code",
   "execution_count": 82,
   "metadata": {},
   "outputs": [],
   "source": [
    "cluster_data_np=StandardScaler().fit_transform(features_df)"
   ]
  },
  {
   "cell_type": "code",
   "execution_count": 83,
   "metadata": {},
   "outputs": [
    {
     "data": {
      "text/plain": [
       "Text(0,0.5,'distortion degree')"
      ]
     },
     "execution_count": 83,
     "metadata": {},
     "output_type": "execute_result"
    },
    {
     "data": {
      "image/png": "[encoded data removed]",
      "text/plain": [
       "<Figure size 432x288 with 1 Axes>"
      ]
     },
     "metadata": {},
     "output_type": "display_data"
    }
   ],
   "source": [
    "K=range(2,20)\n",
    "calinski_harabaz_scores=[]\n",
    "for k in K:\n",
    "    kmeans=KMeans(n_clusters=k)\n",
    "    kmeans.fit(cluster_data_np)\n",
    "    calinski_harabaz_scores.append(metrics.calinski_harabaz_score(cluster_data_np, kmeans.predict(cluster_data_np)))\n",
    "plt.plot(K,calinski_harabaz_scores,'bx-')\n",
    "plt.xlabel('k')\n",
    "plt.ylabel(u'distortion degree')"
   ]
  },
  {
   "cell_type": "code",
   "execution_count": 84,
   "metadata": {},
   "outputs": [],
   "source": [
    "kmeans=KMeans(n_clusters=11)\n",
    "kmeans.fit(cluster_data_np)\n",
    "ext_cluster_fea_df=copy.deepcopy(features_df)\n",
    "ext_cluster_fea_df['cluster_factor']=kmeans.predict(cluster_data_np)"
   ]
  },
  {
   "cell_type": "code",
   "execution_count": 85,
   "metadata": {},
   "outputs": [],
   "source": [
    "ext_cluster_fea_dummy_df = pd.get_dummies(ext_cluster_fea_df,columns=['cluster_factor'])"
   ]
  },
  {
   "cell_type": "code",
   "execution_count": 86,
   "metadata": {},
   "outputs": [
    {
     "data": {
      "text/plain": [
       "(0.7936541563086215, 0.0502121054231251)"
      ]
     },
     "execution_count": 86,
     "metadata": {},
     "output_type": "execute_result"
    }
   ],
   "source": [
    "#检查效果\n",
    "classifier=GradientBoostingClassifier()\n",
    "scores = cross_val_score(classifier, ext_cluster_fea_dummy_df[:891], labels, scoring='f1', cv = 5)\n",
    "np.mean(scores),np.std(scores)"
   ]
  },
  {
   "cell_type": "markdown",
   "metadata": {},
   "source": [
    "不过貌似这样选择的k做的聚类因子未必是最好的....可以多尝试几种..."
   ]
  },
  {
   "cell_type": "markdown",
   "metadata": {},
   "source": [
    "#### 4.1.1  扩展特征：数值特征\n",
    "对数值特征的扩展，可以考虑：  \n",
    "（1）连续值分箱：某些特征分箱可能可以体现不一样的意义...  \n",
    "（2）log变换等...改变原始数据的分布特性...  \n",
    "（3）无脑构造多项式/交互特征：$[a,b]->[1,a,b,a^2,b^2,ab]$  \n",
    "接下来试一试..."
   ]
  },
  {
   "cell_type": "code",
   "execution_count": 87,
   "metadata": {},
   "outputs": [],
   "source": [
    "ext_fea_df=copy.deepcopy(ext_cluster_fea_dummy_df)\n",
    "ext_fea_df['Age_bins']=pd.cut(ext_fea_df['Age'],bins=10,labels=False)#对age分箱\n",
    "ext_fea_df['Fare_bins']=pd.cut(ext_fea_df['Fare'],bins=10,labels=False)#对Fare分箱\n",
    "ext_fea_df['Age_log']=ext_fea_df['Age'].apply(lambda x:np.log1p(x))#log变换\n",
    "ext_fea_df['Age_log_cdf']=ext_fea_df['Age_log'].apply(lambda x:norm.cdf((x-ext_fea_df['Age_log'].mean())/ext_fea_df['Age_log'].std()))#cdf变换"
   ]
  },
  {
   "cell_type": "code",
   "execution_count": 88,
   "metadata": {},
   "outputs": [
    {
     "data": {
      "text/plain": [
       "(0.781605275854118, 0.028909134651025126)"
      ]
     },
     "execution_count": 88,
     "metadata": {},
     "output_type": "execute_result"
    }
   ],
   "source": [
    "#lr\n",
    "ext_fea_np=StandardScaler().fit_transform(ext_fea_df[:891])\n",
    "classifier=LogisticRegression()\n",
    "scores = cross_val_score(classifier, ext_fea_np, labels, scoring='f1', cv = 5)\n",
    "np.mean(scores),np.std(scores)"
   ]
  },
  {
   "cell_type": "code",
   "execution_count": 89,
   "metadata": {},
   "outputs": [
    {
     "data": {
      "text/plain": [
       "(0.7936541563086215, 0.0502121054231251)"
      ]
     },
     "execution_count": 89,
     "metadata": {},
     "output_type": "execute_result"
    }
   ],
   "source": [
    "#gbdt\n",
    "classifier=GradientBoostingClassifier()\n",
    "scores = cross_val_score(classifier, ext_fea_np, labels, scoring='f1', cv = 5)\n",
    "np.mean(scores),np.std(scores)"
   ]
  },
  {
   "cell_type": "code",
   "execution_count": 90,
   "metadata": {},
   "outputs": [],
   "source": [
    "#构造交互特征：一般来说选择0/1类型的特征来构造更make sense\n",
    "poly=PolynomialFeatures(degree=2,include_bias=False,interaction_only=False)#无脑多项式转换\n",
    "poly_fea_np=poly.fit_transform(ext_fea_df)#这里是numpy类型\n",
    "poly_fea_df=pd.DataFrame(poly_fea_np,columns=poly.get_feature_names())"
   ]
  },
  {
   "cell_type": "markdown",
   "metadata": {},
   "source": [
    "**注意：构造多项式特征慎用，它以$O(n^2)$增涨特征量，如果原始有1000个特征，变换后会有100W个特征...**"
   ]
  },
  {
   "cell_type": "code",
   "execution_count": 91,
   "metadata": {},
   "outputs": [
    {
     "data": {
      "text/html": [
       "<div>\n",
       "<style scoped>\n",
       "    .dataframe tbody tr th:only-of-type {\n",
       "        vertical-align: middle;\n",
       "    }\n",
       "\n",
       "    .dataframe tbody tr th {\n",
       "        vertical-align: top;\n",
       "    }\n",
       "\n",
       "    .dataframe thead th {\n",
       "        text-align: right;\n",
       "    }\n",
       "</style>\n",
       "<table border=\"1\" class=\"dataframe\">\n",
       "  <thead>\n",
       "    <tr style=\"text-align: right;\">\n",
       "      <th></th>\n",
       "      <th>x0</th>\n",
       "      <th>x1</th>\n",
       "      <th>x2</th>\n",
       "      <th>x3</th>\n",
       "      <th>x4</th>\n",
       "      <th>x5</th>\n",
       "      <th>x6</th>\n",
       "      <th>x7</th>\n",
       "      <th>x8</th>\n",
       "      <th>x9</th>\n",
       "      <th>...</th>\n",
       "      <th>x30^2</th>\n",
       "      <th>x30 x31</th>\n",
       "      <th>x30 x32</th>\n",
       "      <th>x30 x33</th>\n",
       "      <th>x31^2</th>\n",
       "      <th>x31 x32</th>\n",
       "      <th>x31 x33</th>\n",
       "      <th>x32^2</th>\n",
       "      <th>x32 x33</th>\n",
       "      <th>x33^2</th>\n",
       "    </tr>\n",
       "  </thead>\n",
       "  <tbody>\n",
       "    <tr>\n",
       "      <th>0</th>\n",
       "      <td>3.0</td>\n",
       "      <td>0.0</td>\n",
       "      <td>22.0</td>\n",
       "      <td>1.0</td>\n",
       "      <td>0.0</td>\n",
       "      <td>7.2500</td>\n",
       "      <td>0.299854</td>\n",
       "      <td>1.0</td>\n",
       "      <td>0.0</td>\n",
       "      <td>0.0</td>\n",
       "      <td>...</td>\n",
       "      <td>4.0</td>\n",
       "      <td>0.0</td>\n",
       "      <td>6.270988</td>\n",
       "      <td>0.808603</td>\n",
       "      <td>0.0</td>\n",
       "      <td>0.000000</td>\n",
       "      <td>0.000000</td>\n",
       "      <td>9.831324</td>\n",
       "      <td>1.267685</td>\n",
       "      <td>0.163460</td>\n",
       "    </tr>\n",
       "    <tr>\n",
       "      <th>1</th>\n",
       "      <td>1.0</td>\n",
       "      <td>1.0</td>\n",
       "      <td>38.0</td>\n",
       "      <td>1.0</td>\n",
       "      <td>0.0</td>\n",
       "      <td>71.2833</td>\n",
       "      <td>0.383838</td>\n",
       "      <td>0.0</td>\n",
       "      <td>1.0</td>\n",
       "      <td>0.0</td>\n",
       "      <td>...</td>\n",
       "      <td>16.0</td>\n",
       "      <td>4.0</td>\n",
       "      <td>14.654247</td>\n",
       "      <td>2.942756</td>\n",
       "      <td>1.0</td>\n",
       "      <td>3.663562</td>\n",
       "      <td>0.735689</td>\n",
       "      <td>13.421684</td>\n",
       "      <td>2.695242</td>\n",
       "      <td>0.541238</td>\n",
       "    </tr>\n",
       "    <tr>\n",
       "      <th>2</th>\n",
       "      <td>3.0</td>\n",
       "      <td>1.0</td>\n",
       "      <td>26.0</td>\n",
       "      <td>0.0</td>\n",
       "      <td>0.0</td>\n",
       "      <td>7.9250</td>\n",
       "      <td>0.299854</td>\n",
       "      <td>1.0</td>\n",
       "      <td>0.0</td>\n",
       "      <td>0.0</td>\n",
       "      <td>...</td>\n",
       "      <td>9.0</td>\n",
       "      <td>0.0</td>\n",
       "      <td>9.887511</td>\n",
       "      <td>1.527105</td>\n",
       "      <td>0.0</td>\n",
       "      <td>0.000000</td>\n",
       "      <td>0.000000</td>\n",
       "      <td>10.862541</td>\n",
       "      <td>1.677696</td>\n",
       "      <td>0.259117</td>\n",
       "    </tr>\n",
       "    <tr>\n",
       "      <th>3</th>\n",
       "      <td>1.0</td>\n",
       "      <td>1.0</td>\n",
       "      <td>35.0</td>\n",
       "      <td>1.0</td>\n",
       "      <td>0.0</td>\n",
       "      <td>53.1000</td>\n",
       "      <td>0.468759</td>\n",
       "      <td>1.0</td>\n",
       "      <td>0.0</td>\n",
       "      <td>0.0</td>\n",
       "      <td>...</td>\n",
       "      <td>16.0</td>\n",
       "      <td>4.0</td>\n",
       "      <td>14.334076</td>\n",
       "      <td>2.762870</td>\n",
       "      <td>1.0</td>\n",
       "      <td>3.583519</td>\n",
       "      <td>0.690717</td>\n",
       "      <td>12.841608</td>\n",
       "      <td>2.475199</td>\n",
       "      <td>0.477091</td>\n",
       "    </tr>\n",
       "    <tr>\n",
       "      <th>4</th>\n",
       "      <td>3.0</td>\n",
       "      <td>0.0</td>\n",
       "      <td>35.0</td>\n",
       "      <td>0.0</td>\n",
       "      <td>0.0</td>\n",
       "      <td>8.0500</td>\n",
       "      <td>0.299854</td>\n",
       "      <td>1.0</td>\n",
       "      <td>0.0</td>\n",
       "      <td>0.0</td>\n",
       "      <td>...</td>\n",
       "      <td>16.0</td>\n",
       "      <td>0.0</td>\n",
       "      <td>14.334076</td>\n",
       "      <td>2.762870</td>\n",
       "      <td>0.0</td>\n",
       "      <td>0.000000</td>\n",
       "      <td>0.000000</td>\n",
       "      <td>12.841608</td>\n",
       "      <td>2.475199</td>\n",
       "      <td>0.477091</td>\n",
       "    </tr>\n",
       "  </tbody>\n",
       "</table>\n",
       "<p>5 rows × 629 columns</p>\n",
       "</div>"
      ],
      "text/plain": [
       "    x0   x1    x2   x3   x4       x5        x6   x7   x8   x9    ...     \\\n",
       "0  3.0  0.0  22.0  1.0  0.0   7.2500  0.299854  1.0  0.0  0.0    ...      \n",
       "1  1.0  1.0  38.0  1.0  0.0  71.2833  0.383838  0.0  1.0  0.0    ...      \n",
       "2  3.0  1.0  26.0  0.0  0.0   7.9250  0.299854  1.0  0.0  0.0    ...      \n",
       "3  1.0  1.0  35.0  1.0  0.0  53.1000  0.468759  1.0  0.0  0.0    ...      \n",
       "4  3.0  0.0  35.0  0.0  0.0   8.0500  0.299854  1.0  0.0  0.0    ...      \n",
       "\n",
       "   x30^2  x30 x31    x30 x32   x30 x33  x31^2   x31 x32   x31 x33      x32^2  \\\n",
       "0    4.0      0.0   6.270988  0.808603    0.0  0.000000  0.000000   9.831324   \n",
       "1   16.0      4.0  14.654247  2.942756    1.0  3.663562  0.735689  13.421684   \n",
       "2    9.0      0.0   9.887511  1.527105    0.0  0.000000  0.000000  10.862541   \n",
       "3   16.0      4.0  14.334076  2.762870    1.0  3.583519  0.690717  12.841608   \n",
       "4   16.0      0.0  14.334076  2.762870    0.0  0.000000  0.000000  12.841608   \n",
       "\n",
       "    x32 x33     x33^2  \n",
       "0  1.267685  0.163460  \n",
       "1  2.695242  0.541238  \n",
       "2  1.677696  0.259117  \n",
       "3  2.475199  0.477091  \n",
       "4  2.475199  0.477091  \n",
       "\n",
       "[5 rows x 629 columns]"
      ]
     },
     "execution_count": 91,
     "metadata": {},
     "output_type": "execute_result"
    }
   ],
   "source": [
    "poly_fea_df.head(5)"
   ]
  },
  {
   "cell_type": "code",
   "execution_count": 92,
   "metadata": {},
   "outputs": [
    {
     "data": {
      "text/plain": [
       "(1309, 629)"
      ]
     },
     "execution_count": 92,
     "metadata": {},
     "output_type": "execute_result"
    }
   ],
   "source": [
    "poly_fea_df.shape"
   ]
  },
  {
   "cell_type": "code",
   "execution_count": 93,
   "metadata": {},
   "outputs": [
    {
     "data": {
      "text/plain": [
       "(0.7658800289334641, 0.03893924621871495)"
      ]
     },
     "execution_count": 93,
     "metadata": {},
     "output_type": "execute_result"
    }
   ],
   "source": [
    "#看看在lr上的表现\n",
    "classifier=LogisticRegression()\n",
    "scores = cross_val_score(classifier, StandardScaler().fit_transform(poly_fea_df[:891]), labels, scoring='f1', cv = 5)\n",
    "np.mean(scores),np.std(scores)"
   ]
  },
  {
   "cell_type": "code",
   "execution_count": 94,
   "metadata": {},
   "outputs": [
    {
     "data": {
      "text/plain": [
       "(0.789185724765447, 0.04872529411815159)"
      ]
     },
     "execution_count": 94,
     "metadata": {},
     "output_type": "execute_result"
    }
   ],
   "source": [
    "#gbdt\n",
    "classifier=GradientBoostingClassifier()\n",
    "scores = cross_val_score(classifier, poly_fea_df[:891], labels, scoring='f1', cv = 5)\n",
    "np.mean(scores),np.std(scores)"
   ]
  },
  {
   "cell_type": "markdown",
   "metadata": {},
   "source": [
    "###### 特征数增加是否会影响模型稳定性？\n",
    "这里发现特征量的快速增加（10->629），lr的std增加了很多，gbdt有所减少，这是因为特征数量的增加被动的增加了lr模型的复杂度($\\sigma(w^Tx+b)$,模型的复杂度与$x$的维度正比)，而gbdt在生成树的时候对于用处不大的特征，选择的少或者压根不会选。"
   ]
  },
  {
   "cell_type": "markdown",
   "metadata": {},
   "source": [
    "#### 4.1.1 特征扩展：离散特征\n",
    "离散特征的扩展可以考虑特征组合，比如：  \n",
    "（1）从make sense的情况下组合特征；  \n",
    "（2）自动特征组合..."
   ]
  },
  {
   "cell_type": "markdown",
   "metadata": {},
   "source": [
    "#### make sense的特征\n",
    "构造乘客性别和票类型的组合特征：\n",
    "\n",
    "Pclass |  Sex  \n",
    "-|-\n",
    "1 | male |\n",
    "2 | female |  \n",
    "转换为：  \n",
    "\n",
    "Pclass_1_female |  Pclass_2_female | Pclass_3_female |  Pclass_1_male |Pclass_2_male |  Pclass_3_male  \n",
    "-|-|-|-|-|-\n",
    "0|0|0|1|0|0\n",
    "0|1|0|0|0|0 \n"
   ]
  },
  {
   "cell_type": "code",
   "execution_count": 95,
   "metadata": {},
   "outputs": [],
   "source": [
    "def combine_pclass_sex(pclass,sex):\n",
    "    if sex=='male':\n",
    "        return pclass-1\n",
    "    else:\n",
    "        return pclass+2\n",
    "ext_cat_fea_df=copy.deepcopy(poly_fea_df)\n",
    "ext_cat_fea_df['Pclass_Sex']=origin_features_df.apply(lambda row:combine_pclass_sex(row['Pclass'],row['Sex']),axis=1)\n",
    "ext_cat_fea_dummy_df = pd.get_dummies(ext_cat_fea_df,columns=['Pclass_Sex'])"
   ]
  },
  {
   "cell_type": "code",
   "execution_count": 96,
   "metadata": {},
   "outputs": [
    {
     "data": {
      "text/plain": [
       "Index(['x0', 'x1', 'x2', 'x3', 'x4', 'x5', 'x6', 'x7', 'x8', 'x9',\n",
       "       ...\n",
       "       'x31 x33', 'x32^2', 'x32 x33', 'x33^2', 'Pclass_Sex_0', 'Pclass_Sex_1',\n",
       "       'Pclass_Sex_2', 'Pclass_Sex_3', 'Pclass_Sex_4', 'Pclass_Sex_5'],\n",
       "      dtype='object', length=635)"
      ]
     },
     "execution_count": 96,
     "metadata": {},
     "output_type": "execute_result"
    }
   ],
   "source": [
    "ext_cat_fea_dummy_df.columns"
   ]
  },
  {
   "cell_type": "code",
   "execution_count": 97,
   "metadata": {},
   "outputs": [
    {
     "data": {
      "text/plain": [
       "(0.7994010855324725, 0.047534962800606165)"
      ]
     },
     "execution_count": 97,
     "metadata": {},
     "output_type": "execute_result"
    }
   ],
   "source": [
    "#gbdt\n",
    "classifier=GradientBoostingClassifier()\n",
    "scores = cross_val_score(classifier, ext_cat_fea_dummy_df[:891], labels, scoring='f1', cv = 5)\n",
    "np.mean(scores),np.std(scores)"
   ]
  },
  {
   "cell_type": "markdown",
   "metadata": {},
   "source": [
    "#### 4.1.1 特征扩展：自动构建组合特征\n",
    "比较流行的一种方式是gbdt+lr,即利用gbdt探索不错的特征空间，然后用lr对这些特征空间张成one-hot特征进行拟合；  \n",
    "![avatar](./source/gbdt_lr.png)\n",
    "参考：https://www.cnblogs.com/wkang/p/9657032.html"
   ]
  },
  {
   "cell_type": "code",
   "execution_count": 98,
   "metadata": {},
   "outputs": [
    {
     "data": {
      "text/plain": [
       "(0.7672235828206438, 0.04441597313352385)"
      ]
     },
     "execution_count": 98,
     "metadata": {},
     "output_type": "execute_result"
    }
   ],
   "source": [
    "from sklearn.preprocessing import OneHotEncoder\n",
    "n_trees=100\n",
    "tree_depth=2#树的深度不必太深\n",
    "kfold= KFold(n_splits=5,shuffle=True)\n",
    "scores=[]\n",
    "for train_index,test_index in kfold.split(ext_cat_fea_dummy_df[:891],labels):\n",
    "    X_train=ext_cat_fea_dummy_df.loc[train_index]\n",
    "    y_train=labels[train_index]\n",
    "    X_test=ext_cat_fea_dummy_df.loc[test_index]\n",
    "    y_test=labels[test_index]\n",
    "    \n",
    "    gbm1 = GradientBoostingClassifier(n_estimators=n_trees,max_depth=tree_depth)\n",
    "    gbm1.fit(X_train, y_train)\n",
    "    train_new_feature = gbm1.apply(X_train)\n",
    "    train_new_feature = train_new_feature.reshape(-1, n_trees)\n",
    "\n",
    "    enc = OneHotEncoder()\n",
    "\n",
    "    enc.fit(train_new_feature)\n",
    "\n",
    "    # # # 每一个属性的最大取值数目\n",
    "    # # print('每一个特征的最大取值数目:', enc.n_values_)\n",
    "    # # print('所有特征的取值数目总和:', enc.n_values_.sum())\n",
    "\n",
    "    train_new_feature2 = np.array(enc.transform(train_new_feature).toarray())\n",
    "\n",
    "    #训练lr\n",
    "    lr=LogisticRegression()\n",
    "    lr.fit(train_new_feature2,y_train)\n",
    "    #测试\n",
    "    test_new_feature = gbm1.apply(X_test)\n",
    "    test_new_feature = test_new_feature.reshape(-1, n_trees)\n",
    "    test_new_feature2 = np.array(enc.transform(test_new_feature).toarray())\n",
    "\n",
    "    y_predict=lr.predict(test_new_feature2)\n",
    "    f1_score=metrics.f1_score(y_test,y_predict)\n",
    "    scores.append(f1_score)\n",
    "np.mean(scores),np.std(scores)"
   ]
  },
  {
   "cell_type": "markdown",
   "metadata": {},
   "source": [
    "**通过一系列的特征扩展，我们将baseline gbdt从f1=0.776,std=0.045提升到f1=0.790,std=0.037；此时的最优fetures为ext_cat_fea_dummy_df，接下来我们的目标是去掉那些噪声特征，利用尽可能少的特征去建模达到和之前模型一样的效果；**  \n",
    "#### 4.1.2 特征选择\n",
    "（1）基于统计：方差、相关性、gini、info gain、chi2    \n",
    "（2）基于模型：RFE递归删减特征、训练基模型，选择权值系数较高的特征  \n",
    "\n",
    "更多:https://www.jianshu.com/p/1c4ec02dd33f"
   ]
  },
  {
   "cell_type": "markdown",
   "metadata": {},
   "source": [
    "##### 4.1.2 特征选择-方差\n",
    "将方差较低的特征过滤掉"
   ]
  },
  {
   "cell_type": "code",
   "execution_count": 99,
   "metadata": {},
   "outputs": [
    {
     "data": {
      "text/plain": [
       "(891, 493)"
      ]
     },
     "execution_count": 99,
     "metadata": {},
     "output_type": "execute_result"
    }
   ],
   "source": [
    "var_standard_df=StandardScaler().fit_transform(ext_cat_fea_dummy_df[:891])\n",
    "VarianceThreshold(threshold=0.01).fit_transform(var_standard_df).shape"
   ]
  },
  {
   "cell_type": "code",
   "execution_count": 100,
   "metadata": {},
   "outputs": [
    {
     "data": {
      "text/plain": [
       "(0.7859913288518177, 0.036894120244238285)"
      ]
     },
     "execution_count": 100,
     "metadata": {},
     "output_type": "execute_result"
    }
   ],
   "source": [
    "#gbdt\n",
    "classifier=GradientBoostingClassifier()\n",
    "scores = cross_val_score(classifier, VarianceThreshold(threshold=0.01).fit_transform(ext_cat_fea_dummy_df[:891]), labels, scoring='f1', cv = 5)\n",
    "np.mean(scores),np.std(scores)"
   ]
  },
  {
   "cell_type": "markdown",
   "metadata": {},
   "source": [
    "##### 4.1.2 特征选择-相关性\n",
    "选择与y标签相关性top的因子建模"
   ]
  },
  {
   "cell_type": "code",
   "execution_count": 101,
   "metadata": {},
   "outputs": [
    {
     "data": {
      "text/plain": [
       "Survived    1.000000\n",
       "x1^2        0.543351\n",
       "x1          0.543351\n",
       "x1 x6       0.541299\n",
       "x1 x32      0.539657\n",
       "Name: Survived, dtype: float64"
      ]
     },
     "execution_count": 101,
     "metadata": {},
     "output_type": "execute_result"
    }
   ],
   "source": [
    "ext_cat_fea_add_y_df=copy.deepcopy(ext_cat_fea_dummy_df[:891])\n",
    "ext_cat_fea_add_y_df['Survived']=labels\n",
    "ext_cat_fea_add_y_df.corr()['Survived'].abs().sort_values(ascending=False).head(5)"
   ]
  },
  {
   "cell_type": "code",
   "execution_count": 102,
   "metadata": {},
   "outputs": [],
   "source": [
    "#选择相关性>0.2的因子建模，注意要去掉Survived\n",
    "highly_correlated_features = ext_cat_fea_add_y_df.columns[ext_cat_fea_add_y_df.corr()['Survived'].abs() > 0.1]\n",
    "highly_correlated_features = highly_correlated_features.drop('Survived')\n",
    "high_corr_features_df=ext_cat_fea_add_y_df[highly_correlated_features]"
   ]
  },
  {
   "cell_type": "code",
   "execution_count": 103,
   "metadata": {},
   "outputs": [
    {
     "data": {
      "text/plain": [
       "(891, 215)"
      ]
     },
     "execution_count": 103,
     "metadata": {},
     "output_type": "execute_result"
    }
   ],
   "source": [
    "high_corr_features_df.shape"
   ]
  },
  {
   "cell_type": "code",
   "execution_count": 104,
   "metadata": {},
   "outputs": [
    {
     "data": {
      "text/html": [
       "<div>\n",
       "<style scoped>\n",
       "    .dataframe tbody tr th:only-of-type {\n",
       "        vertical-align: middle;\n",
       "    }\n",
       "\n",
       "    .dataframe tbody tr th {\n",
       "        vertical-align: top;\n",
       "    }\n",
       "\n",
       "    .dataframe thead th {\n",
       "        text-align: right;\n",
       "    }\n",
       "</style>\n",
       "<table border=\"1\" class=\"dataframe\">\n",
       "  <thead>\n",
       "    <tr style=\"text-align: right;\">\n",
       "      <th></th>\n",
       "      <th>x0</th>\n",
       "      <th>x1</th>\n",
       "      <th>x5</th>\n",
       "      <th>x6</th>\n",
       "      <th>x7</th>\n",
       "      <th>x8</th>\n",
       "      <th>x11</th>\n",
       "      <th>x13</th>\n",
       "      <th>x16</th>\n",
       "      <th>x17</th>\n",
       "      <th>...</th>\n",
       "      <th>x29 x33</th>\n",
       "      <th>x30 x31</th>\n",
       "      <th>x31^2</th>\n",
       "      <th>x31 x32</th>\n",
       "      <th>x31 x33</th>\n",
       "      <th>Pclass_Sex_1</th>\n",
       "      <th>Pclass_Sex_2</th>\n",
       "      <th>Pclass_Sex_3</th>\n",
       "      <th>Pclass_Sex_4</th>\n",
       "      <th>Pclass_Sex_5</th>\n",
       "    </tr>\n",
       "  </thead>\n",
       "  <tbody>\n",
       "    <tr>\n",
       "      <th>0</th>\n",
       "      <td>3.0</td>\n",
       "      <td>0.0</td>\n",
       "      <td>7.2500</td>\n",
       "      <td>0.299854</td>\n",
       "      <td>1.0</td>\n",
       "      <td>0.0</td>\n",
       "      <td>0.0</td>\n",
       "      <td>0.0</td>\n",
       "      <td>0.0</td>\n",
       "      <td>1.0</td>\n",
       "      <td>...</td>\n",
       "      <td>0.000000</td>\n",
       "      <td>0.0</td>\n",
       "      <td>0.0</td>\n",
       "      <td>0.000000</td>\n",
       "      <td>0.000000</td>\n",
       "      <td>0</td>\n",
       "      <td>1</td>\n",
       "      <td>0</td>\n",
       "      <td>0</td>\n",
       "      <td>0</td>\n",
       "    </tr>\n",
       "    <tr>\n",
       "      <th>1</th>\n",
       "      <td>1.0</td>\n",
       "      <td>1.0</td>\n",
       "      <td>71.2833</td>\n",
       "      <td>0.383838</td>\n",
       "      <td>0.0</td>\n",
       "      <td>1.0</td>\n",
       "      <td>0.0</td>\n",
       "      <td>1.0</td>\n",
       "      <td>0.0</td>\n",
       "      <td>1.0</td>\n",
       "      <td>...</td>\n",
       "      <td>0.000000</td>\n",
       "      <td>4.0</td>\n",
       "      <td>1.0</td>\n",
       "      <td>3.663562</td>\n",
       "      <td>0.735689</td>\n",
       "      <td>0</td>\n",
       "      <td>0</td>\n",
       "      <td>1</td>\n",
       "      <td>0</td>\n",
       "      <td>0</td>\n",
       "    </tr>\n",
       "    <tr>\n",
       "      <th>2</th>\n",
       "      <td>3.0</td>\n",
       "      <td>1.0</td>\n",
       "      <td>7.9250</td>\n",
       "      <td>0.299854</td>\n",
       "      <td>1.0</td>\n",
       "      <td>0.0</td>\n",
       "      <td>0.0</td>\n",
       "      <td>0.0</td>\n",
       "      <td>1.0</td>\n",
       "      <td>0.0</td>\n",
       "      <td>...</td>\n",
       "      <td>0.509035</td>\n",
       "      <td>0.0</td>\n",
       "      <td>0.0</td>\n",
       "      <td>0.000000</td>\n",
       "      <td>0.000000</td>\n",
       "      <td>0</td>\n",
       "      <td>0</td>\n",
       "      <td>0</td>\n",
       "      <td>0</td>\n",
       "      <td>1</td>\n",
       "    </tr>\n",
       "    <tr>\n",
       "      <th>3</th>\n",
       "      <td>1.0</td>\n",
       "      <td>1.0</td>\n",
       "      <td>53.1000</td>\n",
       "      <td>0.468759</td>\n",
       "      <td>1.0</td>\n",
       "      <td>0.0</td>\n",
       "      <td>0.0</td>\n",
       "      <td>1.0</td>\n",
       "      <td>0.0</td>\n",
       "      <td>1.0</td>\n",
       "      <td>...</td>\n",
       "      <td>0.000000</td>\n",
       "      <td>4.0</td>\n",
       "      <td>1.0</td>\n",
       "      <td>3.583519</td>\n",
       "      <td>0.690717</td>\n",
       "      <td>0</td>\n",
       "      <td>0</td>\n",
       "      <td>1</td>\n",
       "      <td>0</td>\n",
       "      <td>0</td>\n",
       "    </tr>\n",
       "    <tr>\n",
       "      <th>4</th>\n",
       "      <td>3.0</td>\n",
       "      <td>0.0</td>\n",
       "      <td>8.0500</td>\n",
       "      <td>0.299854</td>\n",
       "      <td>1.0</td>\n",
       "      <td>0.0</td>\n",
       "      <td>0.0</td>\n",
       "      <td>0.0</td>\n",
       "      <td>0.0</td>\n",
       "      <td>1.0</td>\n",
       "      <td>...</td>\n",
       "      <td>0.000000</td>\n",
       "      <td>0.0</td>\n",
       "      <td>0.0</td>\n",
       "      <td>0.000000</td>\n",
       "      <td>0.000000</td>\n",
       "      <td>0</td>\n",
       "      <td>1</td>\n",
       "      <td>0</td>\n",
       "      <td>0</td>\n",
       "      <td>0</td>\n",
       "    </tr>\n",
       "  </tbody>\n",
       "</table>\n",
       "<p>5 rows × 215 columns</p>\n",
       "</div>"
      ],
      "text/plain": [
       "    x0   x1       x5        x6   x7   x8  x11  x13  x16  x17      ...       \\\n",
       "0  3.0  0.0   7.2500  0.299854  1.0  0.0  0.0  0.0  0.0  1.0      ...        \n",
       "1  1.0  1.0  71.2833  0.383838  0.0  1.0  0.0  1.0  0.0  1.0      ...        \n",
       "2  3.0  1.0   7.9250  0.299854  1.0  0.0  0.0  0.0  1.0  0.0      ...        \n",
       "3  1.0  1.0  53.1000  0.468759  1.0  0.0  0.0  1.0  0.0  1.0      ...        \n",
       "4  3.0  0.0   8.0500  0.299854  1.0  0.0  0.0  0.0  0.0  1.0      ...        \n",
       "\n",
       "    x29 x33  x30 x31  x31^2   x31 x32   x31 x33  Pclass_Sex_1  Pclass_Sex_2  \\\n",
       "0  0.000000      0.0    0.0  0.000000  0.000000             0             1   \n",
       "1  0.000000      4.0    1.0  3.663562  0.735689             0             0   \n",
       "2  0.509035      0.0    0.0  0.000000  0.000000             0             0   \n",
       "3  0.000000      4.0    1.0  3.583519  0.690717             0             0   \n",
       "4  0.000000      0.0    0.0  0.000000  0.000000             0             1   \n",
       "\n",
       "   Pclass_Sex_3  Pclass_Sex_4  Pclass_Sex_5  \n",
       "0             0             0             0  \n",
       "1             1             0             0  \n",
       "2             0             0             1  \n",
       "3             1             0             0  \n",
       "4             0             0             0  \n",
       "\n",
       "[5 rows x 215 columns]"
      ]
     },
     "execution_count": 104,
     "metadata": {},
     "output_type": "execute_result"
    }
   ],
   "source": [
    "high_corr_features_df.head(5)"
   ]
  },
  {
   "cell_type": "code",
   "execution_count": 105,
   "metadata": {},
   "outputs": [
    {
     "data": {
      "text/plain": [
       "(0.791561947775114, 0.034861075275444645)"
      ]
     },
     "execution_count": 105,
     "metadata": {},
     "output_type": "execute_result"
    }
   ],
   "source": [
    "#gbdt\n",
    "classifier=GradientBoostingClassifier()\n",
    "scores = cross_val_score(classifier, high_corr_features_df, labels, scoring='f1', cv = 5)\n",
    "np.mean(scores),np.std(scores)"
   ]
  },
  {
   "cell_type": "markdown",
   "metadata": {},
   "source": [
    "**注意：如果出现与y标签相关性很高的因子要引起重视，它可能是由y=>的因子，这种情况应该删掉，因为在test集中这部分因子可能是NaN**\n",
    "##### 4.1.2 特征选择-Gini指数\n",
    "gini指数的计算很简单，训练一个决策树就好了"
   ]
  },
  {
   "cell_type": "code",
   "execution_count": 106,
   "metadata": {},
   "outputs": [],
   "source": [
    "tree = DecisionTreeClassifier()#如果要用信息增益，设置criterion='entropy'\n",
    "tree.fit(ext_cat_fea_dummy_df[:891],labels)\n",
    "importances = pd.DataFrame({ 'feature':ext_cat_fea_dummy_df.columns,'importance': tree.feature_importances_}).sort_values('importance', ascending=False)"
   ]
  },
  {
   "cell_type": "code",
   "execution_count": 107,
   "metadata": {},
   "outputs": [
    {
     "data": {
      "text/html": [
       "<div>\n",
       "<style scoped>\n",
       "    .dataframe tbody tr th:only-of-type {\n",
       "        vertical-align: middle;\n",
       "    }\n",
       "\n",
       "    .dataframe tbody tr th {\n",
       "        vertical-align: top;\n",
       "    }\n",
       "\n",
       "    .dataframe thead th {\n",
       "        text-align: right;\n",
       "    }\n",
       "</style>\n",
       "<table border=\"1\" class=\"dataframe\">\n",
       "  <thead>\n",
       "    <tr style=\"text-align: right;\">\n",
       "      <th></th>\n",
       "      <th>feature</th>\n",
       "      <th>importance</th>\n",
       "    </tr>\n",
       "  </thead>\n",
       "  <tbody>\n",
       "    <tr>\n",
       "      <th>72</th>\n",
       "      <td>x1 x5</td>\n",
       "      <td>0.307806</td>\n",
       "    </tr>\n",
       "    <tr>\n",
       "      <th>41</th>\n",
       "      <td>x0 x7</td>\n",
       "      <td>0.081971</td>\n",
       "    </tr>\n",
       "    <tr>\n",
       "      <th>6</th>\n",
       "      <td>x6</td>\n",
       "      <td>0.060021</td>\n",
       "    </tr>\n",
       "    <tr>\n",
       "      <th>66</th>\n",
       "      <td>x0 x32</td>\n",
       "      <td>0.037950</td>\n",
       "    </tr>\n",
       "    <tr>\n",
       "      <th>67</th>\n",
       "      <td>x0 x33</td>\n",
       "      <td>0.030490</td>\n",
       "    </tr>\n",
       "  </tbody>\n",
       "</table>\n",
       "</div>"
      ],
      "text/plain": [
       "   feature  importance\n",
       "72   x1 x5    0.307806\n",
       "41   x0 x7    0.081971\n",
       "6       x6    0.060021\n",
       "66  x0 x32    0.037950\n",
       "67  x0 x33    0.030490"
      ]
     },
     "execution_count": 107,
     "metadata": {},
     "output_type": "execute_result"
    }
   ],
   "source": [
    "importances.head()"
   ]
  },
  {
   "cell_type": "code",
   "execution_count": 108,
   "metadata": {},
   "outputs": [
    {
     "data": {
      "text/plain": [
       "(0.7853394870290844, 0.03528441593612305)"
      ]
     },
     "execution_count": 108,
     "metadata": {},
     "output_type": "execute_result"
    }
   ],
   "source": [
    "#选择top因子建模\n",
    "select_features=importances['feature'].tolist()[:50]\n",
    "#gbdt\n",
    "classifier=GradientBoostingClassifier()\n",
    "scores = cross_val_score(classifier, ext_cat_fea_dummy_df[:891][select_features], labels, scoring='f1', cv = 5)\n",
    "np.mean(scores),np.std(scores)"
   ]
  },
  {
   "cell_type": "markdown",
   "metadata": {},
   "source": [
    "##### 4.1.2-chi2选择"
   ]
  },
  {
   "cell_type": "code",
   "execution_count": 109,
   "metadata": {},
   "outputs": [],
   "source": [
    "from sklearn.feature_selection import SelectKBest\n",
    "from sklearn.feature_selection import chi2"
   ]
  },
  {
   "cell_type": "code",
   "execution_count": 110,
   "metadata": {},
   "outputs": [],
   "source": [
    "min_max_standard_df=MinMaxScaler().fit_transform(ext_cat_fea_dummy_df[:891])#chi2要求每一项都>0"
   ]
  },
  {
   "cell_type": "code",
   "execution_count": 111,
   "metadata": {},
   "outputs": [],
   "source": [
    "#选择前50个特征\n",
    "top_50_features=SelectKBest(chi2, k=50).fit_transform(min_max_standard_df, labels)"
   ]
  },
  {
   "cell_type": "code",
   "execution_count": 112,
   "metadata": {},
   "outputs": [
    {
     "data": {
      "text/plain": [
       "(0.7421589038658303, 0.031018231184840785)"
      ]
     },
     "execution_count": 112,
     "metadata": {},
     "output_type": "execute_result"
    }
   ],
   "source": [
    "#gbdt\n",
    "classifier=GradientBoostingClassifier()\n",
    "scores = cross_val_score(classifier, top_50_features, labels, scoring='f1', cv = 5)\n",
    "np.mean(scores),np.std(scores)"
   ]
  },
  {
   "cell_type": "markdown",
   "metadata": {},
   "source": [
    "##### 4.1.2-RFE递归消除"
   ]
  },
  {
   "cell_type": "code",
   "execution_count": 113,
   "metadata": {},
   "outputs": [],
   "source": [
    "# from sklearn.feature_selection import RFE\n",
    "# rfe_df=RFE(estimator=GradientBoostingClassifier(), n_features_to_select=50).fit_transform(ext_cat_fea_dummy_df[:891], labels)"
   ]
  },
  {
   "cell_type": "markdown",
   "metadata": {},
   "source": [
    "**这里相当的慢**"
   ]
  },
  {
   "cell_type": "code",
   "execution_count": 114,
   "metadata": {},
   "outputs": [],
   "source": [
    "# #gbdt\n",
    "# classifier=GradientBoostingClassifier()\n",
    "# scores = cross_val_score(classifier, rfe_df, labels, scoring='f1', cv = 5)\n",
    "# np.mean(scores),np.std(scores)"
   ]
  },
  {
   "cell_type": "markdown",
   "metadata": {},
   "source": [
    "#### 4.1.2-基于模型选特征\n",
    "其实这里和gini系数的选择一样，通过训练一个模型来选择特征最优特征，然后再去训练一个模型，只是这里选择特征用的模型与训练用的模型一样"
   ]
  },
  {
   "cell_type": "code",
   "execution_count": 115,
   "metadata": {},
   "outputs": [
    {
     "data": {
      "text/html": [
       "<div>\n",
       "<style scoped>\n",
       "    .dataframe tbody tr th:only-of-type {\n",
       "        vertical-align: middle;\n",
       "    }\n",
       "\n",
       "    .dataframe tbody tr th {\n",
       "        vertical-align: top;\n",
       "    }\n",
       "\n",
       "    .dataframe thead th {\n",
       "        text-align: right;\n",
       "    }\n",
       "</style>\n",
       "<table border=\"1\" class=\"dataframe\">\n",
       "  <thead>\n",
       "    <tr style=\"text-align: right;\">\n",
       "      <th></th>\n",
       "      <th>feature</th>\n",
       "      <th>importance</th>\n",
       "    </tr>\n",
       "  </thead>\n",
       "  <tbody>\n",
       "    <tr>\n",
       "      <th>72</th>\n",
       "      <td>x1 x5</td>\n",
       "      <td>0.411516</td>\n",
       "    </tr>\n",
       "    <tr>\n",
       "      <th>41</th>\n",
       "      <td>x0 x7</td>\n",
       "      <td>0.061789</td>\n",
       "    </tr>\n",
       "    <tr>\n",
       "      <th>66</th>\n",
       "      <td>x0 x32</td>\n",
       "      <td>0.053267</td>\n",
       "    </tr>\n",
       "    <tr>\n",
       "      <th>223</th>\n",
       "      <td>x6^2</td>\n",
       "      <td>0.048276</td>\n",
       "    </tr>\n",
       "    <tr>\n",
       "      <th>36</th>\n",
       "      <td>x0 x2</td>\n",
       "      <td>0.026943</td>\n",
       "    </tr>\n",
       "  </tbody>\n",
       "</table>\n",
       "</div>"
      ],
      "text/plain": [
       "    feature  importance\n",
       "72    x1 x5    0.411516\n",
       "41    x0 x7    0.061789\n",
       "66   x0 x32    0.053267\n",
       "223    x6^2    0.048276\n",
       "36    x0 x2    0.026943"
      ]
     },
     "execution_count": 115,
     "metadata": {},
     "output_type": "execute_result"
    }
   ],
   "source": [
    "#也可以直接用我们gbdt筛选后的特征\n",
    "tree = GradientBoostingClassifier()\n",
    "tree.fit(ext_cat_fea_dummy_df[:891],labels)\n",
    "importances = pd.DataFrame({ 'feature':ext_cat_fea_dummy_df.columns,'importance': tree.feature_importances_}).sort_values('importance', ascending=False)\n",
    "importances.head()"
   ]
  },
  {
   "cell_type": "code",
   "execution_count": 116,
   "metadata": {},
   "outputs": [
    {
     "data": {
      "text/plain": [
       "(0.797582105987007, 0.03755708668802181)"
      ]
     },
     "execution_count": 116,
     "metadata": {},
     "output_type": "execute_result"
    }
   ],
   "source": [
    "#选择top因子建模\n",
    "select_features=importances['feature'].tolist()[:50]\n",
    "features_select_top_50_df=ext_cat_fea_dummy_df[select_features]\n",
    "#gbdt\n",
    "classifier=GradientBoostingClassifier()\n",
    "scores = cross_val_score(classifier,features_select_top_50_df[:891],labels, scoring='f1', cv = 5)\n",
    "np.mean(scores),np.std(scores)"
   ]
  },
  {
   "cell_type": "markdown",
   "metadata": {},
   "source": [
    "也可以使用SelectFromModel自动选择最优的top n因子"
   ]
  },
  {
   "cell_type": "code",
   "execution_count": 117,
   "metadata": {},
   "outputs": [
    {
     "data": {
      "text/plain": [
       "(0.7892211955517481, 0.04527823710271049)"
      ]
     },
     "execution_count": 117,
     "metadata": {},
     "output_type": "execute_result"
    }
   ],
   "source": [
    "kfold= KFold(n_splits=5,random_state=42,shuffle=True)\n",
    "scores=[]\n",
    "top_nums=[]\n",
    "for train_index,test_index in kfold.split(ext_cat_fea_dummy_df[:891],labels):\n",
    "    X_train=ext_cat_fea_dummy_df.loc[train_index]\n",
    "    y_train=labels[train_index]\n",
    "    X_test=ext_cat_fea_dummy_df.loc[test_index]\n",
    "    y_test=labels[test_index]\n",
    "    \n",
    "    select_feature_model = SelectFromModel(GradientBoostingClassifier())\n",
    "    X_new_train=select_feature_model.fit_transform(X_train,y_train)\n",
    "    \n",
    "    X_new_test=select_feature_model.transform(X_test)\n",
    "    \n",
    "    _,top_num=X_new_test.shape\n",
    "    top_nums.append(top_num)\n",
    "    \n",
    "    gbdt=GradientBoostingClassifier()\n",
    "    gbdt.fit(X_new_train,y_train)\n",
    "    y_predict=gbdt.predict(X_new_test)\n",
    "    f1_score=metrics.f1_score(y_test,y_predict)\n",
    "    scores.append(f1_score)\n",
    "np.mean(scores),np.std(scores)"
   ]
  },
  {
   "cell_type": "code",
   "execution_count": 118,
   "metadata": {},
   "outputs": [
    {
     "data": {
      "text/plain": [
       "64.2"
      ]
     },
     "execution_count": 118,
     "metadata": {},
     "output_type": "execute_result"
    }
   ],
   "source": [
    "np.mean(top_nums)"
   ]
  },
  {
   "cell_type": "markdown",
   "metadata": {},
   "source": [
    "##### **注意：之前的特征选择操作都不太严谨，因为是将训练集和验证集合并在一起做的特征选择，再用cv的方式看一下**"
   ]
  },
  {
   "cell_type": "code",
   "execution_count": 119,
   "metadata": {},
   "outputs": [
    {
     "data": {
      "text/plain": [
       "(0.7963924699517919, 0.040917630942136705)"
      ]
     },
     "execution_count": 119,
     "metadata": {},
     "output_type": "execute_result"
    }
   ],
   "source": [
    "kfold= KFold(n_splits=5,random_state=42,shuffle=True)\n",
    "scores=[]\n",
    "for train_index,test_index in kfold.split(ext_cat_fea_dummy_df[:891],labels):\n",
    "    X_train=ext_cat_fea_dummy_df.loc[train_index]\n",
    "    y_train=labels[train_index]\n",
    "    X_test=ext_cat_fea_dummy_df.loc[test_index]\n",
    "    y_test=labels[test_index]\n",
    "    \n",
    "    tree = GradientBoostingClassifier()\n",
    "    tree.fit(X_train,y_train)\n",
    "    importances = pd.DataFrame({ 'feature':X_train.columns,'importance': tree.feature_importances_}).sort_values('importance', ascending=False)\n",
    "    \n",
    "    select_features=importances['feature'].tolist()[:50]\n",
    "    \n",
    "    \n",
    "    gbdt=GradientBoostingClassifier()\n",
    "    gbdt.fit(X_train[select_features],y_train)\n",
    "    y_predict=gbdt.predict(X_test[select_features])\n",
    "    f1_score=metrics.f1_score(y_test,y_predict)\n",
    "    scores.append(f1_score)\n",
    "np.mean(scores),np.std(scores)"
   ]
  },
  {
   "cell_type": "markdown",
   "metadata": {},
   "source": [
    "发现其实只需要1/10的因子就能达到和之前一样的效果，甚至更好....  \n",
    "\n",
    "#### 4.1.3 特征转换\n",
    "特征选择是从当前的特征集中选择一个子集，而特征转换是对feature/feature和label做某些数学操作，转换后的特征不在是之前特征的子集，比如：  \n",
    "（1）pca:主成分分析；  \n",
    "（2）lda:线性判别分析；  \n",
    "（3）lle:局部线性嵌入；  \n",
    "（4）ae:自编码；"
   ]
  },
  {
   "cell_type": "markdown",
   "metadata": {},
   "source": [
    "##### 4.1.3-pca\n",
    "pca是一种无监督的线性降维方式，它构建了一个新的正交坐标系，相应的坐标轴分别叫“第一主成分”，“第二主成分”...，且数据在“第一主成分”坐标轴上**方差**最大，“第二主成分”其次，...通常可以只取前n个主成分，将方差较小的主成分理解为**噪声**；  \n",
    "![avatar](./source/pca示例.png)\n",
    "更多：https://blog.csdn.net/program_developer/article/details/80632779 "
   ]
  },
  {
   "cell_type": "code",
   "execution_count": 120,
   "metadata": {},
   "outputs": [],
   "source": [
    "from sklearn.decomposition import PCA\n",
    "standard_df=StandardScaler().fit_transform(features_select_top_50_df)\n",
    "X_pca=PCA(n_components=20).fit_transform(standard_df)"
   ]
  },
  {
   "cell_type": "code",
   "execution_count": 121,
   "metadata": {},
   "outputs": [
    {
     "data": {
      "text/plain": [
       "(0.7665006849181669, 0.03408919204534422)"
      ]
     },
     "execution_count": 121,
     "metadata": {},
     "output_type": "execute_result"
    }
   ],
   "source": [
    "#gbdt\n",
    "classifier=GradientBoostingClassifier()\n",
    "scores = cross_val_score(classifier,X_pca[:891], labels, scoring='f1', cv = 5)\n",
    "np.mean(scores),np.std(scores)"
   ]
  },
  {
   "cell_type": "code",
   "execution_count": 122,
   "metadata": {},
   "outputs": [
    {
     "data": {
      "image/png": "[encoded data removed]",
      "text/plain": [
       "<Figure size 432x288 with 1 Axes>"
      ]
     },
     "metadata": {},
     "output_type": "display_data"
    }
   ],
   "source": [
    "plt.scatter(X_pca[:891][:, 0], X_pca[:891][:, 1],marker='o',c=labels)\n",
    "plt.show()"
   ]
  },
  {
   "cell_type": "markdown",
   "metadata": {},
   "source": [
    "#### 4.1.3-lda\n",
    "lda是一种线性的有监督降维方式，与pca的最大化方差的目标不同，它的目标是找到这样的新坐标轴：**同类样例的投影尽可能近，异类样例的投影点尽可能远**；  \n",
    "更多：https://blog.csdn.net/weixin_40604987/article/details/79615968"
   ]
  },
  {
   "cell_type": "code",
   "execution_count": 123,
   "metadata": {},
   "outputs": [
    {
     "data": {
      "text/plain": [
       "(0.7555915457091927, 0.052140458809689594)"
      ]
     },
     "execution_count": 123,
     "metadata": {},
     "output_type": "execute_result"
    }
   ],
   "source": [
    "from sklearn.discriminant_analysis  import LinearDiscriminantAnalysis\n",
    "kfold= KFold(n_splits=5,random_state=42,shuffle=True)\n",
    "scores=[]\n",
    "standard_np=StandardScaler().fit_transform(features_select_top_50_df)\n",
    "for train_index,test_index in kfold.split(standard_np[:891],labels):\n",
    "    X_train=standard_np[train_index]\n",
    "    y_train=labels[train_index]\n",
    "    X_test=standard_np[test_index]\n",
    "    y_test=labels[test_index]\n",
    "    \n",
    "    lda=LinearDiscriminantAnalysis(n_components=20)\n",
    "    lda.fit(X_train, y_train)\n",
    "    \n",
    "    X_new_train=lda.transform(X_train)\n",
    "    X_new_test=lda.transform(X_test)\n",
    "    \n",
    "    gbdt=GradientBoostingClassifier()\n",
    "    gbdt.fit(X_new_train,y_train)\n",
    "    y_predict=gbdt.predict(X_new_test)\n",
    "    f1_score=metrics.f1_score(y_test,y_predict)\n",
    "    scores.append(f1_score)\n",
    "np.mean(scores),np.std(scores)"
   ]
  },
  {
   "cell_type": "code",
   "execution_count": 124,
   "metadata": {},
   "outputs": [
    {
     "data": {
      "image/png": "[encoded data removed]",
      "text/plain": [
       "<Figure size 432x288 with 1 Axes>"
      ]
     },
     "metadata": {},
     "output_type": "display_data"
    }
   ],
   "source": [
    "plt.scatter(X_new_train[:891][:, 0], X_new_train[:891][:, 0],marker='o',c=y_train)\n",
    "plt.show()"
   ]
  },
  {
   "cell_type": "markdown",
   "metadata": {},
   "source": [
    "#### 4.1.3 lle-局部线性嵌入（LocallyLinearEmbedding）\n",
    "降维时保持样本局部的线性特征\n",
    "![avatar](./source/lle示例.jpg)\n",
    "更多：https://www.cnblogs.com/pinard/p/6266408.html?utm_source=itdadao&utm_medium=referral"
   ]
  },
  {
   "cell_type": "code",
   "execution_count": 125,
   "metadata": {},
   "outputs": [],
   "source": [
    "from sklearn.manifold import LocallyLinearEmbedding\n",
    "standard_df=StandardScaler().fit_transform(features_select_top_50_df)\n",
    "X_lle=LocallyLinearEmbedding(n_components=20).fit_transform(standard_df)"
   ]
  },
  {
   "cell_type": "code",
   "execution_count": 126,
   "metadata": {},
   "outputs": [
    {
     "data": {
      "text/plain": [
       "(0.7513348451240726, 0.012404432116688754)"
      ]
     },
     "execution_count": 126,
     "metadata": {},
     "output_type": "execute_result"
    }
   ],
   "source": [
    "#gbdt\n",
    "classifier=GradientBoostingClassifier()\n",
    "scores = cross_val_score(classifier,X_lle[:891], labels, scoring='f1', cv = 5)\n",
    "np.mean(scores),np.std(scores)"
   ]
  },
  {
   "cell_type": "code",
   "execution_count": 127,
   "metadata": {},
   "outputs": [
    {
     "data": {
      "image/png": "[encoded data removed]",
      "text/plain": [
       "<Figure size 432x288 with 1 Axes>"
      ]
     },
     "metadata": {},
     "output_type": "display_data"
    }
   ],
   "source": [
    "plt.scatter(X_lle[:891][:, 0], X_lle[:891][:, 1],marker='o',c=labels)\n",
    "plt.show()"
   ]
  },
  {
   "cell_type": "markdown",
   "metadata": {},
   "source": [
    "#### 4.1.4 ae-自编码\n",
    "预测目标就是输入目标，可以把它看做一个压缩和解压的过程，如下，通过encoder把一个高维的数据压缩为低维的数据，通过decoder将低维数据还原为高维的数据，这样这个低维的数据可以看做高维数据的一种“不失真”表示；    \n",
    "![avatar](./source/ae示例.jpg)\n",
    "ae在图像和nlp方面都有很多深入的应用，比如cv中的vae，nlp中的bert等...  \n",
    "更多：https://blog.csdn.net/leida_wt/article/details/85052299"
   ]
  },
  {
   "cell_type": "code",
   "execution_count": 128,
   "metadata": {},
   "outputs": [
    {
     "name": "stderr",
     "output_type": "stream",
     "text": [
      "Using TensorFlow backend.\n"
     ]
    }
   ],
   "source": [
    "from keras.models import Model\n",
    "from keras.layers import *\n",
    "# 指定显卡\n",
    "import os\n",
    "os.environ['CUDA_VISIBLE_DEVICES']='0'\n",
    "# 动态申请显存\n",
    "import keras.backend.tensorflow_backend as KTF\n",
    "import tensorflow as tf\n",
    "\n",
    "config = tf.ConfigProto()\n",
    "config.gpu_options.allow_growth = True  # 不全部占满显存, 按需分配\n",
    "sess = tf.Session(config=config)\n",
    "KTF.set_session(sess)"
   ]
  },
  {
   "cell_type": "code",
   "execution_count": 129,
   "metadata": {},
   "outputs": [],
   "source": [
    "#定义网络结构\n",
    "epochs=200\n",
    "batch_size=128\n",
    "input_dim=50\n",
    "\n",
    "input_layer=Input(shape=(input_dim,))\n",
    "encode_layer=Dense(2,activation='relu',name='encoder')(input_layer)\n",
    "decode_layer=Dense(input_dim,activation='tanh')(encode_layer)\n",
    "\n",
    "model=Model(inputs=input_layer,outputs=decode_layer)\n",
    "#获取encode_layer层的输出\n",
    "encode_layer_model = Model(inputs=model.input,outputs=model.get_layer('encoder').output)\n",
    "model.compile('adam',loss='mse')"
   ]
  },
  {
   "cell_type": "code",
   "execution_count": 130,
   "metadata": {},
   "outputs": [],
   "source": [
    "#预处理输入数据\n",
    "ae_standard_np=StandardScaler().fit_transform(features_select_top_50_df)"
   ]
  },
  {
   "cell_type": "code",
   "execution_count": 131,
   "metadata": {},
   "outputs": [],
   "source": [
    "X_train=ae_standard_np[:1200]\n",
    "X_eval=ae_standard_np[1200:]"
   ]
  },
  {
   "cell_type": "code",
   "execution_count": 132,
   "metadata": {},
   "outputs": [
    {
     "data": {
      "text/plain": [
       "((1200, 50), (109, 50))"
      ]
     },
     "execution_count": 132,
     "metadata": {},
     "output_type": "execute_result"
    }
   ],
   "source": [
    "X_train.shape,X_eval.shape"
   ]
  },
  {
   "cell_type": "code",
   "execution_count": 133,
   "metadata": {},
   "outputs": [
    {
     "name": "stdout",
     "output_type": "stream",
     "text": [
      "Train on 1200 samples, validate on 109 samples\n",
      "Epoch 1/200\n",
      "1200/1200 [==============================] - 2s 1ms/step - loss: 0.9868 - val_loss: 1.2613\n",
      "Epoch 2/200\n",
      "1200/1200 [==============================] - 0s 28us/step - loss: 0.9790 - val_loss: 1.2553\n",
      "Epoch 3/200\n",
      "1200/1200 [==============================] - 0s 25us/step - loss: 0.9722 - val_loss: 1.2498\n",
      "Epoch 4/200\n",
      "1200/1200 [==============================] - 0s 25us/step - loss: 0.9658 - val_loss: 1.2444\n",
      "Epoch 5/200\n",
      "1200/1200 [==============================] - 0s 25us/step - loss: 0.9586 - val_loss: 1.2387\n",
      "Epoch 6/200\n",
      "1200/1200 [==============================] - 0s 28us/step - loss: 0.9496 - val_loss: 1.2323\n",
      "Epoch 7/200\n",
      "1200/1200 [==============================] - 0s 35us/step - loss: 0.9393 - val_loss: 1.2209\n",
      "Epoch 8/200\n",
      "1200/1200 [==============================] - 0s 34us/step - loss: 0.9277 - val_loss: 1.2025\n",
      "Epoch 9/200\n",
      "1200/1200 [==============================] - 0s 34us/step - loss: 0.9138 - val_loss: 1.1839\n",
      "Epoch 10/200\n",
      "1200/1200 [==============================] - 0s 30us/step - loss: 0.9007 - val_loss: 1.1660\n",
      "Epoch 11/200\n",
      "1200/1200 [==============================] - 0s 24us/step - loss: 0.8877 - val_loss: 1.1498\n",
      "Epoch 12/200\n",
      "1200/1200 [==============================] - 0s 23us/step - loss: 0.8747 - val_loss: 1.1357\n",
      "Epoch 13/200\n",
      "1200/1200 [==============================] - 0s 26us/step - loss: 0.8631 - val_loss: 1.1215\n",
      "Epoch 14/200\n",
      "1200/1200 [==============================] - 0s 24us/step - loss: 0.8516 - val_loss: 1.1088\n",
      "Epoch 15/200\n",
      "1200/1200 [==============================] - 0s 27us/step - loss: 0.8411 - val_loss: 1.0961\n",
      "Epoch 16/200\n",
      "1200/1200 [==============================] - 0s 23us/step - loss: 0.8309 - val_loss: 1.0848\n",
      "Epoch 17/200\n",
      "1200/1200 [==============================] - 0s 25us/step - loss: 0.8213 - val_loss: 1.0741\n",
      "Epoch 18/200\n",
      "1200/1200 [==============================] - 0s 25us/step - loss: 0.8128 - val_loss: 1.0640\n",
      "Epoch 19/200\n",
      "1200/1200 [==============================] - ETA: 0s - loss: 0.969 - 0s 26us/step - loss: 0.8044 - val_loss: 1.0546\n",
      "Epoch 20/200\n",
      "1200/1200 [==============================] - 0s 27us/step - loss: 0.7964 - val_loss: 1.0457\n",
      "Epoch 21/200\n",
      "1200/1200 [==============================] - 0s 27us/step - loss: 0.7889 - val_loss: 1.0370\n",
      "Epoch 22/200\n",
      "1200/1200 [==============================] - 0s 26us/step - loss: 0.7815 - val_loss: 1.0286\n",
      "Epoch 23/200\n",
      "1200/1200 [==============================] - 0s 23us/step - loss: 0.7748 - val_loss: 1.0208\n",
      "Epoch 24/200\n",
      "1200/1200 [==============================] - 0s 22us/step - loss: 0.7688 - val_loss: 1.0144\n",
      "Epoch 25/200\n",
      "1200/1200 [==============================] - 0s 26us/step - loss: 0.7637 - val_loss: 1.0088\n",
      "Epoch 26/200\n",
      "1200/1200 [==============================] - 0s 22us/step - loss: 0.7592 - val_loss: 1.0039\n",
      "Epoch 27/200\n",
      "1200/1200 [==============================] - 0s 22us/step - loss: 0.7555 - val_loss: 1.0000\n",
      "Epoch 28/200\n",
      "1200/1200 [==============================] - 0s 22us/step - loss: 0.7523 - val_loss: 0.9970\n",
      "Epoch 29/200\n",
      "1200/1200 [==============================] - 0s 23us/step - loss: 0.7496 - val_loss: 0.9946\n",
      "Epoch 30/200\n",
      "1200/1200 [==============================] - 0s 26us/step - loss: 0.7471 - val_loss: 0.9928\n",
      "Epoch 31/200\n",
      "1200/1200 [==============================] - 0s 27us/step - loss: 0.7450 - val_loss: 0.9910\n",
      "Epoch 32/200\n",
      "1200/1200 [==============================] - 0s 25us/step - loss: 0.7430 - val_loss: 0.9896\n",
      "Epoch 33/200\n",
      "1200/1200 [==============================] - 0s 23us/step - loss: 0.7413 - val_loss: 0.9884\n",
      "Epoch 34/200\n",
      "1200/1200 [==============================] - 0s 24us/step - loss: 0.7397 - val_loss: 0.9871\n",
      "Epoch 35/200\n",
      "1200/1200 [==============================] - 0s 24us/step - loss: 0.7382 - val_loss: 0.9860\n",
      "Epoch 36/200\n",
      "1200/1200 [==============================] - 0s 23us/step - loss: 0.7368 - val_loss: 0.9848\n",
      "Epoch 37/200\n",
      "1200/1200 [==============================] - 0s 22us/step - loss: 0.7355 - val_loss: 0.9837\n",
      "Epoch 38/200\n",
      "1200/1200 [==============================] - 0s 23us/step - loss: 0.7342 - val_loss: 0.9828\n",
      "Epoch 39/200\n",
      "1200/1200 [==============================] - 0s 23us/step - loss: 0.7330 - val_loss: 0.9818\n",
      "Epoch 40/200\n",
      "1200/1200 [==============================] - 0s 23us/step - loss: 0.7318 - val_loss: 0.9807\n",
      "Epoch 41/200\n",
      "1200/1200 [==============================] - 0s 22us/step - loss: 0.7308 - val_loss: 0.9797\n",
      "Epoch 42/200\n",
      "1200/1200 [==============================] - 0s 23us/step - loss: 0.7297 - val_loss: 0.9788\n",
      "Epoch 43/200\n",
      "1200/1200 [==============================] - 0s 24us/step - loss: 0.7286 - val_loss: 0.9780\n",
      "Epoch 44/200\n",
      "1200/1200 [==============================] - 0s 22us/step - loss: 0.7276 - val_loss: 0.9771\n",
      "Epoch 45/200\n",
      "1200/1200 [==============================] - 0s 24us/step - loss: 0.7266 - val_loss: 0.9761\n",
      "Epoch 46/200\n",
      "1200/1200 [==============================] - 0s 24us/step - loss: 0.7256 - val_loss: 0.9751\n",
      "Epoch 47/200\n",
      "1200/1200 [==============================] - 0s 23us/step - loss: 0.7246 - val_loss: 0.9739\n",
      "Epoch 48/200\n",
      "1200/1200 [==============================] - 0s 23us/step - loss: 0.7236 - val_loss: 0.9731\n",
      "Epoch 49/200\n",
      "1200/1200 [==============================] - 0s 22us/step - loss: 0.7227 - val_loss: 0.9723\n",
      "Epoch 50/200\n",
      "1200/1200 [==============================] - 0s 23us/step - loss: 0.7217 - val_loss: 0.9710\n",
      "Epoch 51/200\n",
      "1200/1200 [==============================] - 0s 23us/step - loss: 0.7207 - val_loss: 0.9697\n",
      "Epoch 52/200\n",
      "1200/1200 [==============================] - 0s 22us/step - loss: 0.7197 - val_loss: 0.9689\n",
      "Epoch 53/200\n",
      "1200/1200 [==============================] - 0s 23us/step - loss: 0.7187 - val_loss: 0.9679\n",
      "Epoch 54/200\n",
      "1200/1200 [==============================] - 0s 23us/step - loss: 0.7176 - val_loss: 0.9667\n",
      "Epoch 55/200\n",
      "1200/1200 [==============================] - 0s 24us/step - loss: 0.7165 - val_loss: 0.9654\n",
      "Epoch 56/200\n",
      "1200/1200 [==============================] - 0s 23us/step - loss: 0.7154 - val_loss: 0.9644\n",
      "Epoch 57/200\n",
      "1200/1200 [==============================] - 0s 23us/step - loss: 0.7143 - val_loss: 0.9631\n",
      "Epoch 58/200\n",
      "1200/1200 [==============================] - 0s 22us/step - loss: 0.7131 - val_loss: 0.9619\n",
      "Epoch 59/200\n",
      "1200/1200 [==============================] - 0s 22us/step - loss: 0.7120 - val_loss: 0.9607\n",
      "Epoch 60/200\n",
      "1200/1200 [==============================] - 0s 23us/step - loss: 0.7108 - val_loss: 0.9595\n",
      "Epoch 61/200\n",
      "1200/1200 [==============================] - 0s 23us/step - loss: 0.7096 - val_loss: 0.9582\n",
      "Epoch 62/200\n",
      "1200/1200 [==============================] - 0s 23us/step - loss: 0.7084 - val_loss: 0.9568\n",
      "Epoch 63/200\n",
      "1200/1200 [==============================] - 0s 24us/step - loss: 0.7073 - val_loss: 0.9556\n",
      "Epoch 64/200\n",
      "1200/1200 [==============================] - 0s 22us/step - loss: 0.7061 - val_loss: 0.9545\n",
      "Epoch 65/200\n",
      "1200/1200 [==============================] - 0s 24us/step - loss: 0.7050 - val_loss: 0.9533\n",
      "Epoch 66/200\n",
      "1200/1200 [==============================] - 0s 23us/step - loss: 0.7039 - val_loss: 0.9520\n",
      "Epoch 67/200\n",
      "1200/1200 [==============================] - 0s 23us/step - loss: 0.7029 - val_loss: 0.9509\n",
      "Epoch 68/200\n",
      "1200/1200 [==============================] - 0s 23us/step - loss: 0.7019 - val_loss: 0.9499\n",
      "Epoch 69/200\n",
      "1200/1200 [==============================] - 0s 23us/step - loss: 0.7009 - val_loss: 0.9490\n",
      "Epoch 70/200\n",
      "1200/1200 [==============================] - 0s 24us/step - loss: 0.7000 - val_loss: 0.9481\n",
      "Epoch 71/200\n",
      "1200/1200 [==============================] - 0s 23us/step - loss: 0.6990 - val_loss: 0.9471\n",
      "Epoch 72/200\n",
      "1200/1200 [==============================] - 0s 23us/step - loss: 0.6981 - val_loss: 0.9459\n",
      "Epoch 73/200\n",
      "1200/1200 [==============================] - 0s 24us/step - loss: 0.6972 - val_loss: 0.9452\n",
      "Epoch 74/200\n",
      "1200/1200 [==============================] - 0s 23us/step - loss: 0.6964 - val_loss: 0.9443\n",
      "Epoch 75/200\n",
      "1200/1200 [==============================] - 0s 23us/step - loss: 0.6955 - val_loss: 0.9436\n",
      "Epoch 76/200\n",
      "1200/1200 [==============================] - 0s 23us/step - loss: 0.6948 - val_loss: 0.9429\n",
      "Epoch 77/200\n",
      "1200/1200 [==============================] - 0s 22us/step - loss: 0.6941 - val_loss: 0.9424\n",
      "Epoch 78/200\n"
     ]
    },
    {
     "name": "stdout",
     "output_type": "stream",
     "text": [
      "1200/1200 [==============================] - 0s 22us/step - loss: 0.6935 - val_loss: 0.9419\n",
      "Epoch 79/200\n",
      "1200/1200 [==============================] - 0s 24us/step - loss: 0.6928 - val_loss: 0.9416\n",
      "Epoch 80/200\n",
      "1200/1200 [==============================] - 0s 23us/step - loss: 0.6922 - val_loss: 0.9412\n",
      "Epoch 81/200\n",
      "1200/1200 [==============================] - 0s 22us/step - loss: 0.6917 - val_loss: 0.9408\n",
      "Epoch 82/200\n",
      "1200/1200 [==============================] - 0s 23us/step - loss: 0.6911 - val_loss: 0.9404\n",
      "Epoch 83/200\n",
      "1200/1200 [==============================] - 0s 24us/step - loss: 0.6905 - val_loss: 0.9401\n",
      "Epoch 84/200\n",
      "1200/1200 [==============================] - 0s 23us/step - loss: 0.6900 - val_loss: 0.9399\n",
      "Epoch 85/200\n",
      "1200/1200 [==============================] - 0s 24us/step - loss: 0.6895 - val_loss: 0.9396\n",
      "Epoch 86/200\n",
      "1200/1200 [==============================] - 0s 23us/step - loss: 0.6891 - val_loss: 0.9391\n",
      "Epoch 87/200\n",
      "1200/1200 [==============================] - 0s 24us/step - loss: 0.6886 - val_loss: 0.9386\n",
      "Epoch 88/200\n",
      "1200/1200 [==============================] - 0s 22us/step - loss: 0.6882 - val_loss: 0.9383\n",
      "Epoch 89/200\n",
      "1200/1200 [==============================] - 0s 24us/step - loss: 0.6878 - val_loss: 0.9382\n",
      "Epoch 90/200\n",
      "1200/1200 [==============================] - 0s 25us/step - loss: 0.6874 - val_loss: 0.9379\n",
      "Epoch 91/200\n",
      "1200/1200 [==============================] - 0s 27us/step - loss: 0.6870 - val_loss: 0.9378\n",
      "Epoch 92/200\n",
      "1200/1200 [==============================] - 0s 24us/step - loss: 0.6867 - val_loss: 0.9376\n",
      "Epoch 93/200\n",
      "1200/1200 [==============================] - 0s 24us/step - loss: 0.6864 - val_loss: 0.9370\n",
      "Epoch 94/200\n",
      "1200/1200 [==============================] - 0s 25us/step - loss: 0.6861 - val_loss: 0.9370\n",
      "Epoch 95/200\n",
      "1200/1200 [==============================] - 0s 27us/step - loss: 0.6857 - val_loss: 0.9367\n",
      "Epoch 96/200\n",
      "1200/1200 [==============================] - 0s 25us/step - loss: 0.6854 - val_loss: 0.9364\n",
      "Epoch 97/200\n",
      "1200/1200 [==============================] - 0s 21us/step - loss: 0.6851 - val_loss: 0.9362\n",
      "Epoch 98/200\n",
      "1200/1200 [==============================] - 0s 23us/step - loss: 0.6848 - val_loss: 0.9359\n",
      "Epoch 99/200\n",
      "1200/1200 [==============================] - 0s 23us/step - loss: 0.6846 - val_loss: 0.9357\n",
      "Epoch 100/200\n",
      "1200/1200 [==============================] - 0s 24us/step - loss: 0.6844 - val_loss: 0.9353\n",
      "Epoch 101/200\n",
      "1200/1200 [==============================] - 0s 24us/step - loss: 0.6842 - val_loss: 0.9351\n",
      "Epoch 102/200\n",
      "1200/1200 [==============================] - 0s 23us/step - loss: 0.6839 - val_loss: 0.9348\n",
      "Epoch 103/200\n",
      "1200/1200 [==============================] - 0s 23us/step - loss: 0.6837 - val_loss: 0.9344\n",
      "Epoch 104/200\n",
      "1200/1200 [==============================] - 0s 23us/step - loss: 0.6835 - val_loss: 0.9343\n",
      "Epoch 105/200\n",
      "1200/1200 [==============================] - 0s 22us/step - loss: 0.6833 - val_loss: 0.9340\n",
      "Epoch 106/200\n",
      "1200/1200 [==============================] - 0s 23us/step - loss: 0.6831 - val_loss: 0.9339\n",
      "Epoch 107/200\n",
      "1200/1200 [==============================] - 0s 24us/step - loss: 0.6829 - val_loss: 0.9340\n",
      "Epoch 108/200\n",
      "1200/1200 [==============================] - 0s 23us/step - loss: 0.6827 - val_loss: 0.9336\n",
      "Epoch 109/200\n",
      "1200/1200 [==============================] - 0s 25us/step - loss: 0.6825 - val_loss: 0.9336\n",
      "Epoch 110/200\n",
      "1200/1200 [==============================] - 0s 23us/step - loss: 0.6824 - val_loss: 0.9335\n",
      "Epoch 111/200\n",
      "1200/1200 [==============================] - 0s 23us/step - loss: 0.6822 - val_loss: 0.9334\n",
      "Epoch 112/200\n",
      "1200/1200 [==============================] - 0s 23us/step - loss: 0.6820 - val_loss: 0.9332\n",
      "Epoch 113/200\n",
      "1200/1200 [==============================] - 0s 23us/step - loss: 0.6819 - val_loss: 0.9330\n",
      "Epoch 114/200\n",
      "1200/1200 [==============================] - 0s 24us/step - loss: 0.6817 - val_loss: 0.9327\n",
      "Epoch 115/200\n",
      "1200/1200 [==============================] - 0s 25us/step - loss: 0.6816 - val_loss: 0.9324\n",
      "Epoch 116/200\n",
      "1200/1200 [==============================] - 0s 22us/step - loss: 0.6815 - val_loss: 0.9324\n",
      "Epoch 117/200\n",
      "1200/1200 [==============================] - 0s 23us/step - loss: 0.6813 - val_loss: 0.9324\n",
      "Epoch 118/200\n",
      "1200/1200 [==============================] - 0s 24us/step - loss: 0.6812 - val_loss: 0.9324\n",
      "Epoch 119/200\n",
      "1200/1200 [==============================] - 0s 23us/step - loss: 0.6811 - val_loss: 0.9322\n",
      "Epoch 120/200\n",
      "1200/1200 [==============================] - 0s 23us/step - loss: 0.6810 - val_loss: 0.9321\n",
      "Epoch 121/200\n",
      "1200/1200 [==============================] - 0s 24us/step - loss: 0.6808 - val_loss: 0.9321\n",
      "Epoch 122/200\n",
      "1200/1200 [==============================] - 0s 24us/step - loss: 0.6808 - val_loss: 0.9320\n",
      "Epoch 123/200\n",
      "1200/1200 [==============================] - 0s 24us/step - loss: 0.6806 - val_loss: 0.9320\n",
      "Epoch 124/200\n",
      "1200/1200 [==============================] - 0s 23us/step - loss: 0.6805 - val_loss: 0.9317\n",
      "Epoch 125/200\n",
      "1200/1200 [==============================] - 0s 24us/step - loss: 0.6804 - val_loss: 0.9316\n",
      "Epoch 126/200\n",
      "1200/1200 [==============================] - 0s 24us/step - loss: 0.6803 - val_loss: 0.9317\n",
      "Epoch 127/200\n",
      "1200/1200 [==============================] - 0s 25us/step - loss: 0.6802 - val_loss: 0.9315\n",
      "Epoch 128/200\n",
      "1200/1200 [==============================] - 0s 22us/step - loss: 0.6801 - val_loss: 0.9312\n",
      "Epoch 129/200\n",
      "1200/1200 [==============================] - 0s 24us/step - loss: 0.6800 - val_loss: 0.9311\n",
      "Epoch 130/200\n",
      "1200/1200 [==============================] - 0s 22us/step - loss: 0.6799 - val_loss: 0.9311\n",
      "Epoch 131/200\n",
      "1200/1200 [==============================] - 0s 24us/step - loss: 0.6798 - val_loss: 0.9311\n",
      "Epoch 132/200\n",
      "1200/1200 [==============================] - 0s 22us/step - loss: 0.6798 - val_loss: 0.9310\n",
      "Epoch 133/200\n",
      "1200/1200 [==============================] - 0s 22us/step - loss: 0.6796 - val_loss: 0.9311\n",
      "Epoch 134/200\n",
      "1200/1200 [==============================] - 0s 25us/step - loss: 0.6796 - val_loss: 0.9309\n",
      "Epoch 135/200\n",
      "1200/1200 [==============================] - 0s 22us/step - loss: 0.6794 - val_loss: 0.9311\n",
      "Epoch 136/200\n",
      "1200/1200 [==============================] - 0s 23us/step - loss: 0.6793 - val_loss: 0.9310\n",
      "Epoch 137/200\n",
      "1200/1200 [==============================] - 0s 23us/step - loss: 0.6793 - val_loss: 0.9310\n",
      "Epoch 138/200\n",
      "1200/1200 [==============================] - 0s 24us/step - loss: 0.6792 - val_loss: 0.9308\n",
      "Epoch 139/200\n",
      "1200/1200 [==============================] - 0s 23us/step - loss: 0.6791 - val_loss: 0.9306\n",
      "Epoch 140/200\n",
      "1200/1200 [==============================] - 0s 25us/step - loss: 0.6790 - val_loss: 0.9307\n",
      "Epoch 141/200\n",
      "1200/1200 [==============================] - 0s 23us/step - loss: 0.6790 - val_loss: 0.9307\n",
      "Epoch 142/200\n",
      "1200/1200 [==============================] - 0s 24us/step - loss: 0.6789 - val_loss: 0.9307\n",
      "Epoch 143/200\n",
      "1200/1200 [==============================] - 0s 23us/step - loss: 0.6788 - val_loss: 0.9308\n",
      "Epoch 144/200\n",
      "1200/1200 [==============================] - 0s 25us/step - loss: 0.6788 - val_loss: 0.9307\n",
      "Epoch 145/200\n",
      "1200/1200 [==============================] - 0s 23us/step - loss: 0.6786 - val_loss: 0.9305\n",
      "Epoch 146/200\n",
      "1200/1200 [==============================] - 0s 24us/step - loss: 0.6786 - val_loss: 0.9304\n",
      "Epoch 147/200\n",
      "1200/1200 [==============================] - 0s 23us/step - loss: 0.6785 - val_loss: 0.9302\n",
      "Epoch 148/200\n",
      "1200/1200 [==============================] - 0s 24us/step - loss: 0.6784 - val_loss: 0.9301\n",
      "Epoch 149/200\n",
      "1200/1200 [==============================] - 0s 25us/step - loss: 0.6784 - val_loss: 0.9302\n",
      "Epoch 150/200\n",
      "1200/1200 [==============================] - 0s 24us/step - loss: 0.6783 - val_loss: 0.9302\n",
      "Epoch 151/200\n",
      "1200/1200 [==============================] - 0s 28us/step - loss: 0.6783 - val_loss: 0.9305\n",
      "Epoch 152/200\n",
      "1200/1200 [==============================] - 0s 28us/step - loss: 0.6782 - val_loss: 0.9302\n",
      "Epoch 153/200\n",
      "1200/1200 [==============================] - 0s 27us/step - loss: 0.6781 - val_loss: 0.9299\n",
      "Epoch 154/200\n",
      "1200/1200 [==============================] - 0s 25us/step - loss: 0.6781 - val_loss: 0.9298\n",
      "Epoch 155/200\n"
     ]
    },
    {
     "name": "stdout",
     "output_type": "stream",
     "text": [
      "1200/1200 [==============================] - 0s 26us/step - loss: 0.6780 - val_loss: 0.9298\n",
      "Epoch 156/200\n",
      "1200/1200 [==============================] - 0s 27us/step - loss: 0.6780 - val_loss: 0.9298\n",
      "Epoch 157/200\n",
      "1200/1200 [==============================] - 0s 28us/step - loss: 0.6779 - val_loss: 0.9300\n",
      "Epoch 158/200\n",
      "1200/1200 [==============================] - 0s 24us/step - loss: 0.6778 - val_loss: 0.9297\n",
      "Epoch 159/200\n",
      "1200/1200 [==============================] - 0s 26us/step - loss: 0.6778 - val_loss: 0.9296\n",
      "Epoch 160/200\n",
      "1200/1200 [==============================] - 0s 27us/step - loss: 0.6778 - val_loss: 0.9297\n",
      "Epoch 161/200\n",
      "1200/1200 [==============================] - 0s 26us/step - loss: 0.6777 - val_loss: 0.9297\n",
      "Epoch 162/200\n",
      "1200/1200 [==============================] - 0s 23us/step - loss: 0.6776 - val_loss: 0.9295\n",
      "Epoch 163/200\n",
      "1200/1200 [==============================] - 0s 26us/step - loss: 0.6775 - val_loss: 0.9294\n",
      "Epoch 164/200\n",
      "1200/1200 [==============================] - 0s 23us/step - loss: 0.6775 - val_loss: 0.9295\n",
      "Epoch 165/200\n",
      "1200/1200 [==============================] - 0s 26us/step - loss: 0.6774 - val_loss: 0.9293\n",
      "Epoch 166/200\n",
      "1200/1200 [==============================] - 0s 25us/step - loss: 0.6774 - val_loss: 0.9293\n",
      "Epoch 167/200\n",
      "1200/1200 [==============================] - 0s 23us/step - loss: 0.6773 - val_loss: 0.9292\n",
      "Epoch 168/200\n",
      "1200/1200 [==============================] - 0s 26us/step - loss: 0.6773 - val_loss: 0.9291\n",
      "Epoch 169/200\n",
      "1200/1200 [==============================] - 0s 28us/step - loss: 0.6772 - val_loss: 0.9291\n",
      "Epoch 170/200\n",
      "1200/1200 [==============================] - 0s 28us/step - loss: 0.6771 - val_loss: 0.9288\n",
      "Epoch 171/200\n",
      "1200/1200 [==============================] - 0s 29us/step - loss: 0.6771 - val_loss: 0.9290\n",
      "Epoch 172/200\n",
      "1200/1200 [==============================] - 0s 26us/step - loss: 0.6770 - val_loss: 0.9287\n",
      "Epoch 173/200\n",
      "1200/1200 [==============================] - 0s 22us/step - loss: 0.6769 - val_loss: 0.9289\n",
      "Epoch 174/200\n",
      "1200/1200 [==============================] - 0s 27us/step - loss: 0.6768 - val_loss: 0.9287\n",
      "Epoch 175/200\n",
      "1200/1200 [==============================] - 0s 25us/step - loss: 0.6768 - val_loss: 0.9285\n",
      "Epoch 176/200\n",
      "1200/1200 [==============================] - 0s 23us/step - loss: 0.6767 - val_loss: 0.9283\n",
      "Epoch 177/200\n",
      "1200/1200 [==============================] - 0s 23us/step - loss: 0.6767 - val_loss: 0.9281\n",
      "Epoch 178/200\n",
      "1200/1200 [==============================] - 0s 22us/step - loss: 0.6765 - val_loss: 0.9283\n",
      "Epoch 179/200\n",
      "1200/1200 [==============================] - 0s 23us/step - loss: 0.6764 - val_loss: 0.9282\n",
      "Epoch 180/200\n",
      "1200/1200 [==============================] - 0s 22us/step - loss: 0.6763 - val_loss: 0.9282\n",
      "Epoch 181/200\n",
      "1200/1200 [==============================] - 0s 23us/step - loss: 0.6763 - val_loss: 0.9282\n",
      "Epoch 182/200\n",
      "1200/1200 [==============================] - 0s 23us/step - loss: 0.6762 - val_loss: 0.9281\n",
      "Epoch 183/200\n",
      "1200/1200 [==============================] - 0s 24us/step - loss: 0.6761 - val_loss: 0.9280\n",
      "Epoch 184/200\n",
      "1200/1200 [==============================] - 0s 22us/step - loss: 0.6761 - val_loss: 0.9281\n",
      "Epoch 185/200\n",
      "1200/1200 [==============================] - 0s 24us/step - loss: 0.6760 - val_loss: 0.9277\n",
      "Epoch 186/200\n",
      "1200/1200 [==============================] - 0s 23us/step - loss: 0.6759 - val_loss: 0.9276\n",
      "Epoch 187/200\n",
      "1200/1200 [==============================] - 0s 22us/step - loss: 0.6758 - val_loss: 0.9274\n",
      "Epoch 188/200\n",
      "1200/1200 [==============================] - 0s 22us/step - loss: 0.6758 - val_loss: 0.9271\n",
      "Epoch 189/200\n",
      "1200/1200 [==============================] - 0s 22us/step - loss: 0.6756 - val_loss: 0.9271\n",
      "Epoch 190/200\n",
      "1200/1200 [==============================] - 0s 22us/step - loss: 0.6756 - val_loss: 0.9271\n",
      "Epoch 191/200\n",
      "1200/1200 [==============================] - 0s 23us/step - loss: 0.6755 - val_loss: 0.9267\n",
      "Epoch 192/200\n",
      "1200/1200 [==============================] - 0s 23us/step - loss: 0.6754 - val_loss: 0.9266\n",
      "Epoch 193/200\n",
      "1200/1200 [==============================] - 0s 24us/step - loss: 0.6753 - val_loss: 0.9263\n",
      "Epoch 194/200\n",
      "1200/1200 [==============================] - 0s 23us/step - loss: 0.6752 - val_loss: 0.9263\n",
      "Epoch 195/200\n",
      "1200/1200 [==============================] - 0s 22us/step - loss: 0.6751 - val_loss: 0.9261\n",
      "Epoch 196/200\n",
      "1200/1200 [==============================] - 0s 23us/step - loss: 0.6750 - val_loss: 0.9257\n",
      "Epoch 197/200\n",
      "1200/1200 [==============================] - 0s 23us/step - loss: 0.6748 - val_loss: 0.9255\n",
      "Epoch 198/200\n",
      "1200/1200 [==============================] - 0s 23us/step - loss: 0.6746 - val_loss: 0.9250\n",
      "Epoch 199/200\n",
      "1200/1200 [==============================] - 0s 23us/step - loss: 0.6745 - val_loss: 0.9242\n",
      "Epoch 200/200\n",
      "1200/1200 [==============================] - 0s 23us/step - loss: 0.6741 - val_loss: 0.9236\n"
     ]
    },
    {
     "data": {
      "text/plain": [
       "<keras.callbacks.History at 0x1871f5e5390>"
      ]
     },
     "execution_count": 133,
     "metadata": {},
     "output_type": "execute_result"
    }
   ],
   "source": [
    "#训练模型\n",
    "model.fit(X_train,X_train,batch_size=batch_size,epochs=epochs,validation_data=[X_eval,X_eval])"
   ]
  },
  {
   "cell_type": "code",
   "execution_count": 134,
   "metadata": {},
   "outputs": [
    {
     "data": {
      "text/plain": [
       "array([-0.05346571,  1.07885292,  1.45989574, -0.31540135,  2.41822112,\n",
       "        0.84191642, -0.30134655,  2.25949286, -0.31508197, -0.22137801,\n",
       "       -0.35524414,  2.24948554,  0.34181263, -0.18690475,  0.36795947,\n",
       "       -0.3347291 ,  0.36858629, -0.35569965,  0.77516707,  1.06873154,\n",
       "       -0.09205746,  1.93572254,  0.823777  , -0.22115082, -0.20716782,\n",
       "       -0.20537302,  2.21576743, -0.10208177,  1.03850912,  0.60720133,\n",
       "       -0.22108416, -0.19660805, -0.2804195 ,  2.20879186,  0.83927068,\n",
       "        1.68030492,  0.48775033, -0.24990615, -0.09788785, -0.18598453,\n",
       "       -0.37098818, -0.19674627, -0.3646664 , -0.11772483,  0.47486479,\n",
       "       -0.14614202, -0.20743165, -0.08320503,  0.02367394, -0.24900301])"
      ]
     },
     "execution_count": 134,
     "metadata": {},
     "output_type": "execute_result"
    }
   ],
   "source": [
    "X_eval[0]"
   ]
  },
  {
   "cell_type": "code",
   "execution_count": 135,
   "metadata": {},
   "outputs": [
    {
     "data": {
      "text/plain": [
       "array([ 7.83363637e-03,  3.05938646e-02,  1.87614307e-01, -3.18488568e-01,\n",
       "       -2.47021124e-01,  5.92346251e-01, -1.95990294e-01, -2.75433272e-01,\n",
       "       -4.22779471e-01, -4.41464037e-01, -3.50319356e-01,  7.37039089e-01,\n",
       "        4.85924274e-01, -2.31294990e-01,  1.19208544e-01,  5.47297716e-01,\n",
       "       -3.68729472e-01, -3.83584619e-01,  1.32920131e-01, -6.36089802e-01,\n",
       "        8.93810764e-02,  8.13098431e-01, -1.55666396e-01, -4.51933861e-01,\n",
       "       -2.67786235e-01, -4.36788291e-01,  5.71994185e-01,  1.72685862e-01,\n",
       "       -6.48004711e-01,  4.14501011e-01,  2.98126817e-01,  9.47159901e-02,\n",
       "        1.81080759e-01,  5.63550711e-01, -1.83933884e-01,  7.42452264e-01,\n",
       "       -6.90693617e-01,  4.50355411e-02,  4.79235110e-04, -4.55027699e-01,\n",
       "       -3.82298738e-01,  2.31845364e-01, -4.24821705e-01,  6.11436516e-02,\n",
       "       -6.80481434e-01,  1.99638188e-01,  3.07032645e-01,  8.80121216e-02,\n",
       "       -5.89714766e-01, -3.23890716e-01], dtype=float32)"
      ]
     },
     "execution_count": 135,
     "metadata": {},
     "output_type": "execute_result"
    }
   ],
   "source": [
    "model.predict(X_eval)[0]"
   ]
  },
  {
   "cell_type": "code",
   "execution_count": 136,
   "metadata": {},
   "outputs": [
    {
     "data": {
      "text/plain": [
       "array([0., 0.], dtype=float32)"
      ]
     },
     "execution_count": 136,
     "metadata": {},
     "output_type": "execute_result"
    }
   ],
   "source": [
    "encode_layer_model.predict(X_eval)[0]"
   ]
  },
  {
   "cell_type": "code",
   "execution_count": 137,
   "metadata": {},
   "outputs": [
    {
     "data": {
      "text/plain": [
       "(0.061967892988946165, 0.9590316362884932)"
      ]
     },
     "execution_count": 137,
     "metadata": {},
     "output_type": "execute_result"
    }
   ],
   "source": [
    "np.mean(X_eval-model.predict(X_eval)),np.std(X_eval-model.predict(X_eval))"
   ]
  },
  {
   "cell_type": "code",
   "execution_count": 138,
   "metadata": {},
   "outputs": [],
   "source": [
    "ae_new_features=encode_layer_model.predict(ae_standard_np)"
   ]
  },
  {
   "cell_type": "code",
   "execution_count": 139,
   "metadata": {},
   "outputs": [
    {
     "data": {
      "text/plain": [
       "(1309, 2)"
      ]
     },
     "execution_count": 139,
     "metadata": {},
     "output_type": "execute_result"
    }
   ],
   "source": [
    "ae_new_features.shape"
   ]
  },
  {
   "cell_type": "code",
   "execution_count": 140,
   "metadata": {},
   "outputs": [
    {
     "data": {
      "text/plain": [
       "(0.7239314335888142, 0.03453524929139952)"
      ]
     },
     "execution_count": 140,
     "metadata": {},
     "output_type": "execute_result"
    }
   ],
   "source": [
    "#gbdt\n",
    "classifier=GradientBoostingClassifier()\n",
    "scores = cross_val_score(classifier,ae_new_features[:891], labels, scoring='f1', cv = 5)\n",
    "np.mean(scores),np.std(scores)"
   ]
  },
  {
   "cell_type": "code",
   "execution_count": 141,
   "metadata": {},
   "outputs": [
    {
     "data": {
      "image/png": "[encoded data removed]",
      "text/plain": [
       "<Figure size 432x288 with 1 Axes>"
      ]
     },
     "metadata": {},
     "output_type": "display_data"
    }
   ],
   "source": [
    "plt.scatter(ae_new_features[:891][:, 0], ae_new_features[:891][:, 1],marker='o',c=labels)\n",
    "plt.show()"
   ]
  },
  {
   "cell_type": "markdown",
   "metadata": {},
   "source": [
    "特征转换似乎都不能提高效果\n",
    "\n",
    "##### 特征增强总结\n",
    "特征增强很关键，是后续操作的基础，其实最有用的在于造出make sense的特征，从之前的操作来看我们造了几个make sense的特征就立即把模型从0.77+提升到了0.78+，而通过后续一系列的复杂特征变换（聚类、交互特征、特征选择...）才从0.78+提升到0.79+，接下来我们在features_select_top_50_df基础上尝试一些数据增强的方式；  \n",
    "\n",
    "#### 4.2 数据增强\n",
    "提供更多数据给模型训练，可从两方面来考虑：  \n",
    "\n",
    "（1）利用其余的未标记数据进行无监督学习，在我们的标记数据进行监督学习（半监督学习），比如nlp任务中收集海量的文本数据训练embedding，然后再在其他nlp任务上做fine tuning；  \n",
    "（2）在当前数据的基础上造出相似的数据，比如nlp任务中删除某一个词、替换同义词...，cv任务中缩放、旋转、翻转图片、gan..."
   ]
  },
  {
   "cell_type": "markdown",
   "metadata": {},
   "source": [
    "##### 4.2.1 数据增强-半监督学习\n",
    "这里没有多余的feature数据，我们假设test部分就是多出来的部分；  \n",
    "\n",
    "在pca上做对比..."
   ]
  },
  {
   "cell_type": "code",
   "execution_count": 142,
   "metadata": {},
   "outputs": [
    {
     "data": {
      "text/plain": [
       "(0.7869778256471462, 0.04632909196824784)"
      ]
     },
     "execution_count": 142,
     "metadata": {},
     "output_type": "execute_result"
    }
   ],
   "source": [
    "#增强前\n",
    "standard_df=StandardScaler().fit_transform(features_select_top_50_df[:891])\n",
    "X_pca=PCA(n_components=20).fit_transform(standard_df)\n",
    "#gbdt\n",
    "classifier=GradientBoostingClassifier()\n",
    "scores = cross_val_score(classifier,X_pca, labels, scoring='f1', cv = 5)\n",
    "np.mean(scores),np.std(scores)"
   ]
  },
  {
   "cell_type": "code",
   "execution_count": 143,
   "metadata": {},
   "outputs": [
    {
     "data": {
      "text/plain": [
       "(0.763428968432331, 0.03881049441273469)"
      ]
     },
     "execution_count": 143,
     "metadata": {},
     "output_type": "execute_result"
    }
   ],
   "source": [
    "#增强后\n",
    "standard_df=StandardScaler().fit_transform(features_select_top_50_df)\n",
    "X_pca=PCA(n_components=20).fit_transform(standard_df)\n",
    "#gbdt\n",
    "classifier=GradientBoostingClassifier()\n",
    "scores = cross_val_score(classifier,X_pca[:891], labels, scoring='f1', cv = 5)\n",
    "np.mean(scores),np.std(scores)"
   ]
  },
  {
   "cell_type": "markdown",
   "metadata": {},
   "source": [
    "在ae上对比..."
   ]
  },
  {
   "cell_type": "code",
   "execution_count": 144,
   "metadata": {},
   "outputs": [
    {
     "name": "stdout",
     "output_type": "stream",
     "text": [
      "Train on 750 samples, validate on 141 samples\n",
      "Epoch 1/200\n",
      "750/750 [==============================] - 0s 261us/step - loss: 1.1082 - val_loss: 1.1191\n",
      "Epoch 2/200\n",
      "750/750 [==============================] - 0s 25us/step - loss: 1.0619 - val_loss: 1.0685\n",
      "Epoch 3/200\n",
      "750/750 [==============================] - 0s 27us/step - loss: 1.0177 - val_loss: 1.0238\n",
      "Epoch 4/200\n",
      "750/750 [==============================] - 0s 28us/step - loss: 0.9777 - val_loss: 0.9838\n",
      "Epoch 5/200\n",
      "750/750 [==============================] - 0s 27us/step - loss: 0.9425 - val_loss: 0.9484\n",
      "Epoch 6/200\n",
      "750/750 [==============================] - 0s 28us/step - loss: 0.9100 - val_loss: 0.9165\n",
      "Epoch 7/200\n",
      "750/750 [==============================] - 0s 27us/step - loss: 0.8807 - val_loss: 0.8885\n",
      "Epoch 8/200\n",
      "750/750 [==============================] - 0s 27us/step - loss: 0.8541 - val_loss: 0.8621\n",
      "Epoch 9/200\n",
      "750/750 [==============================] - 0s 27us/step - loss: 0.8298 - val_loss: 0.8371\n",
      "Epoch 10/200\n",
      "750/750 [==============================] - 0s 27us/step - loss: 0.8068 - val_loss: 0.8131\n",
      "Epoch 11/200\n",
      "750/750 [==============================] - 0s 27us/step - loss: 0.7851 - val_loss: 0.7898\n",
      "Epoch 12/200\n",
      "750/750 [==============================] - 0s 27us/step - loss: 0.7641 - val_loss: 0.7681\n",
      "Epoch 13/200\n",
      "750/750 [==============================] - 0s 25us/step - loss: 0.7445 - val_loss: 0.7475\n",
      "Epoch 14/200\n",
      "750/750 [==============================] - 0s 27us/step - loss: 0.7261 - val_loss: 0.7285\n",
      "Epoch 15/200\n",
      "750/750 [==============================] - 0s 28us/step - loss: 0.7087 - val_loss: 0.7112\n",
      "Epoch 16/200\n",
      "750/750 [==============================] - 0s 27us/step - loss: 0.6922 - val_loss: 0.6951\n",
      "Epoch 17/200\n",
      "750/750 [==============================] - 0s 27us/step - loss: 0.6766 - val_loss: 0.6807\n",
      "Epoch 18/200\n",
      "750/750 [==============================] - 0s 27us/step - loss: 0.6629 - val_loss: 0.6675\n",
      "Epoch 19/200\n",
      "750/750 [==============================] - 0s 27us/step - loss: 0.6498 - val_loss: 0.6557\n",
      "Epoch 20/200\n",
      "750/750 [==============================] - 0s 28us/step - loss: 0.6381 - val_loss: 0.6450\n",
      "Epoch 21/200\n",
      "750/750 [==============================] - 0s 28us/step - loss: 0.6275 - val_loss: 0.6353\n",
      "Epoch 22/200\n",
      "750/750 [==============================] - 0s 29us/step - loss: 0.6179 - val_loss: 0.6267\n",
      "Epoch 23/200\n",
      "750/750 [==============================] - 0s 28us/step - loss: 0.6096 - val_loss: 0.6188\n",
      "Epoch 24/200\n",
      "750/750 [==============================] - 0s 27us/step - loss: 0.6019 - val_loss: 0.6115\n",
      "Epoch 25/200\n",
      "750/750 [==============================] - 0s 28us/step - loss: 0.5949 - val_loss: 0.6047\n",
      "Epoch 26/200\n",
      "750/750 [==============================] - 0s 29us/step - loss: 0.5883 - val_loss: 0.5985\n",
      "Epoch 27/200\n",
      "750/750 [==============================] - 0s 29us/step - loss: 0.5823 - val_loss: 0.5927\n",
      "Epoch 28/200\n",
      "750/750 [==============================] - 0s 32us/step - loss: 0.5767 - val_loss: 0.5874\n",
      "Epoch 29/200\n",
      "750/750 [==============================] - 0s 24us/step - loss: 0.5715 - val_loss: 0.5823\n",
      "Epoch 30/200\n",
      "750/750 [==============================] - 0s 31us/step - loss: 0.5666 - val_loss: 0.5777\n",
      "Epoch 31/200\n",
      "750/750 [==============================] - 0s 27us/step - loss: 0.5621 - val_loss: 0.5733\n",
      "Epoch 32/200\n",
      "750/750 [==============================] - 0s 25us/step - loss: 0.5579 - val_loss: 0.5691\n",
      "Epoch 33/200\n",
      "750/750 [==============================] - 0s 28us/step - loss: 0.5539 - val_loss: 0.5653\n",
      "Epoch 34/200\n",
      "750/750 [==============================] - 0s 32us/step - loss: 0.5502 - val_loss: 0.5617\n",
      "Epoch 35/200\n",
      "750/750 [==============================] - 0s 37us/step - loss: 0.5468 - val_loss: 0.5585\n",
      "Epoch 36/200\n",
      "750/750 [==============================] - 0s 31us/step - loss: 0.5434 - val_loss: 0.5552\n",
      "Epoch 37/200\n",
      "750/750 [==============================] - 0s 29us/step - loss: 0.5404 - val_loss: 0.5522\n",
      "Epoch 38/200\n",
      "750/750 [==============================] - 0s 31us/step - loss: 0.5375 - val_loss: 0.5495\n",
      "Epoch 39/200\n",
      "750/750 [==============================] - 0s 28us/step - loss: 0.5347 - val_loss: 0.5468\n",
      "Epoch 40/200\n",
      "750/750 [==============================] - 0s 31us/step - loss: 0.5321 - val_loss: 0.5442\n",
      "Epoch 41/200\n",
      "750/750 [==============================] - 0s 36us/step - loss: 0.5297 - val_loss: 0.5418\n",
      "Epoch 42/200\n",
      "750/750 [==============================] - 0s 28us/step - loss: 0.5272 - val_loss: 0.5395\n",
      "Epoch 43/200\n",
      "750/750 [==============================] - 0s 28us/step - loss: 0.5250 - val_loss: 0.5373\n",
      "Epoch 44/200\n",
      "750/750 [==============================] - 0s 29us/step - loss: 0.5229 - val_loss: 0.5353\n",
      "Epoch 45/200\n",
      "750/750 [==============================] - 0s 32us/step - loss: 0.5208 - val_loss: 0.5334\n",
      "Epoch 46/200\n",
      "750/750 [==============================] - 0s 29us/step - loss: 0.5189 - val_loss: 0.5314\n",
      "Epoch 47/200\n",
      "750/750 [==============================] - 0s 28us/step - loss: 0.5170 - val_loss: 0.5296\n",
      "Epoch 48/200\n",
      "750/750 [==============================] - 0s 29us/step - loss: 0.5152 - val_loss: 0.5279\n",
      "Epoch 49/200\n",
      "750/750 [==============================] - 0s 31us/step - loss: 0.5135 - val_loss: 0.5262\n",
      "Epoch 50/200\n",
      "750/750 [==============================] - 0s 29us/step - loss: 0.5119 - val_loss: 0.5246\n",
      "Epoch 51/200\n",
      "750/750 [==============================] - 0s 28us/step - loss: 0.5104 - val_loss: 0.5230\n",
      "Epoch 52/200\n",
      "750/750 [==============================] - 0s 29us/step - loss: 0.5089 - val_loss: 0.5215\n",
      "Epoch 53/200\n",
      "750/750 [==============================] - 0s 29us/step - loss: 0.5074 - val_loss: 0.5200\n",
      "Epoch 54/200\n",
      "750/750 [==============================] - 0s 32us/step - loss: 0.5061 - val_loss: 0.5187\n",
      "Epoch 55/200\n",
      "750/750 [==============================] - 0s 28us/step - loss: 0.5048 - val_loss: 0.5174\n",
      "Epoch 56/200\n",
      "750/750 [==============================] - 0s 32us/step - loss: 0.5035 - val_loss: 0.5161\n",
      "Epoch 57/200\n",
      "750/750 [==============================] - 0s 39us/step - loss: 0.5023 - val_loss: 0.5150\n",
      "Epoch 58/200\n",
      "750/750 [==============================] - 0s 43us/step - loss: 0.5012 - val_loss: 0.5138\n",
      "Epoch 59/200\n",
      "750/750 [==============================] - 0s 35us/step - loss: 0.5001 - val_loss: 0.5127\n",
      "Epoch 60/200\n",
      "750/750 [==============================] - 0s 29us/step - loss: 0.4990 - val_loss: 0.5116\n",
      "Epoch 61/200\n",
      "750/750 [==============================] - 0s 28us/step - loss: 0.4980 - val_loss: 0.5105\n",
      "Epoch 62/200\n",
      "750/750 [==============================] - 0s 27us/step - loss: 0.4970 - val_loss: 0.5095\n",
      "Epoch 63/200\n",
      "750/750 [==============================] - 0s 31us/step - loss: 0.4960 - val_loss: 0.5086\n",
      "Epoch 64/200\n",
      "750/750 [==============================] - 0s 29us/step - loss: 0.4951 - val_loss: 0.5076\n",
      "Epoch 65/200\n",
      "750/750 [==============================] - 0s 29us/step - loss: 0.4942 - val_loss: 0.5066\n",
      "Epoch 66/200\n",
      "750/750 [==============================] - 0s 31us/step - loss: 0.4933 - val_loss: 0.5058\n",
      "Epoch 67/200\n",
      "750/750 [==============================] - 0s 28us/step - loss: 0.4925 - val_loss: 0.5049\n",
      "Epoch 68/200\n",
      "750/750 [==============================] - 0s 25us/step - loss: 0.4917 - val_loss: 0.5041\n",
      "Epoch 69/200\n",
      "750/750 [==============================] - 0s 28us/step - loss: 0.4909 - val_loss: 0.5033\n",
      "Epoch 70/200\n",
      "750/750 [==============================] - 0s 28us/step - loss: 0.4901 - val_loss: 0.5025\n",
      "Epoch 71/200\n",
      "750/750 [==============================] - 0s 25us/step - loss: 0.4894 - val_loss: 0.5017\n",
      "Epoch 72/200\n",
      "750/750 [==============================] - 0s 32us/step - loss: 0.4887 - val_loss: 0.5010\n",
      "Epoch 73/200\n",
      "750/750 [==============================] - 0s 27us/step - loss: 0.4880 - val_loss: 0.5003\n",
      "Epoch 74/200\n",
      "750/750 [==============================] - 0s 28us/step - loss: 0.4874 - val_loss: 0.4997\n",
      "Epoch 75/200\n",
      "750/750 [==============================] - 0s 29us/step - loss: 0.4867 - val_loss: 0.4990\n",
      "Epoch 76/200\n",
      "750/750 [==============================] - ETA: 0s - loss: 0.620 - 0s 28us/step - loss: 0.4861 - val_loss: 0.4983\n",
      "Epoch 77/200\n",
      "750/750 [==============================] - 0s 27us/step - loss: 0.4855 - val_loss: 0.4976\n",
      "Epoch 78/200\n",
      "750/750 [==============================] - 0s 27us/step - loss: 0.4849 - val_loss: 0.4970\n",
      "Epoch 79/200\n",
      "750/750 [==============================] - 0s 25us/step - loss: 0.4844 - val_loss: 0.4965\n"
     ]
    },
    {
     "name": "stdout",
     "output_type": "stream",
     "text": [
      "Epoch 80/200\n",
      "750/750 [==============================] - 0s 27us/step - loss: 0.4838 - val_loss: 0.4958\n",
      "Epoch 81/200\n",
      "750/750 [==============================] - ETA: 0s - loss: 0.588 - 0s 28us/step - loss: 0.4832 - val_loss: 0.4953\n",
      "Epoch 82/200\n",
      "750/750 [==============================] - 0s 25us/step - loss: 0.4827 - val_loss: 0.4947\n",
      "Epoch 83/200\n",
      "750/750 [==============================] - 0s 28us/step - loss: 0.4822 - val_loss: 0.4941\n",
      "Epoch 84/200\n",
      "750/750 [==============================] - 0s 27us/step - loss: 0.4816 - val_loss: 0.4936\n",
      "Epoch 85/200\n",
      "750/750 [==============================] - 0s 25us/step - loss: 0.4811 - val_loss: 0.4931\n",
      "Epoch 86/200\n",
      "750/750 [==============================] - 0s 27us/step - loss: 0.4806 - val_loss: 0.4925\n",
      "Epoch 87/200\n",
      "750/750 [==============================] - 0s 24us/step - loss: 0.4801 - val_loss: 0.4920\n",
      "Epoch 88/200\n",
      "750/750 [==============================] - 0s 25us/step - loss: 0.4797 - val_loss: 0.4915\n",
      "Epoch 89/200\n",
      "750/750 [==============================] - 0s 24us/step - loss: 0.4792 - val_loss: 0.4910\n",
      "Epoch 90/200\n",
      "750/750 [==============================] - 0s 25us/step - loss: 0.4787 - val_loss: 0.4905\n",
      "Epoch 91/200\n",
      "750/750 [==============================] - 0s 27us/step - loss: 0.4783 - val_loss: 0.4901\n",
      "Epoch 92/200\n",
      "750/750 [==============================] - 0s 25us/step - loss: 0.4778 - val_loss: 0.4896\n",
      "Epoch 93/200\n",
      "750/750 [==============================] - 0s 23us/step - loss: 0.4774 - val_loss: 0.4891\n",
      "Epoch 94/200\n",
      "750/750 [==============================] - 0s 28us/step - loss: 0.4770 - val_loss: 0.4887\n",
      "Epoch 95/200\n",
      "750/750 [==============================] - 0s 25us/step - loss: 0.4766 - val_loss: 0.4884\n",
      "Epoch 96/200\n",
      "750/750 [==============================] - 0s 25us/step - loss: 0.4762 - val_loss: 0.4879\n",
      "Epoch 97/200\n",
      "750/750 [==============================] - 0s 28us/step - loss: 0.4758 - val_loss: 0.4874\n",
      "Epoch 98/200\n",
      "750/750 [==============================] - 0s 27us/step - loss: 0.4754 - val_loss: 0.4871\n",
      "Epoch 99/200\n",
      "750/750 [==============================] - 0s 27us/step - loss: 0.4750 - val_loss: 0.4867\n",
      "Epoch 100/200\n",
      "750/750 [==============================] - 0s 24us/step - loss: 0.4746 - val_loss: 0.4864\n",
      "Epoch 101/200\n",
      "750/750 [==============================] - 0s 27us/step - loss: 0.4742 - val_loss: 0.4860\n",
      "Epoch 102/200\n",
      "750/750 [==============================] - 0s 25us/step - loss: 0.4738 - val_loss: 0.4856\n",
      "Epoch 103/200\n",
      "750/750 [==============================] - 0s 29us/step - loss: 0.4735 - val_loss: 0.4851\n",
      "Epoch 104/200\n",
      "750/750 [==============================] - 0s 27us/step - loss: 0.4731 - val_loss: 0.4848\n",
      "Epoch 105/200\n",
      "750/750 [==============================] - 0s 27us/step - loss: 0.4728 - val_loss: 0.4844\n",
      "Epoch 106/200\n",
      "750/750 [==============================] - 0s 27us/step - loss: 0.4724 - val_loss: 0.4841\n",
      "Epoch 107/200\n",
      "750/750 [==============================] - 0s 27us/step - loss: 0.4721 - val_loss: 0.4837\n",
      "Epoch 108/200\n",
      "750/750 [==============================] - 0s 27us/step - loss: 0.4718 - val_loss: 0.4834\n",
      "Epoch 109/200\n",
      "750/750 [==============================] - 0s 24us/step - loss: 0.4714 - val_loss: 0.4830\n",
      "Epoch 110/200\n",
      "750/750 [==============================] - 0s 27us/step - loss: 0.4711 - val_loss: 0.4827\n",
      "Epoch 111/200\n",
      "750/750 [==============================] - 0s 27us/step - loss: 0.4708 - val_loss: 0.4823\n",
      "Epoch 112/200\n",
      "750/750 [==============================] - 0s 29us/step - loss: 0.4705 - val_loss: 0.4820\n",
      "Epoch 113/200\n",
      "750/750 [==============================] - 0s 31us/step - loss: 0.4702 - val_loss: 0.4817\n",
      "Epoch 114/200\n",
      "750/750 [==============================] - 0s 27us/step - loss: 0.4699 - val_loss: 0.4814\n",
      "Epoch 115/200\n",
      "750/750 [==============================] - 0s 24us/step - loss: 0.4696 - val_loss: 0.4811\n",
      "Epoch 116/200\n",
      "750/750 [==============================] - 0s 28us/step - loss: 0.4693 - val_loss: 0.4808\n",
      "Epoch 117/200\n",
      "750/750 [==============================] - 0s 27us/step - loss: 0.4690 - val_loss: 0.4805\n",
      "Epoch 118/200\n",
      "750/750 [==============================] - 0s 23us/step - loss: 0.4687 - val_loss: 0.4802\n",
      "Epoch 119/200\n",
      "750/750 [==============================] - 0s 25us/step - loss: 0.4685 - val_loss: 0.4799\n",
      "Epoch 120/200\n",
      "750/750 [==============================] - 0s 26us/step - loss: 0.4682 - val_loss: 0.4797\n",
      "Epoch 121/200\n",
      "750/750 [==============================] - 0s 27us/step - loss: 0.4679 - val_loss: 0.4794\n",
      "Epoch 122/200\n",
      "750/750 [==============================] - 0s 25us/step - loss: 0.4677 - val_loss: 0.4791\n",
      "Epoch 123/200\n",
      "750/750 [==============================] - 0s 27us/step - loss: 0.4674 - val_loss: 0.4788\n",
      "Epoch 124/200\n",
      "750/750 [==============================] - 0s 27us/step - loss: 0.4672 - val_loss: 0.4785\n",
      "Epoch 125/200\n",
      "750/750 [==============================] - 0s 28us/step - loss: 0.4669 - val_loss: 0.4783\n",
      "Epoch 126/200\n",
      "750/750 [==============================] - 0s 28us/step - loss: 0.4667 - val_loss: 0.4780\n",
      "Epoch 127/200\n",
      "750/750 [==============================] - 0s 25us/step - loss: 0.4664 - val_loss: 0.4779\n",
      "Epoch 128/200\n",
      "750/750 [==============================] - 0s 27us/step - loss: 0.4662 - val_loss: 0.4776\n",
      "Epoch 129/200\n",
      "750/750 [==============================] - 0s 24us/step - loss: 0.4659 - val_loss: 0.4774\n",
      "Epoch 130/200\n",
      "750/750 [==============================] - 0s 27us/step - loss: 0.4657 - val_loss: 0.4771\n",
      "Epoch 131/200\n",
      "750/750 [==============================] - 0s 25us/step - loss: 0.4655 - val_loss: 0.4769\n",
      "Epoch 132/200\n",
      "750/750 [==============================] - 0s 27us/step - loss: 0.4653 - val_loss: 0.4767\n",
      "Epoch 133/200\n",
      "750/750 [==============================] - 0s 25us/step - loss: 0.4651 - val_loss: 0.4765\n",
      "Epoch 134/200\n",
      "750/750 [==============================] - 0s 27us/step - loss: 0.4649 - val_loss: 0.4763\n",
      "Epoch 135/200\n",
      "750/750 [==============================] - 0s 25us/step - loss: 0.4646 - val_loss: 0.4761\n",
      "Epoch 136/200\n",
      "750/750 [==============================] - 0s 24us/step - loss: 0.4644 - val_loss: 0.4759\n",
      "Epoch 137/200\n",
      "750/750 [==============================] - 0s 24us/step - loss: 0.4642 - val_loss: 0.4757\n",
      "Epoch 138/200\n",
      "750/750 [==============================] - 0s 28us/step - loss: 0.4640 - val_loss: 0.4755\n",
      "Epoch 139/200\n",
      "750/750 [==============================] - 0s 28us/step - loss: 0.4638 - val_loss: 0.4753\n",
      "Epoch 140/200\n",
      "750/750 [==============================] - 0s 29us/step - loss: 0.4637 - val_loss: 0.4751\n",
      "Epoch 141/200\n",
      "750/750 [==============================] - 0s 29us/step - loss: 0.4635 - val_loss: 0.4749\n",
      "Epoch 142/200\n",
      "750/750 [==============================] - 0s 24us/step - loss: 0.4633 - val_loss: 0.4747\n",
      "Epoch 143/200\n",
      "750/750 [==============================] - 0s 28us/step - loss: 0.4631 - val_loss: 0.4746\n",
      "Epoch 144/200\n",
      "750/750 [==============================] - 0s 24us/step - loss: 0.4629 - val_loss: 0.4744\n",
      "Epoch 145/200\n",
      "750/750 [==============================] - 0s 25us/step - loss: 0.4627 - val_loss: 0.4743\n",
      "Epoch 146/200\n",
      "750/750 [==============================] - 0s 25us/step - loss: 0.4626 - val_loss: 0.4741\n",
      "Epoch 147/200\n",
      "750/750 [==============================] - 0s 28us/step - loss: 0.4624 - val_loss: 0.4738\n",
      "Epoch 148/200\n",
      "750/750 [==============================] - 0s 24us/step - loss: 0.4622 - val_loss: 0.4736\n",
      "Epoch 149/200\n",
      "750/750 [==============================] - 0s 27us/step - loss: 0.4620 - val_loss: 0.4735\n",
      "Epoch 150/200\n",
      "750/750 [==============================] - 0s 28us/step - loss: 0.4619 - val_loss: 0.4733\n",
      "Epoch 151/200\n",
      "750/750 [==============================] - 0s 28us/step - loss: 0.4617 - val_loss: 0.4732\n",
      "Epoch 152/200\n",
      "750/750 [==============================] - 0s 27us/step - loss: 0.4616 - val_loss: 0.4730\n",
      "Epoch 153/200\n",
      "750/750 [==============================] - 0s 24us/step - loss: 0.4614 - val_loss: 0.4728\n",
      "Epoch 154/200\n",
      "750/750 [==============================] - 0s 27us/step - loss: 0.4612 - val_loss: 0.4727\n",
      "Epoch 155/200\n",
      "750/750 [==============================] - 0s 32us/step - loss: 0.4611 - val_loss: 0.4725\n",
      "Epoch 156/200\n",
      "750/750 [==============================] - 0s 25us/step - loss: 0.4609 - val_loss: 0.4723\n",
      "Epoch 157/200\n",
      "750/750 [==============================] - 0s 25us/step - loss: 0.4608 - val_loss: 0.4721\n",
      "Epoch 158/200\n"
     ]
    },
    {
     "name": "stdout",
     "output_type": "stream",
     "text": [
      "750/750 [==============================] - 0s 28us/step - loss: 0.4606 - val_loss: 0.4719\n",
      "Epoch 159/200\n",
      "750/750 [==============================] - 0s 27us/step - loss: 0.4605 - val_loss: 0.4717\n",
      "Epoch 160/200\n",
      "750/750 [==============================] - 0s 25us/step - loss: 0.4603 - val_loss: 0.4716\n",
      "Epoch 161/200\n",
      "750/750 [==============================] - 0s 27us/step - loss: 0.4602 - val_loss: 0.4714\n",
      "Epoch 162/200\n",
      "750/750 [==============================] - 0s 27us/step - loss: 0.4600 - val_loss: 0.4712\n",
      "Epoch 163/200\n",
      "750/750 [==============================] - 0s 27us/step - loss: 0.4599 - val_loss: 0.4711\n",
      "Epoch 164/200\n",
      "750/750 [==============================] - 0s 27us/step - loss: 0.4597 - val_loss: 0.4708\n",
      "Epoch 165/200\n",
      "750/750 [==============================] - 0s 27us/step - loss: 0.4596 - val_loss: 0.4706\n",
      "Epoch 166/200\n",
      "750/750 [==============================] - 0s 25us/step - loss: 0.4594 - val_loss: 0.4704\n",
      "Epoch 167/200\n",
      "750/750 [==============================] - 0s 28us/step - loss: 0.4593 - val_loss: 0.4703\n",
      "Epoch 168/200\n",
      "750/750 [==============================] - 0s 28us/step - loss: 0.4592 - val_loss: 0.4701\n",
      "Epoch 169/200\n",
      "750/750 [==============================] - 0s 24us/step - loss: 0.4590 - val_loss: 0.4699\n",
      "Epoch 170/200\n",
      "750/750 [==============================] - 0s 28us/step - loss: 0.4589 - val_loss: 0.4698\n",
      "Epoch 171/200\n",
      "750/750 [==============================] - 0s 25us/step - loss: 0.4588 - val_loss: 0.4696\n",
      "Epoch 172/200\n",
      "750/750 [==============================] - 0s 33us/step - loss: 0.4586 - val_loss: 0.4695\n",
      "Epoch 173/200\n",
      "750/750 [==============================] - 0s 35us/step - loss: 0.4585 - val_loss: 0.4694\n",
      "Epoch 174/200\n",
      "750/750 [==============================] - 0s 32us/step - loss: 0.4584 - val_loss: 0.4692\n",
      "Epoch 175/200\n",
      "750/750 [==============================] - 0s 32us/step - loss: 0.4582 - val_loss: 0.4690\n",
      "Epoch 176/200\n",
      "750/750 [==============================] - 0s 24us/step - loss: 0.4581 - val_loss: 0.4689\n",
      "Epoch 177/200\n",
      "750/750 [==============================] - 0s 25us/step - loss: 0.4580 - val_loss: 0.4687\n",
      "Epoch 178/200\n",
      "750/750 [==============================] - 0s 25us/step - loss: 0.4579 - val_loss: 0.4687\n",
      "Epoch 179/200\n",
      "750/750 [==============================] - 0s 28us/step - loss: 0.4578 - val_loss: 0.4685\n",
      "Epoch 180/200\n",
      "750/750 [==============================] - 0s 27us/step - loss: 0.4576 - val_loss: 0.4683\n",
      "Epoch 181/200\n",
      "750/750 [==============================] - 0s 27us/step - loss: 0.4575 - val_loss: 0.4682\n",
      "Epoch 182/200\n",
      "750/750 [==============================] - 0s 28us/step - loss: 0.4574 - val_loss: 0.4681\n",
      "Epoch 183/200\n",
      "750/750 [==============================] - 0s 27us/step - loss: 0.4573 - val_loss: 0.4680\n",
      "Epoch 184/200\n",
      "750/750 [==============================] - 0s 31us/step - loss: 0.4572 - val_loss: 0.4678\n",
      "Epoch 185/200\n",
      "750/750 [==============================] - 0s 35us/step - loss: 0.4571 - val_loss: 0.4677\n",
      "Epoch 186/200\n",
      "750/750 [==============================] - 0s 31us/step - loss: 0.4570 - val_loss: 0.4676\n",
      "Epoch 187/200\n",
      "750/750 [==============================] - 0s 31us/step - loss: 0.4568 - val_loss: 0.4674\n",
      "Epoch 188/200\n",
      "750/750 [==============================] - 0s 32us/step - loss: 0.4567 - val_loss: 0.4673\n",
      "Epoch 189/200\n",
      "750/750 [==============================] - 0s 29us/step - loss: 0.4566 - val_loss: 0.4672\n",
      "Epoch 190/200\n",
      "750/750 [==============================] - 0s 28us/step - loss: 0.4565 - val_loss: 0.4670\n",
      "Epoch 191/200\n",
      "750/750 [==============================] - 0s 27us/step - loss: 0.4564 - val_loss: 0.4669\n",
      "Epoch 192/200\n",
      "750/750 [==============================] - 0s 29us/step - loss: 0.4563 - val_loss: 0.4668\n",
      "Epoch 193/200\n",
      "750/750 [==============================] - 0s 32us/step - loss: 0.4562 - val_loss: 0.4667\n",
      "Epoch 194/200\n",
      "750/750 [==============================] - 0s 29us/step - loss: 0.4561 - val_loss: 0.4666\n",
      "Epoch 195/200\n",
      "750/750 [==============================] - 0s 33us/step - loss: 0.4560 - val_loss: 0.4664\n",
      "Epoch 196/200\n",
      "750/750 [==============================] - 0s 32us/step - loss: 0.4559 - val_loss: 0.4662\n",
      "Epoch 197/200\n",
      "750/750 [==============================] - 0s 31us/step - loss: 0.4558 - val_loss: 0.4661\n",
      "Epoch 198/200\n",
      "750/750 [==============================] - 0s 29us/step - loss: 0.4557 - val_loss: 0.4660\n",
      "Epoch 199/200\n",
      "750/750 [==============================] - 0s 29us/step - loss: 0.4556 - val_loss: 0.4659\n",
      "Epoch 200/200\n",
      "750/750 [==============================] - 0s 31us/step - loss: 0.4555 - val_loss: 0.4658\n"
     ]
    },
    {
     "data": {
      "text/plain": [
       "(0.7729779967506453, 0.03791623113858863)"
      ]
     },
     "execution_count": 144,
     "metadata": {},
     "output_type": "execute_result"
    }
   ],
   "source": [
    "#增强前\n",
    "#定义网络结构\n",
    "epochs=200\n",
    "batch_size=128\n",
    "input_dim=50\n",
    "\n",
    "input_layer=Input(shape=(input_dim,))\n",
    "encode_layer=Dense(20,activation='relu',name='encoder')(input_layer)\n",
    "decode_layer=Dense(input_dim,activation='tanh')(encode_layer)\n",
    "\n",
    "model=Model(inputs=input_layer,outputs=decode_layer)\n",
    "#获取encode_layer层的输出\n",
    "encode_layer_model = Model(inputs=model.input,outputs=model.get_layer('encoder').output)\n",
    "model.compile('adam',loss='mse')\n",
    "\n",
    "ae_standard_np=StandardScaler().fit_transform(features_select_top_50_df[:891])\n",
    "X_train=ae_standard_np[:750]\n",
    "X_eval=ae_standard_np[750:]\n",
    "\n",
    "#训练模型\n",
    "model.fit(X_train,X_train,batch_size=batch_size,epochs=epochs,validation_data=[X_eval,X_eval])\n",
    "ae_new_features=encode_layer_model.predict(ae_standard_np)\n",
    "#gbdt\n",
    "classifier=GradientBoostingClassifier()\n",
    "scores = cross_val_score(classifier,ae_new_features, labels, scoring='f1', cv = 5)\n",
    "np.mean(scores),np.std(scores)"
   ]
  },
  {
   "cell_type": "code",
   "execution_count": 145,
   "metadata": {},
   "outputs": [
    {
     "name": "stdout",
     "output_type": "stream",
     "text": [
      "Train on 1200 samples, validate on 109 samples\n",
      "Epoch 1/200\n",
      "1200/1200 [==============================] - 0s 186us/step - loss: 1.0850 - val_loss: 1.3096\n",
      "Epoch 2/200\n",
      "1200/1200 [==============================] - 0s 24us/step - loss: 1.0194 - val_loss: 1.2384\n",
      "Epoch 3/200\n",
      "1200/1200 [==============================] - 0s 23us/step - loss: 0.9655 - val_loss: 1.1814\n",
      "Epoch 4/200\n",
      "1200/1200 [==============================] - 0s 25us/step - loss: 0.9183 - val_loss: 1.1298\n",
      "Epoch 5/200\n",
      "1200/1200 [==============================] - 0s 25us/step - loss: 0.8758 - val_loss: 1.0821\n",
      "Epoch 6/200\n",
      "1200/1200 [==============================] - 0s 24us/step - loss: 0.8349 - val_loss: 1.0442\n",
      "Epoch 7/200\n",
      "1200/1200 [==============================] - 0s 26us/step - loss: 0.7965 - val_loss: 1.0096\n",
      "Epoch 8/200\n",
      "1200/1200 [==============================] - 0s 27us/step - loss: 0.7627 - val_loss: 0.9774\n",
      "Epoch 9/200\n",
      "1200/1200 [==============================] - 0s 24us/step - loss: 0.7314 - val_loss: 0.9466\n",
      "Epoch 10/200\n",
      "1200/1200 [==============================] - 0s 22us/step - loss: 0.7027 - val_loss: 0.9180\n",
      "Epoch 11/200\n",
      "1200/1200 [==============================] - 0s 27us/step - loss: 0.6784 - val_loss: 0.8978\n",
      "Epoch 12/200\n",
      "1200/1200 [==============================] - 0s 24us/step - loss: 0.6577 - val_loss: 0.8797\n",
      "Epoch 13/200\n",
      "1200/1200 [==============================] - 0s 26us/step - loss: 0.6386 - val_loss: 0.8627\n",
      "Epoch 14/200\n",
      "1200/1200 [==============================] - 0s 23us/step - loss: 0.6210 - val_loss: 0.8465\n",
      "Epoch 15/200\n",
      "1200/1200 [==============================] - 0s 25us/step - loss: 0.6048 - val_loss: 0.8316\n",
      "Epoch 16/200\n",
      "1200/1200 [==============================] - 0s 27us/step - loss: 0.5905 - val_loss: 0.8189\n",
      "Epoch 17/200\n",
      "1200/1200 [==============================] - 0s 23us/step - loss: 0.5784 - val_loss: 0.8078\n",
      "Epoch 18/200\n",
      "1200/1200 [==============================] - 0s 24us/step - loss: 0.5679 - val_loss: 0.7984\n",
      "Epoch 19/200\n",
      "1200/1200 [==============================] - 0s 25us/step - loss: 0.5590 - val_loss: 0.7904\n",
      "Epoch 20/200\n",
      "1200/1200 [==============================] - 0s 24us/step - loss: 0.5513 - val_loss: 0.7832\n",
      "Epoch 21/200\n",
      "1200/1200 [==============================] - 0s 24us/step - loss: 0.5444 - val_loss: 0.7767\n",
      "Epoch 22/200\n",
      "1200/1200 [==============================] - 0s 22us/step - loss: 0.5384 - val_loss: 0.7712\n",
      "Epoch 23/200\n",
      "1200/1200 [==============================] - 0s 22us/step - loss: 0.5330 - val_loss: 0.7659\n",
      "Epoch 24/200\n",
      "1200/1200 [==============================] - 0s 22us/step - loss: 0.5283 - val_loss: 0.7610\n",
      "Epoch 25/200\n",
      "1200/1200 [==============================] - 0s 23us/step - loss: 0.5240 - val_loss: 0.7571\n",
      "Epoch 26/200\n",
      "1200/1200 [==============================] - 0s 22us/step - loss: 0.5201 - val_loss: 0.7534\n",
      "Epoch 27/200\n",
      "1200/1200 [==============================] - 0s 24us/step - loss: 0.5166 - val_loss: 0.7500\n",
      "Epoch 28/200\n",
      "1200/1200 [==============================] - 0s 23us/step - loss: 0.5133 - val_loss: 0.7465\n",
      "Epoch 29/200\n",
      "1200/1200 [==============================] - 0s 22us/step - loss: 0.5103 - val_loss: 0.7435\n",
      "Epoch 30/200\n",
      "1200/1200 [==============================] - 0s 24us/step - loss: 0.5075 - val_loss: 0.7408\n",
      "Epoch 31/200\n",
      "1200/1200 [==============================] - 0s 23us/step - loss: 0.5048 - val_loss: 0.7380\n",
      "Epoch 32/200\n",
      "1200/1200 [==============================] - 0s 23us/step - loss: 0.5024 - val_loss: 0.7354\n",
      "Epoch 33/200\n",
      "1200/1200 [==============================] - 0s 21us/step - loss: 0.5000 - val_loss: 0.7329\n",
      "Epoch 34/200\n",
      "1200/1200 [==============================] - 0s 23us/step - loss: 0.4979 - val_loss: 0.7305\n",
      "Epoch 35/200\n",
      "1200/1200 [==============================] - 0s 22us/step - loss: 0.4958 - val_loss: 0.7283\n",
      "Epoch 36/200\n",
      "1200/1200 [==============================] - 0s 24us/step - loss: 0.4938 - val_loss: 0.7263\n",
      "Epoch 37/200\n",
      "1200/1200 [==============================] - 0s 23us/step - loss: 0.4918 - val_loss: 0.7243\n",
      "Epoch 38/200\n",
      "1200/1200 [==============================] - 0s 23us/step - loss: 0.4900 - val_loss: 0.7223\n",
      "Epoch 39/200\n",
      "1200/1200 [==============================] - 0s 24us/step - loss: 0.4882 - val_loss: 0.7206\n",
      "Epoch 40/200\n",
      "1200/1200 [==============================] - 0s 24us/step - loss: 0.4865 - val_loss: 0.7188\n",
      "Epoch 41/200\n",
      "1200/1200 [==============================] - 0s 24us/step - loss: 0.4849 - val_loss: 0.7171\n",
      "Epoch 42/200\n",
      "1200/1200 [==============================] - 0s 24us/step - loss: 0.4834 - val_loss: 0.7155\n",
      "Epoch 43/200\n",
      "1200/1200 [==============================] - 0s 24us/step - loss: 0.4818 - val_loss: 0.7140\n",
      "Epoch 44/200\n",
      "1200/1200 [==============================] - 0s 24us/step - loss: 0.4803 - val_loss: 0.7126\n",
      "Epoch 45/200\n",
      "1200/1200 [==============================] - 0s 22us/step - loss: 0.4788 - val_loss: 0.7112\n",
      "Epoch 46/200\n",
      "1200/1200 [==============================] - 0s 24us/step - loss: 0.4774 - val_loss: 0.7099\n",
      "Epoch 47/200\n",
      "1200/1200 [==============================] - 0s 27us/step - loss: 0.4761 - val_loss: 0.7086\n",
      "Epoch 48/200\n",
      "1200/1200 [==============================] - 0s 24us/step - loss: 0.4748 - val_loss: 0.7073\n",
      "Epoch 49/200\n",
      "1200/1200 [==============================] - 0s 24us/step - loss: 0.4735 - val_loss: 0.7059\n",
      "Epoch 50/200\n",
      "1200/1200 [==============================] - 0s 24us/step - loss: 0.4723 - val_loss: 0.7048\n",
      "Epoch 51/200\n",
      "1200/1200 [==============================] - 0s 22us/step - loss: 0.4711 - val_loss: 0.7035\n",
      "Epoch 52/200\n",
      "1200/1200 [==============================] - 0s 23us/step - loss: 0.4699 - val_loss: 0.7025\n",
      "Epoch 53/200\n",
      "1200/1200 [==============================] - ETA: 0s - loss: 0.441 - 0s 23us/step - loss: 0.4688 - val_loss: 0.7015\n",
      "Epoch 54/200\n",
      "1200/1200 [==============================] - 0s 24us/step - loss: 0.4676 - val_loss: 0.7004\n",
      "Epoch 55/200\n",
      "1200/1200 [==============================] - 0s 24us/step - loss: 0.4666 - val_loss: 0.6993\n",
      "Epoch 56/200\n",
      "1200/1200 [==============================] - 0s 24us/step - loss: 0.4656 - val_loss: 0.6983\n",
      "Epoch 57/200\n",
      "1200/1200 [==============================] - 0s 24us/step - loss: 0.4646 - val_loss: 0.6974\n",
      "Epoch 58/200\n",
      "1200/1200 [==============================] - 0s 25us/step - loss: 0.4637 - val_loss: 0.6965\n",
      "Epoch 59/200\n",
      "1200/1200 [==============================] - 0s 24us/step - loss: 0.4628 - val_loss: 0.6957\n",
      "Epoch 60/200\n",
      "1200/1200 [==============================] - 0s 22us/step - loss: 0.4620 - val_loss: 0.6947\n",
      "Epoch 61/200\n",
      "1200/1200 [==============================] - 0s 22us/step - loss: 0.4612 - val_loss: 0.6941\n",
      "Epoch 62/200\n",
      "1200/1200 [==============================] - 0s 23us/step - loss: 0.4604 - val_loss: 0.6932\n",
      "Epoch 63/200\n",
      "1200/1200 [==============================] - 0s 23us/step - loss: 0.4597 - val_loss: 0.6924\n",
      "Epoch 64/200\n",
      "1200/1200 [==============================] - 0s 22us/step - loss: 0.4590 - val_loss: 0.6916\n",
      "Epoch 65/200\n",
      "1200/1200 [==============================] - 0s 25us/step - loss: 0.4583 - val_loss: 0.6909\n",
      "Epoch 66/200\n",
      "1200/1200 [==============================] - 0s 25us/step - loss: 0.4577 - val_loss: 0.6900\n",
      "Epoch 67/200\n",
      "1200/1200 [==============================] - 0s 23us/step - loss: 0.4571 - val_loss: 0.6893\n",
      "Epoch 68/200\n",
      "1200/1200 [==============================] - 0s 25us/step - loss: 0.4564 - val_loss: 0.6885\n",
      "Epoch 69/200\n",
      "1200/1200 [==============================] - 0s 23us/step - loss: 0.4559 - val_loss: 0.6878\n",
      "Epoch 70/200\n",
      "1200/1200 [==============================] - 0s 23us/step - loss: 0.4553 - val_loss: 0.6872\n",
      "Epoch 71/200\n",
      "1200/1200 [==============================] - 0s 23us/step - loss: 0.4547 - val_loss: 0.6865\n",
      "Epoch 72/200\n",
      "1200/1200 [==============================] - 0s 23us/step - loss: 0.4542 - val_loss: 0.6859\n",
      "Epoch 73/200\n",
      "1200/1200 [==============================] - 0s 23us/step - loss: 0.4537 - val_loss: 0.6856\n",
      "Epoch 74/200\n",
      "1200/1200 [==============================] - 0s 23us/step - loss: 0.4531 - val_loss: 0.6850\n",
      "Epoch 75/200\n",
      "1200/1200 [==============================] - 0s 24us/step - loss: 0.4526 - val_loss: 0.6843\n",
      "Epoch 76/200\n",
      "1200/1200 [==============================] - 0s 25us/step - loss: 0.4522 - val_loss: 0.6839\n",
      "Epoch 77/200\n",
      "1200/1200 [==============================] - 0s 25us/step - loss: 0.4517 - val_loss: 0.6834\n",
      "Epoch 78/200\n"
     ]
    },
    {
     "name": "stdout",
     "output_type": "stream",
     "text": [
      "1200/1200 [==============================] - 0s 23us/step - loss: 0.4513 - val_loss: 0.6831\n",
      "Epoch 79/200\n",
      "1200/1200 [==============================] - 0s 21us/step - loss: 0.4509 - val_loss: 0.6825\n",
      "Epoch 80/200\n",
      "1200/1200 [==============================] - 0s 26us/step - loss: 0.4505 - val_loss: 0.6822\n",
      "Epoch 81/200\n",
      "1200/1200 [==============================] - 0s 28us/step - loss: 0.4501 - val_loss: 0.6817\n",
      "Epoch 82/200\n",
      "1200/1200 [==============================] - 0s 28us/step - loss: 0.4497 - val_loss: 0.6812\n",
      "Epoch 83/200\n",
      "1200/1200 [==============================] - 0s 28us/step - loss: 0.4494 - val_loss: 0.6809\n",
      "Epoch 84/200\n",
      "1200/1200 [==============================] - 0s 26us/step - loss: 0.4490 - val_loss: 0.6805\n",
      "Epoch 85/200\n",
      "1200/1200 [==============================] - 0s 27us/step - loss: 0.4487 - val_loss: 0.6804\n",
      "Epoch 86/200\n",
      "1200/1200 [==============================] - 0s 27us/step - loss: 0.4484 - val_loss: 0.6799\n",
      "Epoch 87/200\n",
      "1200/1200 [==============================] - 0s 22us/step - loss: 0.4481 - val_loss: 0.6794\n",
      "Epoch 88/200\n",
      "1200/1200 [==============================] - 0s 27us/step - loss: 0.4477 - val_loss: 0.6792\n",
      "Epoch 89/200\n",
      "1200/1200 [==============================] - 0s 27us/step - loss: 0.4475 - val_loss: 0.6790\n",
      "Epoch 90/200\n",
      "1200/1200 [==============================] - 0s 27us/step - loss: 0.4472 - val_loss: 0.6786\n",
      "Epoch 91/200\n",
      "1200/1200 [==============================] - 0s 23us/step - loss: 0.4469 - val_loss: 0.6783\n",
      "Epoch 92/200\n",
      "1200/1200 [==============================] - 0s 25us/step - loss: 0.4466 - val_loss: 0.6780\n",
      "Epoch 93/200\n",
      "1200/1200 [==============================] - 0s 25us/step - loss: 0.4463 - val_loss: 0.6777\n",
      "Epoch 94/200\n",
      "1200/1200 [==============================] - 0s 26us/step - loss: 0.4461 - val_loss: 0.6775\n",
      "Epoch 95/200\n",
      "1200/1200 [==============================] - 0s 27us/step - loss: 0.4458 - val_loss: 0.6771\n",
      "Epoch 96/200\n",
      "1200/1200 [==============================] - 0s 27us/step - loss: 0.4456 - val_loss: 0.6769\n",
      "Epoch 97/200\n",
      "1200/1200 [==============================] - 0s 24us/step - loss: 0.4454 - val_loss: 0.6766\n",
      "Epoch 98/200\n",
      "1200/1200 [==============================] - 0s 23us/step - loss: 0.4451 - val_loss: 0.6764\n",
      "Epoch 99/200\n",
      "1200/1200 [==============================] - 0s 23us/step - loss: 0.4449 - val_loss: 0.6761\n",
      "Epoch 100/200\n",
      "1200/1200 [==============================] - 0s 23us/step - loss: 0.4447 - val_loss: 0.6760\n",
      "Epoch 101/200\n",
      "1200/1200 [==============================] - 0s 23us/step - loss: 0.4444 - val_loss: 0.6756\n",
      "Epoch 102/200\n",
      "1200/1200 [==============================] - ETA: 0s - loss: 0.451 - 0s 23us/step - loss: 0.4442 - val_loss: 0.6755\n",
      "Epoch 103/200\n",
      "1200/1200 [==============================] - 0s 22us/step - loss: 0.4440 - val_loss: 0.6752\n",
      "Epoch 104/200\n",
      "1200/1200 [==============================] - 0s 24us/step - loss: 0.4439 - val_loss: 0.6750\n",
      "Epoch 105/200\n",
      "1200/1200 [==============================] - ETA: 0s - loss: 0.374 - 0s 23us/step - loss: 0.4437 - val_loss: 0.6746\n",
      "Epoch 106/200\n",
      "1200/1200 [==============================] - 0s 23us/step - loss: 0.4435 - val_loss: 0.6746\n",
      "Epoch 107/200\n",
      "1200/1200 [==============================] - 0s 27us/step - loss: 0.4433 - val_loss: 0.6743\n",
      "Epoch 108/200\n",
      "1200/1200 [==============================] - 0s 27us/step - loss: 0.4431 - val_loss: 0.6742\n",
      "Epoch 109/200\n",
      "1200/1200 [==============================] - 0s 27us/step - loss: 0.4430 - val_loss: 0.6739\n",
      "Epoch 110/200\n",
      "1200/1200 [==============================] - 0s 32us/step - loss: 0.4428 - val_loss: 0.6738\n",
      "Epoch 111/200\n",
      "1200/1200 [==============================] - ETA: 0s - loss: 0.425 - 0s 23us/step - loss: 0.4426 - val_loss: 0.6736\n",
      "Epoch 112/200\n",
      "1200/1200 [==============================] - 0s 24us/step - loss: 0.4425 - val_loss: 0.6735\n",
      "Epoch 113/200\n",
      "1200/1200 [==============================] - 0s 22us/step - loss: 0.4423 - val_loss: 0.6731\n",
      "Epoch 114/200\n",
      "1200/1200 [==============================] - 0s 24us/step - loss: 0.4422 - val_loss: 0.6729\n",
      "Epoch 115/200\n",
      "1200/1200 [==============================] - 0s 27us/step - loss: 0.4420 - val_loss: 0.6728\n",
      "Epoch 116/200\n",
      "1200/1200 [==============================] - 0s 24us/step - loss: 0.4418 - val_loss: 0.6727\n",
      "Epoch 117/200\n",
      "1200/1200 [==============================] - 0s 23us/step - loss: 0.4417 - val_loss: 0.6724\n",
      "Epoch 118/200\n",
      "1200/1200 [==============================] - 0s 25us/step - loss: 0.4416 - val_loss: 0.6723\n",
      "Epoch 119/200\n",
      "1200/1200 [==============================] - 0s 26us/step - loss: 0.4414 - val_loss: 0.6722\n",
      "Epoch 120/200\n",
      "1200/1200 [==============================] - 0s 23us/step - loss: 0.4412 - val_loss: 0.6720\n",
      "Epoch 121/200\n",
      "1200/1200 [==============================] - 0s 23us/step - loss: 0.4411 - val_loss: 0.6718\n",
      "Epoch 122/200\n",
      "1200/1200 [==============================] - 0s 23us/step - loss: 0.4410 - val_loss: 0.6716\n",
      "Epoch 123/200\n",
      "1200/1200 [==============================] - 0s 24us/step - loss: 0.4408 - val_loss: 0.6715\n",
      "Epoch 124/200\n",
      "1200/1200 [==============================] - 0s 23us/step - loss: 0.4407 - val_loss: 0.6713\n",
      "Epoch 125/200\n",
      "1200/1200 [==============================] - 0s 25us/step - loss: 0.4406 - val_loss: 0.6709\n",
      "Epoch 126/200\n",
      "1200/1200 [==============================] - 0s 25us/step - loss: 0.4404 - val_loss: 0.6708\n",
      "Epoch 127/200\n",
      "1200/1200 [==============================] - 0s 25us/step - loss: 0.4403 - val_loss: 0.6707\n",
      "Epoch 128/200\n",
      "1200/1200 [==============================] - 0s 22us/step - loss: 0.4401 - val_loss: 0.6705\n",
      "Epoch 129/200\n",
      "1200/1200 [==============================] - 0s 27us/step - loss: 0.4400 - val_loss: 0.6705\n",
      "Epoch 130/200\n",
      "1200/1200 [==============================] - 0s 26us/step - loss: 0.4399 - val_loss: 0.6703\n",
      "Epoch 131/200\n",
      "1200/1200 [==============================] - 0s 26us/step - loss: 0.4397 - val_loss: 0.6700\n",
      "Epoch 132/200\n",
      "1200/1200 [==============================] - 0s 20us/step - loss: 0.4396 - val_loss: 0.6699\n",
      "Epoch 133/200\n",
      "1200/1200 [==============================] - 0s 23us/step - loss: 0.4395 - val_loss: 0.6698\n",
      "Epoch 134/200\n",
      "1200/1200 [==============================] - 0s 22us/step - loss: 0.4394 - val_loss: 0.6696\n",
      "Epoch 135/200\n",
      "1200/1200 [==============================] - 0s 27us/step - loss: 0.4393 - val_loss: 0.6694\n",
      "Epoch 136/200\n",
      "1200/1200 [==============================] - 0s 30us/step - loss: 0.4392 - val_loss: 0.6693\n",
      "Epoch 137/200\n",
      "1200/1200 [==============================] - 0s 32us/step - loss: 0.4390 - val_loss: 0.6692\n",
      "Epoch 138/200\n",
      "1200/1200 [==============================] - 0s 30us/step - loss: 0.4389 - val_loss: 0.6691\n",
      "Epoch 139/200\n",
      "1200/1200 [==============================] - 0s 26us/step - loss: 0.4388 - val_loss: 0.6689\n",
      "Epoch 140/200\n",
      "1200/1200 [==============================] - 0s 22us/step - loss: 0.4387 - val_loss: 0.6687\n",
      "Epoch 141/200\n",
      "1200/1200 [==============================] - ETA: 0s - loss: 0.471 - 0s 23us/step - loss: 0.4386 - val_loss: 0.6686\n",
      "Epoch 142/200\n",
      "1200/1200 [==============================] - 0s 24us/step - loss: 0.4385 - val_loss: 0.6684\n",
      "Epoch 143/200\n",
      "1200/1200 [==============================] - 0s 23us/step - loss: 0.4384 - val_loss: 0.6682\n",
      "Epoch 144/200\n",
      "1200/1200 [==============================] - 0s 24us/step - loss: 0.4383 - val_loss: 0.6683\n",
      "Epoch 145/200\n",
      "1200/1200 [==============================] - 0s 25us/step - loss: 0.4382 - val_loss: 0.6681\n",
      "Epoch 146/200\n",
      "1200/1200 [==============================] - 0s 24us/step - loss: 0.4380 - val_loss: 0.6680\n",
      "Epoch 147/200\n",
      "1200/1200 [==============================] - 0s 25us/step - loss: 0.4379 - val_loss: 0.6679\n",
      "Epoch 148/200\n",
      "1200/1200 [==============================] - 0s 27us/step - loss: 0.4379 - val_loss: 0.6677\n",
      "Epoch 149/200\n",
      "1200/1200 [==============================] - 0s 24us/step - loss: 0.4377 - val_loss: 0.6677\n",
      "Epoch 150/200\n",
      "1200/1200 [==============================] - 0s 23us/step - loss: 0.4376 - val_loss: 0.6675\n",
      "Epoch 151/200\n",
      "1200/1200 [==============================] - 0s 23us/step - loss: 0.4375 - val_loss: 0.6673\n",
      "Epoch 152/200\n",
      "1200/1200 [==============================] - 0s 24us/step - loss: 0.4375 - val_loss: 0.6673\n",
      "Epoch 153/200\n",
      "1200/1200 [==============================] - 0s 22us/step - loss: 0.4373 - val_loss: 0.6673\n",
      "Epoch 154/200\n"
     ]
    },
    {
     "name": "stdout",
     "output_type": "stream",
     "text": [
      "1200/1200 [==============================] - 0s 24us/step - loss: 0.4372 - val_loss: 0.6670\n",
      "Epoch 155/200\n",
      "1200/1200 [==============================] - 0s 23us/step - loss: 0.4372 - val_loss: 0.6669\n",
      "Epoch 156/200\n",
      "1200/1200 [==============================] - 0s 22us/step - loss: 0.4371 - val_loss: 0.6668\n",
      "Epoch 157/200\n",
      "1200/1200 [==============================] - 0s 24us/step - loss: 0.4369 - val_loss: 0.6667\n",
      "Epoch 158/200\n",
      "1200/1200 [==============================] - 0s 21us/step - loss: 0.4369 - val_loss: 0.6665\n",
      "Epoch 159/200\n",
      "1200/1200 [==============================] - 0s 23us/step - loss: 0.4368 - val_loss: 0.6664\n",
      "Epoch 160/200\n",
      "1200/1200 [==============================] - 0s 24us/step - loss: 0.4367 - val_loss: 0.6663\n",
      "Epoch 161/200\n",
      "1200/1200 [==============================] - 0s 26us/step - loss: 0.4366 - val_loss: 0.6664\n",
      "Epoch 162/200\n",
      "1200/1200 [==============================] - 0s 24us/step - loss: 0.4365 - val_loss: 0.6661\n",
      "Epoch 163/200\n",
      "1200/1200 [==============================] - 0s 23us/step - loss: 0.4364 - val_loss: 0.6660\n",
      "Epoch 164/200\n",
      "1200/1200 [==============================] - 0s 22us/step - loss: 0.4363 - val_loss: 0.6659\n",
      "Epoch 165/200\n",
      "1200/1200 [==============================] - 0s 25us/step - loss: 0.4362 - val_loss: 0.6658\n",
      "Epoch 166/200\n",
      "1200/1200 [==============================] - 0s 24us/step - loss: 0.4361 - val_loss: 0.6658\n",
      "Epoch 167/200\n",
      "1200/1200 [==============================] - 0s 26us/step - loss: 0.4360 - val_loss: 0.6656\n",
      "Epoch 168/200\n",
      "1200/1200 [==============================] - 0s 24us/step - loss: 0.4359 - val_loss: 0.6656\n",
      "Epoch 169/200\n",
      "1200/1200 [==============================] - 0s 26us/step - loss: 0.4358 - val_loss: 0.6655\n",
      "Epoch 170/200\n",
      "1200/1200 [==============================] - 0s 23us/step - loss: 0.4357 - val_loss: 0.6654\n",
      "Epoch 171/200\n",
      "1200/1200 [==============================] - 0s 23us/step - loss: 0.4356 - val_loss: 0.6652\n",
      "Epoch 172/200\n",
      "1200/1200 [==============================] - 0s 24us/step - loss: 0.4355 - val_loss: 0.6651\n",
      "Epoch 173/200\n",
      "1200/1200 [==============================] - 0s 23us/step - loss: 0.4354 - val_loss: 0.6651\n",
      "Epoch 174/200\n",
      "1200/1200 [==============================] - 0s 27us/step - loss: 0.4353 - val_loss: 0.6650\n",
      "Epoch 175/200\n",
      "1200/1200 [==============================] - 0s 26us/step - loss: 0.4352 - val_loss: 0.6649\n",
      "Epoch 176/200\n",
      "1200/1200 [==============================] - 0s 29us/step - loss: 0.4351 - val_loss: 0.6647\n",
      "Epoch 177/200\n",
      "1200/1200 [==============================] - 0s 28us/step - loss: 0.4351 - val_loss: 0.6647\n",
      "Epoch 178/200\n",
      "1200/1200 [==============================] - 0s 26us/step - loss: 0.4350 - val_loss: 0.6646\n",
      "Epoch 179/200\n",
      "1200/1200 [==============================] - 0s 26us/step - loss: 0.4349 - val_loss: 0.6645\n",
      "Epoch 180/200\n",
      "1200/1200 [==============================] - 0s 26us/step - loss: 0.4348 - val_loss: 0.6644\n",
      "Epoch 181/200\n",
      "1200/1200 [==============================] - 0s 27us/step - loss: 0.4347 - val_loss: 0.6643\n",
      "Epoch 182/200\n",
      "1200/1200 [==============================] - 0s 23us/step - loss: 0.4346 - val_loss: 0.6642\n",
      "Epoch 183/200\n",
      "1200/1200 [==============================] - 0s 31us/step - loss: 0.4345 - val_loss: 0.6642\n",
      "Epoch 184/200\n",
      "1200/1200 [==============================] - 0s 27us/step - loss: 0.4344 - val_loss: 0.6640\n",
      "Epoch 185/200\n",
      "1200/1200 [==============================] - 0s 27us/step - loss: 0.4343 - val_loss: 0.6640\n",
      "Epoch 186/200\n",
      "1200/1200 [==============================] - 0s 30us/step - loss: 0.4343 - val_loss: 0.6638\n",
      "Epoch 187/200\n",
      "1200/1200 [==============================] - 0s 48us/step - loss: 0.4342 - val_loss: 0.6637\n",
      "Epoch 188/200\n",
      "1200/1200 [==============================] - 0s 35us/step - loss: 0.4341 - val_loss: 0.6637\n",
      "Epoch 189/200\n",
      "1200/1200 [==============================] - 0s 41us/step - loss: 0.4341 - val_loss: 0.6636\n",
      "Epoch 190/200\n",
      "1200/1200 [==============================] - 0s 30us/step - loss: 0.4340 - val_loss: 0.6636\n",
      "Epoch 191/200\n",
      "1200/1200 [==============================] - 0s 30us/step - loss: 0.4339 - val_loss: 0.6634\n",
      "Epoch 192/200\n",
      "1200/1200 [==============================] - 0s 29us/step - loss: 0.4338 - val_loss: 0.6634\n",
      "Epoch 193/200\n",
      "1200/1200 [==============================] - 0s 27us/step - loss: 0.4337 - val_loss: 0.6633\n",
      "Epoch 194/200\n",
      "1200/1200 [==============================] - 0s 27us/step - loss: 0.4336 - val_loss: 0.6632\n",
      "Epoch 195/200\n",
      "1200/1200 [==============================] - 0s 27us/step - loss: 0.4336 - val_loss: 0.6631\n",
      "Epoch 196/200\n",
      "1200/1200 [==============================] - 0s 29us/step - loss: 0.4335 - val_loss: 0.6630\n",
      "Epoch 197/200\n",
      "1200/1200 [==============================] - 0s 27us/step - loss: 0.4334 - val_loss: 0.6630\n",
      "Epoch 198/200\n",
      "1200/1200 [==============================] - 0s 27us/step - loss: 0.4333 - val_loss: 0.6629\n",
      "Epoch 199/200\n",
      "1200/1200 [==============================] - 0s 34us/step - loss: 0.4332 - val_loss: 0.6627\n",
      "Epoch 200/200\n",
      "1200/1200 [==============================] - ETA: 0s - loss: 0.322 - 0s 32us/step - loss: 0.4332 - val_loss: 0.6627\n"
     ]
    },
    {
     "data": {
      "text/plain": [
       "(0.7669772867631922, 0.03158997972303904)"
      ]
     },
     "execution_count": 145,
     "metadata": {},
     "output_type": "execute_result"
    }
   ],
   "source": [
    "#增强后\n",
    "epochs=200\n",
    "batch_size=128\n",
    "input_dim=50\n",
    "\n",
    "input_layer=Input(shape=(input_dim,))\n",
    "encode_layer=Dense(20,activation='relu',name='encoder')(input_layer)\n",
    "decode_layer=Dense(input_dim,activation='tanh')(encode_layer)\n",
    "\n",
    "model=Model(inputs=input_layer,outputs=decode_layer)\n",
    "#获取encode_layer层的输出\n",
    "encode_layer_model = Model(inputs=model.input,outputs=model.get_layer('encoder').output)\n",
    "model.compile('adam',loss='mse')\n",
    "\n",
    "ae_standard_np=StandardScaler().fit_transform(features_select_top_50_df)\n",
    "X_train=ae_standard_np[:1200]\n",
    "X_eval=ae_standard_np[1200:]\n",
    "\n",
    "#训练模型\n",
    "model.fit(X_train,X_train,batch_size=batch_size,epochs=epochs,validation_data=[X_eval,X_eval])\n",
    "ae_new_features=encode_layer_model.predict(ae_standard_np)\n",
    "#gbdt\n",
    "classifier=GradientBoostingClassifier()\n",
    "scores = cross_val_score(classifier,ae_new_features[:891], labels, scoring='f1', cv = 5)\n",
    "np.mean(scores),np.std(scores)"
   ]
  },
  {
   "cell_type": "markdown",
   "metadata": {},
   "source": [
    "另外，对NaN的填充，仅用训练数据和用增强后的数据也可以做对比....."
   ]
  },
  {
   "cell_type": "markdown",
   "metadata": {},
   "source": [
    "##### 4.2.2 数据增强-过采样\n",
    "这里推荐imblearn工具  \n",
    "pip install imblearn"
   ]
  },
  {
   "cell_type": "code",
   "execution_count": 146,
   "metadata": {},
   "outputs": [
    {
     "data": {
      "text/plain": [
       "(0.7907495736737407, 0.03904622865309619)"
      ]
     },
     "execution_count": 146,
     "metadata": {},
     "output_type": "execute_result"
    }
   ],
   "source": [
    "from imblearn.over_sampling import SMOTE\n",
    "kfold= KFold(n_splits=5,random_state=42,shuffle=True)\n",
    "scores=[]\n",
    "for train_index,test_index in kfold.split(features_select_top_50_df[:891],labels):\n",
    "    X_train=features_select_top_50_df.loc[train_index]\n",
    "    y_train=labels[train_index]\n",
    "    X_test=features_select_top_50_df.loc[test_index]\n",
    "    y_test=labels[test_index]\n",
    "    \n",
    "    X_resampled,y_resampled=SMOTE(k_neighbors=5).fit_sample(X_train,y_train)\n",
    "    \n",
    "    gbdt=GradientBoostingClassifier()\n",
    "    gbdt.fit(X_resampled,y_resampled)\n",
    "    y_predict=gbdt.predict(X_test)\n",
    "    f1_score=metrics.f1_score(y_test,y_predict)\n",
    "    scores.append(f1_score)\n",
    "np.mean(scores),np.std(scores)"
   ]
  },
  {
   "cell_type": "markdown",
   "metadata": {},
   "source": [
    "##### 4.2.2 数据增强-自定义规则\n",
    "对每条训练数据做如下操作：  \n",
    "（1）随机删掉某个特征（0替换）；  \n",
    "（2）随机交换同class的某个特征的值；  \n",
    "（3）随机交换非class的某个特征的值；  "
   ]
  },
  {
   "cell_type": "code",
   "execution_count": 147,
   "metadata": {},
   "outputs": [],
   "source": [
    "def extend_data(train_df,train_y):\n",
    "    #删除操作\n",
    "    rows,cols=train_df.shape\n",
    "    delete_df=copy.deepcopy(train_df)\n",
    "    for i in range(0,rows):\n",
    "        j=random.choice(range(0,cols))\n",
    "        delete_df.iloc[i,j]=0#注意：要用iloc[i,j]的方式才能成功赋值，loc[i,j],iloc[i][j],iloc[i,j]的方式都不行\n",
    "    #替换操作\n",
    "    replace_df=copy.deepcopy(train_df)\n",
    "    zero_class_df=train_df[train_y==0]\n",
    "    one_class_df=train_df[train_y==1]\n",
    "    zero_rows,_=zero_class_df.shape\n",
    "    one_rows,_=one_class_df.shape\n",
    "    for i in range(0,rows):\n",
    "        j=random.choice(range(0,cols))\n",
    "        if train_y.tolist()[i]==0:\n",
    "            new_i=random.choice(range(0,zero_rows))\n",
    "            replace_df.iloc[i,j]=zero_class_df.iloc[new_i,j]\n",
    "        else:\n",
    "            new_i=random.choice(range(0,one_rows))\n",
    "            replace_df.iloc[i,j]=one_class_df.iloc[new_i,j]\n",
    "    #替换操作\n",
    "    replace_df2=copy.deepcopy(train_df)\n",
    "    for i in range(0,rows):\n",
    "        j=random.choice(range(0,cols))\n",
    "        if train_y.tolist()[i]==0:\n",
    "            new_i=random.choice(range(0,one_rows))\n",
    "            replace_df2.iloc[i,j]=one_class_df.iloc[new_i,j]\n",
    "        else:\n",
    "            new_i=random.choice(range(0,zero_rows))\n",
    "            replace_df2.iloc[i,j]=zero_class_df.iloc[new_i,j]\n",
    "    #合并\n",
    "    return pd.concat([train_df,delete_df,replace_df,replace_df2]),train_y.tolist()*4"
   ]
  },
  {
   "cell_type": "code",
   "execution_count": 148,
   "metadata": {},
   "outputs": [
    {
     "data": {
      "text/plain": [
       "(0.8074667735102501, 0.04593403879076328)"
      ]
     },
     "execution_count": 148,
     "metadata": {},
     "output_type": "execute_result"
    }
   ],
   "source": [
    "kfold= KFold(n_splits=5,random_state=42,shuffle=True)\n",
    "scores=[]\n",
    "for train_index,test_index in kfold.split(features_select_top_50_df[:891],labels):\n",
    "    X_train=features_select_top_50_df.loc[train_index]\n",
    "    y_train=labels[train_index]\n",
    "    X_test=features_select_top_50_df.loc[test_index]\n",
    "    y_test=labels[test_index]\n",
    "    \n",
    "    X_extended,y_extended=extend_data(X_train,y_train)\n",
    "    X_extended2,y_extended2=extend_data(X_train,y_train)\n",
    "    X_extended3,y_extended3=extend_data(X_train,y_train)\n",
    "    \n",
    "    gbdt=GradientBoostingClassifier()\n",
    "    gbdt.fit(pd.concat([X_train,X_extended,X_extended2,X_extended3]),y_train.tolist()+y_extended+y_extended2+y_extended3)\n",
    "    y_predict=gbdt.predict(X_test)\n",
    "    f1_score=metrics.f1_score(y_test,y_predict)\n",
    "    scores.append(f1_score)\n",
    "np.mean(scores),np.std(scores)"
   ]
  },
  {
   "cell_type": "markdown",
   "metadata": {},
   "source": [
    "这里把数据扩了12倍，多次运行，绝大部分情况下f1>0.8，当然，我们也可以与过采样的方法结合起来"
   ]
  },
  {
   "cell_type": "markdown",
   "metadata": {},
   "source": [
    "#### 4.3模型优化  \n",
    "模型的优化，可以考虑：  \n",
    "（1）单模型优化：超参搜索；  \n",
    "（2）多模型集成：集成学习；  \n",
    "\n",
    "##### 4.3.1 超参数搜索\n",
    "超参是指需要人为设定的参数，比如前面gbdt中的```n_estimators,max_depth,learning_rate```等；目前常见的超参搜索有网格搜索、随机搜索、贝叶斯优化搜索，还有基于强化学习的，比如google vizier...，其实比较好的方法是“人工智能”搜索（只需要一个excel表，并记录到相关操作对结果的改变就好了<坏结果也要保留>），接下来我们就在features_select_top_50_df数据集以及gbdt模型的基础上演示网格搜索、随机搜索、贝叶斯搜索...\n",
    "\n",
    "##### 4.3.1 超参数搜索-网格搜索\n",
    "网格搜索是将超参搜索空间切分成许多网格，我们在这些交点上选择一个较优秀的超参，但由于优化目标往往非凸，最优参数往往会成为漏网之鱼，通常比较建议的一种方式是在大范围内进行初步搜索，然后再在小范围内精确搜索。"
   ]
  },
  {
   "cell_type": "code",
   "execution_count": 149,
   "metadata": {},
   "outputs": [
    {
     "data": {
      "text/plain": [
       "GridSearchCV(cv='warn', error_score='raise-deprecating',\n",
       "       estimator=GradientBoostingClassifier(criterion='friedman_mse', init=None,\n",
       "              learning_rate=0.1, loss='deviance', max_depth=3,\n",
       "              max_features=None, max_leaf_nodes=None,\n",
       "              min_impurity_decrease=0.0, min_impurity_split=None,\n",
       "              min_samples_leaf=1, min_sampl...      subsample=1.0, tol=0.0001, validation_fraction=0.1,\n",
       "              verbose=0, warm_start=False),\n",
       "       fit_params=None, iid='warn', n_jobs=None,\n",
       "       param_grid={'max_depth': [3, 4, 5], 'learning_rate': [0.1, 0.15, 0.2], 'n_estimators': [50, 80, 100, 150]},\n",
       "       pre_dispatch='2*n_jobs', refit=True, return_train_score='warn',\n",
       "       scoring='f1', verbose=0)"
      ]
     },
     "execution_count": 149,
     "metadata": {},
     "output_type": "execute_result"
    }
   ],
   "source": [
    "from sklearn.model_selection import GridSearchCV\n",
    "#定义搜索空间\n",
    "gdbt_parameters = {'max_depth': [3,4,5],'learning_rate':[0.1,0.15,0.2],'n_estimators':[50,80,100,150]}\n",
    "#定义模型\n",
    "gbdt=GradientBoostingClassifier()\n",
    "#进行搜索\n",
    "grid = GridSearchCV(gbdt, gdbt_parameters,scoring='f1')\n",
    "grid.fit(features_select_top_50_df[:891], labels)"
   ]
  },
  {
   "cell_type": "code",
   "execution_count": 150,
   "metadata": {},
   "outputs": [
    {
     "data": {
      "text/plain": [
       "0.7892718820898978"
      ]
     },
     "execution_count": 150,
     "metadata": {},
     "output_type": "execute_result"
    }
   ],
   "source": [
    "grid.best_score_"
   ]
  },
  {
   "cell_type": "code",
   "execution_count": 151,
   "metadata": {},
   "outputs": [
    {
     "data": {
      "text/plain": [
       "{'learning_rate': 0.1, 'max_depth': 3, 'n_estimators': 80}"
      ]
     },
     "execution_count": 151,
     "metadata": {},
     "output_type": "execute_result"
    }
   ],
   "source": [
    "grid.best_params_"
   ]
  },
  {
   "cell_type": "code",
   "execution_count": 152,
   "metadata": {},
   "outputs": [
    {
     "data": {
      "text/plain": [
       "(0.792772958036116, 0.03736361524729319)"
      ]
     },
     "execution_count": 152,
     "metadata": {},
     "output_type": "execute_result"
    }
   ],
   "source": [
    "#试一试这组参数\n",
    "classifier=GradientBoostingClassifier(n_estimators=80,max_depth=3,learning_rate=0.15)\n",
    "scores = cross_val_score(classifier,features_select_top_50_df[:891],labels, scoring='f1', cv = 5)\n",
    "np.mean(scores),np.std(scores)"
   ]
  },
  {
   "cell_type": "markdown",
   "metadata": {},
   "source": [
    "##### 4.3.1超参数搜索-随机搜索\n",
    "更多：https://blog.csdn.net/qq_36810398/article/details/86699842"
   ]
  },
  {
   "cell_type": "code",
   "execution_count": 153,
   "metadata": {},
   "outputs": [
    {
     "data": {
      "text/plain": [
       "RandomizedSearchCV(cv='warn', error_score='raise-deprecating',\n",
       "          estimator=GradientBoostingClassifier(criterion='friedman_mse', init=None,\n",
       "              learning_rate=0.1, loss='deviance', max_depth=3,\n",
       "              max_features=None, max_leaf_nodes=None,\n",
       "              min_impurity_decrease=0.0, min_impurity_split=None,\n",
       "              min_samples_leaf=1, min_sampl...      subsample=1.0, tol=0.0001, validation_fraction=0.1,\n",
       "              verbose=0, warm_start=False),\n",
       "          fit_params=None, iid='warn', n_iter=10, n_jobs=None,\n",
       "          param_distributions={'max_depth': [3, 4, 5], 'learning_rate': [0.1, 0.15, 0.2], 'n_estimators': [50, 80, 100, 150]},\n",
       "          pre_dispatch='2*n_jobs', random_state=None, refit=True,\n",
       "          return_train_score='warn', scoring='f1', verbose=0)"
      ]
     },
     "execution_count": 153,
     "metadata": {},
     "output_type": "execute_result"
    }
   ],
   "source": [
    "from sklearn.model_selection import RandomizedSearchCV\n",
    "#定义搜索空间\n",
    "gdbt_parameters = {'max_depth': [3,4,5],'learning_rate':[0.1,0.15,0.2],'n_estimators':[50,80,100,150]}\n",
    "#定义模型\n",
    "gbdt=GradientBoostingClassifier()\n",
    "#进行搜索\n",
    "random_search = RandomizedSearchCV(gbdt, gdbt_parameters,scoring='f1')\n",
    "random_search.fit(features_select_top_50_df[:891], labels)"
   ]
  },
  {
   "cell_type": "code",
   "execution_count": 154,
   "metadata": {},
   "outputs": [
    {
     "data": {
      "text/plain": [
       "{'n_estimators': 80, 'max_depth': 3, 'learning_rate': 0.15}"
      ]
     },
     "execution_count": 154,
     "metadata": {},
     "output_type": "execute_result"
    }
   ],
   "source": [
    "random_search.best_params_"
   ]
  },
  {
   "cell_type": "code",
   "execution_count": 155,
   "metadata": {},
   "outputs": [
    {
     "data": {
      "text/plain": [
       "(0.8072337558695484, 0.037300423344962017)"
      ]
     },
     "execution_count": 155,
     "metadata": {},
     "output_type": "execute_result"
    }
   ],
   "source": [
    "#试一试这组参数\n",
    "classifier=GradientBoostingClassifier(n_estimators=80,max_depth=3,learning_rate=0.1)\n",
    "scores = cross_val_score(classifier,features_select_top_50_df[:891],labels, scoring='f1', cv = 5)\n",
    "np.mean(scores),np.std(scores)"
   ]
  },
  {
   "cell_type": "markdown",
   "metadata": {},
   "source": [
    "#### 4.3.1超参数搜索-贝叶斯优化\n",
    "这里推荐使用Hyperopt工具  \n",
    "更多：https://www.jianshu.com/p/35eed1567463"
   ]
  },
  {
   "cell_type": "code",
   "execution_count": 157,
   "metadata": {},
   "outputs": [
    {
     "name": "stdout",
     "output_type": "stream",
     "text": [
      "100%|████████████████████████████████████████████████| 300/300 [03:36<00:00,  1.57it/s, best loss: -0.8084574570288442]\n",
      "best: {'learning_rate': 0, 'max_depth': 0, 'n_estimators': 1}\n"
     ]
    }
   ],
   "source": [
    "from hyperopt import fmin, tpe, hp,STATUS_OK,Trials\n",
    "\n",
    "#定义loss函数\n",
    "def hyperopt_train_test(params):\n",
    "    clf = GradientBoostingClassifier(**params)\n",
    "    return cross_val_score(clf, features_select_top_50_df[:891],labels,cv=5,scoring='f1').mean()\n",
    "#定义搜索空间\n",
    "space4gbdt = {\n",
    "    'max_depth': hp.choice('max_depth', [3,4,5]),\n",
    "    'n_estimators': hp.choice('n_estimators', [50,80,100,150]),\n",
    "    'learning_rate': hp.choice('learning_rate', [0.1,0.15,0.2])\n",
    "}\n",
    "#定义优化目标-最小化-f1\n",
    "def f(params):\n",
    "    f1 = hyperopt_train_test(params)\n",
    "    return {'loss': -f1, 'status': STATUS_OK}\n",
    "#查找最佳参数\n",
    "trials = Trials()\n",
    "best = fmin(f, space4gbdt, algo=tpe.suggest, max_evals=300, trials=trials)\n",
    "print('best:',best)"
   ]
  },
  {
   "cell_type": "code",
   "execution_count": 158,
   "metadata": {},
   "outputs": [
    {
     "data": {
      "text/plain": [
       "(0.7963673168468696, 0.04321748063327315)"
      ]
     },
     "execution_count": 158,
     "metadata": {},
     "output_type": "execute_result"
    }
   ],
   "source": [
    "#试一试这组参数\n",
    "classifier=GradientBoostingClassifier(n_estimators=50,max_depth=3,learning_rate=0.2)\n",
    "scores = cross_val_score(classifier,features_select_top_50_df[:891],labels, scoring='f1', cv = 5)\n",
    "np.mean(scores),np.std(scores)"
   ]
  },
  {
   "cell_type": "markdown",
   "metadata": {},
   "source": [
    "从前面的几组参数来看，可以发现learning_rate在0.1到0.15,n_estimators在50,80之间都可取，max_depth都选择为3，接下来，我们换更小的步长进行搜索..."
   ]
  },
  {
   "cell_type": "code",
   "execution_count": 159,
   "metadata": {},
   "outputs": [
    {
     "data": {
      "text/plain": [
       "RandomizedSearchCV(cv='warn', error_score='raise-deprecating',\n",
       "          estimator=GradientBoostingClassifier(criterion='friedman_mse', init=None,\n",
       "              learning_rate=0.1, loss='deviance', max_depth=3,\n",
       "              max_features=None, max_leaf_nodes=None,\n",
       "              min_impurity_decrease=0.0, min_impurity_split=None,\n",
       "              min_samples_leaf=1, min_sampl...      subsample=1.0, tol=0.0001, validation_fraction=0.1,\n",
       "              verbose=0, warm_start=False),\n",
       "          fit_params=None, iid='warn', n_iter=10, n_jobs=None,\n",
       "          param_distributions={'learning_rate': [0.1, 0.11, 0.12, 0.13, 0.14, 0.15, 0.16, 0.17, 0.18, 0.19, 0.2], 'n_estimators': range(50, 81)},\n",
       "          pre_dispatch='2*n_jobs', random_state=None, refit=True,\n",
       "          return_train_score='warn', scoring='f1', verbose=0)"
      ]
     },
     "execution_count": 159,
     "metadata": {},
     "output_type": "execute_result"
    }
   ],
   "source": [
    "from sklearn.model_selection import RandomizedSearchCV\n",
    "#定义搜索空间\n",
    "gdbt_parameters = {'learning_rate':[item/100 for item in list(range(10,21))],'n_estimators':range(50,81)}\n",
    "#定义模型\n",
    "gbdt=GradientBoostingClassifier()\n",
    "#进行搜索\n",
    "random_search = RandomizedSearchCV(gbdt, gdbt_parameters,scoring='f1')\n",
    "random_search.fit(features_select_top_50_df[:891], labels)"
   ]
  },
  {
   "cell_type": "code",
   "execution_count": 160,
   "metadata": {},
   "outputs": [
    {
     "data": {
      "text/plain": [
       "{'n_estimators': 74, 'learning_rate': 0.1}"
      ]
     },
     "execution_count": 160,
     "metadata": {},
     "output_type": "execute_result"
    }
   ],
   "source": [
    "random_search.best_params_"
   ]
  },
  {
   "cell_type": "code",
   "execution_count": 161,
   "metadata": {},
   "outputs": [
    {
     "data": {
      "text/plain": [
       "(0.8075557643581929, 0.042019305692499426)"
      ]
     },
     "execution_count": 161,
     "metadata": {},
     "output_type": "execute_result"
    }
   ],
   "source": [
    "#试一试这组参数\n",
    "classifier=GradientBoostingClassifier(n_estimators=64,max_depth=3,learning_rate=0.1)\n",
    "scores = cross_val_score(classifier,features_select_top_50_df[:891],labels, scoring='f1', cv = 5)\n",
    "np.mean(scores),np.std(scores)"
   ]
  },
  {
   "cell_type": "markdown",
   "metadata": {},
   "source": [
    "### 4.3.2 集成学习\n",
    "最后我们还可以将多个模型的输出结果进行集成，常见的bagging(代表是rf),boosting(代表是gbdt)；另外gbdt的多种实现版本，大家可以在各种竞赛(特别是kaggle)中经常见到，比如xgboost,lightgbm,catboost等，这里我介绍另外一种比较暴力的集成学习方法：**stacking**，它将模型的预测结果作为上一层模型的特征输入，结构如图：  \n",
    "![avatar](./source/stacking.jpg)\n",
    "\n",
    "更多： https://github.com/zhulei227/Stacking_Ensembles  \n",
    "更多stacking集成工具：https://www.jianshu.com/p/59313f43916f"
   ]
  },
  {
   "cell_type": "code",
   "execution_count": 162,
   "metadata": {},
   "outputs": [],
   "source": [
    "from stacking_classifier import *\n",
    "#定义模型结构\n",
    "classifier = StackingClassifier(\n",
    "    base_classifiers=[\n",
    "        RandomForestClassifier(train_params={'max_depth':3}),\n",
    "        AdaBoostClassifier(),\n",
    "        BaggingClassifier(),\n",
    "        GradientBoostingClassifier(),\n",
    "        LightGBMClassifier(),\n",
    "        SVMClassifier(),\n",
    "        NaiveBayesClassifier(),\n",
    "    ],\n",
    "    meta_classifier=LogisticRegression(),\n",
    "    subsample_features_rate=0.9,\n",
    "    n_jobs=-1\n",
    ")\n",
    "classifier.build_model()"
   ]
  },
  {
   "cell_type": "code",
   "execution_count": 163,
   "metadata": {},
   "outputs": [
    {
     "name": "stdout",
     "output_type": "stream",
     "text": [
      "3 35\n",
      "2 1\n",
      "2 5\n"
     ]
    },
    {
     "data": {
      "text/plain": [
       "0.7916666666666666"
      ]
     },
     "execution_count": 163,
     "metadata": {},
     "output_type": "execute_result"
    }
   ],
   "source": [
    "X_train,X_test, y_train, y_test =train_test_split(features_select_top_50_df[:891], labels,test_size=0.2, random_state=42)\n",
    "classifier.fit(X_train,y_train)\n",
    "y_predict=classifier.predict(X_test)\n",
    "f1_score=metrics.f1_score(y_test,y_predict)\n",
    "f1_score"
   ]
  },
  {
   "cell_type": "code",
   "execution_count": 164,
   "metadata": {},
   "outputs": [
    {
     "name": "stdout",
     "output_type": "stream",
     "text": [
      "3 30\n",
      "2 1\n",
      "2 5\n",
      "3 30\n",
      "2 1\n",
      "2 5\n",
      "3 30\n",
      "2 1\n",
      "2 5\n",
      "3 30\n",
      "2 1\n",
      "2 5\n",
      "3 30\n",
      "2 1\n",
      "2 5\n"
     ]
    },
    {
     "data": {
      "text/plain": [
       "(0.8006770850102493, 0.05800166856614461)"
      ]
     },
     "execution_count": 164,
     "metadata": {},
     "output_type": "execute_result"
    }
   ],
   "source": [
    "#查看cv\n",
    "kfold= KFold(n_splits=5,random_state=42,shuffle=True)\n",
    "scores=[]\n",
    "for train_index,test_index in kfold.split(features_select_top_50_df[:891],labels):\n",
    "    X_train=features_select_top_50_df.loc[train_index]\n",
    "    y_train=labels[train_index]\n",
    "    X_test=features_select_top_50_df.loc[test_index]\n",
    "    y_test=labels[test_index]\n",
    "    \n",
    "    classifier = StackingClassifier(\n",
    "    base_classifiers=[\n",
    "        RandomForestClassifier(train_params={'max_depth':3}),\n",
    "        AdaBoostClassifier(),\n",
    "        BaggingClassifier(),\n",
    "        GradientBoostingClassifier(),\n",
    "        LightGBMClassifier(),\n",
    "        SVMClassifier(),\n",
    "    ],\n",
    "    meta_classifier=LogisticRegression(),\n",
    "    subsample_features_rate=0.9,\n",
    "    n_jobs=-1)\n",
    "    classifier.build_model()\n",
    "    \n",
    "    classifier.fit(X_train,y_train)\n",
    "    \n",
    "    y_predict=classifier.predict(X_test)\n",
    "    f1_score=metrics.f1_score(y_test,y_predict)\n",
    "    scores.append(f1_score)\n",
    "np.mean(scores),np.std(scores)"
   ]
  },
  {
   "cell_type": "code",
   "execution_count": null,
   "metadata": {},
   "outputs": [],
   "source": []
  }
 ],
 "metadata": {
  "kernelspec": {
   "display_name": "Python 3",
   "language": "python",
   "name": "python3"
  },
  "language_info": {
   "codemirror_mode": {
    "name": "ipython",
    "version": 3
   },
   "file_extension": ".py",
   "mimetype": "text/x-python",
   "name": "python",
   "nbconvert_exporter": "python",
   "pygments_lexer": "ipython3",
   "version": "3.6.5"
  }
 },
 "nbformat": 4,
 "nbformat_minor": 2
}
